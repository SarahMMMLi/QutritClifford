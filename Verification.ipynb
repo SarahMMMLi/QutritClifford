{
 "cells": [
  {
   "cell_type": "code",
   "execution_count": 1,
   "id": "97d3a870-f0e3-4c4c-a851-55f7d1e7632c",
   "metadata": {},
   "outputs": [
    {
     "data": {
      "text/plain": [
       "<Token var=<ContextVar name='format_options' default={'edgeitems': 3, 'threshold': 1000, 'floatmode': 'maxprec', 'precision': 8, 'suppress': False, 'linewidth': 75, 'nanstr': 'nan', 'infstr': 'inf', 'sign': '-', 'formatter': None, 'legacy': 9223372036854775807, 'override_repr': None} at 0x105520e50> at 0x1053fd500>"
      ]
     },
     "execution_count": 1,
     "metadata": {},
     "output_type": "execute_result"
    }
   ],
   "source": [
    "'''\n",
    "Import packages\n",
    "'''\n",
    "import numpy as np\n",
    "import math\n",
    "import cmath\n",
    "np.set_printoptions(precision = 5)"
   ]
  },
  {
   "cell_type": "markdown",
   "id": "48edeb8f-6675-4ed0-9ead-2080d07c9f5d",
   "metadata": {},
   "source": [
    "# Euler's formula\n",
    "$$e^{ix}=\\cos x+i\\sin x\\longrightarrow e^{i2\\pi/n}=\\cos (2\\pi/n) + i\\sin (2\\pi/n).$$"
   ]
  },
  {
   "cell_type": "code",
   "execution_count": 2,
   "id": "5a1f7df6-d19c-4cf5-aa3a-6bdb6ebf3292",
   "metadata": {},
   "outputs": [],
   "source": [
    "def complexExp(x):\n",
    "    return np.cos(x) + 1j*np.sin(x)"
   ]
  },
  {
   "cell_type": "markdown",
   "id": "444ff446-d10b-4f71-b2e1-4f1e962409aa",
   "metadata": {},
   "source": [
    "# The nth root of unity\n",
    "Given n, $\\zeta_n=e^{2\\pi i/n}=e^{i(2\\pi /n)}$ is the nth root of unity since $\\zeta_n^n=e^{in(2\\pi /n)}=e^{2\\pi i}=1$. \n",
    "\n",
    "$$e^{ix}=\\cos x+i\\sin x\\longrightarrow e^{i(2\\pi/n)}=\\cos (2\\pi/n) + i\\sin (2\\pi/n).$$\n",
    "\n",
    "Return $(\\zeta^1_n,\\ldots,\\zeta^{n-1}_n,1)$. "
   ]
  },
  {
   "cell_type": "code",
   "execution_count": 3,
   "id": "527cf50a-3070-49e0-ad23-f5daf2183949",
   "metadata": {},
   "outputs": [],
   "source": [
    "def findAllRoots(n):\n",
    "    first_root = complexExp(2*np.pi/n)\n",
    "    return first_root ** (np.arange(n) + 1)"
   ]
  },
  {
   "cell_type": "markdown",
   "id": "4a08d078-10b6-47fb-a57e-1c93f5f4ac12",
   "metadata": {},
   "source": [
    "# Find the order of a complex number\n",
    "We assume this number is the nth root of unity. We want to find the n when it is not too large (i.e., < 10000)."
   ]
  },
  {
   "cell_type": "code",
   "execution_count": 4,
   "id": "c018bd01-50f1-460d-ad24-e20f086983fb",
   "metadata": {},
   "outputs": [],
   "source": [
    "def findOrderScalar(u, m):\n",
    "    i = 1\n",
    "    while i < 10000:\n",
    "        if(np.linalg.norm(u**i - m) < 1e-5):\n",
    "            return i\n",
    "        i = i + 1"
   ]
  },
  {
   "cell_type": "markdown",
   "id": "ab398258-61de-44b9-82c2-ed7b59b8bca8",
   "metadata": {},
   "source": [
    "# Find the order of a unitary matrix"
   ]
  },
  {
   "cell_type": "code",
   "execution_count": 5,
   "id": "0c15c4ae-65f4-420d-a579-60242e8ce8cf",
   "metadata": {},
   "outputs": [],
   "source": [
    "def findOrderUnitary(U):\n",
    "    vals = np.linalg.eigvals(U)\n",
    "    orders = [findOrderScalar(e, 1) for e in vals]\n",
    "    return np.lcm.reduce(orders)"
   ]
  },
  {
   "cell_type": "markdown",
   "id": "ddcb2191-bea2-4b77-bae0-18a6df4fb9c0",
   "metadata": {},
   "source": [
    "# Make scalar matrix"
   ]
  },
  {
   "cell_type": "code",
   "execution_count": 6,
   "id": "81df8095-1e75-4894-8c43-867a499e0f41",
   "metadata": {},
   "outputs": [],
   "source": [
    "def makeScalarId(dimension, w):\n",
    "    # Create a diagonal matrix with scalar w as the diagonal elements\n",
    "    return w * np.eye(dimension)"
   ]
  },
  {
   "cell_type": "markdown",
   "id": "191096ea-0fbb-4be3-b42c-80affb7ffdaa",
   "metadata": {},
   "source": [
    "# Check if two unitaries are equal up to global phase\n",
    "$V = \\omega^t U$, where $U,V$ are two unitaries, $\\omega = e^{2\\pi i/3}$, $t\\in \\mathbb{Z}_3$. Then $V - \\omega^t U = 0$."
   ]
  },
  {
   "cell_type": "code",
   "execution_count": 7,
   "id": "eb400934-871c-4e19-8b0c-c5fd075cec0d",
   "metadata": {},
   "outputs": [],
   "source": [
    "def equalUpToScalar(U, V, tol=1e-10):\n",
    "    \"\"\"\n",
    "    Check if two unitary matrices U and V are equal up to (-w)^t, \n",
    "    where w is the third root of unity and t is in Z6.\n",
    "\n",
    "    Parameters:\n",
    "    U : np.ndarray\n",
    "        The first unitary matrix\n",
    "    V : np.ndarray\n",
    "        The second unitary matrix\n",
    "    tol : float\n",
    "        The numerical tolerance for equality checks (default: 1e-10).\n",
    "\n",
    "    Returns:\n",
    "    bool : True if U and V are equal up to a scalar, False otherwise.\n",
    "    \"\"\"\n",
    "    # Compute the third root of unity w\n",
    "    w = np.exp(2j * np.pi / 3)\n",
    "\n",
    "    # Define the all-zero matrix based on the dimension and data type of the input matrix\n",
    "    zero_matrix = np.zeros_like(U)\n",
    "    \n",
    "    # When V = U\n",
    "    if np.allclose(V - U, zero_matrix, rtol=0, atol=tol):\n",
    "        print(\"Exactly equal\")\n",
    "        return True\n",
    "    # When V = wU\n",
    "    elif np.allclose(V - w * U, zero_matrix, rtol=0, atol=tol):\n",
    "        print(\"Equal up to w\")\n",
    "        return True\n",
    "    # When V = w^2U\n",
    "    elif np.allclose(V - (w**2) * U, zero_matrix, rtol=0, atol=tol):\n",
    "        print(\"Equal up to w^2\")\n",
    "        return True\n",
    "    # When V = -U\n",
    "    elif np.allclose(V + U, zero_matrix, rtol=0, atol=tol):\n",
    "        print(\"Equal up to -1\")\n",
    "        return True\n",
    "    # When V = -wU\n",
    "    elif np.allclose(V + w * U, zero_matrix, rtol=0, atol=tol):\n",
    "        print(\"Equal up to -w\")\n",
    "        return True\n",
    "    # When V = -w^2U\n",
    "    elif np.allclose(V + (w**2) * U, zero_matrix, rtol=0, atol=tol):\n",
    "        print(\"Equal up to -w^2\")\n",
    "        return True\n",
    "    else:\n",
    "        print(\"Not equal\")\n",
    "        return False"
   ]
  },
  {
   "cell_type": "markdown",
   "id": "12884c13-644d-410e-89a5-578fea5fff2a",
   "metadata": {},
   "source": [
    "# Define qutrit Clifford operators"
   ]
  },
  {
   "cell_type": "code",
   "execution_count": 8,
   "id": "d3c6c6f4-5705-4f97-8f3e-a67030d20aa0",
   "metadata": {},
   "outputs": [],
   "source": [
    "# The single-qutrit identity operator\n",
    "id1 = np.identity(3)\n",
    "\n",
    "# The two-qutrit identity operator\n",
    "id2 = np.identity(9)\n",
    "\n",
    "# The three-qutrit identity operator\n",
    "id3 = np.identity(27)\n",
    "\n",
    "# The third root of unity\n",
    "thirdRootOfUnity = findAllRoots(3)\n",
    "w = thirdRootOfUnity[0]\n",
    "w_squared = thirdRootOfUnity[1]\n",
    "\n",
    "# The single-qutrit Pauli X operator\n",
    "X = np.eye(3)[[2, 0, 1]]\n",
    "\n",
    "# The single-qutrit Pauli Z operator\n",
    "Z = np.diag(w ** np.arange(3))\n",
    "\n",
    "# The qutrit Hadamard gate\n",
    "scalar = 1/(w_squared - w)\n",
    "H = np.array([[1, 1, 1], [1, w, w_squared], [1, w_squared, w]]) * scalar\n",
    "\n",
    "# The qutrit S gate\n",
    "S = np.diag([w, w, 1])\n",
    "\n",
    "# The qutrit CZ gate\n",
    "CZ = np.diag([1, 1, 1, 1, w, w_squared, 1, w_squared, w])\n",
    "\n",
    "# The qutrit SWAP gate\n",
    "SWAP = CZ @ np.kron(H, H) @ CZ @ np.kron(H, H) @ CZ @ np.kron(H, H)"
   ]
  },
  {
   "cell_type": "code",
   "execution_count": 9,
   "id": "44548c01",
   "metadata": {},
   "outputs": [
    {
     "name": "stdout",
     "output_type": "stream",
     "text": [
      "Exactly equal\n",
      "Exactly equal\n",
      "Exactly equal\n",
      "Exactly equal\n",
      "Exactly equal\n",
      "Exactly equal\n",
      "Exactly equal\n",
      "Exactly equal\n",
      "Exactly equal\n"
     ]
    },
    {
     "data": {
      "text/plain": [
       "True"
      ]
     },
     "execution_count": 9,
     "metadata": {},
     "output_type": "execute_result"
    }
   ],
   "source": [
    "w = findAllRoots(3)[0]\n",
    "wI = makeScalarId(3, w)\n",
    "w2 = findAllRoots(3)[1]\n",
    "w2I = makeScalarId(3, w2)\n",
    "\n",
    "A = H @ S @ H @ S @ H @ S\n",
    "equalUpToScalar(np.linalg.matrix_power(A, 6), id1)\n",
    "LHS = A @ X @ A.conj().T\n",
    "RHS = wI @ X @ X\n",
    "equalUpToScalar(LHS, RHS)\n",
    "\n",
    "LHS = A @ Z @ A.conj().T\n",
    "RHS = w2I @ Z @ Z\n",
    "equalUpToScalar(LHS, RHS)\n",
    "\n",
    "A = S @ H\n",
    "equalUpToScalar(np.linalg.matrix_power(A, 6), id1)\n",
    "\n",
    "B = np.array([[0, 0, w2], [0, 1, 0], [w, 0, 0]])\n",
    "equalUpToScalar(np.linalg.matrix_power(A, 3), B)\n",
    "\n",
    "\n",
    "\n",
    "S_GRT = np.diag([1, 1, w])\n",
    "MID = Z @ X @ w2I\n",
    "LHS = S_GRT @ MID @ S_GRT.conj().T\n",
    "RHS = Z @ Z @ X @ wI\n",
    "equalUpToScalar(LHS, RHS)\n",
    "\n",
    "Sprime = np.linalg.matrix_power(H, 2) @ S @ np.linalg.matrix_power(H, 2)\n",
    "equalUpToScalar(Sprime, np.diag([w, 1, w]))\n",
    "\n",
    "C = S @ H @ H @ S\n",
    "D = np.array([[1 + w, 0, 0], [0, 0, 1 + w2], [0, 1 + w2, 0]])\n",
    "equalUpToScalar(C, D)\n",
    "\n",
    "\n",
    "E = H @ H\n",
    "F = np.array([[-1, 0, 0], [0, 0, -1], [0, -1, 0]])\n",
    "equalUpToScalar(E, F)\n",
    "\n"
   ]
  },
  {
   "cell_type": "markdown",
   "id": "4c0b0022",
   "metadata": {},
   "source": [
    "# Single-qutrit reduced relations: T1"
   ]
  },
  {
   "cell_type": "code",
   "execution_count": 10,
   "id": "45227260",
   "metadata": {},
   "outputs": [
    {
     "name": "stdout",
     "output_type": "stream",
     "text": [
      "Exactly equal\n",
      "Exactly equal\n",
      "Exactly equal\n",
      "Exactly equal\n",
      "Exactly equal\n",
      "Exactly equal\n"
     ]
    },
    {
     "data": {
      "text/plain": [
       "True"
      ]
     },
     "execution_count": 10,
     "metadata": {},
     "output_type": "execute_result"
    }
   ],
   "source": [
    "w = findAllRoots(3)[0]\n",
    "wI = makeScalarId(3, w)\n",
    "w2 = findAllRoots(3)[1]\n",
    "w2I = makeScalarId(3, w2)\n",
    "I = np.identity(3)\n",
    "\n",
    "# C0: (-1)^2 = 1\n",
    "LHS = (-1) ** 2\n",
    "RHS = 1\n",
    "equalUpToScalar(LHS, RHS)\n",
    "\n",
    "# C1: (w)^3 = 1\n",
    "LHS = (w) ** 3\n",
    "RHS = 1\n",
    "equalUpToScalar(LHS, RHS)\n",
    "\n",
    "# C2: (H)^4 = 1\n",
    "LHS = np.linalg.matrix_power(H, 4)\n",
    "RHS = I\n",
    "equalUpToScalar(LHS, RHS)\n",
    "\n",
    "# C3: (S)^3 = 1\n",
    "LHS = np.linalg.matrix_power(S, 3)\n",
    "RHS = I\n",
    "equalUpToScalar(LHS, RHS)\n",
    "\n",
    "# C4: (HS^2)^3 = -wI\n",
    "mid = H @ S @ S\n",
    "LHS = np.linalg.matrix_power(mid, 3)\n",
    "RHS = (-1) * wI\n",
    "equalUpToScalar(LHS, RHS)\n",
    "\n",
    "# C5: SS' = S'S, S' = (H^2)S(H^2)\n",
    "Sprime = np.linalg.matrix_power(H, 2) @ S @ np.linalg.matrix_power(H, 2)\n",
    "LHS = S @ Sprime\n",
    "RHS = Sprime @ S\n",
    "equalUpToScalar(LHS, RHS)"
   ]
  },
  {
   "cell_type": "markdown",
   "id": "033924a6",
   "metadata": {},
   "source": [
    "# Single-qutrit derived relations: T2"
   ]
  },
  {
   "cell_type": "code",
   "execution_count": 11,
   "id": "51935c88",
   "metadata": {},
   "outputs": [
    {
     "name": "stdout",
     "output_type": "stream",
     "text": [
      "Exactly equal\n",
      "Exactly equal\n",
      "Exactly equal\n",
      "Exactly equal\n",
      "Exactly equal\n",
      "Exactly equal\n",
      "Exactly equal\n",
      "Exactly equal\n",
      "Exactly equal\n",
      "Exactly equal\n",
      "Exactly equal\n",
      "Exactly equal\n"
     ]
    },
    {
     "data": {
      "text/plain": [
       "True"
      ]
     },
     "execution_count": 11,
     "metadata": {},
     "output_type": "execute_result"
    }
   ],
   "source": [
    "# R1: HSH = (-w^2) X^2 S^2 H S^2\n",
    "LHS = H @ S @ H\n",
    "RHS = (-1) * w2I @ np.linalg.matrix_power(X, 2) @ np.linalg.matrix_power(S, 2) @ H @ np.linalg.matrix_power(S, 2)\n",
    "equalUpToScalar(LHS, RHS)\n",
    "\n",
    "# R2: H^2 S = Z^2 S H^2\n",
    "LHS = H @ H @ S\n",
    "RHS = np.linalg.matrix_power(Z, 2) @ S @ np.linalg.matrix_power(H, 2)\n",
    "equalUpToScalar(LHS, RHS)\n",
    "\n",
    "# R3: SZ = ZS\n",
    "LHS = S @ Z\n",
    "RHS = Z @ S\n",
    "equalUpToScalar(LHS, RHS)\n",
    "\n",
    "# R4: HZ^2 = XH\n",
    "LHS = H @ np.linalg.matrix_power(Z, 2)\n",
    "RHS = X @ H\n",
    "equalUpToScalar(LHS, RHS)\n",
    "\n",
    "# R5: X = H S^2 H^2 S H\n",
    "LHS = X\n",
    "RHS = H @ np.linalg.matrix_power(S, 2) @ np.linalg.matrix_power(H, 2) @ S @ H\n",
    "equalUpToScalar(LHS, RHS)\n",
    "\n",
    "# R6: XS = (w^2)ZSX\n",
    "LHS = X @ S\n",
    "RHS = Z @ S @ X @ w2I\n",
    "equalUpToScalar(LHS, RHS)\n",
    "\n",
    "# R7: X^2 = H S H^2 S^2 H\n",
    "LHS = np.linalg.matrix_power(X, 2)\n",
    "RHS = H @ S @ np.linalg.matrix_power(H, 2) @ np.linalg.matrix_power(S, 2) @ H\n",
    "equalUpToScalar(LHS, RHS)\n",
    "\n",
    "# R8: XZ = (w^2)ZX\n",
    "LHS = X @ Z\n",
    "RHS = Z @ X @ w2I\n",
    "equalUpToScalar(LHS, RHS)\n",
    "\n",
    "# R9: X^3 = I\n",
    "LHS = np.linalg.matrix_power(X, 3)\n",
    "RHS = I\n",
    "equalUpToScalar(LHS, RHS)\n",
    "\n",
    "# R10: Z = S H^2 S^2 H^2\n",
    "LHS = Z\n",
    "RHS = S @ np.linalg.matrix_power(H, 2) @ np.linalg.matrix_power(S, 2) @ np.linalg.matrix_power(H, 2)\n",
    "equalUpToScalar(LHS, RHS)\n",
    "\n",
    "# R11: Z^2 = S^2 H^2 S H^2\n",
    "LHS = np.linalg.matrix_power(Z, 2)\n",
    "RHS = np.linalg.matrix_power(S, 2) @ np.linalg.matrix_power(H, 2) @ S @ np.linalg.matrix_power(H, 2)\n",
    "equalUpToScalar(LHS, RHS)\n",
    "\n",
    "# R12: Z^3 = I\n",
    "LHS = np.linalg.matrix_power(Z, 3)\n",
    "RHS = I\n",
    "equalUpToScalar(LHS, RHS)"
   ]
  },
  {
   "cell_type": "code",
   "execution_count": 12,
   "id": "ba55a7a4",
   "metadata": {},
   "outputs": [
    {
     "name": "stdout",
     "output_type": "stream",
     "text": [
      "Exactly equal\n",
      "\n",
      "Test 1\n",
      "Exactly equal\n",
      "\n",
      "Test 2\n",
      "Exactly equal\n",
      "\n",
      "Test 3\n",
      "Exactly equal\n"
     ]
    },
    {
     "data": {
      "text/plain": [
       "True"
      ]
     },
     "execution_count": 12,
     "metadata": {},
     "output_type": "execute_result"
    }
   ],
   "source": [
    "w = findAllRoots(3)[0]\n",
    "wI = makeScalarId(3, w)\n",
    "\n",
    "w2 = findAllRoots(3)[1]\n",
    "w2I = makeScalarId(3, w2)\n",
    "\n",
    "Sprime = np.linalg.matrix_power(H, 2) @ S @ np.linalg.matrix_power(H, 2)\n",
    "H2 = H @ H\n",
    "H3 = H @ H @ H\n",
    "S2 = S @ S\n",
    "Z2 = Z @ Z\n",
    "X2 = X @ X\n",
    "\n",
    "# LHS = Sprime @ S @ H @ S2 @ H2\n",
    "# print(LHS)\n",
    "# RHS = Z2 @ X @ H @ S @ H3 @ wI *(-1) \n",
    "# print(RHS)\n",
    "# equalUpToScalar(LHS, RHS)\n",
    "\n",
    "LHS = H @ S2 @ H3 @ S2\n",
    "RHS = Z2 @ X @ S @ H @ w2I * (-1) \n",
    "equalUpToScalar(LHS, RHS)\n",
    "\n",
    "\n",
    "print(\"\\nTest 1\")\n",
    "LHS = Z2 @ X2 @ Z2 @ X2\n",
    "RHS = Z @ X @ w2I\n",
    "equalUpToScalar(LHS, RHS)\n",
    "\n",
    "print(\"\\nTest 2\")\n",
    "LHS = H @ Sprime @ Sprime @ H @ Sprime @ Sprime @ H\n",
    "RHS = (-1) * Sprime @ wI\n",
    "equalUpToScalar(LHS, RHS)\n",
    "\n",
    "print(\"\\nTest 3\")\n",
    "LHS = Sprime @ Sprime @ S @ H @ Sprime @ Sprime @ H @ Sprime\n",
    "RHS = H @ S2 @ H @ S2 @ Sprime @ Sprime\n",
    "equalUpToScalar(LHS, RHS)\n"
   ]
  },
  {
   "cell_type": "markdown",
   "id": "bcedb3bc",
   "metadata": {},
   "source": [
    "# Two-qutrit derived relations: T2"
   ]
  },
  {
   "cell_type": "code",
   "execution_count": 13,
   "id": "00b4331e",
   "metadata": {},
   "outputs": [
    {
     "name": "stdout",
     "output_type": "stream",
     "text": [
      "Exactly equal\n",
      "Exactly equal\n",
      "Exactly equal\n",
      "Exactly equal\n",
      "Exactly equal\n",
      "Exactly equal\n",
      "Exactly equal\n",
      "Exactly equal\n",
      "Exactly equal\n",
      "Exactly equal\n",
      "Exactly equal\n",
      "Exactly equal\n",
      "Exactly equal\n",
      "Exactly equal\n",
      "Exactly equal\n",
      "Exactly equal\n",
      "\n",
      " R36\n",
      "Exactly equal\n"
     ]
    },
    {
     "data": {
      "text/plain": [
       "True"
      ]
     },
     "execution_count": 13,
     "metadata": {},
     "output_type": "execute_result"
    }
   ],
   "source": [
    "w = findAllRoots(3)[0]\n",
    "wI = makeScalarId(9, w)\n",
    "\n",
    "w2 = findAllRoots(3)[1]\n",
    "w2I = makeScalarId(9, w2)\n",
    "\n",
    "CX10 = np.kron(H @ H @ H, I) @ CZ @ np.kron(H, I)\n",
    "CX01 = np.kron(I, H @ H @ H) @ CZ @ np.kron(I, H)\n",
    "Sprime = np.linalg.matrix_power(H, 2) @ S @ np.linalg.matrix_power(H, 2)\n",
    "SWAP = CZ @ np.kron(H, H) @ CZ @ np.kron(H, H) @ CZ @ np.kron(H, H)\n",
    "I = np.identity(3)\n",
    "# I2 is the two-qutrit identity operator\n",
    "I2 = np.identity(9)\n",
    "\n",
    "# C6: CZ^3 = I\n",
    "LHS = CZ @ CZ @ CZ\n",
    "RHS = I2\n",
    "equalUpToScalar(LHS, RHS)\n",
    "\n",
    "# C7: S and CZ commute\n",
    "LHS = np.kron(S, I) @ CZ\n",
    "RHS = CZ @ np.kron(S, I)\n",
    "equalUpToScalar(LHS, RHS)\n",
    "\n",
    "# C8: How H^2 is pushed through a CZ gate.\n",
    "LHS = np.kron(H @ H, I) @ CZ\n",
    "RHS = CZ @ CZ @ np.kron(H @ H, I)\n",
    "equalUpToScalar(LHS, RHS)\n",
    "\n",
    "# R14: How X is pushed through a CZ gate.\n",
    "LHS = np.kron(X, I) @ CZ\n",
    "RHS = CZ @ np.kron(X, Z @ Z)\n",
    "equalUpToScalar(LHS, RHS)\n",
    "\n",
    "# R16: The order of a SWAP gate is 2\n",
    "LHS = SWAP @ SWAP\n",
    "RHS = I2\n",
    "equalUpToScalar(LHS, RHS)\n",
    "\n",
    "# R17: CZ and SWAP commute\n",
    "LHS = SWAP @ CZ\n",
    "RHS = CZ @ SWAP\n",
    "equalUpToScalar(LHS, RHS)\n",
    "\n",
    "# R18: S and SWAP commute\n",
    "LHS = SWAP @ np.kron(S, I)\n",
    "RHS = np.kron(I, S) @ SWAP\n",
    "equalUpToScalar(LHS, RHS)\n",
    "\n",
    "# R19: H and SWAP commute\n",
    "LHS = SWAP @ np.kron(H, I)\n",
    "RHS = np.kron(I, H) @ SWAP\n",
    "equalUpToScalar(LHS, RHS)\n",
    "\n",
    "# R23: How S is pushed through a CX gate\n",
    "LHS = CX10 @ np.kron(S, I)\n",
    "RHS = np.kron(S, S @ Z @ Z) @ CZ @ CX10 @ w2I\n",
    "equalUpToScalar(LHS, RHS)\n",
    "\n",
    "# R25: How CZ is pushed through a CX gate\n",
    "LHS = CX10 @ CZ\n",
    "RHS = np.kron(I, Z @ Z @ S @ S) @ CZ @ CX10 @ wI\n",
    "equalUpToScalar(LHS, RHS)\n",
    "\n",
    "# R27: How H is pushed through a CZ gate\n",
    "LHS = np.kron(H, I) @ CZ\n",
    "RHS = wI @ np.kron(I, Z @ S @ S @ H @ H @ H) @ CZ @ CZ @ np.kron(S, H @ S @ S) @ CX10 @ SWAP @ CZ @ np.kron(H, H @ H)\n",
    "equalUpToScalar(LHS, RHS)\n",
    "\n",
    "# R28\n",
    "LHS = CZ @ CZ @ np.kron(H, I) @ CZ\n",
    "RHS = wI @ np.kron(H @ S @ H @ H @ H, Z @ S @ S) @ CZ @ CZ @ np.kron(H @ S @ S, I)\n",
    "equalUpToScalar(LHS, RHS)\n",
    "\n",
    "# R29\n",
    "LHS = CX10 @ CZ @ SWAP @ np.kron(H, I) @ CZ\n",
    "RHS = w2I @ np.kron(I, S @ H) @ CZ @ CZ @ np.kron(S @ S @ H, H @ S)\n",
    "equalUpToScalar(LHS, RHS)\n",
    "\n",
    "# R30\n",
    "LHS = CX10 @ CZ @ np.kron(H @ H, H) @ CZ\n",
    "RHS = np.kron(I, Z @ S) @ CX01 @ CX01 @ np.kron(I, S @ H @ H @ S) @ CX10 @ CZ @ np.kron(I, H)\n",
    "equalUpToScalar(LHS, RHS)\n",
    "\n",
    "# R34\n",
    "LHS = CX10 @ CZ @ np.kron(H, H) @ CZ\n",
    "RHS = (-1) * w2I @ np.kron(X @ X @ S, Z @ Z @ S @ H @ S @ S @ H) @ CZ @ CZ @ np.kron(I, H @ S) @ CX10 @ CZ @ np.kron(H @ S @ S, H @ S @ S)\n",
    "equalUpToScalar(LHS, RHS)\n",
    "\n",
    "# R35\n",
    "LHS = CX10 @ CZ @ np.kron(H, H) @ CZ @ CZ\n",
    "RHS = wI @ np.kron(I, Z @ Z @ S @ S @ H @ S @ S) @ CZ @ CZ @ np.kron(S @ X @ S, H @ S @ H @ H) @ CX10 @ CZ @ np.kron(H @ S, H @ S)\n",
    "equalUpToScalar(LHS, RHS)\n",
    "\n",
    "# R36\n",
    "print(\"\\n R36\")\n",
    "LHS = CX10 @ CX01 @ CX10 @ CX01\n",
    "RHS = np.kron(H @ H, H @ H)\n",
    "equalUpToScalar(LHS, RHS)"
   ]
  },
  {
   "cell_type": "markdown",
   "id": "3518646f",
   "metadata": {},
   "source": [
    "Some Other two-qutrit relations"
   ]
  },
  {
   "cell_type": "code",
   "execution_count": 20,
   "id": "2504e82d",
   "metadata": {},
   "outputs": [
    {
     "name": "stdout",
     "output_type": "stream",
     "text": [
      "\n",
      " R23-11\n",
      "Exactly equal\n",
      "\n",
      " R23-12\n",
      "Exactly equal\n",
      "\n",
      " R23-13\n",
      "Exactly equal\n",
      "\n",
      " R23-14\n",
      "Exactly equal\n",
      "\n",
      " R23-15\n",
      "Exactly equal\n",
      "Exactly equal\n",
      "\n",
      " R23-7'\n",
      "Exactly equal\n",
      "\n",
      " R23-16\n",
      "Exactly equal\n",
      "\n",
      " R61\n",
      "Exactly equal\n",
      "\n",
      " R62\n",
      "Not equal\n"
     ]
    },
    {
     "data": {
      "text/plain": [
       "False"
      ]
     },
     "execution_count": 20,
     "metadata": {},
     "output_type": "execute_result"
    }
   ],
   "source": [
    "w = findAllRoots(3)[0]\n",
    "wI = makeScalarId(9, w)\n",
    "\n",
    "w2 = findAllRoots(3)[1]\n",
    "w2I = makeScalarId(9, w2)\n",
    "\n",
    "CX10 = np.kron(H @ H @ H, I) @ CZ @ np.kron(H, I)\n",
    "CX01 = np.kron(I, H @ H @ H) @ CZ @ np.kron(I, H)\n",
    "Sprime = np.linalg.matrix_power(H, 2) @ S @ np.linalg.matrix_power(H, 2)\n",
    "SWAP = CZ @ np.kron(H, H) @ CZ @ np.kron(H, H) @ CZ @ np.kron(H, H)\n",
    "I = np.identity(3)\n",
    "# I2 is the two-qutrit identity operator\n",
    "I2 = np.identity(9)\n",
    "\n",
    "# # R23-8\n",
    "# LHS = CX10 @ np.kron(S @ S, I)\n",
    "# RHS = wI @ np.kron(S @ S, Sprime @ Sprime) @ CZ @ CZ @ CX10\n",
    "# equalUpToScalar(LHS, RHS)\n",
    "\n",
    "# # R25-5\n",
    "# LHS = CX10 @ CZ @ CZ\n",
    "# RHS = w2I @ np.kron(I, S @ S @ Sprime @ Sprime) @ CZ @ CZ @ CX10\n",
    "# equalUpToScalar(LHS, RHS)\n",
    "\n",
    "# # R23-25\n",
    "# LHS = CX10 @ CX10 @ np.kron(S @ S, I)\n",
    "# RHS = wI @ np.kron(S @ S, S @ S) @ CZ @ CX10 @ CX10\n",
    "# equalUpToScalar(LHS, RHS)\n",
    "\n",
    "# # R25-6\n",
    "# LHS = CX10 @ CX10 @ CZ\n",
    "# RHS = w2I @ np.kron(I, S @ S @ Sprime @ Sprime) @ CZ @ CX10 @ CX10\n",
    "# equalUpToScalar(LHS, RHS)\n",
    "\n",
    "# # R23-9\n",
    "# LHS = CX10 @ CX10 @ np.kron(S, I)\n",
    "# RHS = w2I @ np.kron(S, S) @ CZ @ CZ @ CX10 @ CX10\n",
    "# equalUpToScalar(LHS, RHS)\n",
    "\n",
    "# # R25-7\n",
    "# LHS = CX10 @ CX10 @ CZ @ CZ\n",
    "# RHS = wI @ np.kron(I, S @ Sprime) @ CZ @ CZ @ CX10 @ CX10\n",
    "# equalUpToScalar(LHS, RHS)\n",
    "\n",
    "# # R23-25'\n",
    "# print(\"\\n R23-25'\")\n",
    "# LHS = CX01 @ CX01 @ np.kron(I, S @ S)\n",
    "# RHS = wI @ np.kron(S @ S, S @ S) @ CZ @ CX01 @ CX01\n",
    "# equalUpToScalar(LHS, RHS)\n",
    "\n",
    "# # R25-5‘\n",
    "# print(\"\\n R25-5'\")\n",
    "# LHS = CX01 @ CZ @ CZ\n",
    "# RHS = w2I @ np.kron(S @ S @ Sprime @ Sprime, I) @ CZ @ CZ @ CX01\n",
    "# equalUpToScalar(LHS, RHS)\n",
    "\n",
    "# # R23-9'\n",
    "# print(\"\\n R23-9'\")\n",
    "# LHS = CX01 @ CX01 @ np.kron(I, S)\n",
    "# RHS = w2I @ np.kron(S, S) @ CZ @ CZ @ CX01 @ CX01\n",
    "# equalUpToScalar(LHS, RHS)\n",
    "\n",
    "# # R23-10\n",
    "# print(\"\\n R23-10\")\n",
    "# LHS = CX01 @ np.kron(I, Sprime)\n",
    "# RHS = w2I @ np.kron(S, Sprime) @ CZ @ CX01\n",
    "# equalUpToScalar(LHS, RHS)\n",
    "\n",
    "# # R23-25-2\n",
    "# print(\"\\n R23-25-2\")\n",
    "# LHS = CX10 @ np.kron(H @ S @ S, H @ S @ S)\n",
    "# RHS = wI @ np.kron(H @ S, H @ S @ S) @ CZ @ CX01 @ CX01\n",
    "# equalUpToScalar(LHS, RHS)\n",
    "\n",
    "# # R25-6'\n",
    "# print(\"\\n R25-6'\")\n",
    "# LHS = CX01 @ CX01 @ CZ\n",
    "# RHS = w2I @ np.kron(S @ S @ Sprime @ Sprime, I) @ CZ @ CX01 @ CX01\n",
    "# equalUpToScalar(LHS, RHS)\n",
    "\n",
    "# # R23-8'\n",
    "# print(\"\\n R23-8'\")\n",
    "# LHS = CX01 @ np.kron(I, S @ S)\n",
    "# RHS = wI @ np.kron(Sprime @ Sprime, S @ S) @ CZ @ CZ @ CX01\n",
    "# equalUpToScalar(LHS, RHS)\n",
    "\n",
    "# R23-11\n",
    "print(\"\\n R23-11\")\n",
    "LHS = CX01 @ np.kron(I, Sprime @ Sprime)\n",
    "RHS = wI @ np.kron(S @ S, Sprime @ Sprime) @ CZ @ CZ @ CX01\n",
    "equalUpToScalar(LHS, RHS)\n",
    "\n",
    "# R23-12\n",
    "print(\"\\n R23-12\")\n",
    "LHS = CX10 @ np.kron(Sprime, I)\n",
    "RHS = w2I @ np.kron(Sprime, S) @ CZ @ CX10\n",
    "equalUpToScalar(LHS, RHS)\n",
    "\n",
    "\n",
    "# R23-13\n",
    "print(\"\\n R23-13\")\n",
    "LHS = CX10 @ np.kron(Sprime @ Sprime, I)\n",
    "RHS = wI @ np.kron(Sprime @ Sprime, S @ S) @ CZ @ CZ @ CX10\n",
    "equalUpToScalar(LHS, RHS)\n",
    "\n",
    "# R23-14\n",
    "print(\"\\n R23-14\")\n",
    "LHS = CZ @ CX10 @ np.kron(Sprime @ Sprime, I)\n",
    "RHS = wI @ np.kron(Sprime @ Sprime, S @ S) @ CX10\n",
    "equalUpToScalar(LHS, RHS)\n",
    "\n",
    "# R23-15\n",
    "print(\"\\n R23-15\")\n",
    "LHS = CZ @ CZ\n",
    "RHS = w2I @ np.kron(Sprime, S) @ CX01 @ np.kron(I, S @ S) @ CX01 @ CX01 \n",
    "equalUpToScalar(LHS, RHS)\n",
    "\n",
    "LHS = CZ @ CZ\n",
    "RHS = w2I @ np.kron(S, Sprime) @ CX10 @ np.kron(S @ S, I) @ CX10 @ CX10\n",
    "equalUpToScalar(LHS, RHS)\n",
    "\n",
    "# R23-7'\n",
    "print(\"\\n R23-7'\")\n",
    "LHS = CX01 @ CX01 @ CZ @ CZ\n",
    "RHS = wI @ np.kron(S @ Sprime, I) @ CZ @ CZ @ CX01 @ CX01 \n",
    "equalUpToScalar(LHS, RHS)\n",
    "\n",
    "# R23-16\n",
    "print(\"\\n R23-16\")\n",
    "LHS = CX10 @ CX10 @ np.kron(Sprime @ Sprime, I)\n",
    "RHS = wI @ np.kron(Sprime @ Sprime, Sprime @ Sprime) @ CZ @ CX10 @ CX10\n",
    "equalUpToScalar(LHS, RHS)\n",
    "\n",
    "# R61\n",
    "print(\"\\n R61\")\n",
    "LHS = CX01 @ CX01 @ np.kron(I, S) @ CX01\n",
    "RHS = CX10 @ CX10 @ np.kron(S, I) @ CX10\n",
    "equalUpToScalar(LHS, RHS)\n",
    "\n",
    "# R62\n",
    "H3 = H @ H @ H\n",
    "print(\"\\n R62\")\n",
    "LHS = CX01 @ CX01 @ np.kron(I, H @ S @ H3) @ CX01\n",
    "RHS = CX10 @ CX10 @ np.kron(H @ S @ H3, I) @ CX10\n",
    "equalUpToScalar(LHS, RHS)\n"
   ]
  },
  {
   "cell_type": "code",
   "execution_count": 19,
   "id": "c2e20423",
   "metadata": {},
   "outputs": [
    {
     "name": "stdout",
     "output_type": "stream",
     "text": [
      "Exactly equal\n",
      "Exactly equal\n",
      "Exactly equal\n",
      "Exactly equal\n",
      "Exactly equal\n",
      "Exactly equal\n",
      "Exactly equal\n",
      "Exactly equal\n",
      "\n",
      "Two-qutrit completeness\n",
      "Exactly equal\n",
      "\n",
      "Two-qutrit completeness 2\n",
      "Not equal\n",
      "\n",
      "Two-qutrit completeness 3\n",
      "Exactly equal\n",
      "\n",
      "Two-qutrit completeness 4\n",
      "Exactly equal\n",
      "\n",
      "Two-qutrit completeness 5\n",
      "Not equal\n",
      "\n",
      "Two-qutrit completeness 6\n",
      "Exactly equal\n"
     ]
    },
    {
     "data": {
      "text/plain": [
       "True"
      ]
     },
     "execution_count": 19,
     "metadata": {},
     "output_type": "execute_result"
    }
   ],
   "source": [
    "w = findAllRoots(3)[0]\n",
    "wI = makeScalarId(9, w)\n",
    "\n",
    "w2 = findAllRoots(3)[1]\n",
    "w2I = makeScalarId(9, w2)\n",
    "\n",
    "CX10 = np.kron(H @ H @ H, I) @ CZ @ np.kron(H, I)\n",
    "CX01 = np.kron(I, H @ H @ H) @ CZ @ np.kron(I, H)\n",
    "Sprime = np.linalg.matrix_power(H, 2) @ S @ np.linalg.matrix_power(H, 2)\n",
    "SWAP = CZ @ np.kron(H, H) @ CZ @ np.kron(H, H) @ CZ @ np.kron(H, H)\n",
    "I = np.identity(3)\n",
    "# I2 is the two-qutrit identity operator\n",
    "I2 = np.identity(9)\n",
    "H3 = H @ H @ H\n",
    "Z2 = Z @ Z\n",
    "X2 = X @ X\n",
    "\n",
    "circ1 = np.kron(I, H) @ CX10 @ np.kron(S @ H, H @ S @ H3)\n",
    "LHS = circ1 @ np.kron(X, I) @ circ1.conj().T\n",
    "RHS = np.kron(Z, X)\n",
    "equalUpToScalar(LHS, RHS)   \n",
    "\n",
    "LHS = circ1 @ np.kron(Z, I) @ circ1.conj().T\n",
    "RHS = np.kron(X2 @ Z, X) @ w2I\n",
    "equalUpToScalar(LHS, RHS)  \n",
    "\n",
    "circ1 = np.kron(I, H) @ CX10 @ np.kron(S @ H, H @ S @ H3)\n",
    "LHS = circ1 @ np.kron(I, X) @ circ1.conj().T\n",
    "RHS = np.kron(X, Z)\n",
    "equalUpToScalar(LHS, RHS)  \n",
    "\n",
    "circ1 = np.kron(I, H) @ CX10 @ np.kron(S @ H, H @ S @ H3)\n",
    "LHS = circ1 @ np.kron(I, Z) @ circ1.conj().T\n",
    "RHS = np.kron(X, X2 @ Z)\n",
    "equalUpToScalar(LHS, RHS) \n",
    "\n",
    "circ2 = np.kron(H @ S, H3 @ S @ H) @ CX10 @ CX10 @ np.kron(I, H)\n",
    "LHS = circ2 @ np.kron(X, I) @ circ2.conj().T\n",
    "RHS = np.kron(X @ Z, I) @ wI\n",
    "equalUpToScalar(LHS, RHS) \n",
    "\n",
    "LHS = circ2 @ np.kron(Z, I) @ circ2.conj().T\n",
    "RHS = np.kron(X2, X @ Z)\n",
    "equalUpToScalar(LHS, RHS) \n",
    "\n",
    "LHS = circ2 @ np.kron(I, X) @ circ2.conj().T\n",
    "RHS = np.kron(I, X @ Z)\n",
    "equalUpToScalar(LHS, RHS) \n",
    "\n",
    "LHS = circ2 @ np.kron(I, Z) @ circ2.conj().T\n",
    "RHS = np.kron(X @ Z, X2) @ wI\n",
    "equalUpToScalar(LHS, RHS) \n",
    "\n",
    "print(\"\\nTwo-qutrit completeness\")\n",
    "LHS = np.kron(I, H) @ CX10 @ np.kron(S @ H, H @ S @ H3) @ CZ\n",
    "RHS = np.kron(H @ S @ H2 @ Sprime, Sprime @ H3 @ S @ H2) @ CZ @ CZ @ CX01 @ CX01 @ np.kron(H @ S, I) @ CZ @ np.kron(H, I)\n",
    "equalUpToScalar(LHS, RHS) \n",
    "\n",
    "print(\"\\nTwo-qutrit completeness 2\")\n",
    "LHS = np.kron(H, H) @ CZ @ CZ @ np.kron(Sprime @ Sprime @ H3 @ S @ H2, Sprime @ Sprime @ H3 @ S @ H2)\n",
    "RHS = CZ @ CZ @ np.kron(S @ H3 @ S, S @ H3 @ S)\n",
    "equalUpToScalar(LHS, RHS) \n",
    "\n",
    "print(\"\\nTwo-qutrit completeness 3\")\n",
    "C = np.kron(Sprime @ S @ H @ Sprime @ Sprime @ H, Sprime @ S @ H @ Sprime @ Sprime @ H) @ CZ\n",
    "B = np.kron(H @ Sprime @ Sprime @ H @ Sprime @ Sprime @ H, H @ Sprime @ Sprime @ H @ Sprime @ Sprime @ H) @ CZ\n",
    "A = np.kron(H @ S2, H @ S2)\n",
    "LHS = C @ B @ A @ wI\n",
    "RHS = np.kron(H @ S2, H @ S2) @ CZ @ CZ @ np.kron(H @ S2 @ H2, H @ S2 @ H2)\n",
    "equalUpToScalar(LHS, RHS) \n",
    "\n",
    "print(\"\\nTwo-qutrit completeness 4\")\n",
    "B = np.kron(Sprime @ S @ H @ Sprime @ Sprime @ H @ Sprime, Sprime @ S @ H @ Sprime @ Sprime @ H @ Sprime)\n",
    "A = CZ @ CZ @ np.kron(H @ S2, H @ S2)\n",
    "LHS = B @ A\n",
    "RHS = np.kron(H @ S2, H @ S2) @ CZ @ CZ @ np.kron(H @ S2 @ H2, H @ S2 @ H2)\n",
    "equalUpToScalar(LHS, RHS) \n",
    "\n",
    "print(\"\\nTwo-qutrit completeness 5\")\n",
    "mid = H @ S2 @ H @ S2 @ Sprime @ Sprime\n",
    "B = np.kron(mid, mid)\n",
    "A = CZ @ CZ @ np.kron(H @ S2, H @ S2)\n",
    "LHS = B @ A\n",
    "RHS = np.kron(H @ S2, H @ S2) @ CZ @ CZ @ np.kron(H @ S2 @ H2, H @ S2 @ H2)\n",
    "equalUpToScalar(LHS, RHS) \n",
    "\n",
    "print(\"\\nTwo-qutrit completeness 6\")\n",
    "mid = H @ S @ H2 @ S @ H3 @ S2 @ H @ S @ H2\n",
    "B = np.kron(mid, mid)\n",
    "A = CZ @ CZ @ np.kron(H @ S2, H @ S2)\n",
    "LHS = B @ A\n",
    "RHS = np.kron(S2, S2) @ CZ @ CZ @ np.kron(H @ S2 @ H2, H @ S2 @ H2)\n",
    "equalUpToScalar(LHS, RHS) "
   ]
  },
  {
   "cell_type": "markdown",
   "id": "e733fcd3",
   "metadata": {},
   "source": [
    "Some other three-qutrit relations"
   ]
  },
  {
   "cell_type": "code",
   "execution_count": 22,
   "id": "c10b5a54",
   "metadata": {},
   "outputs": [
    {
     "name": "stdout",
     "output_type": "stream",
     "text": [
      "Exactly equal\n",
      "Exactly equal\n",
      "Exactly equal\n",
      "Exactly equal\n",
      "\n",
      " C16-34\n",
      "Exactly equal\n",
      "\n",
      " C16-35\n",
      "Exactly equal\n",
      "\n",
      " C16-36\n",
      "Exactly equal\n"
     ]
    },
    {
     "data": {
      "text/plain": [
       "True"
      ]
     },
     "execution_count": 22,
     "metadata": {},
     "output_type": "execute_result"
    }
   ],
   "source": [
    "# Other three-qutrit relations\n",
    "w = findAllRoots(3)[0]\n",
    "wI = makeScalarId(27, w)\n",
    "\n",
    "w2 = findAllRoots(3)[1]\n",
    "w2I = makeScalarId(27, w2)\n",
    "\n",
    "CX10 = np.kron(H @ H @ H, I) @ CZ @ np.kron(H, I)\n",
    "CX01 = np.kron(I, H @ H @ H) @ CZ @ np.kron(I, H)\n",
    "Sprime = np.linalg.matrix_power(H, 2) @ S @ np.linalg.matrix_power(H, 2)\n",
    "SWAP = CZ @ np.kron(H, H) @ CZ @ np.kron(H, H) @ CZ @ np.kron(H, H)\n",
    "\n",
    "# CZ02 is the CZ gate acting on the first and the third qutrit\n",
    "CZ02 = np.kron(I, SWAP) @ np.kron(CZ, I) @ np.kron(I, SWAP)\n",
    "\n",
    "# CX02 is the CX gate acting on the first and the third qutrit\n",
    "# The first qutrit is the control, and the third qutrit is the target\n",
    "CX02 = np.kron(I, SWAP) @ np.kron(CX01, I) @ np.kron(I, SWAP)\n",
    "\n",
    "# CX20 is the CX gate acting on the first and the third qutrit\n",
    "# The first qutrit is the target, and the third qutrit is the control\n",
    "CX20 = np.kron(SWAP, I) @ np.kron(I, CX10) @ np.kron(SWAP, I)\n",
    "# CX20 = np.kron(H @ H @ H, I2) @ CZ02 @ np.kron(H, I2)\n",
    "\n",
    "# I is the one-qutrit identity operator\n",
    "I = np.identity(3)\n",
    "\n",
    "# I2 is the two-qutrit identity operator\n",
    "I2 = np.identity(9)\n",
    "\n",
    "# I3 is the three-qutrit identity operator\n",
    "I3 = np.identity(27)\n",
    "\n",
    "# R43\n",
    "mid = np.kron(I, CX10 @ CX10) @ CX20 @ CX20\n",
    "LHS = mid @ np.kron(CZ, I)\n",
    "RHS = w2I @ np.kron(CZ, Sprime @ Sprime @ S @ S) @ np.kron(I, CZ) @ CZ02 @ mid\n",
    "equalUpToScalar(LHS, RHS)     \n",
    "\n",
    "LHS = np.kron(CX10, I) @ CZ02\n",
    "RHS = CZ02 @ np.kron(CX10, I) @ np.kron(I, CZ @ CZ)\n",
    "equalUpToScalar(LHS, RHS)     \n",
    "\n",
    "\n",
    "LHS = np.kron(I, CZ @ CZ @ np.kron(H, I) @ CZ @ CZ @ np.kron(H, I)) @ np.kron(CZ, I) @ np.kron(I, np.kron(H, I) @ CZ @ CZ @ np.kron(H, I))\n",
    "RHS = np.kron(I, np.kron(H, I) @ CZ @ CZ @ np.kron(H, I)) @ np.kron(CZ, I) @ np.kron(I, np.kron(H, I) @ CZ @ CZ @ np.kron(H, I) @ CZ @ CZ)\n",
    "equalUpToScalar(LHS, RHS)   \n",
    "\n",
    "LHS = np.kron(I, CX10 @ CX10 @ CZ @ CZ) @ np.kron(CX01 @ CX01, I) @ np.kron(I,CZ)\n",
    "RHS = np.kron(I, CZ @ CZ) @ np.kron(CX01 @ CX01, I) @ np.kron(I, CZ @ CX10 @ CX10)\n",
    "equalUpToScalar(LHS, RHS) \n",
    "\n",
    "# C16-7'\n",
    "# print(\"\\n C16-7'\")\n",
    "# LHS = CX20 @ CX20 @ np.kron(CZ @ CZ, I)\n",
    "# RHS = np.kron(I, CZ @ CZ) @ np.kron(CZ @ CZ, I) @ CX20 @ CX20\n",
    "# equalUpToScalar(LHS, RHS)\n",
    "\n",
    "# # C16-2'\n",
    "# print(\"\\n C16-2'\")\n",
    "# LHS = np.kron(I, CX10 @ CX10) @ np.kron(CZ @ CZ, I)\n",
    "# RHS = CZ02 @ CZ02 @ np.kron(CZ @ CZ, I) @ np.kron(I, CX10 @ CX10)\n",
    "# equalUpToScalar(LHS, RHS)\n",
    "\n",
    "# # R47\n",
    "# print(\"\\n R47-int\")\n",
    "# IHI = np.kron(I, np.kron(H, I))\n",
    "# LHS = np.kron(CX10 @ CZ, I) @ CZ02 @ IHI @ np.kron(I, CZ)\n",
    "# #RHS = np.kron(I, np.kron(H @ H @ H, I)) @ np.kron(I, CZ @ CZ @ CX10 @ CX10) @ IHI @ np.kron(CX10 @ CZ, I) @ IHI @ CX20 @ CX20\n",
    "# RHS = np.kron(I, CX10 @ CX10 @ CZ) @ np.kron(CX10 @ CZ, I) @ IHI @ CX20 @ CX20\n",
    "# equalUpToScalar(LHS, RHS) \n",
    "\n",
    "# # C16-13\n",
    "# print(\"\\n C16-13\")\n",
    "# LHS = np.kron(I, CX10) @ np.kron(CZ @ CZ, I)\n",
    "# RHS = np.kron(CZ @ CZ, I) @ np.kron(I, CX10) @ CZ02\n",
    "# equalUpToScalar(LHS, RHS) \n",
    "\n",
    "# # C16-14\n",
    "# print(\"\\n C16-14\")\n",
    "# LHS = np.kron(I, CX10) @ np.kron(CX10 @ CX10, I)\n",
    "# RHS = np.kron(CX10 @ CX10, I) @ np.kron(I, CX10) @ CX20\n",
    "# equalUpToScalar(LHS, RHS) \n",
    "\n",
    "# # C16-15\n",
    "# print(\"\\n C16-15\")\n",
    "# LHS = np.kron(CZ @ CZ, I) @ np.kron(I, CX10)\n",
    "# RHS = np.kron(I, CX10) @ np.kron(CZ @ CZ, I) @ CZ02 @ CZ02 \n",
    "# equalUpToScalar(LHS, RHS) \n",
    "\n",
    "# # C16-8'\n",
    "# print(\"\\n C16-8'\")\n",
    "# LHS = np.kron(CZ @ CZ, I) @ CX20 @ CX20\n",
    "# RHS = np.kron(I, CZ) @ CX20 @ CX20 @ np.kron(CZ @ CZ, I)\n",
    "# equalUpToScalar(LHS, RHS) \n",
    "\n",
    "# # C16-3'\n",
    "# print(\"\\n C16-3'\")\n",
    "# LHS = np.kron(CZ @ CZ, I) @ np.kron(I, CX10 @ CX10)\n",
    "# RHS = CZ02 @ np.kron(I, CX10 @ CX10) @ np.kron(CZ @ CZ, I)\n",
    "# equalUpToScalar(LHS, RHS) \n",
    "\n",
    "# # C16-16\n",
    "# print(\"\\n C16-16\")\n",
    "# LHS = np.kron(CZ @ CZ, I) @ CX20\n",
    "# RHS = CX20 @ np.kron(I, CZ @ CZ) @ np.kron(CZ @ CZ, I)\n",
    "# equalUpToScalar(LHS, RHS) \n",
    "\n",
    "# # C16-17\n",
    "# print(\"\\n C16-17\")\n",
    "# LHS = np.kron(I, CX10 @ CX10) @ np.kron(CX10 @ CX10, I)\n",
    "# RHS = np.kron(CX10 @ CX10, I) @ np.kron(I, CX10 @ CX10) @ CX20 @ CX20\n",
    "# equalUpToScalar(LHS, RHS) \n",
    "\n",
    "# # C16-18\n",
    "# print(\"\\n C16-18\")\n",
    "# LHS = CX20 @ np.kron(CZ @ CZ, I)\n",
    "# RHS = np.kron(CZ @ CZ, I) @ CX20 @ np.kron(I, CZ)\n",
    "# equalUpToScalar(LHS, RHS) \n",
    "\n",
    "# # C16-19\n",
    "# print(\"\\n C16-19\")\n",
    "# LHS = CZ02 @ CZ02 @ np.kron(I, CX01)\n",
    "# RHS = np.kron(I, CX01) @ np.kron(CZ @ CZ, I) @ CZ02 @ CZ02\n",
    "# equalUpToScalar(LHS, RHS) \n",
    "\n",
    "# # C16-20\n",
    "# print(\"\\n C16-20\")\n",
    "# LHS = CX20 @ np.kron(I, CX01)\n",
    "# RHS = np.kron(I, CX01) @ CX20 @ np.kron(CX10, I)\n",
    "# equalUpToScalar(LHS, RHS) \n",
    "\n",
    "# # C13-12\n",
    "# print(\"\\n C13-12\")\n",
    "# LHS = np.kron(I, CX10) @ np.kron(CX01, I)\n",
    "# RHS = np.kron(CX01, I) @ np.kron(I, CX10)\n",
    "# equalUpToScalar(LHS, RHS) \n",
    "\n",
    "# # C13-13\n",
    "# print(\"\\n C13-13\")\n",
    "# LHS = CX02 @ np.kron(I, CX01)\n",
    "# RHS = np.kron(I, CX01) @ CX02\n",
    "# equalUpToScalar(LHS, RHS) \n",
    "\n",
    "# # C13-14\n",
    "# print(\"\\n C13-14\")\n",
    "# LHS = CX20 @ np.kron(CX10, I)\n",
    "# RHS = np.kron(CX10, I) @ CX20\n",
    "# equalUpToScalar(LHS, RHS) \n",
    "\n",
    "# C16-21\n",
    "# print(\"\\n C16-21\")\n",
    "# LHS = CX20 @ CX20 @ np.kron(I, CX01)\n",
    "# RHS = np.kron(I, CX01) @ np.kron(CX10 @ CX10, I) @ CX20 @ CX20\n",
    "# equalUpToScalar(LHS, RHS) \n",
    "\n",
    "# # C16-22\n",
    "# print(\"\\n C16-22\")\n",
    "# LHS = CZ02 @ CZ02 @ np.kron(I, CX01 @ CX01)\n",
    "# RHS = np.kron(CZ, I) @ np.kron(I, CX01 @ CX01) @ CZ02 @ CZ02\n",
    "# equalUpToScalar(LHS, RHS) \n",
    "\n",
    "# # C16-23\n",
    "# print(\"\\n C16-23\")\n",
    "# LHS = CX20 @ CX20 @ np.kron(CZ, I)\n",
    "# RHS = np.kron(CZ, I) @ np.kron(I, CZ) @ CX20 @ CX20\n",
    "# equalUpToScalar(LHS, RHS) \n",
    "\n",
    "# # C16-24\n",
    "# print(\"\\n C16-24\")\n",
    "# LHS = CX20 @ CX20 @ np.kron(I, CX01 @ CX01)\n",
    "# RHS = np.kron(CX10, I) @ np.kron(I, CX01 @ CX01) @ CX20 @ CX20\n",
    "# equalUpToScalar(LHS, RHS) \n",
    "\n",
    "# # C16-25\n",
    "# print(\"\\n C16-25\")\n",
    "# LHS = np.kron(CX10 @ CX10, I) @ np.kron(I, CX10 @ CX10)\n",
    "# RHS = np.kron(I, CX10 @ CX10) @ np.kron(CX10 @ CX10, I) @ CX20\n",
    "# equalUpToScalar(LHS, RHS) \n",
    "\n",
    "# # C16-26\n",
    "# print(\"\\n C16-26\")\n",
    "# LHS = np.kron(CX10 @ CX10, I) @ np.kron(I, CX10)\n",
    "# RHS = np.kron(I, CX10) @ np.kron(CX10 @ CX10, I) @ CX20 @ CX20\n",
    "# equalUpToScalar(LHS, RHS) \n",
    "\n",
    "# # Test\n",
    "# print(\"\\nTest\")\n",
    "# fixed = np.kron(CX10 @ CZ, I) @ CX20 @ CZ02\n",
    "# LHS = np.kron(np.kron(Z @ X, I), I) @ fixed\n",
    "# RHS = fixed @ np.kron(np.kron(Z @ X, I), I)\n",
    "# equalUpToScalar(LHS, RHS) \n",
    "\n",
    "# # C16-27\n",
    "# print(\"\\n C16-27\")\n",
    "# LHS = np.kron(I, CX10 @ CX10) @ np.kron(CZ, I)\n",
    "# RHS = np.kron(CZ, I) @ np.kron(I, CX10 @ CX10) @ CZ02\n",
    "# equalUpToScalar(LHS, RHS) \n",
    "\n",
    "# # C16-28\n",
    "# print(\"\\n C16-28\")\n",
    "# LHS = np.kron(CX01, I) @ np.kron(I, CZ @ CZ)\n",
    "# RHS = np.kron(I, CZ @ CZ) @ np.kron(CX01, I) @ CZ02\n",
    "# equalUpToScalar(LHS, RHS) \n",
    "\n",
    "# # C16-29\n",
    "# print(\"\\n C16-29\")\n",
    "# LHS = CX02 @ np.kron(I, CZ @ CZ)\n",
    "# RHS = np.kron(I, CZ @ CZ) @ CX02 @ np.kron(CZ, I)\n",
    "# equalUpToScalar(LHS, RHS) \n",
    "\n",
    "# # C16-30\n",
    "# print(\"\\n C16-30\")\n",
    "# LHS = np.kron(CX01 @ CX01, I) @ np.kron(I, CZ)\n",
    "# RHS = np.kron(I, CZ) @ np.kron(CX01 @ CX01, I) @ CZ02\n",
    "# equalUpToScalar(LHS, RHS)\n",
    "\n",
    "# # C16-31\n",
    "# print(\"\\n C16-31\")\n",
    "# LHS = CZ02 @ np.kron(I, CX01 @ CX01)\n",
    "# RHS = np.kron(I, CX01 @ CX01) @ CZ02 @ np.kron(CZ @ CZ, I)\n",
    "# equalUpToScalar(LHS, RHS) \n",
    "\n",
    "# # C16-32\n",
    "# print(\"\\n C16-32\")\n",
    "# LHS = np.kron(CZ, I) @ np.kron(I, CX10 @ CX10)\n",
    "# RHS = np.kron(I, CX10 @ CX10) @ np.kron(CZ, I) @ CZ02 @ CZ02\n",
    "# equalUpToScalar(LHS, RHS) \n",
    "\n",
    "# # C16-33\n",
    "# print(\"\\n C16-33\")\n",
    "# LHS = np.kron(I, CZ) @ np.kron(CX01 @ CX01, I)\n",
    "# RHS = np.kron(CX01 @ CX01, I) @ np.kron(I, CZ) @ CZ02 @ CZ02\n",
    "# equalUpToScalar(LHS, RHS)\n",
    "\n",
    "# C16-34\n",
    "print(\"\\n C16-34\")\n",
    "LHS = np.kron(CX10, I) @ np.kron(I, CX10)\n",
    "RHS = np.kron(I, CX10) @ np.kron(CX10, I) @ CX20\n",
    "equalUpToScalar(LHS, RHS)\n",
    "\n",
    "# C16-35\n",
    "print(\"\\n C16-35\")\n",
    "LHS = np.kron(I, CX10) @ np.kron(CX10, I)\n",
    "RHS = np.kron(CX10, I) @ np.kron(I, CX10) @ CX20 @ CX20\n",
    "equalUpToScalar(LHS, RHS)\n",
    "\n",
    "# C16-36\n",
    "print(\"\\n C16-36\")\n",
    "LHS = np.kron(CX01 @ CX01, I) @ np.kron(I, CZ)\n",
    "RHS = np.kron(I, CZ) @ np.kron(CX01 @ CX01, I) @ CZ02\n",
    "equalUpToScalar(LHS, RHS)"
   ]
  },
  {
   "cell_type": "code",
   "execution_count": 44,
   "id": "fcc2c1f4",
   "metadata": {},
   "outputs": [
    {
     "name": "stdout",
     "output_type": "stream",
     "text": [
      "\n",
      " C16-34\n",
      "Exactly equal\n",
      "\n",
      " C16-35\n",
      "Exactly equal\n"
     ]
    },
    {
     "data": {
      "text/plain": [
       "True"
      ]
     },
     "execution_count": 44,
     "metadata": {},
     "output_type": "execute_result"
    }
   ],
   "source": [
    "# Other three-qutrit relations: dynamic testing\n",
    "w = findAllRoots(3)[0]\n",
    "wI = makeScalarId(27, w)\n",
    "\n",
    "w2 = findAllRoots(3)[1]\n",
    "w2I = makeScalarId(27, w2)\n",
    "\n",
    "CX10 = np.kron(H @ H @ H, I) @ CZ @ np.kron(H, I)\n",
    "CX01 = np.kron(I, H @ H @ H) @ CZ @ np.kron(I, H)\n",
    "Sprime = np.linalg.matrix_power(H, 2) @ S @ np.linalg.matrix_power(H, 2)\n",
    "SWAP = CZ @ np.kron(H, H) @ CZ @ np.kron(H, H) @ CZ @ np.kron(H, H)\n",
    "\n",
    "# CZ02 is the CZ gate acting on the first and the third qutrit\n",
    "CZ02 = np.kron(I, SWAP) @ np.kron(CZ, I) @ np.kron(I, SWAP)\n",
    "\n",
    "# CX02 is the CX gate acting on the first and the third qutrit\n",
    "# The first qutrit is the control, and the third qutrit is the target\n",
    "CX02 = np.kron(I, SWAP) @ np.kron(CX01, I) @ np.kron(I, SWAP)\n",
    "\n",
    "# CX20 is the CX gate acting on the first and the third qutrit\n",
    "# The first qutrit is the target, and the third qutrit is the control\n",
    "CX20 = np.kron(SWAP, I) @ np.kron(I, CX10) @ np.kron(SWAP, I)\n",
    "# CX20 = np.kron(H @ H @ H, I2) @ CZ02 @ np.kron(H, I2)\n",
    "\n",
    "# I is the one-qutrit identity operator\n",
    "I = np.identity(3)\n",
    "\n",
    "# I2 is the two-qutrit identity operator\n",
    "I2 = np.identity(9)\n",
    "\n",
    "# I3 is the three-qutrit identity operator\n",
    "I3 = np.identity(27)\n",
    "H2 = H @ H\n",
    "H3 = H @ H @ H\n",
    "S2 = S @ S\n",
    "\n"
   ]
  },
  {
   "cell_type": "code",
   "execution_count": 15,
   "id": "8e4e763f",
   "metadata": {},
   "outputs": [
    {
     "name": "stdout",
     "output_type": "stream",
     "text": [
      "Exactly equal\n"
     ]
    },
    {
     "data": {
      "text/plain": [
       "True"
      ]
     },
     "execution_count": 15,
     "metadata": {},
     "output_type": "execute_result"
    }
   ],
   "source": [
    "# Three-qutrit relations: intermediary steps\n",
    "w = findAllRoots(3)[0]\n",
    "wI = makeScalarId(27, w)\n",
    "\n",
    "w2 = findAllRoots(3)[1]\n",
    "w2I = makeScalarId(27, w2)\n",
    "\n",
    "CX10 = np.kron(H @ H @ H, I) @ CZ @ np.kron(H, I)\n",
    "CX01 = np.kron(I, H @ H @ H) @ CZ @ np.kron(I, H)\n",
    "Sprime = np.linalg.matrix_power(H, 2) @ S @ np.linalg.matrix_power(H, 2)\n",
    "SWAP = CZ @ np.kron(H, H) @ CZ @ np.kron(H, H) @ CZ @ np.kron(H, H)\n",
    "\n",
    "# CZ02 is the CZ gate acting on the first and the third qutrit\n",
    "CZ02 = np.kron(I, SWAP) @ np.kron(CZ, I) @ np.kron(I, SWAP)\n",
    "\n",
    "# CX02 is the CX gate acting on the first and the third qutrit\n",
    "# The first qutrit is the control, and the third qutrit is the target\n",
    "CX02 = np.kron(I, SWAP) @ np.kron(CX01, I) @ np.kron(I, SWAP)\n",
    "\n",
    "# CX20 is the CX gate acting on the first and the third qutrit\n",
    "# The first qutrit is the target, and the third qutrit is the control\n",
    "CX20 = np.kron(SWAP, I) @ np.kron(I, CX10) @ np.kron(SWAP, I)\n",
    "# CX20 = np.kron(H @ H @ H, I2) @ CZ02 @ np.kron(H, I2)\n",
    "\n",
    "# I is the one-qutrit identity operator\n",
    "I = np.identity(3)\n",
    "\n",
    "# I2 is the two-qutrit identity operator\n",
    "I2 = np.identity(9)\n",
    "\n",
    "# I3 is the three-qutrit identity operator\n",
    "I3 = np.identity(27)\n",
    "\n",
    "# R59\n",
    "# print(\"\\nR59\")\n",
    "# H2 = H @ H\n",
    "# H3 = H @ H @ H\n",
    "# S2 = S @ S\n",
    "# LHS = np.kron(CX10 @ CZ, I) @ CX20 @ CZ02 @ np.kron(I, np.kron(H, H))\n",
    "#wire1 = S2 @ Sprime @ H @ S @ H2 @ S2 @ H\n",
    "# wire1 = Z @ Z @ X @ X\n",
    "# wire2 = S @ Sprime @ Sprime @ H3 @ S\n",
    "# wire3 = S @ H3\n",
    "# tail = np.kron(wire1, np.kron(wire2, wire3) @ CZ @ CZ @ CX10)\n",
    "# mid = np.kron(CX10, H) @ np.kron(I, CZ) @ np.kron(np.kron(I, I), S2)\n",
    "# RHS = (-1) * w2I @ tail @ mid @ CX20 @ np.kron(CZ, I) @ CZ02 @ np.kron(I, CX10 @ np.kron(H, H @ S2) @ CX01 @ CZ)\n",
    "# equalUpToScalar(LHS, RHS)\n",
    "\n",
    "# # R59\n",
    "# print(\"\\nR59\")\n",
    "# H2 = H @ H\n",
    "# H3 = H @ H @ H\n",
    "# S2 = S @ S\n",
    "# IHI = np.kron(I, np.kron(H, I))\n",
    "# LHS = np.kron(CX10, I) @ CX20 @ np.kron(I, CZ)\n",
    "# #wire1 = S2 @ Sprime @ H @ S @ H2 @ S2 @ H\n",
    "# mid = CZ @ CZ @ CX01\n",
    "# component3 = np.kron(X @ X, np.kron(S @ Sprime @ Sprime @ H, I) @ mid @ np.kron(H @ Sprime @ Sprime, I) @ mid) @ IHI\n",
    "# component2 = np.kron(CX10, I) @ CX20 @ np.kron(I, CZ)\n",
    "# wire1 = Sprime @ S2 @ H @ S2 @ H2\n",
    "# component1 = np.kron(I, np.kron(wire1, wire1) @ CZ @ CZ @ np.kron(H, H))\n",
    "# RHS = (-1) * component3 @ component2 @ component1\n",
    "# equalUpToScalar(LHS, RHS)\n",
    "\n",
    "# w = findAllRoots(3)[0]\n",
    "# wI = makeScalarId(9, w)\n",
    "\n",
    "\n",
    "# LHS = np.kron(S @ Sprime @ Sprime @ H3 @ S, S @ H3) @ CZ @ CZ @ CX10 @ np.kron(I, H) @ CZ @ np.kron(I, S2)\n",
    "# RHS = w2I @ np.kron(S @ Sprime @ Sprime @ H, I) @ CZ @ CZ @ CX01 @ np.kron(H @ Sprime @ Sprime, I) @ CZ @ CZ @ CX01 @ np.kron(H, I) @ CZ\n",
    "# equalUpToScalar(LHS, RHS)\n",
    "\n",
    "# R59\n",
    "# print(\"\\nR59\")\n",
    "# H2 = H @ H\n",
    "# H3 = H @ H @ H\n",
    "# S2 = S @ S\n",
    "# LHS = np.kron(CX10, I) @ CX20 @ np.kron(I, CZ)\n",
    "# #wire1 = S2 @ Sprime @ H @ S @ H2 @ S2 @ H\n",
    "# component3 = np.kron(X @ X, np.kron(S @ Sprime @ Sprime @ H @ Sprime, S) @ CX01 @ np.kron(H, I) @ CX01 @ np.kron(H, S2))\n",
    "# component2 = np.kron(CX10, I) @ CX20 @ np.kron(I, CZ)\n",
    "# wire1 = Sprime @ S2 @ H @ S2 @ H2\n",
    "# component1 = np.kron(I, np.kron(wire1, wire1) @ CZ @ CZ @ np.kron(H, H))\n",
    "# RHS = (-1) * wI @ component3 @ component2 @ component1\n",
    "# equalUpToScalar(LHS, RHS)\n",
    "\n",
    "\n",
    "# H2 = H @ H\n",
    "# H3 = H @ H @ H\n",
    "# S2 = S @ S\n",
    "# LHS = np.kron(S @ Sprime @ Sprime @ H @ Sprime, S) @ CX01 @ np.kron(H, I) @ CX01 @ np.kron(H, I)\n",
    "# RHS = np.kron(S @ Sprime @ Sprime @ H @ Sprime @ H2, S @ H3) @ CZ @ CZ @ CX10 @ np.kron(I, H)\n",
    "# equalUpToScalar(LHS, RHS)\n",
    "\n",
    "# R59\n",
    "# print(\"\\nR59\")\n",
    "# H2 = H @ H\n",
    "# H3 = H @ H @ H\n",
    "# S2 = S @ S\n",
    "# LHS = np.kron(CX10, I) @ CX20 @ np.kron(I, CZ)\n",
    "# component3 = np.kron(X @ X, np.kron(S @ H @ S @ H3, S @ H3 @ Sprime) @ CX10)\n",
    "# component2 = np.kron(CX10, H) @ CX20 @ np.kron(I, CZ)\n",
    "# wire1 = Sprime @ S @ H @ S2 @ H2\n",
    "# component1 = np.kron(I, np.kron(wire1, wire1) @ CZ @ CZ @ np.kron(H, H))\n",
    "# RHS = wI @ component3 @ component2 @ component1\n",
    "# equalUpToScalar(LHS, RHS)\n",
    "\n",
    "H2 = H @ H\n",
    "H3 = H @ H @ H\n",
    "S2 = S @ S\n",
    "Z2 = Z @ Z\n",
    "# component3 = np.kron(I, np.kron(I, H3)) @ np.kron(X, CX10 @ CX10 @ np.kron(H @ S2 @ H3 @ S2, Sprime @ Sprime @ H @ S2))\n",
    "# LHS = w2I @ component3 @ np.kron(CX10, I) @ CX20 @ np.kron(I, CZ)\n",
    "\n",
    "# LHS = np.kron(I, np.kron(H @ S2 @ H2 @ S2, H @ S2 @ H3 @ S2)) @ np.kron(S, CZ @ CX01 @ CX01 @ np.kron(H @ S2, I)) @ np.kron(CZ, I) @ np.kron(I, CZ)\n",
    "# IHI = np.kron(I, np.kron(H, I))\n",
    "# component4 = np.kron(I, CZ) @ CZ02 @ CZ02 @ np.kron(I, CX01 @ CX01) @ IHI\n",
    "# component3 = np.kron(I, np.kron(I, H @ S)) @ np.kron(I, CX01 @ CX01 @ CZ) @ IHI\n",
    "# component2 = np.kron(CZ @ CZ @ CX01 @ CX01, I) @ np.kron(I, CZ @ CX10 @ CX10)\n",
    "# component1 = np.kron(I, np.kron(S @ H @ S2 @ H3 @ S2 @ H2, S @ Sprime @ H3))\n",
    "# RHS = wI @ component1 @ component2 @ component3 @ component4\n",
    "# equalUpToScalar(LHS, RHS)\n",
    "\n",
    "IIH3 = np.kron(I, np.kron(I, H3))\n",
    "IIH = np.kron(I, np.kron(I, H))\n",
    "# LHS = IIH @ np.kron(I, CX10) @ np.kron(I, np.kron(S @ H, H @ S @ H3)) @ np.kron(CX10, I) @ CX20 @ np.kron(I, CZ)\n",
    "# RHS = np.kron(CX10, I) @ CX20 @ np.kron(I, CZ) @ np.kron(I, np.kron(H @ S, H3 @ S @ H)) @ np.kron(I, CX10 @ CX10) @ IIH\n",
    "# equalUpToScalar(LHS, RHS)\n",
    "\n",
    "LHS = IIH @ np.kron(I, CX10) @ np.kron(I, np.kron(S @ H, H @ S @ H3)) @ np.kron(CZ, I) @ CZ02 @ np.kron(I, CZ)\n",
    "RHS = wI @ np.kron(Sprime, np.kron(H @ S, Sprime)) @ np.kron(CZ, I) @ np.kron(I, CZ) @ np.kron(CX01, I) @ np.kron(I, CX10) @ np.kron(I, np.kron(I, H3 @ S @ H)) @ np.kron(I, CX10 @ CX10) @ IIH\n",
    "equalUpToScalar(LHS, RHS)"
   ]
  },
  {
   "cell_type": "markdown",
   "id": "5507185c",
   "metadata": {},
   "source": [
    "# Three-qutrit derived relations: T3"
   ]
  },
  {
   "cell_type": "markdown",
   "id": "114a4e6b",
   "metadata": {},
   "source": []
  },
  {
   "cell_type": "code",
   "execution_count": 23,
   "id": "242b09e7",
   "metadata": {},
   "outputs": [
    {
     "name": "stdout",
     "output_type": "stream",
     "text": [
      "Exactly equal\n",
      "Exactly equal\n",
      "Exactly equal\n",
      "Exactly equal\n",
      "Exactly equal\n",
      "Exactly equal\n",
      "Exactly equal\n",
      "Exactly equal\n",
      "Exactly equal\n",
      "Exactly equal\n",
      "Exactly equal\n",
      "Exactly equal\n",
      "Exactly equal\n",
      "Exactly equal\n",
      "Exactly equal\n",
      "Exactly equal\n",
      "Exactly equal\n",
      "Exactly equal\n",
      "Exactly equal\n",
      "Exactly equal\n",
      "\n",
      "R59\n",
      "Exactly equal\n",
      "Exactly equal\n"
     ]
    },
    {
     "data": {
      "text/plain": [
       "True"
      ]
     },
     "execution_count": 23,
     "metadata": {},
     "output_type": "execute_result"
    }
   ],
   "source": [
    "# Three-qutrit relations\n",
    "w = findAllRoots(3)[0]\n",
    "wI = makeScalarId(27, w)\n",
    "\n",
    "w2 = findAllRoots(3)[1]\n",
    "w2I = makeScalarId(27, w2)\n",
    "\n",
    "CX10 = np.kron(H @ H @ H, I) @ CZ @ np.kron(H, I)\n",
    "CX01 = np.kron(I, H @ H @ H) @ CZ @ np.kron(I, H)\n",
    "Sprime = np.linalg.matrix_power(H, 2) @ S @ np.linalg.matrix_power(H, 2)\n",
    "SWAP = CZ @ np.kron(H, H) @ CZ @ np.kron(H, H) @ CZ @ np.kron(H, H)\n",
    "\n",
    "# CZ02 is the CZ gate acting on the first and the third qutrit\n",
    "CZ02 = np.kron(I, SWAP) @ np.kron(CZ, I) @ np.kron(I, SWAP)\n",
    "\n",
    "# CX02 is the CX gate acting on the first and the third qutrit\n",
    "# The first qutrit is the control, and the third qutrit is the target\n",
    "CX02 = np.kron(I, SWAP) @ np.kron(CX01, I) @ np.kron(I, SWAP)\n",
    "\n",
    "# CX20 is the CX gate acting on the first and the third qutrit\n",
    "# The first qutrit is the target, and the third qutrit is the control\n",
    "CX20 = np.kron(SWAP, I) @ np.kron(I, CX10) @ np.kron(SWAP, I)\n",
    "# CX20 = np.kron(H @ H @ H, I2) @ CZ02 @ np.kron(H, I2)\n",
    "\n",
    "# I is the one-qutrit identity operator\n",
    "I = np.identity(3)\n",
    "\n",
    "# I2 is the two-qutrit identity operator\n",
    "I2 = np.identity(9)\n",
    "\n",
    "# I3 is the three-qutrit identity operator\n",
    "I3 = np.identity(27)\n",
    "\n",
    "# R39\n",
    "LHS = np.kron(I, CZ @ CZ @ np.kron(H, I)) @ np.kron(CZ, I)\n",
    "RHS = np.kron(CX01 @ CX01, I) @ np.kron(I, CZ @ CZ @ np.kron(H, I)) @ np.kron(I, SWAP) @ np.kron(CZ, I) @ np.kron(I, SWAP)\n",
    "equalUpToScalar(LHS, RHS)\n",
    "\n",
    "# R40\n",
    "LHS = np.kron(I, CZ @ CZ @ np.kron(H, I)) @ np.kron(CZ @ CZ, I)\n",
    "RHS = np.kron(CX01, I) @ np.kron(I, CZ @ CZ @ np.kron(H, I)) @ np.kron(I, SWAP) @ np.kron(CZ @ CZ, I) @ np.kron(I, SWAP)\n",
    "equalUpToScalar(LHS, RHS)\n",
    "\n",
    "# R41\n",
    "LHS = CZ02 @ CZ02 @ np.kron(H, I2) @ np.kron(CZ, I)\n",
    "RHS = np.kron(CX10 @ CX10, I) @ np.kron(I, CZ) @ CZ02 @ CZ02 @ np.kron(H, I2)\n",
    "equalUpToScalar(LHS, RHS)\n",
    "\n",
    "# R42\n",
    "LHS = CZ02 @ CZ02 @ np.kron(H, I2) @ np.kron(CZ @ CZ, I)\n",
    "RHS = np.kron(CX10, I) @ np.kron(I, CZ @ CZ) @ CZ02 @ CZ02 @ np.kron(H, I2)\n",
    "equalUpToScalar(LHS, RHS)\n",
    "\n",
    "# R43\n",
    "LHS = np.kron(I, CX10 @ CX10) @ CX20 @ CX20 @ np.kron(CZ, I)\n",
    "RHS = np.kron(CZ, I) @ np.kron(S, np.kron(S, Sprime @ Sprime @ S)) @ np.kron(I, CX10 @ CX10) @ CX20 @ CX20 @ np.kron(S @ S, np.kron(S @ S, I))\n",
    "equalUpToScalar(LHS, RHS)     \n",
    "\n",
    "# R44\n",
    "LHS = np.kron(I, CX10 @ CX10) @ CX20 @ CX20 @ np.kron(CZ @ CZ, I)\n",
    "RHS = np.kron(CZ @ CZ, I) @ np.kron(S @ S, np.kron(S @ S, Sprime @ S @ S)) @ np.kron(I, CX10 @ CX10) @ CX20 @ CX20 @ np.kron(S, np.kron(S, I))\n",
    "equalUpToScalar(LHS, RHS)  \n",
    "\n",
    "# R45\n",
    "LHS = CZ02\n",
    "IHI = np.kron(I, np.kron(H, I))\n",
    "RHS = IHI @ np.kron(I, CZ @ CZ) @ IHI @ np.kron(CZ, I) @ IHI @ np.kron(I, CZ @ CZ) @ IHI @ np.kron(CZ, I)\n",
    "equalUpToScalar(LHS, RHS)  \n",
    "\n",
    "# R46\n",
    "LHS = np.kron(CX10, I) @ CZ02\n",
    "IHI = np.kron(I, np.kron(H, I))\n",
    "RHS = np.kron(I, CZ @ CZ) @ IHI @ np.kron(I, CZ @ CZ) @ IHI @ np.kron(CZ, I) @ IHI @ np.kron(I, CZ @ CZ) @ IHI @ np.kron(CZ @ CX10, I)\n",
    "equalUpToScalar(LHS, RHS) \n",
    "\n",
    "# R47\n",
    "IHI = np.kron(I, np.kron(H, I))\n",
    "LHS = np.kron(CX10 @ CZ, I) @ CZ02 @ IHI @ np.kron(I, CZ)\n",
    "RHS = wI @ np.kron(I, np.kron(H @ H @ H @ S @ S, I)) @ np.kron(I, CX10 @ CX10) @ np.kron(I, np.kron(S @ H, S @ S)) @ np.kron(CX10 @ CZ, I) @ IHI @ CX20 @ CX20\n",
    "equalUpToScalar(LHS, RHS) \n",
    "\n",
    "# R48\n",
    "LHS = np.kron(CX10 @ CZ, I) @ IHI @ np.kron(I, CZ @ CZ)\n",
    "RHS = wI @ np.kron(I, np.kron(H @ S @ S, I)) @ np.kron(I, CX10 @ CX10) @ np.kron(I, np.kron(S @ H @ H @ H, S @ S)) @ np.kron(CX10 @ CZ, I) @ IHI @ CX20 @ CZ02\n",
    "equalUpToScalar(LHS, RHS) \n",
    "\n",
    "# R49\n",
    "LHS = np.kron(CX10 @ CZ, I) @ IHI @ CX20 @ CZ02 @ np.kron(I, CZ)\n",
    "ISI = np.kron(I, np.kron(S, I))\n",
    "RHS = w2I @ ISI @ np.kron(I, CX10 @ CX10) @ np.kron(I, np.kron(S @ S, S)) @ np.kron(CX10 @ CZ, I) @ IHI\n",
    "equalUpToScalar(LHS, RHS) \n",
    "\n",
    "# R50\n",
    "LHS = np.kron(CX10 @ CZ, I) @ IHI @ CX20 @ np.kron(I, np.kron(I, H @ H)) @ np.kron(I, CZ @ CZ)\n",
    "RHS = w2I @ np.kron(I, np.kron(S, S @ H @ H)) @ np.kron(I, CX10) @ np.kron(I, np.kron(S @ S, I)) @ np.kron(CX10 @ CZ, I) @ IHI @ CZ02\n",
    "equalUpToScalar(LHS, RHS) \n",
    "\n",
    "# R51\n",
    "H2 = H @ H\n",
    "H3 = H @ H @ H\n",
    "S2 = S @ S\n",
    "wire2 = H @ S2 @ H2 @ S @ H @ Sprime @ H @ S\n",
    "wire3 = S @ H2 @ S2\n",
    "LHS = np.kron(CX10 @ CZ, I) @ IHI @ CX20 @ CZ02 @ CZ02 @ np.kron(I, CZ @ CZ)\n",
    "RHS = (-1) * wI @ np.kron(I, np.kron(wire2, wire3)) @ np.kron(I, CZ) @ np.kron(I, np.kron(H @ S @ H3, I)) @ np.kron(CX10 @ CZ, I) @ CX20 @ np.kron(I, np.kron(H, H @ H))\n",
    "equalUpToScalar(LHS, RHS) \n",
    "\n",
    "# R52\n",
    "LHS = np.kron(CX10 @ CZ, I) @ CX20 @ np.kron(np.kron(I, H), H @ H) @ np.kron(I, CZ)\n",
    "RHS = (-1) * wI @ np.kron(I, np.kron(wire2, wire3)) @ np.kron(I, CZ) @ np.kron(I, np.kron(H @ S @ H3, I)) @ np.kron(CX10 @ CZ, I) @ CX20 @ CZ02 @ CZ02 @ IHI\n",
    "equalUpToScalar(LHS, RHS) \n",
    "\n",
    "# R53\n",
    "IIH = np.kron(I, np.kron(I, H))\n",
    "LHS = np.kron(CZ, I) @ CX20 @ CZ02 @ IIH @ np.kron(I, CZ)\n",
    "RHS = w2I @ np.kron(I, np.kron(I, S)) @ np.kron(I, CX01 @ CX01) @ np.kron(I, np.kron(S, S @ S)) @ np.kron(CX10 @ CX10, I) @ CX20 @ CZ02 @ IIH\n",
    "equalUpToScalar(LHS, RHS) \n",
    "\n",
    "# R54\n",
    "IIS = np.kron(I, np.kron(I, S))\n",
    "LHS = np.kron(CX10 @ CZ @ CZ, I) @ CX20 @ CZ02 @ IIH @ np.kron(I, CZ)\n",
    "RHS = IIS @ np.kron(I, CX01 @ CX01) @ np.kron(I, np.kron(S @ S @ Sprime, S @ S)) @ np.kron(CZ, I) @ CX20 @ CZ02 @ IIH\n",
    "equalUpToScalar(LHS, RHS) \n",
    "\n",
    "# R55\n",
    "LHS = np.kron(CX10, I) @ CX20 @ CZ02 @ np.kron(I, np.kron(H @ H, H)) @ np.kron(I, CZ)\n",
    "RHS = wI @ np.kron(I, np.kron(Sprime @ Sprime, Sprime @ H)) @ np.kron(I, CZ @ CZ) @ np.kron(I, np.kron(H @ H, H @ S @ S @ H @ H)) @ np.kron(CX10 @ CZ @ CZ, I) @ CX20 @ CZ02 @ IIH\n",
    "equalUpToScalar(LHS, RHS) \n",
    "\n",
    "# R56\n",
    "LHS = np.kron(CZ, I) @ CX20 @ CZ02 @ IIH @ np.kron(I, CZ @ CZ)\n",
    "RHS = np.kron(I, np.kron(I, Sprime @ Sprime @ S2 @ H)) @ np.kron(I, CZ @ CZ) @ np.kron(CX10 @ CZ @ CZ, H @ S @ H2 @ S) @ CX20 @ CZ02 @ IIH\n",
    "equalUpToScalar(LHS, RHS)\n",
    "\n",
    "# R57\n",
    "LHS = np.kron(CX10 @ CZ @ CZ, I) @ CX20 @ CZ02 @ IIH @ np.kron(I, CZ @ CZ)\n",
    "RHS = w2I @ np.kron(I, np.kron(I, Sprime @ H) @ CZ @ CZ @ np.kron(S @ H2, H @ S2 @ H2)) @ np.kron(CX10, I) @ CX20 @ CZ02 @ np.kron(I, np.kron(H2, H))\n",
    "equalUpToScalar(LHS, RHS)\n",
    "\n",
    "# R58\n",
    "LHS = np.kron(CX10, I) @ CX20 @ CZ02 @ np.kron(I, np.kron(H2, H)) @ np.kron(I, CZ @ CZ)\n",
    "RHS = wI @ np.kron(I, np.kron(S @ Sprime @ Sprime, S) @ CX01 @ CX01 @ np.kron(S2 @ H2, S2)) @ np.kron(CZ, I) @ CX20 @ CZ02 @ IIH\n",
    "equalUpToScalar(LHS, RHS)\n",
    "\n",
    "# R59\n",
    "print(\"\\nR59\")\n",
    "H2 = H @ H\n",
    "H3 = H @ H @ H\n",
    "S2 = S @ S\n",
    "LHS = np.kron(CX10 @ CZ, I) @ CX20 @ CZ02 @ np.kron(I, np.kron(H, H) @ CZ)\n",
    "#wire1 = S2 @ Sprime @ H @ S @ H2 @ S2 @ H\n",
    "wire1 = Z @ Z @ X @ X\n",
    "wire2 = S @ Sprime @ Sprime @ H @ Sprime @ Sprime @ H\n",
    "RHS = wI @ np.kron(wire1, np.kron(wire2, wire2) @ CZ @ np.kron(H @ S2, H @ S2)) @ np.kron(CX10 @ CZ, I) @ CX20 @ CZ02 @ np.kron(I, np.kron(H @ S2, H @ S2))\n",
    "equalUpToScalar(LHS, RHS)\n",
    "\n",
    "# R60\n",
    "LHS = np.kron(CX10 @ CZ, I) @ CX20 @ CZ02 @ np.kron(I, np.kron(H, H) @ CZ @ CZ)\n",
    "wire1 = S @ Sprime @ Sprime @ H @ S2 @ H2 @ S @ H\n",
    "wire2 = Sprime @ H @ S2\n",
    "wire3 = H @ S2 @ H2\n",
    "RHS = np.kron(wire1, np.kron(wire2, wire2) @ CZ @ CZ @ np.kron(wire3, wire3)) @ np.kron(CX10 @ CZ, I) @ CX20 @ CZ02 @ np.kron(I, np.kron(H @ S, H @ S))\n",
    "equalUpToScalar(LHS, RHS)"
   ]
  },
  {
   "cell_type": "markdown",
   "id": "3d69da65",
   "metadata": {},
   "source": [
    "# Three-qutrit derived relations: T2"
   ]
  },
  {
   "cell_type": "code",
   "execution_count": 97,
   "id": "e71c27fd",
   "metadata": {},
   "outputs": [
    {
     "name": "stdout",
     "output_type": "stream",
     "text": [
      "Exactly equal\n"
     ]
    },
    {
     "data": {
      "text/plain": [
       "True"
      ]
     },
     "execution_count": 97,
     "metadata": {},
     "output_type": "execute_result"
    }
   ],
   "source": [
    "# Three-qutrit relations\n",
    "w = findAllRoots(3)[0]\n",
    "wI = makeScalarId(27, w)\n",
    "\n",
    "w2 = findAllRoots(3)[1]\n",
    "w2I = makeScalarId(27, w2)\n",
    "\n",
    "CX10 = np.kron(H @ H @ H, I) @ CZ @ np.kron(H, I)\n",
    "CX01 = np.kron(I, H @ H @ H) @ CZ @ np.kron(I, H)\n",
    "Sprime = np.linalg.matrix_power(H, 2) @ S @ np.linalg.matrix_power(H, 2)\n",
    "SWAP = CZ @ np.kron(H, H) @ CZ @ np.kron(H, H) @ CZ @ np.kron(H, H)\n",
    "\n",
    "# CZ02 is the CZ gate acting on the first and the third qutrit\n",
    "CZ02 = np.kron(I, SWAP) @ np.kron(CZ, I) @ np.kron(I, SWAP)\n",
    "\n",
    "# CX02 is the CX gate acting on the first and the third qutrit\n",
    "# The first qutrit is the control, and the third qutrit is the target\n",
    "CX02 = np.kron(I, SWAP) @ np.kron(CX01, I) @ np.kron(I, SWAP)\n",
    "\n",
    "# CX20 is the CX gate acting on the first and the third qutrit\n",
    "# The first qutrit is the target, and the third qutrit is the control\n",
    "CX20 = np.kron(SWAP, I) @ np.kron(I, CX10) @ np.kron(SWAP, I)\n",
    "# CX20 = np.kron(H @ H @ H, I2) @ CZ02 @ np.kron(H, I2)\n",
    "\n",
    "# I is the one-qutrit identity operator\n",
    "I = np.identity(3)\n",
    "\n",
    "# I2 is the two-qutrit identity operator\n",
    "I2 = np.identity(9)\n",
    "\n",
    "# I3 is the three-qutrit identity operator\n",
    "I3 = np.identity(27)\n",
    "\n",
    "# C16\n",
    "LHS = np.kron(I, CZ) @ np.kron(CX01, I)\n",
    "RHS = np.kron(CX01, I) @ np.kron(I, CZ) @ CZ02\n",
    "equalUpToScalar(LHS, RHS)\n",
    "\n",
    "# "
   ]
  },
  {
   "cell_type": "code",
   "execution_count": 13,
   "id": "616b2d76",
   "metadata": {},
   "outputs": [
    {
     "name": "stdout",
     "output_type": "stream",
     "text": [
      "Exactly equal\n",
      "Exactly equal\n"
     ]
    },
    {
     "data": {
      "text/plain": [
       "True"
      ]
     },
     "execution_count": 13,
     "metadata": {},
     "output_type": "execute_result"
    }
   ],
   "source": [
    "# Seemingly related relations\n",
    "w = findAllRoots(3)[0]\n",
    "wI = makeScalarId(9, w)\n",
    "\n",
    "w2 = findAllRoots(3)[1]\n",
    "w2I = makeScalarId(9, w2)\n",
    "\n",
    "CX10 = np.kron(H @ H @ H, I) @ CZ @ np.kron(H, I)\n",
    "CX01 = np.kron(I, H @ H @ H) @ CZ @ np.kron(I, H)\n",
    "Sprime = np.linalg.matrix_power(H, 2) @ S @ np.linalg.matrix_power(H, 2)\n",
    "SWAP = CZ @ np.kron(H, H) @ CZ @ np.kron(H, H) @ CZ @ np.kron(H, H)\n",
    "I = np.identity(3)\n",
    "# I2 is the two-qutrit identity operator\n",
    "I2 = np.identity(9)\n",
    "\n",
    "\n",
    "# R23^3: How S is pushed through a CX gate\n",
    "LHS = np.kron(S @ S, Sprime @ Sprime) @ CX10 @ np.kron(S, I) @ wI\n",
    "RHS = CZ @ CX10\n",
    "equalUpToScalar(LHS, RHS)\n",
    "\n",
    "# R25^2: How CZ is pushed through a CX gate\n",
    "LHS = np.kron(I, Sprime @ Sprime @ S @ S) @ CX10 @ CZ @ w2I\n",
    "RHS = CZ @ CX10\n",
    "equalUpToScalar(LHS, RHS)"
   ]
  },
  {
   "cell_type": "code",
   "execution_count": 14,
   "id": "4447a94c",
   "metadata": {},
   "outputs": [
    {
     "name": "stdout",
     "output_type": "stream",
     "text": [
      "Exactly equal\n"
     ]
    },
    {
     "data": {
      "text/plain": [
       "True"
      ]
     },
     "execution_count": 14,
     "metadata": {},
     "output_type": "execute_result"
    }
   ],
   "source": [
    "# LHS = np.kron(I, H @ H) @ CX01 @ CX01 @ CX10 @ CX01 @ CX01\n",
    "# RHS = SWAP\n",
    "# equalUpToScalar(LHS, RHS)\n",
    "\n",
    "LHS = CX10 @ CX10 @ CX01 @ CX10 @ CX10 @ np.kron(I, H @ H)\n",
    "RHS = SWAP\n",
    "equalUpToScalar(LHS, RHS)"
   ]
  },
  {
   "cell_type": "code",
   "execution_count": 15,
   "id": "6904f947",
   "metadata": {},
   "outputs": [
    {
     "name": "stdout",
     "output_type": "stream",
     "text": [
      "Exactly equal\n"
     ]
    },
    {
     "data": {
      "text/plain": [
       "True"
      ]
     },
     "execution_count": 15,
     "metadata": {},
     "output_type": "execute_result"
    }
   ],
   "source": [
    "I = np.identity(3)\n",
    "LHS = np.kron(H @ H, I) @ CZ\n",
    "RHS = CZ @ CZ @ np.kron(H @ H, I)\n",
    "equalUpToScalar(LHS, RHS)"
   ]
  },
  {
   "cell_type": "markdown",
   "id": "ed3b592c",
   "metadata": {},
   "source": [
    "# Relations for two-qutrit Clifford operators: $R_{23}$\n",
    "$$\n",
    "\\begin{align*}\n",
    "CX_{10} &\\coloneqq (H^3 \\otimes I)\\cdot CZ \\cdot (H \\otimes I)\\\\\n",
    "S' &\\coloneqq H^2 \\cdot S \\cdot H^2\\\\\n",
    "R_{23}&: CX_{10}\\cdot (S \\otimes I) = \\omega^2 \\cdot (S \\otimes S Z^2 )\\cdot CZ \\cdot CX_{10}\\\\\n",
    "R_{23}^1&: CX_{10}\\cdot (S \\otimes I)  = \\omega^2 \\cdot (S \\otimes S')\\cdot CZ \\cdot CX_{10}\\\\\n",
    "R_{23}^2&: (S \\otimes I) \\cdot CX_{10} = \\omega^2 \\cdot (S^2 \\otimes S')\\cdot CZ \\cdot CX_{10} \\cdot (S^2 \\otimes I)\\\\\n",
    "R_{23}^3&: \\omega \\cdot (S^2 \\otimes S'^2) \\cdot CX_{10} \\cdot (S \\otimes I) = CZ \\cdot CX_{10}\n",
    "\\end{align*}\n",
    "$$"
   ]
  },
  {
   "cell_type": "code",
   "execution_count": 16,
   "id": "e085c02b",
   "metadata": {},
   "outputs": [
    {
     "name": "stdout",
     "output_type": "stream",
     "text": [
      "Exactly equal\n",
      "Exactly equal\n",
      "Exactly equal\n",
      "Exactly equal\n"
     ]
    },
    {
     "data": {
      "text/plain": [
       "True"
      ]
     },
     "execution_count": 16,
     "metadata": {},
     "output_type": "execute_result"
    }
   ],
   "source": [
    "w2 = findAllRoots(3)[1]\n",
    "w2I = makeScalarId(9, w2)\n",
    "\n",
    "w = findAllRoots(3)[0]\n",
    "wI = makeScalarId(9, w)\n",
    "\n",
    "Sprime = np.linalg.matrix_power(H, 2) @ S @ np.linalg.matrix_power(H, 2)\n",
    "CX = np.kron(H @ H @ H, I) @ CZ @ np.kron(H, I)\n",
    "\n",
    "# Relation 23\n",
    "LHS = CX @ np.kron(S, I)\n",
    "RHS = np.kron(S, S @ Z @ Z) @ CZ @ CX @ w2I\n",
    "equalUpToScalar(LHS, RHS)\n",
    "\n",
    "# Relation 23, variant 1\n",
    "LHS = CX @ np.kron(S, I)\n",
    "RHS = np.kron(S, Sprime) @ CZ @ CX @ w2I\n",
    "equalUpToScalar(LHS, RHS)\n",
    "\n",
    "# Relation 23, variant 2\n",
    "LHS = np.kron(S, I) @ CX\n",
    "RHS = np.kron(S @ S, Sprime) @ CZ @ CX @ np.kron(S @ S, I) @ w2I\n",
    "equalUpToScalar(LHS, RHS)\n",
    "\n",
    "# Relation 23, variant 3\n",
    "LHS = np.kron(S @ S, Sprime @ Sprime) @ CX @ np.kron(S, I) @ wI\n",
    "RHS = CZ @ CX\n",
    "equalUpToScalar(LHS, RHS)"
   ]
  },
  {
   "cell_type": "markdown",
   "id": "47f3894c",
   "metadata": {},
   "source": [
    "# Relations for two-qutrit Clifford operators: $R_{25}$\n",
    "$$\n",
    "\\begin{align*}\n",
    "CX_{10} &\\coloneqq (H^3 \\otimes I)\\cdot CZ \\cdot (H \\otimes I)\\\\\n",
    "S' &\\coloneqq H^2 \\cdot S \\cdot H^2\\\\\n",
    "R_{25}: CX_{10}\\cdot CZ &= \\omega \\cdot (I \\otimes Z^2 S^2)\\cdot CZ \\cdot CX_{10}\\\\\n",
    "R_{25}^1: CX_{10}\\cdot CZ  &= \\omega \\cdot (I \\otimes S S')\\cdot CZ \\cdot CX_{10}\n",
    "\\end{align*}\n",
    "$$"
   ]
  },
  {
   "cell_type": "code",
   "execution_count": 17,
   "id": "9fc29563",
   "metadata": {},
   "outputs": [
    {
     "name": "stdout",
     "output_type": "stream",
     "text": [
      "Exactly equal\n",
      "Exactly equal\n"
     ]
    },
    {
     "data": {
      "text/plain": [
       "True"
      ]
     },
     "execution_count": 17,
     "metadata": {},
     "output_type": "execute_result"
    }
   ],
   "source": [
    "w = findAllRoots(3)[0]\n",
    "wI = makeScalarId(9, w)\n",
    "CX = np.kron(H @ H @ H, I) @ CZ @ np.kron(H, I)\n",
    "Sprime = np.linalg.matrix_power(H, 2) @ S @ np.linalg.matrix_power(H, 2)\n",
    "\n",
    "# Relation 25\n",
    "LHS = CX @ CZ\n",
    "RHS = np.kron(I, Z @ Z @ S @ S) @ CZ @ CX @ wI\n",
    "equalUpToScalar(LHS, RHS)\n",
    "\n",
    "# Relation 25, variant 1\n",
    "LHS = CX @ CZ\n",
    "RHS = np.kron(I, S @ Sprime) @ CZ @ CX @ wI\n",
    "equalUpToScalar(LHS, RHS)\n"
   ]
  },
  {
   "cell_type": "markdown",
   "id": "aca27314",
   "metadata": {},
   "source": [
    "# Relations for two-qutrit Clifford operators: $R_{27}$\n",
    "$$\n",
    "\\begin{align*}\n",
    "CX_{10} &\\coloneqq (H^3 \\otimes I)\\cdot CZ \\cdot (H \\otimes I)\\\\\n",
    "CX_{01} &\\coloneqq (I \\otimes H^3)\\cdot CZ \\cdot (I \\otimes H)\\\\\n",
    "S' &\\coloneqq H^2 \\cdot S \\cdot H^2\\\\\n",
    "SWAP &\\coloneqq CZ \\cdot (H \\otimes H) \\cdot CZ \\cdot (H \\otimes H) \\cdot CZ \\cdot (H \\otimes H)\\\\\n",
    "R_{27}&: (H \\otimes I)\\cdot CZ = \\omega \\cdot (I \\otimes ZS^2H^3)\\cdot CZ^2 \\cdot (S \\otimes HS^2) \\cdot CX_{10} \\cdot SWAP \\cdot CZ \\cdot (H \\otimes H^2)\\\\\n",
    "R_{27}^1&: (H \\otimes I)\\cdot CZ^2 = \\omega \\cdot (I \\otimes S^2H)\\cdot CZ^2 \\cdot (S \\otimes HS^2) \\cdot CX_{10} \\cdot SWAP \\cdot CZ \\cdot (H \\otimes I)\\\\\n",
    "R_{27}^2&: (H \\otimes I)\\cdot CZ = \\omega \\cdot (I \\otimes ZS^2)\\cdot CX_{01}^2 \\cdot (S \\otimes S^2) \\cdot CX_{10} \\cdot SWAP \\cdot CZ \\cdot (H \\otimes H^2)\n",
    "\\end{align*}\n",
    "$$"
   ]
  },
  {
   "cell_type": "code",
   "execution_count": 18,
   "id": "e70dadc0",
   "metadata": {},
   "outputs": [
    {
     "name": "stdout",
     "output_type": "stream",
     "text": [
      "Exactly equal\n",
      "Exactly equal\n",
      "Exactly equal\n"
     ]
    },
    {
     "data": {
      "text/plain": [
       "True"
      ]
     },
     "execution_count": 18,
     "metadata": {},
     "output_type": "execute_result"
    }
   ],
   "source": [
    "w = findAllRoots(3)[0]\n",
    "wI = makeScalarId(9, w)\n",
    "CX10 = np.kron(H @ H @ H, I) @ CZ @ np.kron(H, I)\n",
    "CX01 = np.kron(I, H @ H @ H) @ CZ @ np.kron(I, H)\n",
    "Sprime = np.linalg.matrix_power(H, 2) @ S @ np.linalg.matrix_power(H, 2)\n",
    "SWAP = CZ @ np.kron(H, H) @ CZ @ np.kron(H, H) @ CZ @ np.kron(H, H)\n",
    "I = np.identity(3)\n",
    "\n",
    "# Relation 27\n",
    "LHS = np.kron(H, I) @ CZ\n",
    "RHS = np.kron(I, Z @ S @ S @ H @ H @ H) @ CZ @ CZ @ np.kron(S, H @ S @ S) @ CX10 @ SWAP @ CZ @ np.kron(H, H @ H) @ wI\n",
    "equalUpToScalar(LHS, RHS)\n",
    "\n",
    "# Relation 27, variant 1\n",
    "LHS = np.kron(H, I) @ CZ @ CZ\n",
    "RHS = np.kron(I, S @ S @ H) @ CZ @ CZ @ np.kron(S, H @ S @ S) @ CX10 @ SWAP @ CZ @ np.kron(H, I) @  wI\n",
    "equalUpToScalar(LHS, RHS)\n",
    "\n",
    "# Relation 27, variant 2\n",
    "LHS = np.kron(H, I) @ CZ\n",
    "RHS = np.kron(I, Z @ S @ S) @ CX01 @ CX01 @ np.kron(S, S @ S) @ CX10 @ SWAP @ CZ @ np.kron(H, H @ H) @  wI\n",
    "equalUpToScalar(LHS, RHS)"
   ]
  },
  {
   "cell_type": "markdown",
   "id": "7c96c140",
   "metadata": {},
   "source": [
    "# Relations for two-qutrit Clifford operators: $R_{28}$\n",
    "$$\n",
    "\\begin{align*}\n",
    "CX_{10} &\\coloneqq (H^3 \\otimes I)\\cdot CZ \\cdot (H \\otimes I)\\\\\n",
    "CX_{01} &\\coloneqq (I \\otimes H^3)\\cdot CZ \\cdot (I \\otimes H)\\\\\n",
    "S' &\\coloneqq H^2 \\cdot S \\cdot H^2\\\\\n",
    "SWAP &\\coloneqq CZ \\cdot (H \\otimes H) \\cdot CZ \\cdot (H \\otimes H) \\cdot CZ \\cdot (H \\otimes H)\\\\\n",
    "R_{28}&: CZ^2 \\cdot (H \\otimes I)\\cdot CZ = \\omega \\cdot (HSH^3 \\otimes ZS^2)\\cdot CZ^2 \\cdot (HS^2 \\otimes I)\\\\\n",
    "R_{28}^1 &: CZ^2 \\cdot (H \\otimes I)\\cdot CZ = \\omega \\cdot (HSH^3 \\otimes S'^2)\\cdot CZ^2 \\cdot (HS^2 \\otimes I)\\\\\n",
    "R_{28}^2 &: CZ^2 \\cdot (H \\otimes I)\\cdot CZ = \\omega \\cdot (HS \\otimes S'^2)\\cdot  CX_{10}^2 \\cdot (S^2 \\otimes I)\n",
    "\\end{align*}\n",
    "$$"
   ]
  },
  {
   "cell_type": "code",
   "execution_count": 19,
   "id": "bf4a6373",
   "metadata": {},
   "outputs": [
    {
     "name": "stdout",
     "output_type": "stream",
     "text": [
      "Exactly equal\n",
      "Exactly equal\n",
      "Exactly equal\n"
     ]
    },
    {
     "data": {
      "text/plain": [
       "True"
      ]
     },
     "execution_count": 19,
     "metadata": {},
     "output_type": "execute_result"
    }
   ],
   "source": [
    "w = findAllRoots(3)[0]\n",
    "wI = makeScalarId(9, w)\n",
    "CX10 = np.kron(H @ H @ H, I) @ CZ @ np.kron(H, I)\n",
    "CX01 = np.kron(I, H @ H @ H) @ CZ @ np.kron(I, H)\n",
    "Sprime = np.linalg.matrix_power(H, 2) @ S @ np.linalg.matrix_power(H, 2)\n",
    "SWAP = CZ @ np.kron(H, H) @ CZ @ np.kron(H, H) @ CZ @ np.kron(H, H)\n",
    "I = np.identity(3)\n",
    "\n",
    "# Relation 28\n",
    "LHS = CZ @ CZ @ np.kron(H, I) @ CZ\n",
    "RHS = np.kron(H @ S @ H @ H @ H, Z @ S @ S) @ CZ @ CZ @ np.kron(H @ S @ S, I) @ wI\n",
    "equalUpToScalar(LHS, RHS)\n",
    "\n",
    "# Relation 28, variant 1\n",
    "LHS = CZ @ CZ @ np.kron(H, I) @ CZ\n",
    "RHS = np.kron(H @ S @ H @ H @ H, Sprime @ Sprime) @ CZ @ CZ @ np.kron(H @ S @ S, I) @ wI\n",
    "equalUpToScalar(LHS, RHS)\n",
    "\n",
    "# Relation 28, variant 2\n",
    "LHS = CZ @ CZ @ np.kron(H, I) @ CZ\n",
    "RHS = np.kron(H @ S, Sprime @ Sprime) @ CX10 @ CX10 @ np.kron(S @ S, I) @ wI\n",
    "equalUpToScalar(LHS, RHS)"
   ]
  },
  {
   "cell_type": "markdown",
   "id": "691cb229",
   "metadata": {},
   "source": [
    "# Relations for two-qutrit Clifford operators: $R_{29}$\n",
    "$$\n",
    "\\begin{align*}\n",
    "CX_{10} &\\coloneqq (H^3 \\otimes I)\\cdot CZ \\cdot (H \\otimes I)\\\\\n",
    "CX_{01} &\\coloneqq (I \\otimes H^3)\\cdot CZ \\cdot (I \\otimes H)\\\\\n",
    "S' &\\coloneqq H^2 \\cdot S \\cdot H^2\\\\\n",
    "SWAP &\\coloneqq CZ \\cdot (H \\otimes H) \\cdot CZ \\cdot (H \\otimes H) \\cdot CZ \\cdot (H \\otimes H)\\\\\n",
    "R_{29}&: CX_{10}\\cdot CZ \\cdot SWAP \\cdot (H \\otimes I)\\cdot CZ = \\omega^2 \\cdot (I \\otimes SH)\\cdot CZ^2 \\cdot (S^2H \\otimes HS)\n",
    "\\end{align*}\n",
    "$$"
   ]
  },
  {
   "cell_type": "code",
   "execution_count": 20,
   "id": "fd664a73",
   "metadata": {},
   "outputs": [
    {
     "name": "stdout",
     "output_type": "stream",
     "text": [
      "Exactly equal\n"
     ]
    },
    {
     "data": {
      "text/plain": [
       "True"
      ]
     },
     "execution_count": 20,
     "metadata": {},
     "output_type": "execute_result"
    }
   ],
   "source": [
    "w = findAllRoots(3)[0]\n",
    "wI = makeScalarId(9, w)\n",
    "\n",
    "w2 = findAllRoots(3)[1]\n",
    "w2I = makeScalarId(9, w2)\n",
    "\n",
    "CX10 = np.kron(H @ H @ H, I) @ CZ @ np.kron(H, I)\n",
    "CX01 = np.kron(I, H @ H @ H) @ CZ @ np.kron(I, H)\n",
    "Sprime = np.linalg.matrix_power(H, 2) @ S @ np.linalg.matrix_power(H, 2)\n",
    "SWAP = CZ @ np.kron(H, H) @ CZ @ np.kron(H, H) @ CZ @ np.kron(H, H)\n",
    "I = np.identity(3)\n",
    "\n",
    "# Relation 29\n",
    "LHS = CX10 @ CZ @ SWAP @ np.kron(H, I) @ CZ\n",
    "RHS = np.kron(I, S @ H) @ CZ @ CZ @ np.kron(S @ S @ H, H @ S) @ w2I\n",
    "equalUpToScalar(LHS, RHS)"
   ]
  },
  {
   "cell_type": "markdown",
   "id": "5614531c",
   "metadata": {},
   "source": [
    "# Relations for two-qutrit Clifford operators: $R_{30}$\n",
    "$$\n",
    "\\begin{align*}\n",
    "CX_{10} &\\coloneqq (H^3 \\otimes I)\\cdot CZ \\cdot (H \\otimes I)\\\\\n",
    "CX_{01} &\\coloneqq (I \\otimes H^3)\\cdot CZ \\cdot (I \\otimes H)\\\\\n",
    "S' &\\coloneqq H^2 \\cdot S \\cdot H^2\\\\\n",
    "SWAP &\\coloneqq CZ \\cdot (H \\otimes H) \\cdot CZ \\cdot (H \\otimes H) \\cdot CZ \\cdot (H \\otimes H)\\\\\n",
    "R_{30}&: CX_{10}\\cdot CZ \\cdot SWAP \\cdot (H \\otimes I)\\cdot CZ^2 \\\\\n",
    "&=(I \\otimes ZS)\\cdot CX_{01}^2 \\cdot (I \\otimes SH^2S) \\cdot CX_{10} \\cdot CZ \\cdot SWAP \\cdot (H \\otimes H^2)\\\\\n",
    "R_{30}^1&: (H^3 \\otimes I)\\cdot CZ \\cdot (H \\otimes I)\\cdot CZ \\cdot SWAP \\cdot (H \\otimes I)\\cdot CZ^2 \\\\\n",
    "&=(I \\otimes ZSH^3)\\cdot CZ^2 \\cdot (H^3 \\otimes HSH^2S) \\cdot CZ \\cdot (H \\otimes I)\\cdot SWAP \\cdot CZ \\cdot (H \\otimes H^2)\\\\\n",
    "\\end{align*}\n",
    "$$"
   ]
  },
  {
   "cell_type": "code",
   "execution_count": 21,
   "id": "d2b62bd2",
   "metadata": {},
   "outputs": [
    {
     "name": "stdout",
     "output_type": "stream",
     "text": [
      "Exactly equal\n",
      "Exactly equal\n"
     ]
    },
    {
     "data": {
      "text/plain": [
       "True"
      ]
     },
     "execution_count": 21,
     "metadata": {},
     "output_type": "execute_result"
    }
   ],
   "source": [
    "w = findAllRoots(3)[0]\n",
    "wI = makeScalarId(9, w)\n",
    "\n",
    "w2 = findAllRoots(3)[1]\n",
    "w2I = makeScalarId(9, w2)\n",
    "\n",
    "CX10 = np.kron(H @ H @ H, I) @ CZ @ np.kron(H, I)\n",
    "CX01 = np.kron(I, H @ H @ H) @ CZ @ np.kron(I, H)\n",
    "Sprime = np.linalg.matrix_power(H, 2) @ S @ np.linalg.matrix_power(H, 2)\n",
    "SWAP = CZ @ np.kron(H, H) @ CZ @ np.kron(H, H) @ CZ @ np.kron(H, H)\n",
    "I = np.identity(3)\n",
    "\n",
    "# Relation 30\n",
    "LHS = CX10 @ CZ @ SWAP @ np.kron(H, I) @ CZ @ CZ\n",
    "RHS = np.kron(I, Z @ S) @ CX01 @ CX01 @ np.kron(I, S @ H @ H @ S) @ CX10 @ CZ @ SWAP @ np.kron(H, H @ H)\n",
    "equalUpToScalar(LHS, RHS)\n",
    "\n",
    "# Relation 30, variant 1\n",
    "LHS = np.kron(H @ H @ H, I) @ CZ @ np.kron(H, I) @ CZ @ SWAP @ np.kron(H, I) @ CZ @ CZ\n",
    "RHS = np.kron(I, Z @ S @ H @ H @ H) @ CZ @ CZ @ np.kron(H @ H @ H, H @ S @ H @ H @ S) @ CZ @ np.kron(H, I) @ SWAP @ CZ @ np.kron(H, H @ H)\n",
    "\n",
    "equalUpToScalar(LHS, RHS)"
   ]
  },
  {
   "cell_type": "code",
   "execution_count": 22,
   "id": "c165acc0",
   "metadata": {},
   "outputs": [
    {
     "name": "stdout",
     "output_type": "stream",
     "text": [
      "Exactly equal\n"
     ]
    },
    {
     "data": {
      "text/plain": [
       "True"
      ]
     },
     "execution_count": 22,
     "metadata": {},
     "output_type": "execute_result"
    }
   ],
   "source": [
    "w = findAllRoots(3)[0]\n",
    "wI = makeScalarId(9, w)\n",
    "\n",
    "w2 = findAllRoots(3)[1]\n",
    "w2I = makeScalarId(9, w2)\n",
    "\n",
    "CX10 = np.kron(H @ H @ H, I) @ CZ @ np.kron(H, I)\n",
    "CX01 = np.kron(I, H @ H @ H) @ CZ @ np.kron(I, H)\n",
    "Sprime = np.linalg.matrix_power(H, 2) @ S @ np.linalg.matrix_power(H, 2)\n",
    "SWAP = CZ @ np.kron(H, H) @ CZ @ np.kron(H, H) @ CZ @ np.kron(H, H)\n",
    "I = np.identity(3)\n",
    "\n",
    "LHS = CX10 @ np.kron(I, H @ H) @ CX10 @ CX10\n",
    "RHS = np.kron(I, H @ H) @ CX10\n",
    "equalUpToScalar(LHS, RHS)"
   ]
  },
  {
   "cell_type": "code",
   "execution_count": 23,
   "id": "476e80e3",
   "metadata": {},
   "outputs": [
    {
     "name": "stdout",
     "output_type": "stream",
     "text": [
      "Exactly equal\n"
     ]
    },
    {
     "data": {
      "text/plain": [
       "True"
      ]
     },
     "execution_count": 23,
     "metadata": {},
     "output_type": "execute_result"
    }
   ],
   "source": [
    "w = findAllRoots(3)[0]\n",
    "wI = makeScalarId(9, w)\n",
    "\n",
    "w2 = findAllRoots(3)[1]\n",
    "w2I = makeScalarId(9, w2)\n",
    "\n",
    "CX10 = np.kron(H @ H @ H, I) @ CZ @ np.kron(H, I)\n",
    "CX01 = np.kron(I, H @ H @ H) @ CZ @ np.kron(I, H)\n",
    "Sprime = np.linalg.matrix_power(H, 2) @ S @ np.linalg.matrix_power(H, 2)\n",
    "SWAP = CZ @ np.kron(H, H) @ CZ @ np.kron(H, H) @ CZ @ np.kron(H, H)\n",
    "I = np.identity(3)\n",
    "\n",
    " # Relation 34\n",
    "LHS = CX10 @ CZ @ np.kron(H, H) @ CZ\n",
    "RHS = (-1) * w2I @ np.kron(X @ X @ S, Z @ Z @ S @ H @ S @ S @ H) @ CZ @ CZ @ np.kron(I, H @ S) @ CX10 @ CZ @ np.kron(H @ S @ S, H @ S @ S)\n",
    "equalUpToScalar(LHS, RHS)"
   ]
  },
  {
   "cell_type": "code",
   "execution_count": 24,
   "id": "61882775",
   "metadata": {},
   "outputs": [
    {
     "name": "stdout",
     "output_type": "stream",
     "text": [
      "Exactly equal\n"
     ]
    },
    {
     "data": {
      "text/plain": [
       "True"
      ]
     },
     "execution_count": 24,
     "metadata": {},
     "output_type": "execute_result"
    }
   ],
   "source": [
    "w = findAllRoots(3)[0]\n",
    "wI = makeScalarId(9, w)\n",
    "\n",
    "w2 = findAllRoots(3)[1]\n",
    "w2I = makeScalarId(9, w2)\n",
    "\n",
    "CX10 = np.kron(H @ H @ H, I) @ CZ @ np.kron(H, I)\n",
    "CX01 = np.kron(I, H @ H @ H) @ CZ @ np.kron(I, H)\n",
    "Sprime = np.linalg.matrix_power(H, 2) @ S @ np.linalg.matrix_power(H, 2)\n",
    "SWAP = CZ @ np.kron(H, H) @ CZ @ np.kron(H, H) @ CZ @ np.kron(H, H)\n",
    "I = np.identity(3)\n",
    "\n",
    " # Relation 35\n",
    "LHS = CX10 @ CZ @ np.kron(H, H) @ CZ @ CZ\n",
    "RHS = wI @ np.kron(I, Z @ Z @ S @ S @ H @ S @ S) @ CZ @ CZ @ np.kron(S @ X @ S, H @ S @ H @ H) @ CX10 @ CZ @ np.kron(H @ S, H @ S)\n",
    "equalUpToScalar(LHS, RHS)"
   ]
  },
  {
   "cell_type": "code",
   "execution_count": 25,
   "id": "8dbdafe3",
   "metadata": {},
   "outputs": [
    {
     "name": "stdout",
     "output_type": "stream",
     "text": [
      "Exactly equal\n",
      "Exactly equal\n"
     ]
    },
    {
     "data": {
      "text/plain": [
       "True"
      ]
     },
     "execution_count": 25,
     "metadata": {},
     "output_type": "execute_result"
    }
   ],
   "source": [
    "w = findAllRoots(3)[0]\n",
    "wI = makeScalarId(9, w)\n",
    "\n",
    "w2 = findAllRoots(3)[1]\n",
    "w2I = makeScalarId(9, w2)\n",
    "\n",
    "CX10 = np.kron(H @ H @ H, I) @ CZ @ np.kron(H, I)\n",
    "CX01 = np.kron(I, H @ H @ H) @ CZ @ np.kron(I, H)\n",
    "Sprime = np.linalg.matrix_power(H, 2) @ S @ np.linalg.matrix_power(H, 2)\n",
    "SWAP = CZ @ np.kron(H, H) @ CZ @ np.kron(H, H) @ CZ @ np.kron(H, H)\n",
    "I = np.identity(3)\n",
    "\n",
    "LHS = np.kron(I, S @ H @ H @ S) @ CZ @ CZ @ CX10 @ CX10 @ CX01 @ CX01\n",
    "RHS = np.kron(H @ H, S @ H @ H @ S @ H @ H) @ CZ @ CZ @ CX01 @ CX10\n",
    "equalUpToScalar(LHS, RHS)\n",
    "\n",
    "LHS = CX10 @ CX10 @ CX01 @ CX01\n",
    "RHS = np.kron(H @ H, H @ H) @ CX01 @ CX10\n",
    "equalUpToScalar(LHS, RHS)"
   ]
  },
  {
   "cell_type": "code",
   "execution_count": 26,
   "id": "e9d18ed7",
   "metadata": {},
   "outputs": [
    {
     "name": "stdout",
     "output_type": "stream",
     "text": [
      "Exactly equal\n"
     ]
    },
    {
     "data": {
      "text/plain": [
       "True"
      ]
     },
     "execution_count": 26,
     "metadata": {},
     "output_type": "execute_result"
    }
   ],
   "source": [
    "w = findAllRoots(3)[0]\n",
    "wI = makeScalarId(9, w)\n",
    "\n",
    "w2 = findAllRoots(3)[1]\n",
    "w2I = makeScalarId(9, w2)\n",
    "\n",
    "CX10 = np.kron(H @ H @ H, I) @ CZ @ np.kron(H, I)\n",
    "CX01 = np.kron(I, H @ H @ H) @ CZ @ np.kron(I, H)\n",
    "Sprime = np.linalg.matrix_power(H, 2) @ S @ np.linalg.matrix_power(H, 2)\n",
    "SWAP = CZ @ np.kron(H, H) @ CZ @ np.kron(H, H) @ CZ @ np.kron(H, H)\n",
    "I = np.identity(3)\n",
    "\n",
    "LHS = np.identity(9)\n",
    "S2 = S @ S\n",
    "H2 = H @ H\n",
    "H3 = H @ H @ H\n",
    "top = S @ H @ S2 @ H2 @ S @ H3 @ S2 @ H3 @ S @ H2 @ S2 @ H\n",
    "bottom = H @ S @ H2 @ S @ H3 @ S @ H2 @ S @ H3 @ Sprime @ S\n",
    "RHS = np.kron(top, bottom) * (-1)\n",
    "equalUpToScalar(LHS, RHS)\n",
    "# LHS = CZ @ np.kron(H, I)\n",
    "# top = S @ H @ S @ S @ H @ H @ S @ H @ Sprime @ Sprime\n",
    "# bottom = H @ S @ H @ H @ S @ H @ H @ H @ S @ H @ H @ S @ H @ H @ H\n",
    "# RHS = (-1) * np.kron(top, bottom) @ CZ @ np.kron(H @ S @ Sprime @ Sprime, S @ S)\n",
    "# equalUpToScalar(LHS, RHS)\n",
    "# LHS = CX10 @ CZ @ np.kron(H, H) @ CZ @ CZ\n",
    "# top = S @ H @ S @ S @ H @ H @ S @ H @ Sprime @ Sprime\n",
    "# bottom = S @ Sprime @ H @ S @ H @ H @ S @ H @ H @ H @ S @ H @ H @ S @ H @ H @ H\n",
    "# RHS5 = (-1) * wI @ np.kron(top, bottom) @ CZ @ np.kron(H @ S @ Sprime @ Sprime, S @ S @ H) @ CX01 @ CX01 @ CZ @ CZ\n",
    "# top = S @ H @ S @ S @ H @ H @ S @ H @ Sprime @ Sprime\n",
    "# bottom = S @ Sprime @ H @ S @ H @ H @ S @ H @ H @ H @ S @ H @ H @ S\n",
    "# RHS4 = wI @ np.kron(top, bottom) @ CX01 @ np.kron(H, H @ H) @ CZ @ np.kron(S, H @ H @ Sprime @ H @ S)\n",
    "# top = S @ H @ S @ S @ H @ H @ S @ H @ Sprime @ Sprime\n",
    "# bottom = S @ Sprime @ H @ S @ H @ H @ S @ H @ H @ H @ S @ H @ H @ S\n",
    "# RHS3 = wI @ np.kron(top, bottom) @ CX01 @ CX10 @ np.kron(H @ S, Sprime @ H @ S)\n",
    "# RHS2 = w2I @ np.kron(S @ H @ S @ S @ H @ H @ S @ H @ S, \n",
    "#                      S @ Sprime @ H @ S @ H @ H @ S @ H @ H @ H @ S @ H @ H) @ CZ @ CX01 @ CX10 @ np.kron(S @ H @ S, S @ H @ S)\n",
    "# RHS1 = wI @ np.kron(S @ H @ S @ S @ H @ H @ S @ H @ S, \n",
    "#                     S @ Sprime @ H @ S @ Sprime) @ CZ @ CZ @ np.kron(I, H @ S @ H @ H) @ CX10 @ CZ @ np.kron(H @ S, H @ S)\n",
    "# RHS = np.kron(S @ H @ S @ S @ H @ H @ S @ H @ Sprime @ Sprime @ S, S @ Sprime @ H @ S @ H @ H @ S @ H @ H @ H @ S @ S @ Sprime @ H @ H) @ CX01 @ CX10 @ np.kron(H @ S, H @ S)\n",
    "# RHS = wI @ np.kron(I, Z @ Z @ S @ S @ H @ S @ S) @ CZ @ CZ @ np.kron(S @ X @ S, H @ S @ H @ H) @ CX10 @ CZ @ np.kron(H @ S, H @ S)\n",
    "# equalUpToScalar(LHS, RHS4)\n",
    "\n",
    "# equalUpToScalar(LHS, RHS)"
   ]
  },
  {
   "cell_type": "code",
   "execution_count": 27,
   "id": "1c26e1cd",
   "metadata": {},
   "outputs": [
    {
     "name": "stdout",
     "output_type": "stream",
     "text": [
      "Exactly equal\n"
     ]
    },
    {
     "data": {
      "text/plain": [
       "True"
      ]
     },
     "execution_count": 27,
     "metadata": {},
     "output_type": "execute_result"
    }
   ],
   "source": [
    "w = findAllRoots(3)[0]\n",
    "wI = makeScalarId(9, w)\n",
    "\n",
    "w2 = findAllRoots(3)[1]\n",
    "w2I = makeScalarId(9, w2)\n",
    "\n",
    "CX10 = np.kron(H @ H @ H, I) @ CZ @ np.kron(H, I)\n",
    "CX01 = np.kron(I, H @ H @ H) @ CZ @ np.kron(I, H)\n",
    "Sprime = np.linalg.matrix_power(H, 2) @ S @ np.linalg.matrix_power(H, 2)\n",
    "SWAP = CZ @ np.kron(H, H) @ CZ @ np.kron(H, H) @ CZ @ np.kron(H, H)\n",
    "I = np.identity(3)\n",
    "\n",
    "LHS = np.kron(Sprime, S) @ CX01 @ np.kron(H, S @ S) @ CZ @ np.kron(H @ H @ S, H @ S @ S) @ CX10\n",
    "RHS = np.kron(H, H) @ CZ @ np.kron(H @ S, H)\n",
    "equalUpToScalar(LHS, RHS)\n",
    "\n",
    "# LHS = wI @ CZ @ np.kron(H, H) @ CZ @ np.kron(H @ H @ S, H @ S @ S) @ CX10\n",
    "# RHS = np.kron(I, H) @ CZ @ np.kron(H, H) @ CZ @ np.kron(H @ S, H)\n",
    "# equalUpToScalar(LHS, RHS)"
   ]
  },
  {
   "cell_type": "code",
   "execution_count": 28,
   "id": "7949ffc1",
   "metadata": {},
   "outputs": [
    {
     "name": "stdout",
     "output_type": "stream",
     "text": [
      "Not equal\n"
     ]
    },
    {
     "data": {
      "text/plain": [
       "False"
      ]
     },
     "execution_count": 28,
     "metadata": {},
     "output_type": "execute_result"
    }
   ],
   "source": [
    "w = findAllRoots(3)[0]\n",
    "wI = makeScalarId(9, w)\n",
    "\n",
    "w2 = findAllRoots(3)[1]\n",
    "w2I = makeScalarId(9, w2)\n",
    "\n",
    "CX10 = np.kron(H @ H @ H, I) @ CZ @ np.kron(H, I)\n",
    "CX01 = np.kron(I, H @ H @ H) @ CZ @ np.kron(I, H)\n",
    "Sprime = np.linalg.matrix_power(H, 2) @ S @ np.linalg.matrix_power(H, 2)\n",
    "SWAP = CZ @ np.kron(H, H) @ CZ @ np.kron(H, H) @ CZ @ np.kron(H, H)\n",
    "I = np.identity(3)\n",
    "\n",
    "LHS = CX10 @ CX10 @ np.kron(H @ H, I)\n",
    "RHS = SWAP\n",
    "equalUpToScalar(LHS, RHS)"
   ]
  },
  {
   "cell_type": "code",
   "execution_count": 225,
   "id": "8a92c438",
   "metadata": {},
   "outputs": [
    {
     "name": "stdout",
     "output_type": "stream",
     "text": [
      "Exactly equal\n",
      "Not equal\n"
     ]
    },
    {
     "data": {
      "text/plain": [
       "False"
      ]
     },
     "execution_count": 225,
     "metadata": {},
     "output_type": "execute_result"
    }
   ],
   "source": [
    "\n",
    "\n",
    "w = findAllRoots(3)[0]\n",
    "wI = makeScalarId(9, w)\n",
    "\n",
    "w2 = findAllRoots(3)[1]\n",
    "w2I = makeScalarId(9, w2)\n",
    "\n",
    "CX10 = np.kron(H @ H @ H, I) @ CZ @ np.kron(H, I)\n",
    "CX01 = np.kron(I, H @ H @ H) @ CZ @ np.kron(I, H)\n",
    "Sprime = np.linalg.matrix_power(H, 2) @ S @ np.linalg.matrix_power(H, 2)\n",
    "SWAP = CZ @ np.kron(H, H) @ CZ @ np.kron(H, H) @ CZ @ np.kron(H, H)\n",
    "I = np.identity(3)\n",
    "\n",
    "LHS = np.kron(I, S @ Sprime) @ wI\n",
    "RHS = CX10 @ np.kron(S, I) @ CX10 @ np.kron(S, I) @ CX10 @ np.kron(S, I)\n",
    "equalUpToScalar(LHS, RHS)\n",
    "\n",
    "\n",
    "LHS = np.kron(S, S @ S) @ CX10 @ CZ @ wI\n",
    "RHS = CX10\n",
    "equalUpToScalar(LHS, RHS)"
   ]
  },
  {
   "cell_type": "code",
   "execution_count": 29,
   "id": "6d1ea97a-64d0-43d8-96be-b63b7b92e225",
   "metadata": {},
   "outputs": [],
   "source": [
    "def testScalar():\n",
    "    # The third root of unity\n",
    "    thirdRootOfUnity = findAllRoots(3)\n",
    "    w = thirdRootOfUnity[0]\n",
    "    w_squared = thirdRootOfUnity[1]\n",
    "\n",
    "    print(\"w = \", w)\n",
    "    print(\"The order of w is \",findOrderScalar(w, 1))\n",
    "    print(\"w^2 = \", w_squared)\n",
    "    print(\"The order of w^2 is \",findOrderScalar(w_squared, 1))\n",
    "    print(\"\\n\")"
   ]
  },
  {
   "cell_type": "code",
   "execution_count": 30,
   "id": "32a7eadb",
   "metadata": {},
   "outputs": [
    {
     "name": "stdout",
     "output_type": "stream",
     "text": [
      "w =  (-0.49999999999999983+0.8660254037844387j)\n",
      "The order of w is  3\n",
      "w^2 =  (-0.5000000000000002-0.8660254037844384j)\n",
      "The order of w^2 is  3\n",
      "\n",
      "\n"
     ]
    }
   ],
   "source": [
    "testScalar()"
   ]
  },
  {
   "cell_type": "code",
   "execution_count": 31,
   "id": "d206fa8d",
   "metadata": {},
   "outputs": [
    {
     "name": "stdout",
     "output_type": "stream",
     "text": [
      "Not equal\n"
     ]
    },
    {
     "data": {
      "text/plain": [
       "False"
      ]
     },
     "execution_count": 31,
     "metadata": {},
     "output_type": "execute_result"
    }
   ],
   "source": [
    "w = findAllRoots(3)[0]\n",
    "wI = makeScalarId(3, w)\n",
    "I = np.identity(3)\n",
    "\n",
    "newS = H.conj().T @ S @ H\n",
    "LHS = S @ newS\n",
    "RHS = newS @ S\n",
    "equalUpToScalar(LHS, RHS)\n",
    "\n",
    "# newH = H @ H\n",
    "\n",
    "# mid = newH @ newH @ newS @ newH @ newH\n",
    "# LHS = newS @ mid\n",
    "# RHS = mid @ newS\n",
    "\n",
    "# LHS = np.linalg.matrix_power(newH @ newS @ newS, 3)\n",
    "# RHS = (-1) * wI\n",
    "# equalUpToScalar(LHS, RHS)\n",
    "\n",
    "\n"
   ]
  },
  {
   "cell_type": "code",
   "execution_count": 32,
   "id": "ab7a4434",
   "metadata": {},
   "outputs": [
    {
     "name": "stdout",
     "output_type": "stream",
     "text": [
      "w (-0.49999999999999983+0.8660254037844387j)\n",
      "w2 (-0.5000000000000002-0.8660254037844384j)\n",
      "S'S [[-5.00000e-01-8.66025e-01j -2.17916e-17-9.92914e-17j\n",
      "  -1.73451e-16-9.67400e-17j]\n",
      " [-2.10550e-17-1.00567e-16j -5.00000e-01+8.66025e-01j\n",
      "  -3.31999e-17+1.88002e-16j]\n",
      " [ 1.71241e-16-1.00567e-16j -1.46215e-16-1.22753e-16j\n",
      "  -5.00000e-01+8.66025e-01j]]\n",
      "Not equal\n",
      "SS' [[-5.00000e-01-8.66025e-01j -2.17916e-17-9.92914e-17j\n",
      "   1.70505e-16-1.01843e-16j]\n",
      " [-2.10550e-17-1.00567e-16j -5.00000e-01+8.66025e-01j\n",
      "  -1.46215e-16-1.22753e-16j]\n",
      " [-1.72714e-16-9.80157e-17j -3.31999e-17+1.88002e-16j\n",
      "  -5.00000e-01+8.66025e-01j]]\n",
      "Not equal\n",
      "Exactly equal\n",
      "Exactly equal\n"
     ]
    },
    {
     "data": {
      "text/plain": [
       "True"
      ]
     },
     "execution_count": 32,
     "metadata": {},
     "output_type": "execute_result"
    }
   ],
   "source": [
    "w = findAllRoots(3)[0]\n",
    "wI = makeScalarId(3, w)\n",
    "w2 = findAllRoots(3)[1]\n",
    "w2I = makeScalarId(3, w2)\n",
    "id1 = np.identity(3)\n",
    "\n",
    "# LHS = (-1) * w2I\n",
    "# S_prime = np.linalg.matrix_power(H, 2) @ S @ np.linalg.matrix_power(H, 2) \n",
    "# RHS = np.linalg.matrix_power(H, 3) @ Z @ H @ np.linalg.matrix_power(S_prime, 2) \n",
    "# equalUpToScalar(LHS, RHS)\n",
    "\n",
    "# I = np.identity(3)\n",
    "\n",
    "print(\"w\", w)\n",
    "print(\"w2\", w2)\n",
    "\n",
    "\n",
    "# LHS = I\n",
    "# med = np.linalg.matrix_power(S, 2) @ np.linalg.matrix_power(H, 3)\n",
    "# RHS = np.linalg.matrix_power(med, 6)\n",
    "\n",
    "# print(RHS)\n",
    "# equalUpToScalar(LHS, RHS)\n",
    "\n",
    "LHS = (-1) * wI\n",
    "S_prime = np.linalg.matrix_power(H, 2) @ S @ np.linalg.matrix_power(H, 2) \n",
    "RHS = S_prime @ S\n",
    "print(\"S'S\", RHS)\n",
    "equalUpToScalar(LHS, RHS)\n",
    "RHS = S @ S_prime\n",
    "print(\"SS'\", RHS)\n",
    "equalUpToScalar(LHS, RHS)\n",
    "\n",
    "LHS = np.diag([w2, w, w])\n",
    "equalUpToScalar(LHS, RHS)\n",
    "\n",
    "RHS = S\n",
    "LHS = S_prime @ Z\n",
    "equalUpToScalar(LHS, RHS)\n",
    "\n",
    "# LHS = (-1) * I\n",
    "# med = np.linalg.matrix_power(S, 2) @ np.linalg.matrix_power(H, 3)\n",
    "# RHS = np.linalg.matrix_power(med, 3)\n",
    "\n",
    "# testLHS = np.array([[0, 0, w], [0, 1, 0], [w2, 0, 0]])\n",
    "\n",
    "# print(testLHS @ testLHS)\n",
    "\n",
    "# print(\"w\", w)\n",
    "# print(\"w2\", w2)\n",
    "# print(RHS)\n",
    "# equalUpToScalar(testLHS, RHS)\n"
   ]
  },
  {
   "cell_type": "markdown",
   "id": "652d0c8d",
   "metadata": {},
   "source": [
    "# Single-qutirt Reduced Relations\n"
   ]
  },
  {
   "cell_type": "code",
   "execution_count": 33,
   "id": "1f6088a4",
   "metadata": {},
   "outputs": [
    {
     "name": "stdout",
     "output_type": "stream",
     "text": [
      "Exactly equal\n",
      "Exactly equal\n"
     ]
    },
    {
     "data": {
      "text/plain": [
       "True"
      ]
     },
     "execution_count": 33,
     "metadata": {},
     "output_type": "execute_result"
    }
   ],
   "source": [
    "w = findAllRoots(3)[0]\n",
    "wI = makeScalarId(3, w)\n",
    "w2 = findAllRoots(3)[1]\n",
    "negwI = (-1) * wI\n",
    "w2I = makeScalarId(3, w2)\n",
    "\n",
    "# (HS^2)^3 = -wI   \n",
    "equalUpToScalar(np.linalg.matrix_power(H @ S @ S, 3), negwI) \n",
    "\n",
    "# S(H^2)S(H^2) = (H^2)S(H^2)S\n",
    "H2 = np.linalg.matrix_power(H, 2)\n",
    "equalUpToScalar(S @ H2 @ S @ H2, H2 @ S @ H2 @ S)\n"
   ]
  },
  {
   "cell_type": "code",
   "execution_count": 34,
   "id": "3f2caf68-e7b5-4970-8b1d-5cfed386bde9",
   "metadata": {},
   "outputs": [],
   "source": [
    "def testGate(G):\n",
    "    print(np.matrix(G))\n",
    "    print(\"The order of the gate is \",findOrderUnitary(G))\n",
    "    print(\"\\n\")"
   ]
  },
  {
   "cell_type": "code",
   "execution_count": 35,
   "id": "db2308fc",
   "metadata": {},
   "outputs": [
    {
     "name": "stdout",
     "output_type": "stream",
     "text": [
      "[[-0.5+0.86603j  0. +0.j       0. +0.j     ]\n",
      " [ 0. +0.j      -0.5+0.86603j  0. +0.j     ]\n",
      " [ 0. +0.j       0. +0.j       1. +0.j     ]]\n",
      "The order of the gate is  3\n",
      "\n",
      "\n"
     ]
    }
   ],
   "source": [
    "testGate(S)"
   ]
  },
  {
   "cell_type": "code",
   "execution_count": 36,
   "id": "360bfa30-0f1d-408a-80f0-dc574532f3f7",
   "metadata": {},
   "outputs": [],
   "source": [
    "def testHGate():\n",
    "    thirdRootOfUnity = findAllRoots(3)\n",
    "    w = thirdRootOfUnity[0]\n",
    "    w_squared = thirdRootOfUnity[1]\n",
    "    scalar = 1/(w_squared - w)\n",
    "    \n",
    "    print(\"1/(w^2 - w) = \", scalar)\n",
    "    print(\"w/(w^2 - w) = \", w * scalar)\n",
    "    print(\"w^2/(w^2 - w) = \", w_squared * scalar)\n",
    "    print(\"\\n\")\n",
    "    print(np.matrix(H))\n",
    "    print(\"The order of the gate is \",findOrderUnitary(H))\n",
    "    print(\"\\n\")"
   ]
  },
  {
   "cell_type": "code",
   "execution_count": 37,
   "id": "17c65dda",
   "metadata": {},
   "outputs": [
    {
     "name": "stdout",
     "output_type": "stream",
     "text": [
      "1/(w^2 - w) =  (-1.2952601953960163e-16+0.5773502691896258j)\n",
      "w/(w^2 - w) =  (-0.5-0.2886751345948129j)\n",
      "w^2/(w^2 - w) =  (0.49999999999999994-0.2886751345948129j)\n",
      "\n",
      "\n",
      "[[-1.29526e-16+0.57735j -1.29526e-16+0.57735j -1.29526e-16+0.57735j]\n",
      " [-1.29526e-16+0.57735j -5.00000e-01-0.28868j  5.00000e-01-0.28868j]\n",
      " [-1.29526e-16+0.57735j  5.00000e-01-0.28868j -5.00000e-01-0.28868j]]\n",
      "The order of the gate is  4\n",
      "\n",
      "\n"
     ]
    }
   ],
   "source": [
    "testHGate()"
   ]
  },
  {
   "cell_type": "markdown",
   "id": "b3b9006c-aac0-4580-ab59-0e87fd946267",
   "metadata": {},
   "source": [
    "# Pauli anticommutation: X gate\n",
    "- $XZX^\\dagger = \\omega^2 Z \\iff XZ = \\omega^2 ZX$\n",
    "- $XXX^\\dagger = X$\n",
    "- $X^\\dagger Z X = \\omega Z \\iff ZX = \\omega XZ$\n",
    "- $X^\\dagger X X = X$"
   ]
  },
  {
   "cell_type": "code",
   "execution_count": 38,
   "id": "bb0337ed-d145-4041-80f5-bbbf588a96a3",
   "metadata": {},
   "outputs": [],
   "source": [
    "def PauliAnticommute_X():\n",
    "    thirdRootOfUnity = findAllRoots(3)\n",
    "    w = thirdRootOfUnity[0]\n",
    "    w_squared = thirdRootOfUnity[1]\n",
    "\n",
    "    # XZ(X*) = w^2 Z\n",
    "    LHS = X @ Z @ X.conj().T\n",
    "    RHS = w_squared * Z\n",
    "    equalUpToScalar(LHS, RHS)\n",
    "    \n",
    "    # XX(X*) = X\n",
    "    LHS = X @ X @ X.conj().T\n",
    "    RHS = X\n",
    "    equalUpToScalar(LHS, RHS)\n",
    "\n",
    "    # (X*)ZX = w Z\n",
    "    LHS = X.conj().T @ Z @ X\n",
    "    RHS = w * Z\n",
    "    equalUpToScalar(LHS, RHS)\n",
    "\n",
    "    # (X*)XX = X\n",
    "    LHS = X.conj().T @ X @ X\n",
    "    RHS = X\n",
    "    equalUpToScalar(LHS, RHS)"
   ]
  },
  {
   "cell_type": "code",
   "execution_count": 39,
   "id": "2150f29d-f0a5-47d4-9def-2bd0b766f864",
   "metadata": {},
   "outputs": [
    {
     "name": "stdout",
     "output_type": "stream",
     "text": [
      "Exactly equal\n",
      "Exactly equal\n",
      "Exactly equal\n",
      "Exactly equal\n"
     ]
    }
   ],
   "source": [
    "PauliAnticommute_X()"
   ]
  },
  {
   "cell_type": "markdown",
   "id": "125c530b",
   "metadata": {},
   "source": [
    "# Pauli anticommutation: Z gate\n",
    "- $ZXZ^\\dagger = \\omega X \\iff ZX = \\omega XZ$\n",
    "- $ZZZ^\\dagger = Z$\n",
    "- $Z^\\dagger X Z = \\omega^2 X \\iff XZ = \\omega^2 ZX$\n",
    "- $Z^\\dagger Z Z = Z$"
   ]
  },
  {
   "cell_type": "code",
   "execution_count": 40,
   "id": "269ca7d7",
   "metadata": {},
   "outputs": [],
   "source": [
    "def PauliAnticommute_Z():\n",
    "    thirdRootOfUnity = findAllRoots(3)\n",
    "    w = thirdRootOfUnity[0]\n",
    "    w_squared = thirdRootOfUnity[1]\n",
    "\n",
    "    # ZX(Z*) = w X\n",
    "    LHS = Z @ X @ Z.conj().T\n",
    "    RHS = w * X\n",
    "    equalUpToScalar(LHS, RHS)\n",
    "\n",
    "    # ZZ(Z*) = Z\n",
    "    LHS = Z @ Z @ Z.conj().T\n",
    "    RHS = Z\n",
    "    equalUpToScalar(LHS, RHS)\n",
    "\n",
    "    # (Z*)XZ = w^2 X\n",
    "    LHS = Z.conj().T @ X @ Z\n",
    "    RHS = w_squared * X\n",
    "    equalUpToScalar(LHS, RHS)\n",
    "\n",
    "    # (Z*)ZZ = Z\n",
    "    LHS = Z.conj().T @ Z @ Z\n",
    "    RHS = Z\n",
    "    equalUpToScalar(LHS, RHS)"
   ]
  },
  {
   "cell_type": "code",
   "execution_count": 41,
   "id": "d4bed2ce",
   "metadata": {},
   "outputs": [
    {
     "name": "stdout",
     "output_type": "stream",
     "text": [
      "Exactly equal\n",
      "Exactly equal\n",
      "Exactly equal\n",
      "Exactly equal\n"
     ]
    }
   ],
   "source": [
    "PauliAnticommute_Z()"
   ]
  },
  {
   "cell_type": "markdown",
   "id": "76214fb9-b19c-4635-922f-f0e4fce65d62",
   "metadata": {},
   "source": [
    "# The automorphism of a SWAP gate\n",
    "- $SWAP(X\\otimes I)SWAP^\\dagger = (I \\otimes X) \\iff SWAP(X\\otimes I) = (I \\otimes X)SWAP$\n",
    "- $SWAP(I\\otimes X)SWAP^\\dagger = (X \\otimes I) \\iff SWAP(I\\otimes X) = (X \\otimes I)SWAP$\n",
    "- $SWAP(Z\\otimes I)SWAP^\\dagger = (I \\otimes Z) \\iff SWAP(Z\\otimes I) = (I \\otimes Z)SWAP$\n",
    "- $SWAP(I\\otimes Z)SWAP^\\dagger = (Z \\otimes I) \\iff SWAP(I\\otimes Z) = (Z \\otimes I)SWAP$"
   ]
  },
  {
   "cell_type": "code",
   "execution_count": 42,
   "id": "88f9467f-ae05-4414-81d9-aa8eba941967",
   "metadata": {},
   "outputs": [],
   "source": [
    "def SWAP_Automorphism():\n",
    "    I = np.identity(3)\n",
    "\n",
    "    # SWAP(XxI)SWAP* = IxX\n",
    "    LHS = SWAP @ np.kron(X, I) @ SWAP.conj().T\n",
    "    RHS = np.kron(I, X)\n",
    "    equalUpToScalar(LHS, RHS)\n",
    "    \n",
    "    # SWAP(IxX)SWAP* = XxI\n",
    "    LHS = SWAP @ np.kron(I, X) @ SWAP.conj().T\n",
    "    RHS = np.kron(X, I)\n",
    "    equalUpToScalar(LHS, RHS)\n",
    "    \n",
    "    # SWAP(ZxI)SWAP* = IxZ\n",
    "    LHS = SWAP @ np.kron(Z, I) @ SWAP.conj().T\n",
    "    RHS = np.kron(I, Z)\n",
    "    equalUpToScalar(LHS, RHS)\n",
    "    \n",
    "    # SWAP(IxZ)SWAP* = ZxI\n",
    "    LHS = SWAP @ np.kron(I, Z) @ SWAP.conj().T\n",
    "    RHS = np.kron(Z, I)\n",
    "    equalUpToScalar(LHS, RHS)\n",
    "\n",
    "    # SWAP*(XxI)SWAP = IxX\n",
    "    LHS = SWAP.conj().T @ np.kron(X, I) @ SWAP\n",
    "    RHS = np.kron(I, X)\n",
    "    equalUpToScalar(LHS, RHS)\n",
    "\n",
    "    # SWAP*(IxX)SWAP = XxI\n",
    "    LHS = SWAP.conj().T @ np.kron(I, X) @ SWAP\n",
    "    RHS = np.kron(X, I)\n",
    "    equalUpToScalar(LHS, RHS)\n",
    "\n",
    "    # SWAP*(ZxI)SWAP = IxZ\n",
    "    LHS = SWAP.conj().T @ np.kron(Z, I) @ SWAP\n",
    "    RHS = np.kron(I, Z)\n",
    "    equalUpToScalar(LHS, RHS)\n",
    "\n",
    "    # SWAP*(IxZ)SWAP = ZxI\n",
    "    LHS = SWAP.conj().T @ np.kron(I, Z) @ SWAP\n",
    "    RHS = np.kron(Z, I)\n",
    "    equalUpToScalar(LHS, RHS)"
   ]
  },
  {
   "cell_type": "code",
   "execution_count": 43,
   "id": "a3d11c70-5ef0-4d1e-8f2a-8c27a53f1316",
   "metadata": {},
   "outputs": [
    {
     "name": "stdout",
     "output_type": "stream",
     "text": [
      "Exactly equal\n",
      "Exactly equal\n",
      "Exactly equal\n",
      "Exactly equal\n",
      "Exactly equal\n",
      "Exactly equal\n",
      "Exactly equal\n",
      "Exactly equal\n"
     ]
    }
   ],
   "source": [
    "SWAP_Automorphism()"
   ]
  },
  {
   "cell_type": "markdown",
   "id": "c88588dd-99df-4eba-ae97-ecea37d9bc5d",
   "metadata": {},
   "source": [
    "# The automorphism of a CZ gate\n",
    "- $CZ(X\\otimes I)CZ^\\dagger = (X \\otimes Z)$\n",
    "- $CZ(I\\otimes X)CZ^\\dagger = (Z \\otimes X)$\n",
    "- $CZ(Z\\otimes I)CZ^\\dagger = (Z \\otimes I)$\n",
    "- $CZ(I\\otimes Z)CZ^\\dagger = (I \\otimes Z)$\n",
    "- $CZ^\\dagger(X\\otimes I)CZ = (X \\otimes Z^2)$\n",
    "- $CZ^\\dagger(I\\otimes X)CZ = (Z^2 \\otimes X)$\n",
    "- $CZ^\\dagger(Z\\otimes I)CZ = (Z \\otimes I)$\n",
    "- $CZ^\\dagger(I\\otimes Z)CZ = (I \\otimes Z)$"
   ]
  },
  {
   "cell_type": "code",
   "execution_count": 44,
   "id": "49d86c9a-d4b0-4a65-af5e-f26cb13e9d6a",
   "metadata": {},
   "outputs": [],
   "source": [
    "def CZ_Automorphism():\n",
    "    I = np.identity(3)\n",
    "    # CZ(XxI)CZ* = XxZ\n",
    "    LHS = CZ @ np.kron(X, I) @ CZ.conj().T\n",
    "    RHS = np.kron(X, Z)\n",
    "    equalUpToScalar(LHS, RHS)\n",
    "    \n",
    "    # CZ(IxX)CZ* = ZxX\n",
    "    LHS = CZ @ np.kron(I, X) @ CZ.conj().T\n",
    "    RHS = np.kron(Z, X)\n",
    "    equalUpToScalar(LHS, RHS)\n",
    "    \n",
    "    # CZ(ZxI)CZ* = ZxI\n",
    "    LHS = CZ @ np.kron(Z, I) @ CZ.conj().T\n",
    "    RHS = np.kron(Z, I)\n",
    "    equalUpToScalar(LHS, RHS)\n",
    "    \n",
    "    # CZ(IxZ)CZ* = IxZ\n",
    "    LHS = CZ @ np.kron(I, Z) @ CZ.conj().T\n",
    "    RHS = np.kron(I, Z)\n",
    "    equalUpToScalar(LHS, RHS)\n",
    "\n",
    "    # CZ*(XxI)CZ = (X)x(Z^2)\n",
    "    LHS = CZ.conj().T @ np.kron(X, I) @ CZ\n",
    "    RHS = np.kron(X, np.linalg.matrix_power(Z, 2))\n",
    "    equalUpToScalar(LHS, RHS)\n",
    "    \n",
    "    # CZ*(IxX)CZ = (Z^2)x(X)\n",
    "    LHS = CZ.conj().T @ np.kron(I, X) @ CZ\n",
    "    RHS = np.kron(np.linalg.matrix_power(Z, 2), X)\n",
    "    equalUpToScalar(LHS, RHS)\n",
    "\n",
    "    # CZ*(ZxI)CZ = ZxI\n",
    "    LHS = CZ.conj().T @ np.kron(Z, I) @ CZ\n",
    "    RHS = np.kron(Z, I)\n",
    "    equalUpToScalar(LHS, RHS)\n",
    "    \n",
    "    # CZ*(IxZ)CZ = IxZ\n",
    "    LHS = CZ.conj().T @ np.kron(I, Z) @ CZ\n",
    "    RHS = np.kron(I, Z) \n",
    "    equalUpToScalar(LHS, RHS)\n",
    "    "
   ]
  },
  {
   "cell_type": "code",
   "execution_count": 45,
   "id": "f7877c84-a7e3-47a8-ac5a-bb7c821a858a",
   "metadata": {},
   "outputs": [
    {
     "name": "stdout",
     "output_type": "stream",
     "text": [
      "Exactly equal\n",
      "Exactly equal\n",
      "Exactly equal\n",
      "Exactly equal\n",
      "Exactly equal\n",
      "Exactly equal\n",
      "Exactly equal\n",
      "Exactly equal\n"
     ]
    }
   ],
   "source": [
    "CZ_Automorphism()"
   ]
  },
  {
   "cell_type": "markdown",
   "id": "d5929ceb-8a25-4146-9236-60cb49838139",
   "metadata": {},
   "source": [
    "# The automorphism of a Hadamard gate\n",
    "- $HXH^\\dagger = Z$\n",
    "- $HZH^\\dagger = X^2$\n",
    "- $H^\\dagger XH = Z^2$\n",
    "- $H^\\dagger ZH = X$"
   ]
  },
  {
   "cell_type": "code",
   "execution_count": 46,
   "id": "2e7939a9-5f5f-4a00-b08e-34442f001ebb",
   "metadata": {},
   "outputs": [],
   "source": [
    "def Hadamard_Automorphism():\n",
    "    # HXH* = Z\n",
    "    LHS = H @ X @ H.conj().T\n",
    "    RHS = Z\n",
    "    equalUpToScalar(LHS, RHS)\n",
    "    \n",
    "    # HZH* = X^2\n",
    "    LHS = H @ Z @ H.conj().T\n",
    "    RHS = X @ X\n",
    "    equalUpToScalar(LHS, RHS)\n",
    "\n",
    "    # H*XH = Z^2\n",
    "    LHS = H.conj().T @ X @ H\n",
    "    RHS = Z @ Z\n",
    "    equalUpToScalar(LHS, RHS)\n",
    "    \n",
    "    # H*ZH = X\n",
    "    LHS = H.conj().T @ Z @ H\n",
    "    RHS = X\n",
    "    equalUpToScalar(LHS, RHS)\n",
    "    "
   ]
  },
  {
   "cell_type": "code",
   "execution_count": 47,
   "id": "b3fccb81-7215-4d85-bbad-c6800fd644f4",
   "metadata": {},
   "outputs": [
    {
     "name": "stdout",
     "output_type": "stream",
     "text": [
      "Exactly equal\n",
      "Exactly equal\n",
      "Exactly equal\n",
      "Exactly equal\n"
     ]
    }
   ],
   "source": [
    "Hadamard_Automorphism()"
   ]
  },
  {
   "cell_type": "markdown",
   "id": "1472dcf9-860d-4566-b6b1-90cf9ceedfbe",
   "metadata": {},
   "source": [
    "# The automorphism of a Phase gate\n",
    "- $SXS^\\dagger = XZ^2$\n",
    "- $SZS^\\dagger = Z$\n",
    "- $S^\\dagger XS = XZ$\n",
    "- $S^\\dagger ZS = Z$"
   ]
  },
  {
   "cell_type": "code",
   "execution_count": 48,
   "id": "bce0096f-4cf1-4358-afb1-781a3f754efc",
   "metadata": {},
   "outputs": [],
   "source": [
    "def Phase_Automorphism():\n",
    "    # SXS* = XZ^2\n",
    "    LHS = S @ X @ S.conj().T\n",
    "    RHS = X @ np.linalg.matrix_power(Z, 2)\n",
    "    equalUpToScalar(LHS, RHS)\n",
    "    \n",
    "    # SZS* = Z\n",
    "    LHS = S @ Z @ S.conj().T\n",
    "    RHS = Z\n",
    "    equalUpToScalar(LHS, RHS)\n",
    "\n",
    "    # S*XS = XZ\n",
    "    LHS = S.conj().T @ X @ S\n",
    "    RHS = X @ Z\n",
    "    equalUpToScalar(LHS, RHS)\n",
    "    \n",
    "    # S*ZS = Z\n",
    "    LHS = S.conj().T @ Z @ S\n",
    "    RHS = Z\n",
    "    equalUpToScalar(LHS, RHS)"
   ]
  },
  {
   "cell_type": "code",
   "execution_count": 49,
   "id": "cf0c57de-ea97-4cd8-834d-7b37674fc69b",
   "metadata": {},
   "outputs": [
    {
     "name": "stdout",
     "output_type": "stream",
     "text": [
      "Exactly equal\n",
      "Exactly equal\n",
      "Exactly equal\n",
      "Exactly equal\n"
     ]
    }
   ],
   "source": [
    "Phase_Automorphism()"
   ]
  },
  {
   "cell_type": "markdown",
   "id": "8e021675-9c51-4726-a78d-b2380351bca2",
   "metadata": {},
   "source": [
    "# Scaled identity automorphism\n",
    "For $t \\in \\mathbb{Z}_3$\n",
    "- $(\\omega^tI) X (\\omega^tI)^\\dagger = X$\n",
    "- $(\\omega^tI) Z (\\omega^tI)^\\dagger = Z$\n",
    "- $(\\omega^tI)^\\dagger X (\\omega^tI) = X$\n",
    "- $(\\omega^tI)^\\dagger Z (\\omega^tI) = Z$"
   ]
  },
  {
   "cell_type": "code",
   "execution_count": 50,
   "id": "61852abb-cfab-47f1-874e-8a737c94679c",
   "metadata": {},
   "outputs": [],
   "source": [
    "def scaledIdentity_Automorphism():\n",
    "    w = findAllRoots(3)[1]\n",
    "    wI = makeScalarId(3, w)\n",
    "\n",
    "    # (wI)X(wI)* = X\n",
    "    LHS = wI @ X @ wI.conj().T\n",
    "    RHS = X\n",
    "    equalUpToScalar(LHS, RHS)\n",
    "\n",
    "    # (wI)Z(wI)* = Z\n",
    "    LHS = wI @ Z @ wI.conj().T\n",
    "    RHS = Z\n",
    "    equalUpToScalar(LHS, RHS)\n",
    "\n",
    "    # (wI)*X(wI) = X\n",
    "    LHS = wI.conj().T @ X @ wI\n",
    "    RHS = X\n",
    "    equalUpToScalar(LHS, RHS)\n",
    "\n",
    "    # (wI)*Z(wI) = Z\n",
    "    LHS = wI.conj().T @ Z @ wI\n",
    "    RHS = Z\n",
    "    equalUpToScalar(LHS, RHS)"
   ]
  },
  {
   "cell_type": "code",
   "execution_count": 51,
   "id": "e9c9ed2b-8305-40c8-8a45-ab4a4d06cd88",
   "metadata": {},
   "outputs": [
    {
     "name": "stdout",
     "output_type": "stream",
     "text": [
      "Exactly equal\n",
      "Exactly equal\n",
      "Exactly equal\n",
      "Exactly equal\n"
     ]
    }
   ],
   "source": [
    "scaledIdentity_Automorphism()"
   ]
  },
  {
   "cell_type": "markdown",
   "id": "75271859-2538-4ad6-9c1e-3b2454b32dec",
   "metadata": {},
   "source": [
    "# A boxes\n",
    "- $A_{01} = I$\n",
    "- $A_{02} = H^2$\n",
    "- $A_{10} = H$\n",
    "- $A_{11} = HS$\n",
    "- $A_{12} = HS^2$\n",
    "- $A_{20} = H^3 = HH^2$\n",
    "- $A_{21} = HS^2H^2$\n",
    "- $A_{22} = HSH^2$ "
   ]
  },
  {
   "cell_type": "code",
   "execution_count": 52,
   "id": "3256a3dc-a41c-4b09-9da9-86c28b04d3c0",
   "metadata": {},
   "outputs": [],
   "source": [
    "I = np.identity(3)\n",
    "A01 = I\n",
    "A02 = np.linalg.matrix_power(H, 2)\n",
    "A10 = H\n",
    "A11 = H @ S\n",
    "A12 = H @ np.linalg.matrix_power(S, 2)\n",
    "A20 = H @ np.linalg.matrix_power(H, 2)\n",
    "A21 = H @ np.linalg.matrix_power(S, 2) @ np.linalg.matrix_power(H, 2)\n",
    "A22 = H @ S @ np.linalg.matrix_power(H, 2)"
   ]
  },
  {
   "cell_type": "markdown",
   "id": "4faed796-c8b2-49ff-ad37-731b9efa5f17",
   "metadata": {},
   "source": [
    "# Verify the automorphism of each A box"
   ]
  },
  {
   "cell_type": "code",
   "execution_count": 53,
   "id": "36f8713f-814d-43e2-ba01-06e3e5d169ea",
   "metadata": {},
   "outputs": [],
   "source": [
    "def A01_Automorphism():\n",
    "    A = A01\n",
    "    # (A)X(A)* = X\n",
    "    LHS = A @ X @ A.conj().T\n",
    "    RHS = X\n",
    "    equalUpToScalar(LHS, RHS)\n",
    "\n",
    "    # (A)Z(A)* = Z\n",
    "    LHS = A @ Z @ A.conj().T\n",
    "    RHS = Z\n",
    "    equalUpToScalar(LHS, RHS)\n",
    "\n",
    "    # (A)*X(A) = X\n",
    "    LHS = A.conj().T @ X @ A\n",
    "    RHS = X\n",
    "    equalUpToScalar(LHS, RHS)\n",
    "\n",
    "    # (A)*Z(A) = Z\n",
    "    LHS = A.conj().T @ Z @ A\n",
    "    RHS = Z\n",
    "    equalUpToScalar(LHS, RHS)"
   ]
  },
  {
   "cell_type": "markdown",
   "id": "e0f79df8-eb51-4943-af58-9b67ae81736d",
   "metadata": {},
   "source": [
    "# C boxes"
   ]
  },
  {
   "cell_type": "code",
   "execution_count": 54,
   "id": "d4f288a3-d35c-47f0-9b4c-d34ba3a4210b",
   "metadata": {},
   "outputs": [],
   "source": [
    "I = np.identity(3)\n",
    "C0 = I\n",
    "C1 = H @ np.linalg.matrix_power(S, 2) @ np.linalg.matrix_power(H, 2) @ S @ H\n",
    "C2 = H @ S @ np.linalg.matrix_power(H, 2) @ np.linalg.matrix_power(S, 2) @ H"
   ]
  },
  {
   "cell_type": "markdown",
   "id": "9f7c808d-8b73-45eb-bdec-f0383490b70b",
   "metadata": {},
   "source": [
    "# E boxes"
   ]
  },
  {
   "cell_type": "code",
   "execution_count": 55,
   "id": "f08988a2-98c8-48c7-ba1e-b1234bb46df7",
   "metadata": {},
   "outputs": [],
   "source": [
    "I = np.identity(3)\n",
    "E0 = I\n",
    "E1 = S\n",
    "E2 = S @ S"
   ]
  },
  {
   "cell_type": "markdown",
   "id": "7cd574bc-ccc3-42c4-a425-6de193f9604f",
   "metadata": {},
   "source": [
    "# F boxes"
   ]
  },
  {
   "cell_type": "code",
   "execution_count": 56,
   "id": "c91ed970-e35b-4aa6-93ad-780e3d740aeb",
   "metadata": {},
   "outputs": [],
   "source": [
    "I = np.identity(3)\n",
    "F0 = I\n",
    "F1 = np.linalg.matrix_power(S, 2) @ np.linalg.matrix_power(H, 2) @ S @ np.linalg.matrix_power(H, 2)\n",
    "F2 = S @ np.linalg.matrix_power(H, 2) @ np.linalg.matrix_power(S, 2) @ np.linalg.matrix_power(H, 2)"
   ]
  },
  {
   "cell_type": "code",
   "execution_count": 57,
   "id": "1db6e030",
   "metadata": {},
   "outputs": [
    {
     "name": "stdout",
     "output_type": "stream",
     "text": [
      "Not equal\n"
     ]
    },
    {
     "data": {
      "text/plain": [
       "False"
      ]
     },
     "execution_count": 57,
     "metadata": {},
     "output_type": "execute_result"
    }
   ],
   "source": [
    "I = np.identity(3)\n",
    "w = findAllRoots(3)[1]\n",
    "wI = makeScalarId(3, w)\n",
    "LHS = np.linalg.matrix_power(S @ H, 3)\n",
    "RHS = wI\n",
    "equalUpToScalar(LHS, RHS)"
   ]
  },
  {
   "cell_type": "markdown",
   "id": "946a0179-b08f-402c-b636-f444c3b0ecfc",
   "metadata": {},
   "source": [
    "# Verify the automorphism of each F box"
   ]
  },
  {
   "cell_type": "code",
   "execution_count": 58,
   "id": "a47cbb36-11c4-4449-b35c-d893e424185b",
   "metadata": {},
   "outputs": [],
   "source": [
    "def F1_Automorphism():\n",
    "    I = np.identity(3)\n",
    "    w = findAllRoots(3)[0]\n",
    "    wI = makeScalarId(3, w)\n",
    "    w2 = findAllRoots(3)[1]\n",
    "    w2I = makeScalarId(3, w2)\n",
    "    \n",
    "    F = F1\n",
    "    # (F)X(F)* = w^2X\n",
    "    LHS = F @ X @ F.conj().T\n",
    "    RHS = w2I @ X\n",
    "    equalUpToScalar(LHS, RHS)\n",
    "\n",
    "    # (F)Z(F)* = Z\n",
    "    LHS = F @ Z @ F.conj().T\n",
    "    RHS = Z\n",
    "    equalUpToScalar(LHS, RHS)\n",
    "\n",
    "    # (F)*X(F) = wX\n",
    "    LHS = F.conj().T @ X @ F\n",
    "    RHS = wI @ X\n",
    "    equalUpToScalar(LHS, RHS)\n",
    "\n",
    "    # (F)*Z(F) = Z\n",
    "    LHS = F.conj().T @ Z @ F\n",
    "    RHS = Z\n",
    "    equalUpToScalar(LHS, RHS)"
   ]
  },
  {
   "cell_type": "code",
   "execution_count": 59,
   "id": "4bea6caf-971c-489f-a92a-a5cb8099ca5a",
   "metadata": {},
   "outputs": [],
   "source": [
    "def F2_Automorphism():\n",
    "    I = np.identity(3)\n",
    "    w = findAllRoots(3)[0]\n",
    "    wI = makeScalarId(3, w)\n",
    "    w2 = findAllRoots(3)[1]\n",
    "    w2I = makeScalarId(3, w2)\n",
    "    \n",
    "    F = F2\n",
    "    # (F)X(F)* = wX\n",
    "    LHS = F @ X @ F.conj().T\n",
    "    RHS = wI @ X\n",
    "    equalUpToScalar(LHS, RHS)\n",
    "\n",
    "    # (F)Z(F)* = Z\n",
    "    LHS = F @ Z @ F.conj().T\n",
    "    RHS = Z\n",
    "    equalUpToScalar(LHS, RHS)\n",
    "\n",
    "    # (F)*X(F) = w^2X\n",
    "    LHS = F.conj().T @ X @ F\n",
    "    RHS = w2I @ X\n",
    "    equalUpToScalar(LHS, RHS)\n",
    "\n",
    "    # (F)*Z(F) = Z\n",
    "    LHS = F.conj().T @ Z @ F\n",
    "    RHS = Z\n",
    "    equalUpToScalar(LHS, RHS)"
   ]
  },
  {
   "cell_type": "code",
   "execution_count": 60,
   "id": "51928fc6-c55b-4964-820d-def9c05f363b",
   "metadata": {},
   "outputs": [],
   "source": [
    "def F0_Automorphism():\n",
    "    F = F0\n",
    "    # (F)X(F)* = X\n",
    "    LHS = F @ X @ F.conj().T\n",
    "    RHS = X\n",
    "    equalUpToScalar(LHS, RHS)\n",
    "\n",
    "    # (F)Z(F)* = Z\n",
    "    LHS = F @ Z @ F.conj().T\n",
    "    RHS = Z\n",
    "    equalUpToScalar(LHS, RHS)\n",
    "\n",
    "    # (F)*X(F) = X\n",
    "    LHS = F.conj().T @ X @ F\n",
    "    RHS = X\n",
    "    equalUpToScalar(LHS, RHS)\n",
    "\n",
    "    # (F)*Z(F) = Z\n",
    "    LHS = F.conj().T @ Z @ F\n",
    "    RHS = Z\n",
    "    equalUpToScalar(LHS, RHS)"
   ]
  },
  {
   "cell_type": "code",
   "execution_count": 61,
   "id": "637843a9-2cd8-4dec-9e66-56f2ee1b71a4",
   "metadata": {},
   "outputs": [
    {
     "name": "stdout",
     "output_type": "stream",
     "text": [
      "Exactly equal\n",
      "Exactly equal\n",
      "Exactly equal\n",
      "Exactly equal\n",
      "Exactly equal\n",
      "Exactly equal\n",
      "Exactly equal\n",
      "Exactly equal\n",
      "Exactly equal\n",
      "Exactly equal\n",
      "Exactly equal\n",
      "Exactly equal\n"
     ]
    }
   ],
   "source": [
    "F0_Automorphism()\n",
    "F1_Automorphism()\n",
    "F2_Automorphism()"
   ]
  },
  {
   "cell_type": "markdown",
   "id": "0cf27d7f-ff8b-4c8b-89fa-ae9db3f67ee3",
   "metadata": {},
   "source": [
    "# Verify the automorphism of each E box"
   ]
  },
  {
   "cell_type": "code",
   "execution_count": 62,
   "id": "0f78b234-535a-427a-9030-9c6837f8dae5",
   "metadata": {},
   "outputs": [],
   "source": [
    "def E0_Automorphism():\n",
    "    E = E0\n",
    "    # (E)X(E)* = X\n",
    "    LHS = E @ X @ E.conj().T\n",
    "    RHS = X\n",
    "    equalUpToScalar(LHS, RHS)\n",
    "\n",
    "    # (E)Z(E)* = Z\n",
    "    LHS = E @ Z @ E.conj().T\n",
    "    RHS = Z\n",
    "    equalUpToScalar(LHS, RHS)\n",
    "\n",
    "    # (E)*X(E) = X\n",
    "    LHS = E.conj().T @ X @ E\n",
    "    RHS = X\n",
    "    equalUpToScalar(LHS, RHS)\n",
    "\n",
    "    # (E)*Z(E) = Z\n",
    "    LHS = E.conj().T @ Z @ E\n",
    "    RHS = Z\n",
    "    equalUpToScalar(LHS, RHS)"
   ]
  },
  {
   "cell_type": "code",
   "execution_count": 63,
   "id": "f4f2283f-59de-4dfd-b376-06232db86a42",
   "metadata": {},
   "outputs": [
    {
     "name": "stdout",
     "output_type": "stream",
     "text": [
      "Exactly equal\n",
      "Exactly equal\n",
      "Exactly equal\n",
      "Exactly equal\n"
     ]
    }
   ],
   "source": [
    "E0_Automorphism()"
   ]
  },
  {
   "cell_type": "code",
   "execution_count": 64,
   "id": "2c6f86da-247c-4075-b2f6-a6a9abbc4f1c",
   "metadata": {},
   "outputs": [],
   "source": [
    "def E1_Automorphism():\n",
    "    E = E1\n",
    "    # (E)X(E)* = XZ^2\n",
    "    LHS = E @ X @ E.conj().T\n",
    "    RHS = X @ np.linalg.matrix_power(Z, 2)\n",
    "    equalUpToScalar(LHS, RHS)\n",
    "\n",
    "    # (E)Z(E)* = Z\n",
    "    LHS = E @ Z @ E.conj().T\n",
    "    RHS = Z\n",
    "    equalUpToScalar(LHS, RHS)\n",
    "\n",
    "    # (E)*X(E) = XZ\n",
    "    LHS = E.conj().T @ X @ E\n",
    "    RHS = X @ Z\n",
    "    equalUpToScalar(LHS, RHS)\n",
    "\n",
    "    # (E)*Z(E) = Z\n",
    "    LHS = E.conj().T @ Z @ E\n",
    "    RHS = Z\n",
    "    equalUpToScalar(LHS, RHS)"
   ]
  },
  {
   "cell_type": "code",
   "execution_count": 65,
   "id": "f34a7850-39a5-4556-a27c-8717aea05f20",
   "metadata": {},
   "outputs": [
    {
     "name": "stdout",
     "output_type": "stream",
     "text": [
      "Exactly equal\n",
      "Exactly equal\n",
      "Exactly equal\n",
      "Exactly equal\n"
     ]
    }
   ],
   "source": [
    "E1_Automorphism()"
   ]
  },
  {
   "cell_type": "code",
   "execution_count": 66,
   "id": "56853fc7-841f-40dc-a426-2b19b754e04c",
   "metadata": {},
   "outputs": [],
   "source": [
    "def E2_Automorphism():\n",
    "    E = E2\n",
    "    # (E)X(E)* = XZ\n",
    "    LHS = E @ X @ E.conj().T\n",
    "    RHS = X @ Z\n",
    "    equalUpToScalar(LHS, RHS)\n",
    "\n",
    "    # (E)Z(E)* = Z\n",
    "    LHS = E @ Z @ E.conj().T\n",
    "    RHS = Z\n",
    "    equalUpToScalar(LHS, RHS)\n",
    "\n",
    "    # (E)*X(E) = XZ^2\n",
    "    LHS = E.conj().T @ X @ E\n",
    "    RHS = X @ Z @ Z\n",
    "    equalUpToScalar(LHS, RHS)\n",
    "\n",
    "    # (E)*Z(E) = Z\n",
    "    LHS = E.conj().T @ Z @ E\n",
    "    RHS = Z\n",
    "    equalUpToScalar(LHS, RHS)"
   ]
  },
  {
   "cell_type": "code",
   "execution_count": 67,
   "id": "2f49492d-aab7-4b1c-a119-d727dc8e266c",
   "metadata": {},
   "outputs": [
    {
     "name": "stdout",
     "output_type": "stream",
     "text": [
      "Exactly equal\n",
      "Exactly equal\n",
      "Exactly equal\n",
      "Exactly equal\n"
     ]
    }
   ],
   "source": [
    "E2_Automorphism()"
   ]
  },
  {
   "cell_type": "markdown",
   "id": "3f815b1a-17b3-45ec-a4f0-c4fd70c11857",
   "metadata": {},
   "source": [
    "# Verify the automorphism of each C box"
   ]
  },
  {
   "cell_type": "code",
   "execution_count": 68,
   "id": "272fb408-8fbe-4cfd-b94b-4427bc478a9b",
   "metadata": {},
   "outputs": [],
   "source": [
    "def C0_Automorphism():\n",
    "    C = C0\n",
    "    # (C)X(C)* = X\n",
    "    LHS = C @ X @ C.conj().T\n",
    "    RHS = X\n",
    "    equalUpToScalar(LHS, RHS)\n",
    "\n",
    "    # (C)Z(C)* = Z\n",
    "    LHS = C @ Z @ C.conj().T\n",
    "    RHS = Z\n",
    "    equalUpToScalar(LHS, RHS)\n",
    "\n",
    "    # (C)*X(C) = X\n",
    "    LHS = C.conj().T @ X @ C\n",
    "    RHS = X\n",
    "    equalUpToScalar(LHS, RHS)\n",
    "\n",
    "    # (C)*Z(C) = Z\n",
    "    LHS = C.conj().T @ Z @ C\n",
    "    RHS = Z\n",
    "    equalUpToScalar(LHS, RHS)"
   ]
  },
  {
   "cell_type": "code",
   "execution_count": 69,
   "id": "5575c92a-d47e-4b19-b68a-f1f3dc0cc0e3",
   "metadata": {},
   "outputs": [
    {
     "name": "stdout",
     "output_type": "stream",
     "text": [
      "Exactly equal\n",
      "Exactly equal\n",
      "Exactly equal\n",
      "Exactly equal\n"
     ]
    }
   ],
   "source": [
    "C0_Automorphism()"
   ]
  },
  {
   "cell_type": "code",
   "execution_count": 70,
   "id": "a5482375-c1fd-469c-9980-033d709b5427",
   "metadata": {},
   "outputs": [],
   "source": [
    "def C1_Automorphism():\n",
    "    I = np.identity(3)\n",
    "    w = findAllRoots(3)[0]\n",
    "    wI = makeScalarId(3, w)\n",
    "    w2 = findAllRoots(3)[1]\n",
    "    w2I = makeScalarId(3, w2)\n",
    "    \n",
    "    C = C1\n",
    "    # (C)X(C)* = X\n",
    "    LHS = C @ X @ C.conj().T\n",
    "    RHS = X\n",
    "    equalUpToScalar(LHS, RHS)\n",
    "\n",
    "    # (C)Z(C)* = w^2Z\n",
    "    LHS = C @ Z @ C.conj().T\n",
    "    RHS = Z @ w2I\n",
    "    equalUpToScalar(LHS, RHS)\n",
    "\n",
    "    # (C)*X(C) = X\n",
    "    LHS = C.conj().T @ X @ C\n",
    "    RHS = X\n",
    "    equalUpToScalar(LHS, RHS)\n",
    "\n",
    "    # (C)*Z(C) = wZ\n",
    "    LHS = C.conj().T @ Z @ C\n",
    "    RHS = Z @ wI\n",
    "    equalUpToScalar(LHS, RHS)"
   ]
  },
  {
   "cell_type": "code",
   "execution_count": 71,
   "id": "b8215fc0-1b1d-4a27-89e8-09fd29192411",
   "metadata": {},
   "outputs": [
    {
     "name": "stdout",
     "output_type": "stream",
     "text": [
      "Exactly equal\n",
      "Exactly equal\n",
      "Exactly equal\n",
      "Exactly equal\n"
     ]
    }
   ],
   "source": [
    "C1_Automorphism()"
   ]
  },
  {
   "cell_type": "code",
   "execution_count": 72,
   "id": "547c18c5-c52f-4443-b405-d9574c59c62a",
   "metadata": {},
   "outputs": [],
   "source": [
    "def C2_Automorphism():\n",
    "    I = np.identity(3)\n",
    "    w = findAllRoots(3)[0]\n",
    "    wI = makeScalarId(3, w)\n",
    "    w2 = findAllRoots(3)[1]\n",
    "    w2I = makeScalarId(3, w2)\n",
    "    \n",
    "    C = C2\n",
    "    # (C)X(C)* = X\n",
    "    LHS = C @ X @ C.conj().T\n",
    "    RHS = X\n",
    "    equalUpToScalar(LHS, RHS)\n",
    "\n",
    "    # (C)Z(C)* = wZ\n",
    "    LHS = C @ Z @ C.conj().T\n",
    "    RHS = Z @ wI\n",
    "    equalUpToScalar(LHS, RHS)\n",
    "\n",
    "    # (C)*X(C) = X\n",
    "    LHS = C.conj().T @ X @ C\n",
    "    RHS = X\n",
    "    equalUpToScalar(LHS, RHS)\n",
    "\n",
    "    # (C)*Z(C) = w^2Z\n",
    "    LHS = C.conj().T @ Z @ C\n",
    "    RHS = Z @ w2I\n",
    "    equalUpToScalar(LHS, RHS)"
   ]
  },
  {
   "cell_type": "code",
   "execution_count": 73,
   "id": "38d2f7a9-e590-4c8a-a475-caec490cccc3",
   "metadata": {},
   "outputs": [
    {
     "name": "stdout",
     "output_type": "stream",
     "text": [
      "Exactly equal\n",
      "Exactly equal\n",
      "Exactly equal\n",
      "Exactly equal\n"
     ]
    }
   ],
   "source": [
    "C2_Automorphism()"
   ]
  },
  {
   "cell_type": "code",
   "execution_count": 74,
   "id": "ec69644f-49f1-40b1-9292-ee92a4cf829d",
   "metadata": {},
   "outputs": [],
   "source": [
    "def A02_Automorphism():\n",
    "    A = A02\n",
    "    # (A)X(A)* = X^2\n",
    "    LHS = A @ X @ A.conj().T\n",
    "    RHS = np.linalg.matrix_power(X, 2)\n",
    "    equalUpToScalar(LHS, RHS)\n",
    "\n",
    "    # (A)Z(A)* = Z^2\n",
    "    LHS = A @ Z @ A.conj().T\n",
    "    RHS = np.linalg.matrix_power(Z, 2)\n",
    "    equalUpToScalar(LHS, RHS)\n",
    "\n",
    "    # (A)*X(A) = X^2\n",
    "    LHS = A.conj().T @ X @ A\n",
    "    RHS = np.linalg.matrix_power(X, 2)\n",
    "    equalUpToScalar(LHS, RHS)\n",
    "\n",
    "    # (A)*Z(A) = Z^2\n",
    "    LHS = A.conj().T @ Z @ A\n",
    "    RHS = np.linalg.matrix_power(Z, 2)\n",
    "    equalUpToScalar(LHS, RHS)"
   ]
  },
  {
   "cell_type": "code",
   "execution_count": 75,
   "id": "aadadc5c-b9c3-48fe-aeaa-7663812cbd6a",
   "metadata": {},
   "outputs": [
    {
     "name": "stdout",
     "output_type": "stream",
     "text": [
      "Exactly equal\n",
      "Exactly equal\n",
      "Exactly equal\n",
      "Exactly equal\n"
     ]
    }
   ],
   "source": [
    "A02_Automorphism()"
   ]
  },
  {
   "cell_type": "code",
   "execution_count": 76,
   "id": "21dd2bc3-e4cd-4847-b1ba-ee7bf0ef36cf",
   "metadata": {},
   "outputs": [],
   "source": [
    "def A10_Automorphism():\n",
    "    A = A10\n",
    "    # (A)X(A)* = Z\n",
    "    LHS = A @ X @ A.conj().T\n",
    "    RHS = Z\n",
    "    equalUpToScalar(LHS, RHS)\n",
    "\n",
    "    # (A)Z(A)* = X^2\n",
    "    LHS = A @ Z @ A.conj().T\n",
    "    RHS = np.linalg.matrix_power(X, 2)\n",
    "    equalUpToScalar(LHS, RHS)\n",
    "\n",
    "    # (A)*X(A) = Z^2\n",
    "    LHS = A.conj().T @ X @ A\n",
    "    RHS = np.linalg.matrix_power(Z, 2)\n",
    "    equalUpToScalar(LHS, RHS)\n",
    "\n",
    "    # (A)*Z(A) = X\n",
    "    LHS = A.conj().T @ Z @ A\n",
    "    RHS = X\n",
    "    equalUpToScalar(LHS, RHS)"
   ]
  },
  {
   "cell_type": "code",
   "execution_count": 77,
   "id": "4bc476dd-fc9b-4973-b9bb-137e4d773575",
   "metadata": {},
   "outputs": [
    {
     "name": "stdout",
     "output_type": "stream",
     "text": [
      "Exactly equal\n",
      "Exactly equal\n",
      "Exactly equal\n",
      "Exactly equal\n"
     ]
    }
   ],
   "source": [
    "A10_Automorphism()"
   ]
  },
  {
   "cell_type": "code",
   "execution_count": 78,
   "id": "56331527-27f9-41c7-90a4-e5694b51e262",
   "metadata": {},
   "outputs": [],
   "source": [
    "def A11_Automorphism():\n",
    "    w = findAllRoots(3)[0]\n",
    "    wI = makeScalarId(3, w)\n",
    "    A = A11\n",
    "    # (A)X(A)* = wXZ\n",
    "    LHS = A @ X @ A.conj().T\n",
    "    RHS = wI @ X @ Z\n",
    "    equalUpToScalar(LHS, RHS)\n",
    "\n",
    "    # (A)Z(A)* = X^2\n",
    "    LHS = A @ Z @ A.conj().T\n",
    "    RHS = np.linalg.matrix_power(X, 2)\n",
    "    equalUpToScalar(LHS, RHS)\n",
    "\n",
    "    # (A)*X(A) = Z^2\n",
    "    LHS = A.conj().T @ X @ A\n",
    "    RHS = np.linalg.matrix_power(Z, 2)\n",
    "    equalUpToScalar(LHS, RHS)\n",
    "\n",
    "    # (A)*Z(A) = XZ\n",
    "    LHS = A.conj().T @ Z @ A\n",
    "    RHS = X @ Z\n",
    "    equalUpToScalar(LHS, RHS)"
   ]
  },
  {
   "cell_type": "code",
   "execution_count": 79,
   "id": "050a2d2a-fc8a-4b27-84bc-1d3598edaac4",
   "metadata": {},
   "outputs": [
    {
     "name": "stdout",
     "output_type": "stream",
     "text": [
      "Exactly equal\n",
      "Exactly equal\n",
      "Exactly equal\n",
      "Exactly equal\n"
     ]
    }
   ],
   "source": [
    "A11_Automorphism()"
   ]
  },
  {
   "cell_type": "code",
   "execution_count": 80,
   "id": "9318e7e1-1c1e-4372-98ed-7ba752f0f040",
   "metadata": {},
   "outputs": [],
   "source": [
    "def A12_Automorphism():\n",
    "    w2 = findAllRoots(3)[1]\n",
    "    w2I = makeScalarId(3, w2)\n",
    "    A = A12\n",
    "    \n",
    "    # (A)X(A)* = w^2X^2Z\n",
    "    LHS = A @ X @ A.conj().T\n",
    "    RHS = w2I @ np.linalg.matrix_power(X, 2) @ Z\n",
    "    equalUpToScalar(LHS, RHS)\n",
    "\n",
    "    # (A)Z(A)* = X^2\n",
    "    LHS = A @ Z @ A.conj().T\n",
    "    RHS = np.linalg.matrix_power(X, 2)\n",
    "    equalUpToScalar(LHS, RHS)\n",
    "\n",
    "    # (A)*X(A) = Z^2\n",
    "    LHS = A.conj().T @ X @ A\n",
    "    RHS = np.linalg.matrix_power(Z, 2)\n",
    "    equalUpToScalar(LHS, RHS)\n",
    "\n",
    "    # (A)*Z(A) = XZ^2\n",
    "    LHS = A.conj().T @ Z @ A\n",
    "    RHS = X @ np.linalg.matrix_power(Z, 2)\n",
    "    equalUpToScalar(LHS, RHS)"
   ]
  },
  {
   "cell_type": "code",
   "execution_count": 81,
   "id": "1620b852-966d-4125-a9bf-483d3e6065b1",
   "metadata": {},
   "outputs": [
    {
     "name": "stdout",
     "output_type": "stream",
     "text": [
      "Exactly equal\n",
      "Exactly equal\n",
      "Exactly equal\n",
      "Exactly equal\n"
     ]
    }
   ],
   "source": [
    "A12_Automorphism()"
   ]
  },
  {
   "cell_type": "code",
   "execution_count": 82,
   "id": "38921941-2bfa-4728-bd47-ad8763a798cc",
   "metadata": {},
   "outputs": [],
   "source": [
    "def A20_Automorphism():\n",
    "\n",
    "    A = A20\n",
    "    \n",
    "    # (A)X(A)* = Z^2\n",
    "    LHS = A @ X @ A.conj().T\n",
    "    RHS = np.linalg.matrix_power(Z, 2)\n",
    "    equalUpToScalar(LHS, RHS)\n",
    "\n",
    "    # (A)Z(A)* = X\n",
    "    LHS = A @ Z @ A.conj().T\n",
    "    RHS = X\n",
    "    equalUpToScalar(LHS, RHS)\n",
    "\n",
    "    # (A)*X(A) = Z\n",
    "    LHS = A.conj().T @ X @ A\n",
    "    RHS = Z\n",
    "    equalUpToScalar(LHS, RHS)\n",
    "\n",
    "    # (A)*Z(A) = X^2\n",
    "    LHS = A.conj().T @ Z @ A\n",
    "    RHS = np.linalg.matrix_power(X, 2)\n",
    "    equalUpToScalar(LHS, RHS)"
   ]
  },
  {
   "cell_type": "code",
   "execution_count": 83,
   "id": "dcf2445e-3d02-45d4-b28c-604ac2ade446",
   "metadata": {},
   "outputs": [
    {
     "name": "stdout",
     "output_type": "stream",
     "text": [
      "Exactly equal\n",
      "Exactly equal\n",
      "Exactly equal\n",
      "Exactly equal\n"
     ]
    }
   ],
   "source": [
    "A20_Automorphism()"
   ]
  },
  {
   "cell_type": "code",
   "execution_count": 84,
   "id": "7145d8bd-178b-40ea-99bb-ebf540908905",
   "metadata": {},
   "outputs": [],
   "source": [
    "def A21_Automorphism():\n",
    "\n",
    "    A = A21\n",
    "    \n",
    "    # (A)X(A)* = XZ^2\n",
    "    LHS = A @ X @ A.conj().T\n",
    "    RHS = X @ np.linalg.matrix_power(Z, 2)\n",
    "    equalUpToScalar(LHS, RHS)\n",
    "\n",
    "    # (A)Z(A)* = X\n",
    "    LHS = A @ Z @ A.conj().T\n",
    "    RHS = X\n",
    "    equalUpToScalar(LHS, RHS)\n",
    "\n",
    "    # (A)*X(A) = Z\n",
    "    LHS = A.conj().T @ X @ A\n",
    "    RHS = Z\n",
    "    equalUpToScalar(LHS, RHS)\n",
    "\n",
    "    # (A)*Z(A) = X^2Z\n",
    "    LHS = A.conj().T @ Z @ A\n",
    "    RHS = np.linalg.matrix_power(X, 2) @ Z\n",
    "    equalUpToScalar(LHS, RHS)"
   ]
  },
  {
   "cell_type": "code",
   "execution_count": 85,
   "id": "13258c4b-3319-4b7a-8973-76b0073ebd1d",
   "metadata": {},
   "outputs": [
    {
     "name": "stdout",
     "output_type": "stream",
     "text": [
      "Exactly equal\n",
      "Exactly equal\n",
      "Exactly equal\n",
      "Exactly equal\n"
     ]
    }
   ],
   "source": [
    "A21_Automorphism()"
   ]
  },
  {
   "cell_type": "code",
   "execution_count": 86,
   "id": "37dfa45e-fc96-4617-8e77-ca3db0e9178b",
   "metadata": {},
   "outputs": [],
   "source": [
    "def A22_Automorphism():\n",
    "\n",
    "    A = A22\n",
    "    \n",
    "    # (A)X(A)* = X^2Z^2\n",
    "    LHS = A @ X @ A.conj().T\n",
    "    RHS = np.linalg.matrix_power(X, 2) @ np.linalg.matrix_power(Z, 2)\n",
    "    equalUpToScalar(LHS, RHS)\n",
    "\n",
    "    # (A)Z(A)* = X\n",
    "    LHS = A @ Z @ A.conj().T\n",
    "    RHS = X\n",
    "    equalUpToScalar(LHS, RHS)\n",
    "\n",
    "    # (A)*X(A) = Z\n",
    "    LHS = A.conj().T @ X @ A\n",
    "    RHS = Z\n",
    "    equalUpToScalar(LHS, RHS)\n",
    "\n",
    "    # (A)*Z(A) = X^2Z^2\n",
    "    LHS = A.conj().T @ Z @ A\n",
    "    RHS = np.linalg.matrix_power(X, 2) @ np.linalg.matrix_power(Z, 2)\n",
    "    equalUpToScalar(LHS, RHS)"
   ]
  },
  {
   "cell_type": "code",
   "execution_count": 87,
   "id": "1ebf6393-e618-44ee-a4f5-ebca69bfa717",
   "metadata": {},
   "outputs": [
    {
     "name": "stdout",
     "output_type": "stream",
     "text": [
      "Exactly equal\n",
      "Exactly equal\n",
      "Exactly equal\n",
      "Exactly equal\n"
     ]
    }
   ],
   "source": [
    "A22_Automorphism()"
   ]
  },
  {
   "cell_type": "markdown",
   "id": "f354baf9-0d4a-4d63-888c-83be18761ac8",
   "metadata": {},
   "source": [
    "# Push an H gate through an A box\n",
    "- $A_{01}H = A_{10}$\n",
    "- $A_{02}H = A_{20}$\n",
    "- $A_{10}H = A_{02}$\n",
    "- $A_{11}H = X^2 S^2 A_{12}$\n",
    "- $A_{12}H = S X A_{22}$\n",
    "- $A_{20}H = A_{01}$\n",
    "- $A_{21}H = S X A_{11}$\n",
    "- $A_{22}H = X^2 S^2 A_{21}$"
   ]
  },
  {
   "cell_type": "code",
   "execution_count": 88,
   "id": "efcc5d21-d82b-4d3e-b41a-a3d5557ed711",
   "metadata": {},
   "outputs": [],
   "source": [
    "def H_A_boxes():\n",
    "    w = findAllRoots(3)[0]\n",
    "    wI = makeScalarId(3, w)\n",
    "    w2 = findAllRoots(3)[1]\n",
    "    w2I = makeScalarId(3, w2)\n",
    "    \n",
    "    LHS = A01 @ H\n",
    "    RHS = A10\n",
    "    equalUpToScalar(LHS, RHS)\n",
    "\n",
    "    LHS = A02 @ H\n",
    "    RHS = A20\n",
    "    equalUpToScalar(LHS, RHS)\n",
    "\n",
    "    LHS = A10 @ H\n",
    "    RHS = A02\n",
    "    equalUpToScalar(LHS, RHS)\n",
    "\n",
    "    LHS = A11 @ H\n",
    "    RHS = np.linalg.matrix_power(X, 2) @ np.linalg.matrix_power(S, 2) @ A12 @ w2I * (-1)\n",
    "    equalUpToScalar(LHS, RHS)\n",
    "\n",
    "    LHS = A12 @ H\n",
    "    RHS = S @ X @ A22 @ wI * (-1)\n",
    "    equalUpToScalar(LHS, RHS)\n",
    "\n",
    "    LHS = A20 @ H\n",
    "    RHS = A01\n",
    "    equalUpToScalar(LHS, RHS)\n",
    "\n",
    "    LHS = A21 @ H\n",
    "    RHS = S @ X @ A11 @ wI * (-1)\n",
    "    equalUpToScalar(LHS, RHS)\n",
    "\n",
    "    LHS = A22 @ H\n",
    "    RHS = np.linalg.matrix_power(X, 2) @ np.linalg.matrix_power(S, 2) @ A21 @ w2I * (-1)\n",
    "    equalUpToScalar(LHS, RHS)"
   ]
  },
  {
   "cell_type": "code",
   "execution_count": 89,
   "id": "ad75872c-84f7-4557-9952-574fb04026cc",
   "metadata": {},
   "outputs": [
    {
     "name": "stdout",
     "output_type": "stream",
     "text": [
      "Exactly equal\n",
      "Exactly equal\n",
      "Exactly equal\n",
      "Exactly equal\n",
      "Exactly equal\n",
      "Exactly equal\n",
      "Exactly equal\n",
      "Exactly equal\n"
     ]
    }
   ],
   "source": [
    "H_A_boxes()"
   ]
  },
  {
   "cell_type": "code",
   "execution_count": 90,
   "id": "3f3d3c0b-daf2-4284-a36a-2993ec39ca07",
   "metadata": {},
   "outputs": [],
   "source": [
    "def S_A_boxes():\n",
    "    w = findAllRoots(3)[0]\n",
    "    wI = makeScalarId(3, w)\n",
    "    w2 = findAllRoots(3)[1]\n",
    "    w2I = makeScalarId(3, w2)\n",
    "    \n",
    "    LHS = A01 @ S\n",
    "    RHS = S @ A01\n",
    "    equalUpToScalar(LHS, RHS)\n",
    "\n",
    "    LHS = A02 @ S\n",
    "    RHS = np.linalg.matrix_power(Z, 2) @ S @ A02\n",
    "    equalUpToScalar(LHS, RHS)\n",
    "\n",
    "    LHS = A10 @ S\n",
    "    RHS = A11\n",
    "    equalUpToScalar(LHS, RHS)\n",
    "\n",
    "    LHS = A11 @ S\n",
    "    RHS = A12\n",
    "    equalUpToScalar(LHS, RHS)\n",
    "\n",
    "    LHS = A12 @ S\n",
    "    RHS = A10\n",
    "    equalUpToScalar(LHS, RHS)\n",
    "\n",
    "    LHS = A20 @ S\n",
    "    RHS = X @ A22\n",
    "    equalUpToScalar(LHS, RHS)\n",
    "\n",
    "    LHS = A21 @ S\n",
    "    RHS = X @ A20\n",
    "    equalUpToScalar(LHS, RHS)\n",
    "\n",
    "    LHS = A22 @ S\n",
    "    RHS = X @ A21\n",
    "    equalUpToScalar(LHS, RHS)"
   ]
  },
  {
   "cell_type": "code",
   "execution_count": 91,
   "id": "405eaadd-e280-4c89-b046-a495e2544ed1",
   "metadata": {},
   "outputs": [
    {
     "name": "stdout",
     "output_type": "stream",
     "text": [
      "Exactly equal\n",
      "Exactly equal\n",
      "Exactly equal\n",
      "Exactly equal\n",
      "Exactly equal\n",
      "Exactly equal\n",
      "Exactly equal\n",
      "Exactly equal\n"
     ]
    }
   ],
   "source": [
    "S_A_boxes()"
   ]
  },
  {
   "cell_type": "markdown",
   "id": "2735848e-d24a-4d9a-90e4-66b82b32bcd0",
   "metadata": {},
   "source": [
    "# D boxes\n",
    "- $D_{00} = SWAP$\n",
    "- $D_{01} = CZ^2\\circ SWAP$\n",
    "- $D_{02} = CZ\\circ SWAP$\n",
    "- $D_{10} = D_{01}\\circ (I \\otimes A_{10})$\n",
    "- $D_{11} = D_{01}\\circ (I \\otimes A_{11})$\n",
    "- $D_{12} = D_{01}\\circ (I \\otimes A_{12})$\n",
    "- $D_{20} = D_{01}\\circ (I \\otimes A_{20})$\n",
    "- $D_{21} = D_{01}\\circ (I \\otimes A_{21})$\n",
    "- $D_{22} = D_{01}\\circ (I \\otimes A_{22})$ "
   ]
  },
  {
   "cell_type": "code",
   "execution_count": 92,
   "id": "a8d926d9-78e4-4a51-ac0f-2fb128c8887e",
   "metadata": {},
   "outputs": [],
   "source": [
    "I = np.identity(3)\n",
    "D00 = SWAP\n",
    "D01 = np.linalg.matrix_power(CZ, 2) @ SWAP\n",
    "D02 = CZ @ SWAP\n",
    "D10 = D01 @ np.kron(I, A10)\n",
    "D11 = D01 @ np.kron(I, A11)\n",
    "D12 = D01 @ np.kron(I, A12)\n",
    "D20 = D01 @ np.kron(I, A20)\n",
    "D21 = D01 @ np.kron(I, A21)\n",
    "D22 = D01 @ np.kron(I, A22)"
   ]
  },
  {
   "cell_type": "markdown",
   "id": "85d11cfc-ffc6-41bf-8c8e-b46d894674ed",
   "metadata": {},
   "source": [
    "# Verify the automorphism of each D box"
   ]
  },
  {
   "cell_type": "code",
   "execution_count": 93,
   "id": "d55bb96d-1b4b-4dfc-865c-56fbe297400a",
   "metadata": {},
   "outputs": [],
   "source": [
    "def D00_Automorphism():\n",
    "    D = D00\n",
    "    I = np.identity(3)\n",
    "    # (D)(X x I)(D)* = I x X\n",
    "    LHS = D @ np.kron(X, I) @ D.conj().T\n",
    "    RHS = np.kron(I, X)\n",
    "    equalUpToScalar(LHS, RHS)\n",
    "\n",
    "    # (D)(I x X)(D)* = X x I\n",
    "    LHS = D @ np.kron(I, X) @ D.conj().T\n",
    "    RHS = np.kron(X, I)\n",
    "    equalUpToScalar(LHS, RHS)\n",
    "\n",
    "    # (D)(Z x I)(D)* = I x Z\n",
    "    LHS = D @ np.kron(Z, I) @ D.conj().T\n",
    "    RHS = np.kron(I, Z)\n",
    "    equalUpToScalar(LHS, RHS)\n",
    "\n",
    "    # (D)(I x Z)(D)* = Z x I\n",
    "    LHS = D @ np.kron(I, Z) @ D.conj().T\n",
    "    RHS = np.kron(Z, I)\n",
    "    equalUpToScalar(LHS, RHS)\n",
    "\n",
    "    # (D)*(X x I)(D) = I x X\n",
    "    LHS = D.conj().T @ np.kron(X, I) @ D\n",
    "    RHS = np.kron(I, X)\n",
    "    equalUpToScalar(LHS, RHS)\n",
    "\n",
    "    # (D)*(I x X)(D) = X x I\n",
    "    LHS = D.conj().T @ np.kron(I, X) @ D\n",
    "    RHS = np.kron(X, I)\n",
    "    equalUpToScalar(LHS, RHS)\n",
    "\n",
    "    # (D)*(Z x I)(D) = I x Z\n",
    "    LHS = D.conj().T @ np.kron(Z, I) @ D\n",
    "    RHS = np.kron(I, Z)\n",
    "    equalUpToScalar(LHS, RHS)\n",
    "\n",
    "    # (D)*(I x Z)(D) = Z x I\n",
    "    LHS = D.conj().T @ np.kron(I, Z) @ D\n",
    "    RHS = np.kron(Z, I)\n",
    "    equalUpToScalar(LHS, RHS)"
   ]
  },
  {
   "cell_type": "code",
   "execution_count": 94,
   "id": "c5699f21-ca43-45b5-b2b6-997c37f7ef39",
   "metadata": {},
   "outputs": [
    {
     "name": "stdout",
     "output_type": "stream",
     "text": [
      "Exactly equal\n",
      "Exactly equal\n",
      "Exactly equal\n",
      "Exactly equal\n",
      "Exactly equal\n",
      "Exactly equal\n",
      "Exactly equal\n",
      "Exactly equal\n"
     ]
    }
   ],
   "source": [
    "D00_Automorphism()"
   ]
  },
  {
   "cell_type": "code",
   "execution_count": 95,
   "id": "e0275361-b8c7-4369-b1d4-97610891b366",
   "metadata": {},
   "outputs": [],
   "source": [
    "def D01_Automorphism():\n",
    "    D = D01\n",
    "    I = np.identity(3)\n",
    "    # (D)(X x I)(D)* = Z^2 x X\n",
    "    LHS = D @ np.kron(X, I) @ D.conj().T\n",
    "    RHS = np.kron(np.linalg.matrix_power(Z, 2), X)\n",
    "    equalUpToScalar(LHS, RHS)\n",
    "\n",
    "    # (D)(I x X)(D)* = X x Z^2\n",
    "    LHS = D @ np.kron(I, X) @ D.conj().T\n",
    "    RHS = np.kron(X, np.linalg.matrix_power(Z, 2))\n",
    "    equalUpToScalar(LHS, RHS)\n",
    "\n",
    "    # (D)(Z x I)(D)* = I x Z\n",
    "    LHS = D @ np.kron(Z, I) @ D.conj().T\n",
    "    RHS = np.kron(I, Z)\n",
    "    equalUpToScalar(LHS, RHS)\n",
    "\n",
    "    # (D)(I x Z)(D)* = Z x I\n",
    "    LHS = D @ np.kron(I, Z) @ D.conj().T\n",
    "    RHS = np.kron(Z, I)\n",
    "    equalUpToScalar(LHS, RHS)\n",
    "\n",
    "    # (D)*(X x I)(D) = Z x X\n",
    "    LHS = D.conj().T @ np.kron(X, I) @ D\n",
    "    RHS = np.kron(Z, X)\n",
    "    equalUpToScalar(LHS, RHS)\n",
    "\n",
    "    # (D)*(I x X)(D) = X x Z\n",
    "    LHS = D.conj().T @ np.kron(I, X) @ D\n",
    "    RHS = np.kron(X, Z)\n",
    "    equalUpToScalar(LHS, RHS)\n",
    "\n",
    "    # (D)*(Z x I)(D) = I x Z\n",
    "    LHS = D.conj().T @ np.kron(Z, I) @ D\n",
    "    RHS = np.kron(I, Z)\n",
    "    equalUpToScalar(LHS, RHS)\n",
    "\n",
    "    # (D)*(I x Z)(D) = Z x I\n",
    "    LHS = D.conj().T @ np.kron(I, Z) @ D\n",
    "    RHS = np.kron(Z, I)\n",
    "    equalUpToScalar(LHS, RHS)"
   ]
  },
  {
   "cell_type": "code",
   "execution_count": 96,
   "id": "7c0ba025-be02-4c93-8158-f0e7a2b4c201",
   "metadata": {},
   "outputs": [
    {
     "name": "stdout",
     "output_type": "stream",
     "text": [
      "Exactly equal\n",
      "Exactly equal\n",
      "Exactly equal\n",
      "Exactly equal\n",
      "Exactly equal\n",
      "Exactly equal\n",
      "Exactly equal\n",
      "Exactly equal\n"
     ]
    }
   ],
   "source": [
    "D01_Automorphism()"
   ]
  },
  {
   "cell_type": "code",
   "execution_count": 97,
   "id": "50bbc9ff-a1e2-459f-a4cd-36ca9ab27444",
   "metadata": {},
   "outputs": [],
   "source": [
    "def D02_Automorphism():\n",
    "    D = D02\n",
    "    w = findAllRoots(3)[0]\n",
    "    wI = makeScalarId(3, w)\n",
    "    w2 = findAllRoots(3)[1]\n",
    "    w2I = makeScalarId(3, w2)\n",
    "    \n",
    "    # (D)*(I x X)(D) = X x Z^2\n",
    "    LHS = D.conj().T @ np.kron(I, X) @ D\n",
    "    RHS = np.kron(X, np.linalg.matrix_power(Z, 2))\n",
    "    equalUpToScalar(LHS, RHS)\n",
    "\n",
    "    # (D)*(I x XZ)(D) = XZ x Z^2\n",
    "    LHS = D.conj().T @ np.kron(I, X @ Z) @ D\n",
    "    RHS = np.kron(X @ Z, np.linalg.matrix_power(Z, 2))\n",
    "    equalUpToScalar(LHS, RHS)\n",
    "\n",
    "    # (D)*(I x XZ^2)(D) = XZ^2 x Z^2\n",
    "    LHS = D.conj().T @ np.kron(I, X @ np.linalg.matrix_power(Z, 2)) @ D\n",
    "    RHS = np.kron(X @ np.linalg.matrix_power(Z, 2), np.linalg.matrix_power(Z, 2))\n",
    "    equalUpToScalar(LHS, RHS)\n",
    "\n",
    "    # (D)*(I x Z)(D) = Z x I\n",
    "    LHS = D.conj().T @ np.kron(I, Z) @ D\n",
    "    RHS = np.kron(Z, I)\n",
    "    equalUpToScalar(LHS, RHS)"
   ]
  },
  {
   "cell_type": "code",
   "execution_count": 98,
   "id": "5bb37cda-c833-4b1a-9ad3-d76521cc5cb2",
   "metadata": {},
   "outputs": [
    {
     "name": "stdout",
     "output_type": "stream",
     "text": [
      "Exactly equal\n",
      "Exactly equal\n",
      "Exactly equal\n",
      "Exactly equal\n"
     ]
    }
   ],
   "source": [
    "D02_Automorphism()"
   ]
  },
  {
   "cell_type": "code",
   "execution_count": 99,
   "id": "2d6fa860-3f7a-4214-a8cc-39d7c8c81536",
   "metadata": {},
   "outputs": [],
   "source": [
    "def D10_Automorphism():\n",
    "    D = D10\n",
    "    w = findAllRoots(3)[0]\n",
    "    wI = makeScalarId(3, w)\n",
    "    w2 = findAllRoots(3)[1]\n",
    "    w2I = makeScalarId(3, w2)\n",
    "    \n",
    "    # (D)*(I x X)(D) = X x X\n",
    "    LHS = D.conj().T @ np.kron(I, X) @ D\n",
    "    RHS = np.kron(X, X)\n",
    "    equalUpToScalar(LHS, RHS)\n",
    "\n",
    "    # (D)*(I x XZ)(D) = XZ x X\n",
    "    LHS = D.conj().T @ np.kron(I, X @ Z) @ D\n",
    "    RHS = np.kron(X @ Z, X)\n",
    "    equalUpToScalar(LHS, RHS)\n",
    "\n",
    "    # (D)*(I x XZ^2)(D) = XZ^2 x X\n",
    "    LHS = D.conj().T @ np.kron(I, X @ np.linalg.matrix_power(Z, 2)) @ D\n",
    "    RHS = np.kron(X @ np.linalg.matrix_power(Z, 2), X)\n",
    "    equalUpToScalar(LHS, RHS)\n",
    "\n",
    "    # (D)*(I x Z)(D) = Z x I\n",
    "    LHS = D.conj().T @ np.kron(I, Z) @ D\n",
    "    RHS = np.kron(Z, I)\n",
    "    equalUpToScalar(LHS, RHS)"
   ]
  },
  {
   "cell_type": "code",
   "execution_count": 100,
   "id": "1ee84429-c616-4e63-b50b-6e1c9add7775",
   "metadata": {},
   "outputs": [
    {
     "name": "stdout",
     "output_type": "stream",
     "text": [
      "Exactly equal\n",
      "Exactly equal\n",
      "Exactly equal\n",
      "Exactly equal\n"
     ]
    }
   ],
   "source": [
    "D10_Automorphism()"
   ]
  },
  {
   "cell_type": "code",
   "execution_count": 101,
   "id": "43755150-1311-46fa-8441-ac9b95c7cbe8",
   "metadata": {},
   "outputs": [],
   "source": [
    "def D11_Automorphism():\n",
    "    D = D11\n",
    "    w = findAllRoots(3)[0]\n",
    "    wI = makeScalarId(3, w)\n",
    "    w2 = findAllRoots(3)[1]\n",
    "    w2I = makeScalarId(3, w2)\n",
    "    \n",
    "    # (D)*(I x X)(D) = X x XZ\n",
    "    LHS = D.conj().T @ np.kron(I, X) @ D\n",
    "    RHS = np.kron(X, X @ Z)\n",
    "    equalUpToScalar(LHS, RHS)\n",
    "\n",
    "    # (D)*(I x XZ)(D) = XZ x XZ\n",
    "    LHS = D.conj().T @ np.kron(I, X @ Z) @ D\n",
    "    RHS = np.kron(X @ Z, X @ Z)\n",
    "    equalUpToScalar(LHS, RHS)\n",
    "\n",
    "    # (D)*(I x XZ^2)(D) = XZ^2 x XZ\n",
    "    LHS = D.conj().T @ np.kron(I, X @ np.linalg.matrix_power(Z, 2)) @ D\n",
    "    RHS = np.kron(X @ np.linalg.matrix_power(Z, 2), X @ Z)\n",
    "    equalUpToScalar(LHS, RHS)\n",
    "\n",
    "    # (D)*(I x Z)(D) = Z x I\n",
    "    LHS = D.conj().T @ np.kron(I, Z) @ D\n",
    "    RHS = np.kron(Z, I)\n",
    "    equalUpToScalar(LHS, RHS)"
   ]
  },
  {
   "cell_type": "code",
   "execution_count": 102,
   "id": "085b472d-a2f2-40bc-a060-a3d61bfaa8bf",
   "metadata": {},
   "outputs": [
    {
     "name": "stdout",
     "output_type": "stream",
     "text": [
      "Exactly equal\n",
      "Exactly equal\n",
      "Exactly equal\n",
      "Exactly equal\n"
     ]
    }
   ],
   "source": [
    "D11_Automorphism()"
   ]
  },
  {
   "cell_type": "code",
   "execution_count": 103,
   "id": "7d920326-02e6-4b59-b1d6-9a1e1905b123",
   "metadata": {},
   "outputs": [],
   "source": [
    "def D12_Automorphism():\n",
    "    D = D12\n",
    "    w = findAllRoots(3)[0]\n",
    "    wI = makeScalarId(3, w)\n",
    "    w2 = findAllRoots(3)[1]\n",
    "    w2I = makeScalarId(3, w2)\n",
    "    \n",
    "    # (D)*(I x X)(D) = X x XZ^2\n",
    "    LHS = D.conj().T @ np.kron(I, X) @ D\n",
    "    RHS = np.kron(X, X @ np.linalg.matrix_power(Z, 2))\n",
    "    equalUpToScalar(LHS, RHS)\n",
    "\n",
    "    # (D)*(I x XZ)(D) = XZ x XZ^2\n",
    "    LHS = D.conj().T @ np.kron(I, X @ Z) @ D\n",
    "    RHS = np.kron(X @ Z, X @ np.linalg.matrix_power(Z, 2))\n",
    "    equalUpToScalar(LHS, RHS)\n",
    "\n",
    "    # (D)*(I x XZ^2)(D) = XZ^2 x XZ^2\n",
    "    LHS = D.conj().T @ np.kron(I, X @ np.linalg.matrix_power(Z, 2)) @ D\n",
    "    RHS = np.kron(X @ np.linalg.matrix_power(Z, 2), X @ np.linalg.matrix_power(Z, 2))\n",
    "    equalUpToScalar(LHS, RHS)\n",
    "\n",
    "    # (D)*(I x Z)(D) = Z x I\n",
    "    LHS = D.conj().T @ np.kron(I, Z) @ D\n",
    "    RHS = np.kron(Z, I)\n",
    "    equalUpToScalar(LHS, RHS)"
   ]
  },
  {
   "cell_type": "code",
   "execution_count": 104,
   "id": "523ff898-1e9f-43ca-a0c8-c4a306bfd625",
   "metadata": {},
   "outputs": [
    {
     "name": "stdout",
     "output_type": "stream",
     "text": [
      "Exactly equal\n",
      "Exactly equal\n",
      "Exactly equal\n",
      "Exactly equal\n"
     ]
    }
   ],
   "source": [
    "D12_Automorphism()"
   ]
  },
  {
   "cell_type": "code",
   "execution_count": 105,
   "id": "25b36f9e-2a29-42a9-8b6f-f1d434c92b3e",
   "metadata": {},
   "outputs": [],
   "source": [
    "def D20_Automorphism():\n",
    "    D = D20\n",
    "    w = findAllRoots(3)[0]\n",
    "    wI = makeScalarId(3, w)\n",
    "    w2 = findAllRoots(3)[1]\n",
    "    w2I = makeScalarId(3, w2)\n",
    "    \n",
    "    # (D)*(I x X)(D) = X x X^2\n",
    "    LHS = D.conj().T @ np.kron(I, X) @ D\n",
    "    RHS = np.kron(X, np.linalg.matrix_power(X, 2))\n",
    "    equalUpToScalar(LHS, RHS)\n",
    "\n",
    "    # (D)*(I x XZ)(D) = XZ x X^2\n",
    "    LHS = D.conj().T @ np.kron(I, X @ Z) @ D\n",
    "    RHS = np.kron(X @ Z, np.linalg.matrix_power(X, 2))\n",
    "    equalUpToScalar(LHS, RHS)\n",
    "\n",
    "    # (D)*(I x XZ^2)(D) = XZ^2 x X^2\n",
    "    LHS = D.conj().T @ np.kron(I, X @ np.linalg.matrix_power(Z, 2)) @ D\n",
    "    RHS = np.kron(X @ np.linalg.matrix_power(Z, 2), np.linalg.matrix_power(X, 2))\n",
    "    equalUpToScalar(LHS, RHS)\n",
    "\n",
    "    # (D)*(I x Z)(D) = Z x I\n",
    "    LHS = D.conj().T @ np.kron(I, Z) @ D\n",
    "    RHS = np.kron(Z, I)\n",
    "    equalUpToScalar(LHS, RHS)"
   ]
  },
  {
   "cell_type": "code",
   "execution_count": 106,
   "id": "8c5d94cb-c3cc-40e2-9643-63061a9432bd",
   "metadata": {},
   "outputs": [
    {
     "name": "stdout",
     "output_type": "stream",
     "text": [
      "Exactly equal\n",
      "Exactly equal\n",
      "Exactly equal\n",
      "Exactly equal\n"
     ]
    }
   ],
   "source": [
    "D20_Automorphism()"
   ]
  },
  {
   "cell_type": "code",
   "execution_count": 107,
   "id": "3e6579ac-5007-4c8e-94ae-524f47b16f92",
   "metadata": {},
   "outputs": [],
   "source": [
    "def D21_Automorphism():\n",
    "    D = D21\n",
    "    w = findAllRoots(3)[0]\n",
    "    wI = makeScalarId(3, w)\n",
    "    w2 = findAllRoots(3)[1]\n",
    "    w2I = makeScalarId(3, w2)\n",
    "    \n",
    "    # (D)*(I x X)(D) = X x X^2Z\n",
    "    LHS = D.conj().T @ np.kron(I, X) @ D\n",
    "    RHS = np.kron(X, np.linalg.matrix_power(X, 2) @ Z)\n",
    "    equalUpToScalar(LHS, RHS)\n",
    "\n",
    "    # (D)*(I x XZ)(D) = XZ x X^2Z\n",
    "    LHS = D.conj().T @ np.kron(I, X @ Z) @ D\n",
    "    RHS = np.kron(X @ Z, np.linalg.matrix_power(X, 2) @ Z)\n",
    "    equalUpToScalar(LHS, RHS)\n",
    "\n",
    "    # (D)*(I x XZ^2)(D) = XZ^2 x X^2Z\n",
    "    LHS = D.conj().T @ np.kron(I, X @ np.linalg.matrix_power(Z, 2)) @ D\n",
    "    RHS = np.kron(X @ np.linalg.matrix_power(Z, 2), np.linalg.matrix_power(X, 2) @ Z)\n",
    "    equalUpToScalar(LHS, RHS)\n",
    "\n",
    "    # (D)*(I x Z)(D) = Z x I\n",
    "    LHS = D.conj().T @ np.kron(I, Z) @ D\n",
    "    RHS = np.kron(Z, I)\n",
    "    equalUpToScalar(LHS, RHS)"
   ]
  },
  {
   "cell_type": "code",
   "execution_count": 108,
   "id": "2cdc6bb5-5c71-41bf-9ee7-0a5b172e1433",
   "metadata": {},
   "outputs": [
    {
     "name": "stdout",
     "output_type": "stream",
     "text": [
      "Exactly equal\n",
      "Exactly equal\n",
      "Exactly equal\n",
      "Exactly equal\n"
     ]
    }
   ],
   "source": [
    "D21_Automorphism()"
   ]
  },
  {
   "cell_type": "code",
   "execution_count": 109,
   "id": "156c4961-25ad-49f8-a33b-23853b6981f7",
   "metadata": {},
   "outputs": [],
   "source": [
    "def D22_Automorphism():\n",
    "    D = D22\n",
    "    w = findAllRoots(3)[0]\n",
    "    wI = makeScalarId(3, w)\n",
    "    w2 = findAllRoots(3)[1]\n",
    "    w2I = makeScalarId(3, w2)\n",
    "    \n",
    "    # (D)*(I x X)(D) = X x X^2Z^2\n",
    "    LHS = D.conj().T @ np.kron(I, X) @ D\n",
    "    RHS = np.kron(X, np.linalg.matrix_power(X, 2) @ np.linalg.matrix_power(Z, 2))\n",
    "    equalUpToScalar(LHS, RHS)\n",
    "\n",
    "    # (D)*(I x XZ)(D) = XZ x X^2Z^2\n",
    "    LHS = D.conj().T @ np.kron(I, X @ Z) @ D\n",
    "    RHS = np.kron(X @ Z, np.linalg.matrix_power(X, 2) @ np.linalg.matrix_power(Z, 2))\n",
    "    equalUpToScalar(LHS, RHS)\n",
    "\n",
    "    # (D)*(I x XZ^2)(D) = XZ^2 x X^2Z^2\n",
    "    LHS = D.conj().T @ np.kron(I, X @ np.linalg.matrix_power(Z, 2)) @ D\n",
    "    RHS = np.kron(X @ np.linalg.matrix_power(Z, 2), np.linalg.matrix_power(X, 2) @ np.linalg.matrix_power(Z, 2))\n",
    "    equalUpToScalar(LHS, RHS)\n",
    "\n",
    "    # (D)*(I x Z)(D) = Z x I\n",
    "    LHS = D.conj().T @ np.kron(I, Z) @ D\n",
    "    RHS = np.kron(Z, I)\n",
    "    equalUpToScalar(LHS, RHS)"
   ]
  },
  {
   "cell_type": "code",
   "execution_count": 110,
   "id": "10c2a3e8-fe28-4d16-a11a-b90e3f99c249",
   "metadata": {},
   "outputs": [
    {
     "name": "stdout",
     "output_type": "stream",
     "text": [
      "Exactly equal\n",
      "Exactly equal\n",
      "Exactly equal\n",
      "Exactly equal\n"
     ]
    }
   ],
   "source": [
    "D22_Automorphism()"
   ]
  },
  {
   "cell_type": "markdown",
   "id": "7781eab0-d216-456e-a7f8-aa134fffd0bd",
   "metadata": {},
   "source": [
    "# B boxes\n",
    "- $B_{00} = CZ\\circ SWAP$\n",
    "- $B_{01} = (H^3 \\otimes I)\\circ CZ \\circ(H\\otimes I)\\circ CZ^2\\circ SWAP$\n",
    "- $B_{02} = B_{01}\\circ CZ \\circ (A_{02}\\otimes I)$\n",
    "- $B_{10} = B_{01}\\circ CZ^2 \\circ (A_{10}\\otimes I)$\n",
    "- $B_{11} = B_{01}\\circ CZ^2 \\circ (A_{11}\\otimes I)$\n",
    "- $B_{12} = B_{01}\\circ CZ^2 \\circ (A_{12}\\otimes I)$\n",
    "- $B_{20} = B_{01}\\circ CZ^2 \\circ (A_{20}\\otimes I)$\n",
    "- $B_{21} = B_{01}\\circ CZ^2 \\circ (A_{21}\\otimes I)$\n",
    "- $B_{22} = B_{01}\\circ CZ^2 \\circ (A_{22}\\otimes I)$ "
   ]
  },
  {
   "cell_type": "code",
   "execution_count": 111,
   "id": "517e9a96-e606-47c7-a6e0-001cf1bcefa3",
   "metadata": {},
   "outputs": [],
   "source": [
    "I = np.identity(3)\n",
    "B00 = CZ @ SWAP\n",
    "B01 = np.kron(np.linalg.matrix_power(H, 3), I) @ CZ @ np.kron(H, I) @ np.linalg.matrix_power(CZ, 2) @ SWAP\n",
    "B02 = B01 @ CZ @ np.kron(A02, I)\n",
    "B10 = B01 @ np.linalg.matrix_power(CZ, 2) @ np.kron(A10, I)\n",
    "B11 = B01 @ np.linalg.matrix_power(CZ, 2) @ np.kron(A11, I)\n",
    "B12 = B01 @ np.linalg.matrix_power(CZ, 2) @ np.kron(A12, I)\n",
    "B20 = B01 @ np.linalg.matrix_power(CZ, 2) @ np.kron(A20, I)\n",
    "B21 = B01 @ np.linalg.matrix_power(CZ, 2) @ np.kron(A21, I)\n",
    "B22 = B01 @ np.linalg.matrix_power(CZ, 2) @ np.kron(A22, I)"
   ]
  },
  {
   "cell_type": "markdown",
   "id": "ba0141cd-a279-47d3-b392-bf1a1d4a6487",
   "metadata": {},
   "source": [
    "# Verify the automorphism of each B box"
   ]
  },
  {
   "cell_type": "code",
   "execution_count": 112,
   "id": "22e64004-bfdd-4e3a-bc36-de6f096b4a8f",
   "metadata": {},
   "outputs": [],
   "source": [
    "def B00_Automorphism():\n",
    "    B = B00\n",
    "    \n",
    "    # (B)(X x I)(B)* = Z x X\n",
    "    LHS = B @ np.kron(X, I) @ B.conj().T\n",
    "    RHS = np.kron(Z, X)\n",
    "    equalUpToScalar(LHS, RHS)\n",
    "\n",
    "    # (B)(I x X)(B)* = X x Z\n",
    "    LHS = B @ np.kron(I, X) @ B.conj().T\n",
    "    RHS = np.kron(X, Z)\n",
    "    equalUpToScalar(LHS, RHS)\n",
    "\n",
    "    # (B)(Z x I)(B)* = I x Z\n",
    "    LHS = B @ np.kron(Z, I) @ B.conj().T\n",
    "    RHS = np.kron(I, Z)\n",
    "    equalUpToScalar(LHS, RHS)\n",
    "\n",
    "    # (B)(I x Z)(B)* = Z x I\n",
    "    LHS = B @ np.kron(I, Z) @ B.conj().T\n",
    "    RHS = np.kron(Z, I)\n",
    "    equalUpToScalar(LHS, RHS)\n",
    "\n",
    "    # (B)*(X x I)(B) = Z^2 x X\n",
    "    LHS = B.conj().T @ np.kron(X, I) @ B\n",
    "    RHS = np.kron(np.linalg.matrix_power(Z, 2), X)\n",
    "    equalUpToScalar(LHS, RHS)\n",
    "\n",
    "    # (B)*(I x X)(B) = X x Z^2\n",
    "    LHS = B.conj().T @ np.kron(I, X) @ B\n",
    "    RHS = np.kron(X, np.linalg.matrix_power(Z, 2))\n",
    "    equalUpToScalar(LHS, RHS)\n",
    "\n",
    "    # (B)*(Z x I)(B) = I x Z\n",
    "    LHS = B.conj().T @ np.kron(Z, I) @ B\n",
    "    RHS = np.kron(I, Z)\n",
    "    equalUpToScalar(LHS, RHS)\n",
    "\n",
    "    # (B)*(I x Z)(B) = Z x I\n",
    "    LHS = B.conj().T @ np.kron(I, Z) @ B\n",
    "    RHS = np.kron(Z, I)\n",
    "    equalUpToScalar(LHS, RHS)"
   ]
  },
  {
   "cell_type": "code",
   "execution_count": 113,
   "id": "5e9014c7-0003-4e61-b6f3-128f8b34a17a",
   "metadata": {},
   "outputs": [
    {
     "name": "stdout",
     "output_type": "stream",
     "text": [
      "Exactly equal\n",
      "Exactly equal\n",
      "Exactly equal\n",
      "Exactly equal\n",
      "Exactly equal\n",
      "Exactly equal\n",
      "Exactly equal\n",
      "Exactly equal\n"
     ]
    }
   ],
   "source": [
    "B00_Automorphism()"
   ]
  },
  {
   "cell_type": "code",
   "execution_count": 114,
   "id": "bba6a723-aca1-48a6-860f-8eb1a64c7fb3",
   "metadata": {},
   "outputs": [],
   "source": [
    "def B01_Automorphism():\n",
    "    B = B01\n",
    "    w = findAllRoots(3)[0]\n",
    "    wI = makeScalarId(3, w)\n",
    "    w2 = findAllRoots(3)[1]\n",
    "    w2I = makeScalarId(3, w2)\n",
    "    \n",
    "    # (B)(X x I)(B)* = XZ^2 x XZ\n",
    "    LHS = B @ np.kron(X, I) @ B.conj().T\n",
    "    RHS = np.kron(X @ np.linalg.matrix_power(Z, 2), X @ Z)\n",
    "    equalUpToScalar(LHS, RHS)\n",
    "\n",
    "    # (B)(I x X)(B)* = X x Z^2\n",
    "    LHS = B @ np.kron(I, X) @ B.conj().T\n",
    "    RHS = np.kron(X, np.linalg.matrix_power(Z, 2))\n",
    "    equalUpToScalar(LHS, RHS)\n",
    "\n",
    "    # (B)(Z x I)(B)* = I x Z\n",
    "    LHS = B @ np.kron(Z, I) @ B.conj().T\n",
    "    RHS = np.kron(I, Z)\n",
    "    equalUpToScalar(LHS, RHS)\n",
    "\n",
    "    # (B)(I x Z)(B)* = Z x Z^2\n",
    "    LHS = B @ np.kron(I, Z) @ B.conj().T\n",
    "    RHS = np.kron(Z, np.linalg.matrix_power(Z, 2))\n",
    "    equalUpToScalar(LHS, RHS)\n",
    "\n",
    "    # (B)*(X x I)(B) = Z x X\n",
    "    LHS = B.conj().T @ np.kron(X, I) @ B\n",
    "    RHS = np.kron(Z, X)\n",
    "    equalUpToScalar(LHS, RHS)\n",
    "\n",
    "    # (B)*(I x X)(B) = XZ^2 x w^2X^2Z\n",
    "    LHS = B.conj().T @ np.kron(I, X) @ B\n",
    "    RHS = np.kron(X @ np.linalg.matrix_power(Z, 2), w2I @ np.linalg.matrix_power(X, 2) @ Z)\n",
    "    equalUpToScalar(LHS, RHS)\n",
    "\n",
    "    # (B)*(Z x I)(B) = Z x Z\n",
    "    LHS = B.conj().T @ np.kron(Z, I) @ B\n",
    "    RHS = np.kron(Z, Z)\n",
    "    equalUpToScalar(LHS, RHS)\n",
    "\n",
    "    # (B)*(I x Z)(B) = Z x I\n",
    "    LHS = B.conj().T @ np.kron(I, Z) @ B\n",
    "    RHS = np.kron(Z, I)\n",
    "    equalUpToScalar(LHS, RHS)"
   ]
  },
  {
   "cell_type": "code",
   "execution_count": 115,
   "id": "749c84d7-b63f-457f-844c-edae61bd98d7",
   "metadata": {},
   "outputs": [
    {
     "name": "stdout",
     "output_type": "stream",
     "text": [
      "Exactly equal\n",
      "Exactly equal\n",
      "Exactly equal\n",
      "Exactly equal\n",
      "Exactly equal\n",
      "Exactly equal\n",
      "Exactly equal\n",
      "Exactly equal\n"
     ]
    }
   ],
   "source": [
    "B01_Automorphism()"
   ]
  },
  {
   "cell_type": "code",
   "execution_count": 116,
   "id": "6de2ba67-4381-4a8e-84de-a1dc3ba416f0",
   "metadata": {},
   "outputs": [],
   "source": [
    "def B02_Automorphism():\n",
    "    B = B02\n",
    "    w = findAllRoots(3)[0]\n",
    "    wI = makeScalarId(3, w)\n",
    "    w2 = findAllRoots(3)[1]\n",
    "    w2I = makeScalarId(3, w2)\n",
    "    \n",
    "    # (B)*(Z x I)(B) = Z^2 x Z\n",
    "    LHS = B.conj().T @ np.kron(Z, I) @ B\n",
    "    RHS = np.kron(np.linalg.matrix_power(Z, 2), Z)\n",
    "    equalUpToScalar(LHS, RHS)"
   ]
  },
  {
   "cell_type": "code",
   "execution_count": 117,
   "id": "7f0baca6-f3b9-4f3f-af06-2d4d4b83ab85",
   "metadata": {},
   "outputs": [
    {
     "name": "stdout",
     "output_type": "stream",
     "text": [
      "Exactly equal\n"
     ]
    }
   ],
   "source": [
    "B02_Automorphism()"
   ]
  },
  {
   "cell_type": "code",
   "execution_count": 118,
   "id": "633e68d5-4d02-41b4-a902-1bb331fc09e9",
   "metadata": {},
   "outputs": [],
   "source": [
    "def B10_Automorphism():\n",
    "    B = B10\n",
    "    w = findAllRoots(3)[0]\n",
    "    wI = makeScalarId(3, w)\n",
    "    w2 = findAllRoots(3)[1]\n",
    "    w2I = makeScalarId(3, w2)\n",
    "    \n",
    "    # (B)*(Z x I)(B) = X x Z\n",
    "    LHS = B.conj().T @ np.kron(Z, I) @ B\n",
    "    RHS = np.kron(X, Z)\n",
    "    equalUpToScalar(LHS, RHS)"
   ]
  },
  {
   "cell_type": "code",
   "execution_count": 119,
   "id": "6084193b-4332-4929-b972-0cc9561bf72a",
   "metadata": {},
   "outputs": [
    {
     "name": "stdout",
     "output_type": "stream",
     "text": [
      "Exactly equal\n"
     ]
    }
   ],
   "source": [
    "B10_Automorphism()"
   ]
  },
  {
   "cell_type": "code",
   "execution_count": 120,
   "id": "af56061e-a6d3-444a-a30b-14db891c7cf0",
   "metadata": {},
   "outputs": [],
   "source": [
    "def B11_Automorphism():\n",
    "    B = B11\n",
    "    w = findAllRoots(3)[0]\n",
    "    wI = makeScalarId(3, w)\n",
    "    w2 = findAllRoots(3)[1]\n",
    "    w2I = makeScalarId(3, w2)\n",
    "    \n",
    "    # (B)*(Z x I)(B) = XZ x Z\n",
    "    LHS = B.conj().T @ np.kron(Z, I) @ B\n",
    "    RHS = np.kron(X @ Z, Z)\n",
    "    equalUpToScalar(LHS, RHS)"
   ]
  },
  {
   "cell_type": "code",
   "execution_count": 121,
   "id": "3841ce00-736d-4d5b-b5c1-28e91c1c3979",
   "metadata": {},
   "outputs": [
    {
     "name": "stdout",
     "output_type": "stream",
     "text": [
      "Exactly equal\n"
     ]
    }
   ],
   "source": [
    "B11_Automorphism()"
   ]
  },
  {
   "cell_type": "code",
   "execution_count": 122,
   "id": "2e0127f9-3c0d-48b1-9ba3-8c3749f7b03f",
   "metadata": {},
   "outputs": [],
   "source": [
    "def B12_Automorphism():\n",
    "    B = B12\n",
    "    w = findAllRoots(3)[0]\n",
    "    wI = makeScalarId(3, w)\n",
    "    w2 = findAllRoots(3)[1]\n",
    "    w2I = makeScalarId(3, w2)\n",
    "    \n",
    "    # (B)*(Z x I)(B) = XZ^2 x Z\n",
    "    LHS = B.conj().T @ np.kron(Z, I) @ B\n",
    "    RHS = np.kron(X @ np.linalg.matrix_power(Z, 2), Z)\n",
    "    equalUpToScalar(LHS, RHS)"
   ]
  },
  {
   "cell_type": "code",
   "execution_count": 123,
   "id": "dc3385db-72cc-4cd1-b65a-ec37df5bcab3",
   "metadata": {},
   "outputs": [
    {
     "name": "stdout",
     "output_type": "stream",
     "text": [
      "Exactly equal\n"
     ]
    }
   ],
   "source": [
    "B12_Automorphism()"
   ]
  },
  {
   "cell_type": "code",
   "execution_count": 124,
   "id": "2f618046-f94a-47d3-8fd9-e604c73982fb",
   "metadata": {},
   "outputs": [],
   "source": [
    "def B20_Automorphism():\n",
    "    B = B20\n",
    "    w = findAllRoots(3)[0]\n",
    "    wI = makeScalarId(3, w)\n",
    "    w2 = findAllRoots(3)[1]\n",
    "    w2I = makeScalarId(3, w2)\n",
    "    \n",
    "    # (B)*(Z x I)(B) = X^2 x Z\n",
    "    LHS = B.conj().T @ np.kron(Z, I) @ B\n",
    "    RHS = np.kron(np.linalg.matrix_power(X, 2), Z)\n",
    "    equalUpToScalar(LHS, RHS)"
   ]
  },
  {
   "cell_type": "code",
   "execution_count": 125,
   "id": "c757f6f1-a349-4b84-b4a1-24d3882eae2f",
   "metadata": {},
   "outputs": [
    {
     "name": "stdout",
     "output_type": "stream",
     "text": [
      "Exactly equal\n"
     ]
    }
   ],
   "source": [
    "B20_Automorphism()"
   ]
  },
  {
   "cell_type": "code",
   "execution_count": 126,
   "id": "2e6b3463-5c0b-4956-8fef-ea2b69209b32",
   "metadata": {},
   "outputs": [],
   "source": [
    "def B21_Automorphism():\n",
    "    B = B21\n",
    "    w = findAllRoots(3)[0]\n",
    "    wI = makeScalarId(3, w)\n",
    "    w2 = findAllRoots(3)[1]\n",
    "    w2I = makeScalarId(3, w2)\n",
    "    \n",
    "    # (B)*(Z x I)(B) = X^2Z x Z\n",
    "    LHS = B.conj().T @ np.kron(Z, I) @ B\n",
    "    RHS = np.kron(np.linalg.matrix_power(X, 2) @ Z, Z)\n",
    "    equalUpToScalar(LHS, RHS)"
   ]
  },
  {
   "cell_type": "code",
   "execution_count": 127,
   "id": "68405e6f-1d6a-4b49-9c02-3695d7282c1c",
   "metadata": {},
   "outputs": [
    {
     "name": "stdout",
     "output_type": "stream",
     "text": [
      "Exactly equal\n"
     ]
    }
   ],
   "source": [
    "B21_Automorphism()"
   ]
  },
  {
   "cell_type": "code",
   "execution_count": 128,
   "id": "fb41ceff-4ae9-4db3-a81c-4872c6754942",
   "metadata": {},
   "outputs": [],
   "source": [
    "def B22_Automorphism():\n",
    "    B = B22\n",
    "    w = findAllRoots(3)[0]\n",
    "    wI = makeScalarId(3, w)\n",
    "    w2 = findAllRoots(3)[1]\n",
    "    w2I = makeScalarId(3, w2)\n",
    "    \n",
    "    # (B)*(Z x I)(B) = X^2Z^2 x Z\n",
    "    LHS = B.conj().T @ np.kron(Z, I) @ B\n",
    "    RHS = np.kron(np.linalg.matrix_power(X, 2) @ np.linalg.matrix_power(Z, 2), Z)\n",
    "    equalUpToScalar(LHS, RHS)"
   ]
  },
  {
   "cell_type": "code",
   "execution_count": 129,
   "id": "7cc9929c-93ec-4b7a-8559-868247d1fe99",
   "metadata": {},
   "outputs": [
    {
     "name": "stdout",
     "output_type": "stream",
     "text": [
      "Exactly equal\n"
     ]
    }
   ],
   "source": [
    "B22_Automorphism()"
   ]
  },
  {
   "cell_type": "code",
   "execution_count": 130,
   "id": "eb848dc2-a7d9-4ca7-a361-6b41d8ef076c",
   "metadata": {},
   "outputs": [],
   "source": [
    "def CZ_A_boxes():\n",
    "    w = findAllRoots(3)[0]\n",
    "    wI = makeScalarId(9, w)\n",
    "    w2 = findAllRoots(3)[1]\n",
    "    w2I = makeScalarId(9, w2)\n",
    "\n",
    "    residual1 = np.kron(I, Z @ np.linalg.matrix_power(S, 2) @ np.linalg.matrix_power(H, 3)) @ np.linalg.matrix_power(CZ, 2) @ np.kron(S, H @ np.linalg.matrix_power(S, 2))\n",
    "    residual2 = np.kron(I, np.linalg.matrix_power(S, 2) @ H) @ np.linalg.matrix_power(CZ, 2) @ np.kron(S, H @ np.linalg.matrix_power(S, 2))\n",
    "    \n",
    "    LHS = np.kron(A01, I) @ CZ \n",
    "    RHS = CZ @ np.kron(A01, I)\n",
    "    equalUpToScalar(LHS, RHS)\n",
    "\n",
    "    LHS = np.kron(A02, I) @ CZ \n",
    "    RHS = np.linalg.matrix_power(CZ, 2) @ np.kron(A02, I)\n",
    "    equalUpToScalar(LHS, RHS)\n",
    "\n",
    "    LHS = np.kron(A10, I) @ CZ \n",
    "    RHS = residual1 @ B10 @ np.kron(I, A02) @ wI\n",
    "    equalUpToScalar(LHS, RHS)\n",
    "\n",
    "    LHS = np.kron(A11, I) @ CZ \n",
    "    RHS = residual1 @ B11 @ np.kron(I, A02) @ wI\n",
    "    equalUpToScalar(LHS, RHS)\n",
    "\n",
    "    LHS = np.kron(A12, I) @ CZ \n",
    "    RHS = residual1 @ B12 @ np.kron(I, A02) @ wI\n",
    "    equalUpToScalar(LHS, RHS)\n",
    "\n",
    "    LHS = np.kron(A20, I) @ CZ \n",
    "    RHS = residual2 @ B20 @ np.kron(I, A01) @ wI\n",
    "    equalUpToScalar(LHS, RHS)\n",
    "\n",
    "    LHS = np.kron(A21, I) @ CZ \n",
    "    RHS = residual2 @ B21 @ np.kron(I, A01) @ wI\n",
    "    equalUpToScalar(LHS, RHS)\n",
    "\n",
    "    LHS = np.kron(A22, I) @ CZ \n",
    "    RHS = residual2 @ B22 @ np.kron(I, A01) @ wI\n",
    "    equalUpToScalar(LHS, RHS)"
   ]
  },
  {
   "cell_type": "code",
   "execution_count": 131,
   "id": "65fc6b68-dec9-48ad-9c96-b11868d58808",
   "metadata": {},
   "outputs": [
    {
     "name": "stdout",
     "output_type": "stream",
     "text": [
      "Exactly equal\n",
      "Exactly equal\n",
      "Exactly equal\n",
      "Exactly equal\n",
      "Exactly equal\n",
      "Exactly equal\n",
      "Exactly equal\n",
      "Exactly equal\n"
     ]
    }
   ],
   "source": [
    "CZ_A_boxes()"
   ]
  },
  {
   "cell_type": "code",
   "execution_count": 132,
   "id": "413a1208-7157-4244-b921-a1e9dcaecbc4",
   "metadata": {},
   "outputs": [],
   "source": [
    "def CZ_A01_B_boxes():\n",
    "    I = np.identity(3)\n",
    "    w = findAllRoots(3)[0]\n",
    "    wI = makeScalarId(9, w)\n",
    "    w2 = findAllRoots(3)[1]\n",
    "    w2I = makeScalarId(9, w2)\n",
    "\n",
    "    LHS = B00 @ np.kron(I, A01) @ CZ\n",
    "    RHS = CZ @ B00 @ np.kron(I, A01)\n",
    "    equalUpToScalar(LHS, RHS)\n",
    "    \n",
    "    residual1 = np.kron(I, S @ np.linalg.matrix_power(H, 2) @ S @ np.linalg.matrix_power(H, 2)) @ CZ\n",
    "    LHS = B01 @ np.kron(I, A01) @ CZ\n",
    "    RHS = residual1 @ B01 @ np.kron(I, A01) @ wI\n",
    "    equalUpToScalar(LHS, RHS)\n",
    "\n",
    "    residual2 = np.linalg.matrix_power(CZ, 2) @ np.kron(I, Z @ S)\n",
    "    LHS = B02 @ np.kron(I, A01) @ CZ\n",
    "    RHS = residual2 @ B02 @ np.kron(I, A01) @ w2I\n",
    "    equalUpToScalar(LHS, RHS)\n",
    "\n",
    "    residual3 = np.kron(I, S @ H) @ np.linalg.matrix_power(CZ, 2) @ np.kron(S @ S, H @ S)\n",
    "    LHS = B10 @ np.kron(I, A01) @ CZ\n",
    "    RHS = residual3 @ np.kron(A10, I) @ w2I\n",
    "    equalUpToScalar(LHS, RHS)\n",
    "\n",
    "    LHS = B11 @ np.kron(I, A01) @ CZ\n",
    "    RHS = residual3 @ np.kron(A11, I) @ w2I\n",
    "    equalUpToScalar(LHS, RHS)\n",
    "\n",
    "    LHS = B12 @ np.kron(I, A01) @ CZ\n",
    "    RHS = residual3 @ np.kron(A12, I) @ w2I\n",
    "    equalUpToScalar(LHS, RHS)\n",
    "\n",
    "    residual4 = np.kron(I, Z @ S @ np.linalg.matrix_power(H, 3)) @ np.linalg.matrix_power(CZ, 2) @ np.kron(I, H @ S @ np.linalg.matrix_power(H, 2) @ S)\n",
    "    LHS = B20 @ np.kron(I, A01) @ CZ\n",
    "    RHS = residual4 @ B20 @ np.kron(I, A02)\n",
    "    equalUpToScalar(LHS, RHS)\n",
    "\n",
    "    LHS = B21 @ np.kron(I, A01) @ CZ\n",
    "    RHS = residual4 @ B21 @ np.kron(I, A02)\n",
    "    equalUpToScalar(LHS, RHS)\n",
    "\n",
    "    LHS = B22 @ np.kron(I, A01) @ CZ\n",
    "    RHS = residual4 @ B22 @ np.kron(I, A02)\n",
    "    equalUpToScalar(LHS, RHS)"
   ]
  },
  {
   "cell_type": "code",
   "execution_count": 133,
   "id": "2bc7d141-4bdc-4e00-8f1a-0677b1a651e6",
   "metadata": {},
   "outputs": [
    {
     "name": "stdout",
     "output_type": "stream",
     "text": [
      "Exactly equal\n",
      "Exactly equal\n",
      "Exactly equal\n",
      "Exactly equal\n",
      "Exactly equal\n",
      "Exactly equal\n",
      "Exactly equal\n",
      "Exactly equal\n",
      "Exactly equal\n"
     ]
    }
   ],
   "source": [
    "CZ_A01_B_boxes()"
   ]
  },
  {
   "cell_type": "code",
   "execution_count": 134,
   "id": "0590591e-7f90-4157-88f0-da1dde4d6cff",
   "metadata": {},
   "outputs": [],
   "source": [
    "def CZ_A02_B_boxes():\n",
    "    I = np.identity(3)\n",
    "    w = findAllRoots(3)[0]\n",
    "    wI = makeScalarId(9, w)\n",
    "    w2 = findAllRoots(3)[1]\n",
    "    w2I = makeScalarId(9, w2)\n",
    "\n",
    "    # Relation 1\n",
    "    LHS = B00 @ np.kron(I, A02) @ CZ\n",
    "    RHS = np.linalg.matrix_power(CZ, 2) @ B00 @ np.kron(I, A02)\n",
    "    equalUpToScalar(LHS, RHS)\n",
    "    \n",
    "    residual1 = np.kron(I, np.linalg.matrix_power(S, 2) @ np.linalg.matrix_power(H, 2) @ np.linalg.matrix_power(S, 2) @ np.linalg.matrix_power(H, 2)) @ np.linalg.matrix_power(CZ, 2)\n",
    "\n",
    "    # Relation 2\n",
    "    LHS = B01 @ np.kron(I, A02) @ CZ\n",
    "    RHS = residual1 @ B01 @ np.kron(I, A02) @ w2I\n",
    "    equalUpToScalar(LHS, RHS)\n",
    "\n",
    "    residual2 = CZ @ np.kron(I, np.linalg.matrix_power(Z, 2) @ np.linalg.matrix_power(S, 2))\n",
    "    \n",
    "    # Relation 3\n",
    "    LHS = B02 @ np.kron(I, A02) @ CZ\n",
    "    RHS = residual2 @ B02 @ np.kron(I, A02) @ wI\n",
    "    equalUpToScalar(LHS, RHS)\n",
    "\n",
    "    residual3 = np.kron(I, Z @ S @ np.linalg.matrix_power(H, 3)) @ np.linalg.matrix_power(CZ, 2) @ np.kron(I, H @ S @ np.linalg.matrix_power(H, 2) @ S)\n",
    "    \n",
    "    # Relation 4\n",
    "    LHS = B10 @ np.kron(I, A02) @ CZ\n",
    "    RHS = residual3 @ B10 @ np.kron(I, A01)\n",
    "    equalUpToScalar(LHS, RHS)\n",
    "\n",
    "    # Relation 5\n",
    "    LHS = B11 @ np.kron(I, A02) @ CZ\n",
    "    RHS = residual3 @ B11 @ np.kron(I, A01)\n",
    "    equalUpToScalar(LHS, RHS)\n",
    "\n",
    "    # Relation 6\n",
    "    LHS = B12 @ np.kron(I, A02) @ CZ\n",
    "    RHS = residual3 @ B12 @ np.kron(I, A01)\n",
    "    equalUpToScalar(LHS, RHS)\n",
    "\n",
    "    residual4 = np.kron(I, S @ H) @ np.linalg.matrix_power(CZ, 2) @ np.kron(np.linalg.matrix_power(S, 2), H @ S @ np.linalg.matrix_power(H, 2))\n",
    "    # Relation 7\n",
    "    LHS = B20 @ np.kron(I, A02) @ CZ\n",
    "    RHS = residual4 @ np.kron(A20, I) @ w2I\n",
    "    equalUpToScalar(LHS, RHS)\n",
    "\n",
    "    # Relation 8\n",
    "    LHS = B21 @ np.kron(I, A02) @ CZ\n",
    "    RHS = residual4 @ np.kron(A21, I) @ w2I\n",
    "    equalUpToScalar(LHS, RHS)\n",
    "\n",
    "    # Relation 9\n",
    "    LHS = B22 @ np.kron(I, A02) @ CZ\n",
    "    RHS = residual4 @ np.kron(A22, I) @ w2I\n",
    "    equalUpToScalar(LHS, RHS)"
   ]
  },
  {
   "cell_type": "code",
   "execution_count": 135,
   "id": "2eec7ac6-27fe-4d47-9568-c1c0d2cf6e70",
   "metadata": {},
   "outputs": [
    {
     "name": "stdout",
     "output_type": "stream",
     "text": [
      "Exactly equal\n",
      "Exactly equal\n",
      "Exactly equal\n",
      "Exactly equal\n",
      "Exactly equal\n",
      "Exactly equal\n",
      "Exactly equal\n",
      "Exactly equal\n",
      "Exactly equal\n"
     ]
    }
   ],
   "source": [
    "CZ_A02_B_boxes()"
   ]
  },
  {
   "cell_type": "code",
   "execution_count": 136,
   "id": "ec4321f1-747d-4513-b61d-176ecf08e406",
   "metadata": {},
   "outputs": [],
   "source": [
    "def CZ_A10_B_boxes():\n",
    "    I = np.identity(3)\n",
    "    w = findAllRoots(3)[0]\n",
    "    wI = makeScalarId(9, w)\n",
    "    w2 = findAllRoots(3)[1]\n",
    "    w2I = makeScalarId(9, w2)\n",
    "\n",
    "    residual1 = np.kron(I, np.linalg.matrix_power(H, 2)) @ np.linalg.matrix_power(CZ, 2)\n",
    "    # Relation 1\n",
    "    LHS = B00 @ np.kron(I, A10) @ CZ\n",
    "    RHS = residual1 @ B02 @ np.kron(I, A10)\n",
    "    equalUpToScalar(LHS, RHS)\n",
    "\n",
    "    residual2 = np.kron(I, np.linalg.matrix_power(H, 2) @ np.linalg.matrix_power(S, 2) \n",
    "                        @ np.linalg.matrix_power(H, 2) @ np.linalg.matrix_power(S, 2)) @ CZ\n",
    "    # Relation 2\n",
    "    LHS = B01 @ np.kron(I, A10) @ CZ\n",
    "    RHS = residual2 @ B00 @ np.kron(I, A10) @ w2I\n",
    "    equalUpToScalar(LHS, RHS)\n",
    "\n",
    "    residual3 = np.kron(I, S @ np.linalg.matrix_power(H, 2) @ S) @ CZ\n",
    "    # Relation 3\n",
    "    LHS = B02 @ np.kron(I, A10) @ CZ\n",
    "    RHS = residual3 @ B01 @ np.kron(I, A10) @ wI\n",
    "    equalUpToScalar(LHS, RHS)\n",
    "\n",
    "    residual4 = np.kron(np.linalg.matrix_power(X, 2) @ S, np.linalg.matrix_power(Z, 2) \n",
    "                        @ S @ H @ np.linalg.matrix_power(S, 2) @ H) @ np.linalg.matrix_power(CZ, 2) @ np.kron(I, H @ S)\n",
    "    # Relation 4\n",
    "    LHS = B10 @ np.kron(I, A10) @ CZ\n",
    "    RHS = residual4 @ B12 @ np.kron(I, A12) * (-1) @ w2I\n",
    "    equalUpToScalar(LHS, RHS)\n",
    "\n",
    "    # Relation 5\n",
    "    LHS = B11 @ np.kron(I, A10) @ CZ\n",
    "    RHS = residual4 @ B10 @ np.kron(I, A12) * (-1) @ w2I\n",
    "    equalUpToScalar(LHS, RHS)\n",
    "\n",
    "    # Relation 6\n",
    "    LHS = B12 @ np.kron(I, A10) @ CZ\n",
    "    RHS = residual4 @ B11 @ np.kron(I, A12) * (-1) @ w2I\n",
    "    equalUpToScalar(LHS, RHS)\n",
    "\n",
    "    residual5 = np.kron(I, np.linalg.matrix_power(Z, 2) @ np.linalg.matrix_power(S, 2) @ H \n",
    "                        @ np.linalg.matrix_power(S, 2)) @ np.linalg.matrix_power(CZ, 2) @ np.kron(S @ X @ S, H @ S @ np.linalg.matrix_power(H, 2))\n",
    "    # Relation 7\n",
    "    LHS = B20 @ np.kron(I, A10) @ CZ\n",
    "    RHS = residual5 @ B22 @ np.kron(I, A11) @ wI\n",
    "    equalUpToScalar(LHS, RHS)\n",
    "\n",
    "    # Relation 8\n",
    "    LHS = B21 @ np.kron(I, A10) @ CZ\n",
    "    RHS = residual5 @ B20 @ np.kron(I, A11) @ wI\n",
    "    equalUpToScalar(LHS, RHS)\n",
    "\n",
    "    # Relation 9\n",
    "    LHS = B22 @ np.kron(I, A10) @ CZ\n",
    "    RHS = residual5 @ B21 @ np.kron(I, A11) @ wI\n",
    "    equalUpToScalar(LHS, RHS)"
   ]
  },
  {
   "cell_type": "code",
   "execution_count": 137,
   "id": "940318f2-ea0e-442b-8332-97a0f47737e8",
   "metadata": {},
   "outputs": [
    {
     "name": "stdout",
     "output_type": "stream",
     "text": [
      "Exactly equal\n",
      "Exactly equal\n",
      "Exactly equal\n",
      "Exactly equal\n",
      "Exactly equal\n",
      "Exactly equal\n",
      "Exactly equal\n",
      "Exactly equal\n",
      "Exactly equal\n"
     ]
    }
   ],
   "source": [
    "CZ_A10_B_boxes()"
   ]
  },
  {
   "cell_type": "code",
   "execution_count": 138,
   "id": "006cfd42-fb0d-417b-8350-ea6dcb3f8b58",
   "metadata": {},
   "outputs": [],
   "source": [
    "def CZ_A11_B_boxes():\n",
    "    I = np.identity(3)\n",
    "    w = findAllRoots(3)[0]\n",
    "    wI = makeScalarId(9, w)\n",
    "    w2 = findAllRoots(3)[1]\n",
    "    w2I = makeScalarId(9, w2)\n",
    "\n",
    "    residual1 = np.kron(I, np.linalg.matrix_power(H, 2)) @ np.linalg.matrix_power(CZ, 2)\n",
    "    # Relation 1\n",
    "    LHS = B00 @ np.kron(I, A11) @ CZ\n",
    "    RHS = residual1 @ B02 @ np.kron(I, A11)\n",
    "    equalUpToScalar(LHS, RHS)\n",
    "\n",
    "    residual2 = np.kron(I, np.linalg.matrix_power(H, 2) @ np.linalg.matrix_power(S, 2) \n",
    "                        @ np.linalg.matrix_power(H, 2) @ np.linalg.matrix_power(S, 2)) @ CZ\n",
    "    # Relation 2\n",
    "    LHS = B01 @ np.kron(I, A11) @ CZ\n",
    "    RHS = residual2 @ B00 @ np.kron(I, A11) @ w2I\n",
    "    equalUpToScalar(LHS, RHS)\n",
    "\n",
    "    residual3 = np.kron(I, S @ np.linalg.matrix_power(H, 2) @ S) @ CZ\n",
    "    # Relation 3\n",
    "    LHS = B02 @ np.kron(I, A11) @ CZ\n",
    "    RHS = residual3 @ B01 @ np.kron(I, A11) @ wI\n",
    "    equalUpToScalar(LHS, RHS)\n",
    "\n",
    "    residual4 = np.kron(np.linalg.matrix_power(X, 2) @ S, np.linalg.matrix_power(Z, 2) \n",
    "                        @ S @ H @ np.linalg.matrix_power(S, 2) @ H) @ np.linalg.matrix_power(CZ, 2) @ np.kron(I, H @ S)\n",
    "    # Relation 4\n",
    "    LHS = B10 @ np.kron(I, A11) @ CZ\n",
    "    RHS = residual4 @ B12 @ np.kron(I, A10) * (-1) @ w2I\n",
    "    equalUpToScalar(LHS, RHS)\n",
    "\n",
    "    # Relation 5\n",
    "    LHS = B11 @ np.kron(I, A11) @ CZ\n",
    "    RHS = residual4 @ B10 @ np.kron(I, A10) * (-1) @ w2I\n",
    "    equalUpToScalar(LHS, RHS)\n",
    "\n",
    "    # Relation 6\n",
    "    LHS = B12 @ np.kron(I, A11) @ CZ\n",
    "    RHS = residual4 @ B11 @ np.kron(I, A10) * (-1) @ w2I\n",
    "    equalUpToScalar(LHS, RHS)\n",
    "\n",
    "    residual5 = np.kron(I, np.linalg.matrix_power(Z, 2) @ np.linalg.matrix_power(S, 2) @ H \n",
    "                        @ np.linalg.matrix_power(S, 2)) @ np.linalg.matrix_power(CZ, 2) @ np.kron(S @ X @ S, H @ S @ np.linalg.matrix_power(H, 2))\n",
    "    # Relation 7\n",
    "    LHS = B20 @ np.kron(I, A11) @ CZ\n",
    "    RHS = residual5 @ B22 @ np.kron(I, A12) @ wI\n",
    "    equalUpToScalar(LHS, RHS)\n",
    "\n",
    "    # Relation 8\n",
    "    LHS = B21 @ np.kron(I, A11) @ CZ\n",
    "    RHS = residual5 @ B20 @ np.kron(I, A12) @ wI\n",
    "    equalUpToScalar(LHS, RHS)\n",
    "\n",
    "    # Relation 9\n",
    "    LHS = B22 @ np.kron(I, A11) @ CZ\n",
    "    RHS = residual5 @ B21 @ np.kron(I, A12) @ wI\n",
    "    equalUpToScalar(LHS, RHS)"
   ]
  },
  {
   "cell_type": "code",
   "execution_count": 139,
   "id": "4e076610-009e-49e9-b610-a49161d343f4",
   "metadata": {},
   "outputs": [
    {
     "name": "stdout",
     "output_type": "stream",
     "text": [
      "Exactly equal\n",
      "Exactly equal\n",
      "Exactly equal\n",
      "Exactly equal\n",
      "Exactly equal\n",
      "Exactly equal\n",
      "Exactly equal\n",
      "Exactly equal\n",
      "Exactly equal\n"
     ]
    }
   ],
   "source": [
    "CZ_A11_B_boxes()"
   ]
  },
  {
   "cell_type": "code",
   "execution_count": 140,
   "id": "85714fb5-604e-4643-8ad9-3d12b13ce7a6",
   "metadata": {},
   "outputs": [],
   "source": [
    "def CZ_A12_B_boxes():\n",
    "    I = np.identity(3)\n",
    "    w = findAllRoots(3)[0]\n",
    "    wI = makeScalarId(9, w)\n",
    "    w2 = findAllRoots(3)[1]\n",
    "    w2I = makeScalarId(9, w2)\n",
    "\n",
    "    residual1 = np.kron(I, np.linalg.matrix_power(H, 2)) @ np.linalg.matrix_power(CZ, 2)\n",
    "    # Relation 1\n",
    "    LHS = B00 @ np.kron(I, A12) @ CZ\n",
    "    RHS = residual1 @ B02 @ np.kron(I, A12)\n",
    "    equalUpToScalar(LHS, RHS)\n",
    "\n",
    "    residual2 = np.kron(I, np.linalg.matrix_power(H, 2) @ np.linalg.matrix_power(S, 2) \n",
    "                        @ np.linalg.matrix_power(H, 2) @ np.linalg.matrix_power(S, 2)) @ CZ\n",
    "    # Relation 2\n",
    "    LHS = B01 @ np.kron(I, A12) @ CZ\n",
    "    RHS = residual2 @ B00 @ np.kron(I, A12) @ w2I\n",
    "    equalUpToScalar(LHS, RHS)\n",
    "\n",
    "    residual3 = np.kron(I, S @ np.linalg.matrix_power(H, 2) @ S) @ CZ\n",
    "    # Relation 3\n",
    "    LHS = B02 @ np.kron(I, A12) @ CZ\n",
    "    RHS = residual3 @ B01 @ np.kron(I, A12) @ wI\n",
    "    equalUpToScalar(LHS, RHS)\n",
    "\n",
    "    residual4 = np.kron(np.linalg.matrix_power(X, 2) @ S, np.linalg.matrix_power(Z, 2) \n",
    "                        @ S @ H @ np.linalg.matrix_power(S, 2) @ H) @ np.linalg.matrix_power(CZ, 2) @ np.kron(I, H @ S)\n",
    "    # Relation 4\n",
    "    LHS = B10 @ np.kron(I, A12) @ CZ\n",
    "    RHS = residual4 @ B12 @ np.kron(I, A11) * (-1) @ w2I\n",
    "    equalUpToScalar(LHS, RHS)\n",
    "\n",
    "    # Relation 5\n",
    "    LHS = B11 @ np.kron(I, A12) @ CZ\n",
    "    RHS = residual4 @ B10 @ np.kron(I, A11) * (-1) @ w2I\n",
    "    equalUpToScalar(LHS, RHS)\n",
    "\n",
    "    # Relation 6\n",
    "    LHS = B12 @ np.kron(I, A12) @ CZ\n",
    "    RHS = residual4 @ B11 @ np.kron(I, A11) * (-1) @ w2I\n",
    "    equalUpToScalar(LHS, RHS)\n",
    "\n",
    "    residual5 = np.kron(I, np.linalg.matrix_power(Z, 2) @ np.linalg.matrix_power(S, 2) @ H \n",
    "                        @ np.linalg.matrix_power(S, 2)) @ np.linalg.matrix_power(CZ, 2) @ np.kron(S @ X @ S, H @ S @ np.linalg.matrix_power(H, 2))\n",
    "    \n",
    "    # Relation 7\n",
    "    LHS = B20 @ np.kron(I, A12) @ CZ\n",
    "    RHS = residual5 @ B22 @ np.kron(I, A10) @ wI\n",
    "    equalUpToScalar(LHS, RHS)\n",
    "\n",
    "    # Relation 8\n",
    "    LHS = B21 @ np.kron(I, A12) @ CZ\n",
    "    RHS = residual5 @ B20 @ np.kron(I, A10) @ wI\n",
    "    equalUpToScalar(LHS, RHS)\n",
    "\n",
    "    # Relation 9\n",
    "    LHS = B22 @ np.kron(I, A12) @ CZ\n",
    "    RHS = residual5 @ B21 @ np.kron(I, A10) @ wI\n",
    "    equalUpToScalar(LHS, RHS)"
   ]
  },
  {
   "cell_type": "code",
   "execution_count": 141,
   "id": "d805eceb-5e68-4168-b778-86474ffd6171",
   "metadata": {},
   "outputs": [
    {
     "name": "stdout",
     "output_type": "stream",
     "text": [
      "Exactly equal\n",
      "Exactly equal\n",
      "Exactly equal\n",
      "Exactly equal\n",
      "Exactly equal\n",
      "Exactly equal\n",
      "Exactly equal\n",
      "Exactly equal\n",
      "Exactly equal\n"
     ]
    }
   ],
   "source": [
    "CZ_A12_B_boxes()"
   ]
  },
  {
   "cell_type": "code",
   "execution_count": 142,
   "id": "edd989e0-9d3c-411a-8b11-18c6febae60f",
   "metadata": {},
   "outputs": [],
   "source": [
    "def CZ_A20_B_boxes():\n",
    "    I = np.identity(3)\n",
    "    w = findAllRoots(3)[0]\n",
    "    wI = makeScalarId(9, w)\n",
    "    w2 = findAllRoots(3)[1]\n",
    "    w2I = makeScalarId(9, w2)\n",
    "\n",
    "    residual1 = np.kron(I, np.linalg.matrix_power(S, 2) @ np.linalg.matrix_power(H, 2) @ S @ np.linalg.matrix_power(H, 2) \n",
    "                        @ np.linalg.matrix_power(S, 2)) @ np.linalg.matrix_power(CZ, 2)\n",
    "    # Relation 1\n",
    "    LHS = B00 @ np.kron(I, A20) @ CZ\n",
    "    RHS = residual1 @ B01 @ np.kron(I, A20) @ wI\n",
    "    equalUpToScalar(LHS, RHS)\n",
    "\n",
    "    residual2 = np.kron(I, np.linalg.matrix_power(S, 2) \n",
    "                        @ np.linalg.matrix_power(H, 2) @ np.linalg.matrix_power(S, 2)) @ CZ\n",
    "    # Relation 2\n",
    "    LHS = B01 @ np.kron(I, A20) @ CZ\n",
    "    RHS = residual2 @ B02 @ np.kron(I, A20) @ w2I\n",
    "    equalUpToScalar(LHS, RHS)\n",
    "\n",
    "    residual3 = np.kron(I, np.linalg.matrix_power(H, 2)) @ np.linalg.matrix_power(CZ, 2)\n",
    "    # Relation 3\n",
    "    LHS = B02 @ np.kron(I, A20) @ CZ\n",
    "    RHS = residual3 @ B00 @ np.kron(I, A20)\n",
    "    equalUpToScalar(LHS, RHS)\n",
    "\n",
    "    residual4 = np.kron(I, np.linalg.matrix_power(Z, 2) @ np.linalg.matrix_power(S, 2) @ H \n",
    "                        @ np.linalg.matrix_power(S, 2)) @ np.linalg.matrix_power(CZ, 2) @ np.kron(S @ X @ S, H @ S @ np.linalg.matrix_power(H, 2))\n",
    "    # Relation 4\n",
    "    LHS = B10 @ np.kron(I, A20) @ CZ\n",
    "    RHS = residual4 @ B11 @ np.kron(I, A22) @ wI\n",
    "    equalUpToScalar(LHS, RHS)\n",
    "\n",
    "    # Relation 5\n",
    "    LHS = B11 @ np.kron(I, A20) @ CZ\n",
    "    RHS = residual4 @ B12 @ np.kron(I, A22) @ wI\n",
    "    equalUpToScalar(LHS, RHS)\n",
    "\n",
    "    # Relation 6\n",
    "    LHS = B12 @ np.kron(I, A20) @ CZ\n",
    "    RHS = residual4 @ B10 @ np.kron(I, A22) @ wI\n",
    "    equalUpToScalar(LHS, RHS)\n",
    "\n",
    "    residual5 = np.kron(np.linalg.matrix_power(X, 2) @ S, np.linalg.matrix_power(Z, 2) \n",
    "                        @ S @ H @ np.linalg.matrix_power(S, 2) @ H) @ np.linalg.matrix_power(CZ, 2) @ np.kron(I, H @ S)\n",
    "    # Relation 7\n",
    "    LHS = B20 @ np.kron(I, A20) @ CZ\n",
    "    RHS = residual5 @ B21 @ np.kron(I, A21) * (-1) @ w2I\n",
    "    equalUpToScalar(LHS, RHS)\n",
    "\n",
    "    # Relation 8\n",
    "    LHS = B21 @ np.kron(I, A20) @ CZ\n",
    "    RHS = residual5 @ B22 @ np.kron(I, A21) * (-1) @ w2I\n",
    "    equalUpToScalar(LHS, RHS)\n",
    "\n",
    "    # Relation 9\n",
    "    LHS = B22 @ np.kron(I, A20) @ CZ\n",
    "    RHS = residual5 @ B20 @ np.kron(I, A21) * (-1) @ w2I\n",
    "    equalUpToScalar(LHS, RHS)"
   ]
  },
  {
   "cell_type": "code",
   "execution_count": 143,
   "id": "47d2bbd0-8de9-4796-ac34-5e35d31ff267",
   "metadata": {},
   "outputs": [
    {
     "name": "stdout",
     "output_type": "stream",
     "text": [
      "Exactly equal\n",
      "Exactly equal\n",
      "Exactly equal\n",
      "Exactly equal\n",
      "Exactly equal\n",
      "Exactly equal\n",
      "Exactly equal\n",
      "Exactly equal\n",
      "Exactly equal\n"
     ]
    }
   ],
   "source": [
    "CZ_A20_B_boxes()"
   ]
  },
  {
   "cell_type": "code",
   "execution_count": 144,
   "id": "8e6b108c-f0bf-4e81-b8f2-a0d734aa27c8",
   "metadata": {},
   "outputs": [],
   "source": [
    "def CZ_A21_B_boxes():\n",
    "    I = np.identity(3)\n",
    "    w = findAllRoots(3)[0]\n",
    "    wI = makeScalarId(9, w)\n",
    "    w2 = findAllRoots(3)[1]\n",
    "    w2I = makeScalarId(9, w2)\n",
    "\n",
    "    residual1 = np.kron(I, np.linalg.matrix_power(S, 2) @ np.linalg.matrix_power(H, 2) @ S @ np.linalg.matrix_power(H, 2) \n",
    "                        @ np.linalg.matrix_power(S, 2)) @ np.linalg.matrix_power(CZ, 2)\n",
    "    # Relation 1\n",
    "    LHS = B00 @ np.kron(I, A21) @ CZ\n",
    "    RHS = residual1 @ B01 @ np.kron(I, A21) @ wI\n",
    "    equalUpToScalar(LHS, RHS)\n",
    "\n",
    "    residual2 = np.kron(I, np.linalg.matrix_power(S, 2) \n",
    "                        @ np.linalg.matrix_power(H, 2) @ np.linalg.matrix_power(S, 2)) @ CZ\n",
    "    # Relation 2\n",
    "    LHS = B01 @ np.kron(I, A21) @ CZ\n",
    "    RHS = residual2 @ B02 @ np.kron(I, A21) @ w2I\n",
    "    equalUpToScalar(LHS, RHS)\n",
    "\n",
    "    residual3 = np.kron(I, np.linalg.matrix_power(H, 2)) @ np.linalg.matrix_power(CZ, 2)\n",
    "    # Relation 3\n",
    "    LHS = B02 @ np.kron(I, A21) @ CZ\n",
    "    RHS = residual3 @ B00 @ np.kron(I, A21)\n",
    "    equalUpToScalar(LHS, RHS)\n",
    "\n",
    "    residual4 = np.kron(I, np.linalg.matrix_power(Z, 2) @ np.linalg.matrix_power(S, 2) @ H \n",
    "                        @ np.linalg.matrix_power(S, 2)) @ np.linalg.matrix_power(CZ, 2) @ np.kron(S @ X @ S, H @ S @ np.linalg.matrix_power(H, 2))\n",
    "    # Relation 4\n",
    "    LHS = B10 @ np.kron(I, A21) @ CZ\n",
    "    RHS = residual4 @ B11 @ np.kron(I, A20) @ wI\n",
    "    equalUpToScalar(LHS, RHS)\n",
    "\n",
    "    # Relation 5\n",
    "    LHS = B11 @ np.kron(I, A21) @ CZ\n",
    "    RHS = residual4 @ B12 @ np.kron(I, A20) @ wI\n",
    "    equalUpToScalar(LHS, RHS)\n",
    "\n",
    "    # Relation 6\n",
    "    LHS = B12 @ np.kron(I, A21) @ CZ\n",
    "    RHS = residual4 @ B10 @ np.kron(I, A20) @ wI\n",
    "    equalUpToScalar(LHS, RHS)\n",
    "\n",
    "    residual5 = np.kron(np.linalg.matrix_power(X, 2) @ S, np.linalg.matrix_power(Z, 2) \n",
    "                        @ S @ H @ np.linalg.matrix_power(S, 2) @ H) @ np.linalg.matrix_power(CZ, 2) @ np.kron(I, H @ S)\n",
    "    # Relation 7\n",
    "    LHS = B20 @ np.kron(I, A21) @ CZ\n",
    "    RHS = residual5 @ B21 @ np.kron(I, A22) * (-1) @ w2I\n",
    "    equalUpToScalar(LHS, RHS)\n",
    "\n",
    "    # Relation 8\n",
    "    LHS = B21 @ np.kron(I, A21) @ CZ\n",
    "    RHS = residual5 @ B22 @ np.kron(I, A22) * (-1) @ w2I\n",
    "    equalUpToScalar(LHS, RHS)\n",
    "\n",
    "    # Relation 9\n",
    "    LHS = B22 @ np.kron(I, A21) @ CZ\n",
    "    RHS = residual5 @ B20 @ np.kron(I, A22) * (-1) @ w2I\n",
    "    equalUpToScalar(LHS, RHS)"
   ]
  },
  {
   "cell_type": "code",
   "execution_count": 145,
   "id": "72ec9d1c-0fa2-45a3-a4be-f62e01a24224",
   "metadata": {},
   "outputs": [
    {
     "name": "stdout",
     "output_type": "stream",
     "text": [
      "Exactly equal\n",
      "Exactly equal\n",
      "Exactly equal\n",
      "Exactly equal\n",
      "Exactly equal\n",
      "Exactly equal\n",
      "Exactly equal\n",
      "Exactly equal\n",
      "Exactly equal\n"
     ]
    }
   ],
   "source": [
    "CZ_A21_B_boxes()"
   ]
  },
  {
   "cell_type": "code",
   "execution_count": 146,
   "id": "7dca4855-4de6-48e2-8dc1-2645cb04da69",
   "metadata": {},
   "outputs": [],
   "source": [
    "def CZ_A22_B_boxes():\n",
    "    I = np.identity(3)\n",
    "    w = findAllRoots(3)[0]\n",
    "    wI = makeScalarId(9, w)\n",
    "    w2 = findAllRoots(3)[1]\n",
    "    w2I = makeScalarId(9, w2)\n",
    "\n",
    "    residual1 = np.kron(I, np.linalg.matrix_power(S, 2) @ np.linalg.matrix_power(H, 2) @ S @ np.linalg.matrix_power(H, 2) \n",
    "                        @ np.linalg.matrix_power(S, 2)) @ np.linalg.matrix_power(CZ, 2)\n",
    "    # Relation 1\n",
    "    LHS = B00 @ np.kron(I, A22) @ CZ\n",
    "    RHS = residual1 @ B01 @ np.kron(I, A22) @ wI\n",
    "    equalUpToScalar(LHS, RHS)\n",
    "\n",
    "    residual2 = np.kron(I, np.linalg.matrix_power(S, 2) \n",
    "                        @ np.linalg.matrix_power(H, 2) @ np.linalg.matrix_power(S, 2)) @ CZ\n",
    "    # Relation 2\n",
    "    LHS = B01 @ np.kron(I, A22) @ CZ\n",
    "    RHS = residual2 @ B02 @ np.kron(I, A22) @ w2I\n",
    "    equalUpToScalar(LHS, RHS)\n",
    "\n",
    "    residual3 = np.kron(I, np.linalg.matrix_power(H, 2)) @ np.linalg.matrix_power(CZ, 2)\n",
    "    # Relation 3\n",
    "    LHS = B02 @ np.kron(I, A22) @ CZ\n",
    "    RHS = residual3 @ B00 @ np.kron(I, A22)\n",
    "    equalUpToScalar(LHS, RHS)\n",
    "\n",
    "    residual4 = np.kron(I, np.linalg.matrix_power(Z, 2) @ np.linalg.matrix_power(S, 2) @ H \n",
    "                        @ np.linalg.matrix_power(S, 2)) @ np.linalg.matrix_power(CZ, 2) @ np.kron(S @ X @ S, H @ S @ np.linalg.matrix_power(H, 2))\n",
    "    # Relation 4\n",
    "    LHS = B10 @ np.kron(I, A22) @ CZ\n",
    "    RHS = residual4 @ B11 @ np.kron(I, A21) @ wI\n",
    "    equalUpToScalar(LHS, RHS)\n",
    "\n",
    "    # Relation 5\n",
    "    LHS = B11 @ np.kron(I, A22) @ CZ\n",
    "    RHS = residual4 @ B12 @ np.kron(I, A21) @ wI\n",
    "    equalUpToScalar(LHS, RHS)\n",
    "\n",
    "    # Relation 6\n",
    "    LHS = B12 @ np.kron(I, A22) @ CZ\n",
    "    RHS = residual4 @ B10 @ np.kron(I, A21) @ wI\n",
    "    equalUpToScalar(LHS, RHS)\n",
    "\n",
    "    residual5 = np.kron(np.linalg.matrix_power(X, 2) @ S, np.linalg.matrix_power(Z, 2) \n",
    "                        @ S @ H @ np.linalg.matrix_power(S, 2) @ H) @ np.linalg.matrix_power(CZ, 2) @ np.kron(I, H @ S)\n",
    "    # Relation 7\n",
    "    LHS = B20 @ np.kron(I, A22) @ CZ\n",
    "    RHS = residual5 @ B21 @ np.kron(I, A20) * (-1) @ w2I\n",
    "    equalUpToScalar(LHS, RHS)\n",
    "\n",
    "    # Relation 8\n",
    "    LHS = B21 @ np.kron(I, A22) @ CZ\n",
    "    RHS = residual5 @ B22 @ np.kron(I, A20) * (-1) @ w2I\n",
    "    equalUpToScalar(LHS, RHS)\n",
    "\n",
    "    # Relation 9\n",
    "    LHS = B22 @ np.kron(I, A22) @ CZ\n",
    "    RHS = residual5 @ B20 @ np.kron(I, A20) * (-1) @ w2I\n",
    "    equalUpToScalar(LHS, RHS)"
   ]
  },
  {
   "cell_type": "code",
   "execution_count": 147,
   "id": "a1c91587-8f26-42f7-a866-c99a70d2cbe2",
   "metadata": {},
   "outputs": [
    {
     "name": "stdout",
     "output_type": "stream",
     "text": [
      "Exactly equal\n",
      "Exactly equal\n",
      "Exactly equal\n",
      "Exactly equal\n",
      "Exactly equal\n",
      "Exactly equal\n",
      "Exactly equal\n",
      "Exactly equal\n",
      "Exactly equal\n"
     ]
    }
   ],
   "source": [
    "CZ_A22_B_boxes()"
   ]
  },
  {
   "cell_type": "code",
   "execution_count": 148,
   "id": "e494dce9-c4ef-4304-acf2-1f28848164ed",
   "metadata": {},
   "outputs": [],
   "source": [
    "def HxI_B_boxes():\n",
    "    I = np.identity(3)\n",
    "    w = findAllRoots(3)[0]\n",
    "    wI = makeScalarId(9, w)\n",
    "    w2 = findAllRoots(3)[1]\n",
    "    w2I = makeScalarId(9, w2)\n",
    "\n",
    "    # Relation 1\n",
    "    LHS = B00 @ np.kron(H, I) \n",
    "    RHS = CZ @ np.kron(I, H) @ np.linalg.matrix_power(CZ, 2) @ B00\n",
    "    equalUpToScalar(LHS, RHS)\n",
    "\n",
    "    residual1 = np.kron(I,np.linalg.matrix_power(Z, 2) @ np.linalg.matrix_power(S, 2)) @ CZ\n",
    "    \n",
    "    # Relation 2\n",
    "    LHS = B01 @ np.kron(H, I) \n",
    "    RHS = residual1 @ B10 @ wI\n",
    "    equalUpToScalar(LHS, RHS)\n",
    "\n",
    "    residual2 = np.kron(I, Z @ S) @ np.linalg.matrix_power(CZ, 2)\n",
    "    \n",
    "    # Relation 3\n",
    "    LHS = B02 @ np.kron(H, I) \n",
    "    RHS = residual2 @ B20 @ w2I\n",
    "    equalUpToScalar(LHS, RHS)\n",
    "    \n",
    "    # Relation 4\n",
    "    LHS = B10 @ np.kron(H, I) \n",
    "    RHS = residual1 @ B02 @ wI\n",
    "    equalUpToScalar(LHS, RHS)\n",
    "\n",
    "    residual3 = np.kron(np.linalg.matrix_power(Z, 2) @ np.linalg.matrix_power(X, 2), Z \n",
    "                  @ np.linalg.matrix_power(X, 2) @ np.linalg.matrix_power(S, 2))\n",
    "    \n",
    "    # Relation 5\n",
    "    LHS = B11 @ np.kron(H, I) \n",
    "    RHS = residual3 @ B12 * (-1) @ w2I\n",
    "    equalUpToScalar(LHS, RHS)\n",
    "\n",
    "    residual4 = np.kron(Z @ X, Z @ X @ S)\n",
    "    \n",
    "    # Relation 6\n",
    "    LHS = B12 @ np.kron(H, I) \n",
    "    RHS = residual4 @ B22 * (-1) @ w2I\n",
    "    equalUpToScalar(LHS, RHS)\n",
    "    \n",
    "    # Relation 7\n",
    "    LHS = B20 @ np.kron(H, I) \n",
    "    RHS = residual2 @ B01 @ w2I\n",
    "    equalUpToScalar(LHS, RHS)\n",
    "\n",
    "    # Relation 8\n",
    "    LHS = B21 @ np.kron(H, I) \n",
    "    RHS = residual4 @ B11 * (-1) @ w2I\n",
    "    equalUpToScalar(LHS, RHS)\n",
    "    \n",
    "    # Relation 9\n",
    "    LHS = B22 @ np.kron(H, I) \n",
    "    RHS = residual3 @ B21 * (-1) @ w2I\n",
    "    equalUpToScalar(LHS, RHS)"
   ]
  },
  {
   "cell_type": "code",
   "execution_count": 149,
   "id": "66d8f545-55c3-480a-9cde-c3b099631261",
   "metadata": {},
   "outputs": [
    {
     "name": "stdout",
     "output_type": "stream",
     "text": [
      "Exactly equal\n",
      "Exactly equal\n",
      "Exactly equal\n",
      "Exactly equal\n",
      "Exactly equal\n",
      "Exactly equal\n",
      "Exactly equal\n",
      "Exactly equal\n",
      "Exactly equal\n"
     ]
    }
   ],
   "source": [
    "HxI_B_boxes()"
   ]
  },
  {
   "cell_type": "code",
   "execution_count": 150,
   "id": "61e7df10-1821-4714-8a06-db3cc52b3f00",
   "metadata": {},
   "outputs": [],
   "source": [
    "def SxI_B_boxes():\n",
    "    I = np.identity(3)\n",
    "    w = findAllRoots(3)[0]\n",
    "    wI = makeScalarId(9, w)\n",
    "    w2 = findAllRoots(3)[1]\n",
    "    w2I = makeScalarId(9, w2)\n",
    "\n",
    "    # Relation 1\n",
    "    LHS = B00 @ np.kron(S, I) \n",
    "    RHS = np.kron(I, S) @ B00\n",
    "    equalUpToScalar(LHS, RHS)\n",
    "    \n",
    "    # Relation 2\n",
    "    LHS = B01 @ np.kron(S, I) \n",
    "    RHS = np.kron(I, S) @ B01\n",
    "    equalUpToScalar(LHS, RHS)\n",
    "\n",
    "    residual1 = np.kron(I, np.linalg.matrix_power(Z, 2) @ S)\n",
    "    \n",
    "    # Relation 3\n",
    "    LHS = B02 @ np.kron(S, I) \n",
    "    RHS = residual1 @ B02\n",
    "    equalUpToScalar(LHS, RHS)\n",
    "\n",
    "    # Relation 4\n",
    "    LHS = B10 @ np.kron(S, I) \n",
    "    RHS = B11\n",
    "    equalUpToScalar(LHS, RHS)\n",
    "\n",
    "    # Relation 5\n",
    "    LHS = B11 @ np.kron(S, I) \n",
    "    RHS = B12\n",
    "    equalUpToScalar(LHS, RHS)\n",
    "\n",
    "    # Relation 6\n",
    "    LHS = B12 @ np.kron(S, I) \n",
    "    RHS = B10\n",
    "    equalUpToScalar(LHS, RHS)\n",
    "\n",
    "    residual2 = np.kron(Z @ X ,np.linalg.matrix_power(Z, 2) @ X)\n",
    "\n",
    "    # Relation 7\n",
    "    LHS = B20 @ np.kron(S, I) \n",
    "    RHS = residual2 @ B22\n",
    "    equalUpToScalar(LHS, RHS)\n",
    "\n",
    "    # Relation 8\n",
    "    LHS = B21 @ np.kron(S, I) \n",
    "    RHS = residual2 @ B20\n",
    "    equalUpToScalar(LHS, RHS)\n",
    "\n",
    "    # Relation 9\n",
    "    LHS = B22 @ np.kron(S, I) \n",
    "    RHS = residual2 @ B21\n",
    "    equalUpToScalar(LHS, RHS)"
   ]
  },
  {
   "cell_type": "code",
   "execution_count": 151,
   "id": "c6b9decd-6755-4947-87b4-7539789923c2",
   "metadata": {},
   "outputs": [
    {
     "name": "stdout",
     "output_type": "stream",
     "text": [
      "Exactly equal\n",
      "Exactly equal\n",
      "Exactly equal\n",
      "Exactly equal\n",
      "Exactly equal\n",
      "Exactly equal\n",
      "Exactly equal\n",
      "Exactly equal\n",
      "Exactly equal\n"
     ]
    }
   ],
   "source": [
    "SxI_B_boxes()"
   ]
  },
  {
   "cell_type": "code",
   "execution_count": 152,
   "id": "30728de4-2e58-4896-b595-0715629c9f58",
   "metadata": {},
   "outputs": [],
   "source": [
    "def CZ_B00_B_boxes():\n",
    "    I = np.identity(3)\n",
    "    w = findAllRoots(3)[0]\n",
    "    wI = makeScalarId(27, w)\n",
    "    w2 = findAllRoots(3)[1]\n",
    "    w2I = makeScalarId(27, w2)\n",
    "\n",
    "    # Relation 1\n",
    "    LHS = np.kron(B00, I) @ np.kron(I, B00) @ np.kron(CZ, I)\n",
    "    RHS = np.kron(I, CZ) @ np.kron(B00, I) @ np.kron(I, B00)\n",
    "    equalUpToScalar(LHS, RHS)\n",
    "\n",
    "    # Relation 2\n",
    "    LHS = np.kron(B01, I) @ np.kron(I, B00) @ np.kron(CZ, I)\n",
    "    RHS = np.kron(I, CZ) @ np.kron(B01, I) @ np.kron(I, B00)\n",
    "    equalUpToScalar(LHS, RHS)\n",
    "\n",
    "    # Relation 3\n",
    "    LHS = np.kron(B02, I) @ np.kron(I, B00) @ np.kron(CZ, I)\n",
    "    RHS = np.kron(I, np.linalg.matrix_power(CZ, 2)) @ np.kron(B02, I) @ np.kron(I, B00)\n",
    "    equalUpToScalar(LHS, RHS)\n",
    "\n",
    "    residual1 = np.kron(I, np.kron(np.linalg.matrix_power(X, 2) @ H @ np.linalg.matrix_power(S, 2) @ H, I) \n",
    "                        @ np.linalg.matrix_power(CZ, 2) @ np.kron(H @ S @ H, np.linalg.matrix_power(S, 2) @ np.linalg.matrix_power(H, 2)))\n",
    "\n",
    "    # Relation 4\n",
    "    LHS = np.kron(B10, I) @ np.kron(I, B00) @ np.kron(CZ, I)\n",
    "    RHS = residual1 @ np.kron(B10, I) @ np.kron(I, B02) @ wI\n",
    "    equalUpToScalar(LHS, RHS)\n",
    "\n",
    "    # Relation 5\n",
    "    LHS = np.kron(B11, I) @ np.kron(I, B00) @ np.kron(CZ, I)\n",
    "    RHS = residual1 @ np.kron(B11, I) @ np.kron(I, B02) @ wI\n",
    "    equalUpToScalar(LHS, RHS)\n",
    "\n",
    "    # Relation 6\n",
    "    LHS = np.kron(B12, I) @ np.kron(I, B00) @ np.kron(CZ, I)\n",
    "    RHS = residual1 @ np.kron(B12, I) @ np.kron(I, B02) @ wI\n",
    "    equalUpToScalar(LHS, RHS)\n",
    "\n",
    "    residual2 = np.kron(I, np.kron(H @ np.linalg.matrix_power(S, 2) @ np.linalg.matrix_power(H, 3), I) \n",
    "                        @ np.linalg.matrix_power(CZ, 2) @ np.kron(H @ S @ np.linalg.matrix_power(H, 3), np.linalg.matrix_power(S, 2)))\n",
    "\n",
    "    # Relation 7\n",
    "    LHS = np.kron(B20, I) @ np.kron(I, B00) @ np.kron(CZ, I)\n",
    "    RHS = residual2 @ np.kron(B20, I) @ np.kron(I, B01) @ wI\n",
    "    equalUpToScalar(LHS, RHS)\n",
    "\n",
    "    # Relation 8\n",
    "    LHS = np.kron(B21, I) @ np.kron(I, B00) @ np.kron(CZ, I)\n",
    "    RHS = residual2 @ np.kron(B21, I) @ np.kron(I, B01) @ wI\n",
    "    equalUpToScalar(LHS, RHS)\n",
    "\n",
    "    # Relation 9\n",
    "    LHS = np.kron(B22, I) @ np.kron(I, B00) @ np.kron(CZ, I)\n",
    "    RHS = residual2 @ np.kron(B22, I) @ np.kron(I, B01) @ wI\n",
    "    equalUpToScalar(LHS, RHS)"
   ]
  },
  {
   "cell_type": "code",
   "execution_count": 153,
   "id": "d3ffa153-89ed-4d56-8195-a2dd9ee4ae8a",
   "metadata": {},
   "outputs": [
    {
     "name": "stdout",
     "output_type": "stream",
     "text": [
      "Exactly equal\n",
      "Exactly equal\n",
      "Exactly equal\n",
      "Exactly equal\n",
      "Exactly equal\n",
      "Exactly equal\n",
      "Exactly equal\n",
      "Exactly equal\n",
      "Exactly equal\n"
     ]
    }
   ],
   "source": [
    "CZ_B00_B_boxes()"
   ]
  },
  {
   "cell_type": "code",
   "execution_count": 154,
   "id": "00bc6bfa-c940-4b67-8292-d2293f1e6bcf",
   "metadata": {},
   "outputs": [],
   "source": [
    "def CZ_B01_B_boxes():\n",
    "    I = np.identity(3)\n",
    "    w = findAllRoots(3)[0]\n",
    "    wI = makeScalarId(27, w)\n",
    "    w2 = findAllRoots(3)[1]\n",
    "    w2I = makeScalarId(27, w2)\n",
    "\n",
    "    # Relation 1\n",
    "    LHS = np.kron(B00, I) @ np.kron(I, B01) @ np.kron(CZ, I)\n",
    "    RHS = np.kron(I, CZ) @ np.kron(B00, I) @ np.kron(I, B01)\n",
    "    equalUpToScalar(LHS, RHS)\n",
    "\n",
    "    # Relation 2\n",
    "    LHS = np.kron(B01, I) @ np.kron(I, B01) @ np.kron(CZ, I)\n",
    "    RHS = np.kron(I, CZ) @ np.kron(B01, I) @ np.kron(I, B01)\n",
    "    equalUpToScalar(LHS, RHS)\n",
    "\n",
    "    # Relation 3\n",
    "    LHS = np.kron(B02, I) @ np.kron(I, B01) @ np.kron(CZ, I)\n",
    "    RHS = np.kron(I, np.linalg.matrix_power(CZ, 2)) @ np.kron(B02, I) @ np.kron(I, B01)\n",
    "    equalUpToScalar(LHS, RHS)\n",
    "\n",
    "    residual1 = np.kron(I, np.kron(S @ np.linalg.matrix_power(H, 3), I) @ np.linalg.matrix_power(CZ, 2) \n",
    "                        @ np.kron(H @ np.linalg.matrix_power(S, 2), S))\n",
    "\n",
    "    # Relation 4\n",
    "    LHS = np.kron(B10, I) @ np.kron(I, B01) @ np.kron(CZ, I)\n",
    "    RHS = residual1 @ np.kron(B10, I) @ np.kron(I, B00) @ w2I\n",
    "    equalUpToScalar(LHS, RHS)\n",
    "\n",
    "    # Relation 5\n",
    "    LHS = np.kron(B11, I) @ np.kron(I, B01) @ np.kron(CZ, I)\n",
    "    RHS = residual1 @ np.kron(B11, I) @ np.kron(I, B00) @ w2I\n",
    "    equalUpToScalar(LHS, RHS)\n",
    "\n",
    "    # Relation 6\n",
    "    LHS = np.kron(B12, I) @ np.kron(I, B01) @ np.kron(CZ, I)\n",
    "    RHS = residual1 @ np.kron(B12, I) @ np.kron(I, B00) @ w2I\n",
    "    equalUpToScalar(LHS, RHS)\n",
    "\n",
    "    residual2 = np.kron(I, np.kron(X @ np.linalg.matrix_power(Z, 2) @ S @ H @ S, Z @ np.linalg.matrix_power(H, 2))\n",
    "                       @ CZ @ np.kron(H @ S @ np.linalg.matrix_power(H, 3), I))\n",
    "\n",
    "    # Relation 7\n",
    "    LHS = np.kron(B20, I) @ np.kron(I, B01) @ np.kron(CZ, I)\n",
    "    RHS = residual2 @ np.kron(B20, I) @ np.kron(I, B02) * (-1) @ wI\n",
    "    equalUpToScalar(LHS, RHS)\n",
    "\n",
    "    # Relation 8\n",
    "    LHS = np.kron(B21, I) @ np.kron(I, B01) @ np.kron(CZ, I)\n",
    "    RHS = residual2 @ np.kron(B21, I) @ np.kron(I, B02) * (-1) @ wI\n",
    "    equalUpToScalar(LHS, RHS)\n",
    "\n",
    "    # Relation 9\n",
    "    LHS = np.kron(B22, I) @ np.kron(I, B01) @ np.kron(CZ, I)\n",
    "    RHS = residual2 @ np.kron(B22, I) @ np.kron(I, B02) * (-1) @ wI\n",
    "    equalUpToScalar(LHS, RHS)"
   ]
  },
  {
   "cell_type": "code",
   "execution_count": 155,
   "id": "46444738-d384-4931-847f-a006d9848855",
   "metadata": {},
   "outputs": [
    {
     "name": "stdout",
     "output_type": "stream",
     "text": [
      "Exactly equal\n",
      "Exactly equal\n",
      "Exactly equal\n",
      "Exactly equal\n",
      "Exactly equal\n",
      "Exactly equal\n",
      "Exactly equal\n",
      "Exactly equal\n",
      "Exactly equal\n"
     ]
    }
   ],
   "source": [
    "CZ_B01_B_boxes()"
   ]
  },
  {
   "cell_type": "code",
   "execution_count": 156,
   "id": "5f5ad25c-122c-4721-9aec-264b517d6963",
   "metadata": {},
   "outputs": [],
   "source": [
    "def CZ_B02_B_boxes():\n",
    "    I = np.identity(3)\n",
    "    w = findAllRoots(3)[0]\n",
    "    wI = makeScalarId(27, w)\n",
    "    w2 = findAllRoots(3)[1]\n",
    "    w2I = makeScalarId(27, w2)\n",
    "\n",
    "    # Relation 1\n",
    "    LHS = np.kron(B00, I) @ np.kron(I, B02) @ np.kron(CZ, I)\n",
    "    RHS = np.kron(I, np.linalg.matrix_power(CZ, 2)) @ np.kron(B00, I) @ np.kron(I, B02)\n",
    "    equalUpToScalar(LHS, RHS)\n",
    "\n",
    "    # Relation 2\n",
    "    LHS = np.kron(B01, I) @ np.kron(I, B02) @ np.kron(CZ, I)\n",
    "    RHS = np.kron(I, np.linalg.matrix_power(CZ, 2)) @ np.kron(B01, I) @ np.kron(I, B02)\n",
    "    equalUpToScalar(LHS, RHS)\n",
    "\n",
    "    # Relation 3\n",
    "    LHS = np.kron(B02, I) @ np.kron(I, B02) @ np.kron(CZ, I)\n",
    "    RHS = np.kron(I, CZ) @ np.kron(B02, I) @ np.kron(I, B02)\n",
    "    equalUpToScalar(LHS, RHS)\n",
    "\n",
    "    residual1 = np.kron(I, np.kron(X @ np.linalg.matrix_power(Z, 2) @ S @ H @ S, Z @ np.linalg.matrix_power(H, 2))\n",
    "                       @ CZ @ np.kron(H @ S @ np.linalg.matrix_power(H, 3), I))\n",
    "\n",
    "    # Relation 4\n",
    "    LHS = np.kron(B10, I) @ np.kron(I, B02) @ np.kron(CZ, I)\n",
    "    RHS = residual1 @ np.kron(B10, I) @ np.kron(I, B01) * (-1) @ wI\n",
    "    equalUpToScalar(LHS, RHS)\n",
    "\n",
    "    # Relation 5\n",
    "    LHS = np.kron(B11, I) @ np.kron(I, B02) @ np.kron(CZ, I)\n",
    "    RHS = residual1 @ np.kron(B11, I) @ np.kron(I, B01) * (-1) @ wI\n",
    "    equalUpToScalar(LHS, RHS)\n",
    "\n",
    "    # Relation 6\n",
    "    LHS = np.kron(B12, I) @ np.kron(I, B02) @ np.kron(CZ, I)\n",
    "    RHS = residual1 @ np.kron(B12, I) @ np.kron(I, B01) * (-1) @ wI\n",
    "    equalUpToScalar(LHS, RHS)\n",
    "\n",
    "    residual2 = np.kron(I, np.kron(S @ np.linalg.matrix_power(H, 3), S @ np.linalg.matrix_power(H, 2)) @ CZ \n",
    "                        @ np.kron(H @ np.linalg.matrix_power(S, 2), I))\n",
    "\n",
    "    # Relation 7\n",
    "    LHS = np.kron(B20, I) @ np.kron(I, B02) @ np.kron(CZ, I)\n",
    "    RHS = residual2 @ np.kron(B20, I) @ np.kron(I, B00) @ w2I\n",
    "    equalUpToScalar(LHS, RHS)\n",
    "\n",
    "    # Relation 8\n",
    "    LHS = np.kron(B21, I) @ np.kron(I, B02) @ np.kron(CZ, I)\n",
    "    RHS = residual2 @ np.kron(B21, I) @ np.kron(I, B00) @ w2I\n",
    "    equalUpToScalar(LHS, RHS)\n",
    "\n",
    "    # Relation 9\n",
    "    LHS = np.kron(B22, I) @ np.kron(I, B02) @ np.kron(CZ, I)\n",
    "    RHS = residual2 @ np.kron(B22, I) @ np.kron(I, B00) @ w2I\n",
    "    equalUpToScalar(LHS, RHS)"
   ]
  },
  {
   "cell_type": "code",
   "execution_count": 157,
   "id": "080cf9fe-5d46-4766-a423-bea308117dd5",
   "metadata": {},
   "outputs": [
    {
     "name": "stdout",
     "output_type": "stream",
     "text": [
      "Exactly equal\n",
      "Exactly equal\n",
      "Exactly equal\n",
      "Exactly equal\n",
      "Exactly equal\n",
      "Exactly equal\n",
      "Exactly equal\n",
      "Exactly equal\n",
      "Exactly equal\n"
     ]
    }
   ],
   "source": [
    "CZ_B02_B_boxes()"
   ]
  },
  {
   "cell_type": "code",
   "execution_count": 158,
   "id": "23b8e9ed-df51-48f7-9506-2c2355266ad4",
   "metadata": {},
   "outputs": [],
   "source": [
    "def CZ_B10_B_boxes():\n",
    "    I = np.identity(3)\n",
    "    w = findAllRoots(3)[0]\n",
    "    wI = makeScalarId(27, w)\n",
    "    w2 = findAllRoots(3)[1]\n",
    "    w2I = makeScalarId(27, w2)\n",
    "\n",
    "    residual1 = np.kron(I, np.kron(I, S @ np.linalg.matrix_power(H, 3)) @ np.linalg.matrix_power(CZ, 2)\n",
    "                       @ np.kron(S @ np.linalg.matrix_power(H, 2), H @ np.linalg.matrix_power(S, 2)))\n",
    "\n",
    "    # Relation 1\n",
    "    LHS = np.kron(B00, I) @ np.kron(I, B10) @ np.kron(CZ, I)\n",
    "    RHS = residual1 @ np.kron(B02, I) @ np.kron(I, B10) @ w2I\n",
    "    equalUpToScalar(LHS, RHS)\n",
    "\n",
    "    residual2 = np.kron(I, np.kron(I, S @ np.linalg.matrix_power(H, 3)) @ np.linalg.matrix_power(CZ, 2)\n",
    "                       @ np.kron(np.linalg.matrix_power(Z, 2), H @ np.linalg.matrix_power(S, 2)))\n",
    "\n",
    "    # Relation 2\n",
    "    LHS = np.kron(B01, I) @ np.kron(I, B10) @ np.kron(CZ, I)\n",
    "    RHS = residual2 @ np.kron(B00, I) @ np.kron(I, B10)\n",
    "    equalUpToScalar(LHS, RHS)\n",
    "\n",
    "    residual3 = np.kron(I, np.kron(Z, np.linalg.matrix_power(Z, 2) @ S @ H) @ np.linalg.matrix_power(CZ, 2)\n",
    "                       @ np.kron(np.linalg.matrix_power(S, 2) @ np.linalg.matrix_power(H, 2), H @ np.linalg.matrix_power(S, 2) @ np.linalg.matrix_power(H, 2)))\n",
    "\n",
    "    # Relation 3\n",
    "    LHS = np.kron(B02, I) @ np.kron(I, B10) @ np.kron(CZ, I)\n",
    "    RHS = residual3 @ np.kron(B01, I) @ np.kron(I, B10) @ wI\n",
    "    equalUpToScalar(LHS, RHS)\n",
    "\n",
    "    residual4 = np.kron(np.linalg.matrix_power(Z, 2) @ np.linalg.matrix_power(X, 2), \n",
    "                        np.kron(Z @ np.linalg.matrix_power(X, 2) @ H @ np.linalg.matrix_power(S, 2) @ H, Z @ np.linalg.matrix_power(X, 2) @ H @ np.linalg.matrix_power(S, 2) @ H) \n",
    "                        @ CZ @ np.kron(H @ np.linalg.matrix_power(S, 2), H @ np.linalg.matrix_power(S, 2)))\n",
    "\n",
    "    # Relation 4\n",
    "    LHS = np.kron(B10, I) @ np.kron(I, B10) @ np.kron(CZ, I)\n",
    "    RHS = residual4 @ np.kron(B12, I) @ np.kron(I, B12) @ wI\n",
    "    equalUpToScalar(LHS, RHS)\n",
    "\n",
    "    # Relation 5\n",
    "    LHS = np.kron(B11, I) @ np.kron(I, B10) @ np.kron(CZ, I)\n",
    "    RHS = residual4 @ np.kron(B10, I) @ np.kron(I, B12) @ wI\n",
    "    equalUpToScalar(LHS, RHS)\n",
    "\n",
    "    # Relation 6\n",
    "    LHS = np.kron(B12, I) @ np.kron(I, B10) @ np.kron(CZ, I)\n",
    "    RHS = residual4 @ np.kron(B11, I) @ np.kron(I, B12) @ wI\n",
    "    equalUpToScalar(LHS, RHS)\n",
    "\n",
    "    residual5 = np.kron(Z @ X, np.kron(np.linalg.matrix_power(Z, 2) @ S @ H @ np.linalg.matrix_power(S, 2), \n",
    "                                       np.linalg.matrix_power(Z, 2) @ S @ H @ np.linalg.matrix_power(S, 2)) \n",
    "                        @ np.linalg.matrix_power(CZ, 2) @ np.kron(H @ np.linalg.matrix_power(S, 2) @ np.linalg.matrix_power(H, 2), \n",
    "                                                                  H @ np.linalg.matrix_power(S, 2)@ np.linalg.matrix_power(H, 2)))\n",
    "    # Relation 7\n",
    "    LHS = np.kron(B20, I) @ np.kron(I, B10) @ np.kron(CZ, I)\n",
    "    RHS = residual5 @ np.kron(B22, I) @ np.kron(I, B11)\n",
    "    equalUpToScalar(LHS, RHS)\n",
    "\n",
    "    # Relation 8\n",
    "    LHS = np.kron(B21, I) @ np.kron(I, B10) @ np.kron(CZ, I)\n",
    "    RHS = residual5 @ np.kron(B20, I) @ np.kron(I, B11)\n",
    "    equalUpToScalar(LHS, RHS)\n",
    "\n",
    "    # Relation 9\n",
    "    LHS = np.kron(B22, I) @ np.kron(I, B10) @ np.kron(CZ, I)\n",
    "    RHS = residual5 @ np.kron(B21, I) @ np.kron(I, B11)\n",
    "    equalUpToScalar(LHS, RHS)"
   ]
  },
  {
   "cell_type": "code",
   "execution_count": 159,
   "id": "c27556af-9b70-40ba-bf45-4a32ca87471e",
   "metadata": {},
   "outputs": [
    {
     "name": "stdout",
     "output_type": "stream",
     "text": [
      "Exactly equal\n",
      "Exactly equal\n",
      "Exactly equal\n",
      "Exactly equal\n",
      "Exactly equal\n",
      "Exactly equal\n",
      "Exactly equal\n",
      "Exactly equal\n",
      "Exactly equal\n"
     ]
    }
   ],
   "source": [
    "CZ_B10_B_boxes()"
   ]
  },
  {
   "cell_type": "code",
   "execution_count": 160,
   "id": "7acbbba3-70c7-4c7e-bf0c-94ac4c481c05",
   "metadata": {},
   "outputs": [],
   "source": [
    "def CZ_B11_B_boxes():\n",
    "    I = np.identity(3)\n",
    "    w = findAllRoots(3)[0]\n",
    "    wI = makeScalarId(27, w)\n",
    "    w2 = findAllRoots(3)[1]\n",
    "    w2I = makeScalarId(27, w2)\n",
    "\n",
    "    residual1 = np.kron(I, np.kron(I, S @ np.linalg.matrix_power(H, 3)) @ np.linalg.matrix_power(CZ, 2)\n",
    "                       @ np.kron(S @ np.linalg.matrix_power(H, 2), H @ np.linalg.matrix_power(S, 2)))\n",
    "\n",
    "    # Relation 1\n",
    "    LHS = np.kron(B00, I) @ np.kron(I, B11) @ np.kron(CZ, I)\n",
    "    RHS = residual1 @ np.kron(B02, I) @ np.kron(I, B11) @ w2I\n",
    "    equalUpToScalar(LHS, RHS)\n",
    "\n",
    "    residual2 = np.kron(I, np.kron(I, S @ np.linalg.matrix_power(H, 3)) @ np.linalg.matrix_power(CZ, 2)\n",
    "                       @ np.kron(np.linalg.matrix_power(Z, 2), H @ np.linalg.matrix_power(S, 2)))\n",
    "\n",
    "    # Relation 2\n",
    "    LHS = np.kron(B01, I) @ np.kron(I, B11) @ np.kron(CZ, I)\n",
    "    RHS = residual2 @ np.kron(B00, I) @ np.kron(I, B11)\n",
    "    equalUpToScalar(LHS, RHS)\n",
    "\n",
    "    residual3 = np.kron(I, np.kron(Z, np.linalg.matrix_power(Z, 2) @ S @ H) @ np.linalg.matrix_power(CZ, 2)\n",
    "                       @ np.kron(np.linalg.matrix_power(S, 2) @ np.linalg.matrix_power(H, 2), H @ np.linalg.matrix_power(S, 2) @ np.linalg.matrix_power(H, 2)))\n",
    "\n",
    "    # Relation 3\n",
    "    LHS = np.kron(B02, I) @ np.kron(I, B11) @ np.kron(CZ, I)\n",
    "    RHS = residual3 @ np.kron(B01, I) @ np.kron(I, B11) @ wI\n",
    "    equalUpToScalar(LHS, RHS)\n",
    "\n",
    "    residual4 = np.kron(np.linalg.matrix_power(Z, 2) @ np.linalg.matrix_power(X, 2), \n",
    "                        np.kron(Z @ np.linalg.matrix_power(X, 2) @ H @ np.linalg.matrix_power(S, 2) @ H, Z @ np.linalg.matrix_power(X, 2) @ H @ np.linalg.matrix_power(S, 2) @ H) \n",
    "                        @ CZ @ np.kron(H @ np.linalg.matrix_power(S, 2), H @ np.linalg.matrix_power(S, 2)))\n",
    "\n",
    "    # Relation 4\n",
    "    LHS = np.kron(B10, I) @ np.kron(I, B11) @ np.kron(CZ, I)\n",
    "    RHS = residual4 @ np.kron(B12, I) @ np.kron(I, B10) @ wI\n",
    "    equalUpToScalar(LHS, RHS)\n",
    "\n",
    "    # Relation 5\n",
    "    LHS = np.kron(B11, I) @ np.kron(I, B11) @ np.kron(CZ, I)\n",
    "    RHS = residual4 @ np.kron(B10, I) @ np.kron(I, B10) @ wI\n",
    "    equalUpToScalar(LHS, RHS)\n",
    "\n",
    "    # Relation 6\n",
    "    LHS = np.kron(B12, I) @ np.kron(I, B11) @ np.kron(CZ, I)\n",
    "    RHS = residual4 @ np.kron(B11, I) @ np.kron(I, B10) @ wI\n",
    "    equalUpToScalar(LHS, RHS)\n",
    "\n",
    "    residual5 = np.kron(Z @ X, np.kron(np.linalg.matrix_power(Z, 2) @ S @ H @ np.linalg.matrix_power(S, 2), \n",
    "                                       np.linalg.matrix_power(Z, 2) @ S @ H @ np.linalg.matrix_power(S, 2)) \n",
    "                        @ np.linalg.matrix_power(CZ, 2) @ np.kron(H @ np.linalg.matrix_power(S, 2) @ np.linalg.matrix_power(H, 2), \n",
    "                                                                  H @ np.linalg.matrix_power(S, 2)@ np.linalg.matrix_power(H, 2)))\n",
    "    # Relation 7\n",
    "    LHS = np.kron(B20, I) @ np.kron(I, B11) @ np.kron(CZ, I)\n",
    "    RHS = residual5 @ np.kron(B22, I) @ np.kron(I, B12)\n",
    "    equalUpToScalar(LHS, RHS)\n",
    "\n",
    "    # Relation 8\n",
    "    LHS = np.kron(B21, I) @ np.kron(I, B11) @ np.kron(CZ, I)\n",
    "    RHS = residual5 @ np.kron(B20, I) @ np.kron(I, B12)\n",
    "    equalUpToScalar(LHS, RHS)\n",
    "\n",
    "    # Relation 9\n",
    "    LHS = np.kron(B22, I) @ np.kron(I, B11) @ np.kron(CZ, I)\n",
    "    RHS = residual5 @ np.kron(B21, I) @ np.kron(I, B12)\n",
    "    equalUpToScalar(LHS, RHS)"
   ]
  },
  {
   "cell_type": "code",
   "execution_count": 161,
   "id": "4e688ecf-6303-4d46-9e54-2997a542d3c6",
   "metadata": {},
   "outputs": [
    {
     "name": "stdout",
     "output_type": "stream",
     "text": [
      "Exactly equal\n",
      "Exactly equal\n",
      "Exactly equal\n",
      "Exactly equal\n",
      "Exactly equal\n",
      "Exactly equal\n",
      "Exactly equal\n",
      "Exactly equal\n",
      "Exactly equal\n"
     ]
    }
   ],
   "source": [
    "CZ_B11_B_boxes()"
   ]
  },
  {
   "cell_type": "code",
   "execution_count": 162,
   "id": "abc5e9c1-f289-4fdc-a283-380205a92ccd",
   "metadata": {},
   "outputs": [],
   "source": [
    "def CZ_B12_B_boxes():\n",
    "    I = np.identity(3)\n",
    "    w = findAllRoots(3)[0]\n",
    "    wI = makeScalarId(27, w)\n",
    "    w2 = findAllRoots(3)[1]\n",
    "    w2I = makeScalarId(27, w2)\n",
    "\n",
    "    residual1 = np.kron(I, np.kron(I, S @ np.linalg.matrix_power(H, 3)) @ np.linalg.matrix_power(CZ, 2)\n",
    "                       @ np.kron(S @ np.linalg.matrix_power(H, 2), H @ np.linalg.matrix_power(S, 2)))\n",
    "\n",
    "    # Relation 1\n",
    "    LHS = np.kron(B00, I) @ np.kron(I, B12) @ np.kron(CZ, I)\n",
    "    RHS = residual1 @ np.kron(B02, I) @ np.kron(I, B12) @ w2I\n",
    "    equalUpToScalar(LHS, RHS)\n",
    "\n",
    "    residual2 = np.kron(I, np.kron(I, S @ np.linalg.matrix_power(H, 3)) @ np.linalg.matrix_power(CZ, 2)\n",
    "                       @ np.kron(np.linalg.matrix_power(Z, 2), H @ np.linalg.matrix_power(S, 2)))\n",
    "\n",
    "    # Relation 2\n",
    "    LHS = np.kron(B01, I) @ np.kron(I, B12) @ np.kron(CZ, I)\n",
    "    RHS = residual2 @ np.kron(B00, I) @ np.kron(I, B12)\n",
    "    equalUpToScalar(LHS, RHS)\n",
    "\n",
    "    residual3 = np.kron(I, np.kron(Z, np.linalg.matrix_power(Z, 2) @ S @ H) @ np.linalg.matrix_power(CZ, 2)\n",
    "                       @ np.kron(np.linalg.matrix_power(S, 2) @ np.linalg.matrix_power(H, 2), H @ np.linalg.matrix_power(S, 2) @ np.linalg.matrix_power(H, 2)))\n",
    "\n",
    "    # Relation 3\n",
    "    LHS = np.kron(B02, I) @ np.kron(I, B12) @ np.kron(CZ, I)\n",
    "    RHS = residual3 @ np.kron(B01, I) @ np.kron(I, B12) @ wI\n",
    "    equalUpToScalar(LHS, RHS)\n",
    "\n",
    "    residual4 = np.kron(np.linalg.matrix_power(Z, 2) @ np.linalg.matrix_power(X, 2), \n",
    "                        np.kron(Z @ np.linalg.matrix_power(X, 2) @ H @ np.linalg.matrix_power(S, 2) @ H, Z @ np.linalg.matrix_power(X, 2) @ H @ np.linalg.matrix_power(S, 2) @ H) \n",
    "                        @ CZ @ np.kron(H @ np.linalg.matrix_power(S, 2), H @ np.linalg.matrix_power(S, 2)))\n",
    "\n",
    "    # Relation 4\n",
    "    LHS = np.kron(B10, I) @ np.kron(I, B12) @ np.kron(CZ, I)\n",
    "    RHS = residual4 @ np.kron(B12, I) @ np.kron(I, B11) @ wI\n",
    "    equalUpToScalar(LHS, RHS)\n",
    "\n",
    "    # Relation 5\n",
    "    LHS = np.kron(B11, I) @ np.kron(I, B12) @ np.kron(CZ, I)\n",
    "    RHS = residual4 @ np.kron(B10, I) @ np.kron(I, B11) @ wI\n",
    "    equalUpToScalar(LHS, RHS)\n",
    "\n",
    "    # Relation 6\n",
    "    LHS = np.kron(B12, I) @ np.kron(I, B12) @ np.kron(CZ, I)\n",
    "    RHS = residual4 @ np.kron(B11, I) @ np.kron(I, B11) @ wI\n",
    "    equalUpToScalar(LHS, RHS)\n",
    "\n",
    "    residual5 = np.kron(Z @ X, np.kron(np.linalg.matrix_power(Z, 2) @ S @ H @ np.linalg.matrix_power(S, 2), \n",
    "                                       np.linalg.matrix_power(Z, 2) @ S @ H @ np.linalg.matrix_power(S, 2)) \n",
    "                        @ np.linalg.matrix_power(CZ, 2) @ np.kron(H @ np.linalg.matrix_power(S, 2) @ np.linalg.matrix_power(H, 2), \n",
    "                                                                  H @ np.linalg.matrix_power(S, 2)@ np.linalg.matrix_power(H, 2)))\n",
    "    # Relation 7\n",
    "    LHS = np.kron(B20, I) @ np.kron(I, B12) @ np.kron(CZ, I)\n",
    "    RHS = residual5 @ np.kron(B22, I) @ np.kron(I, B10)\n",
    "    equalUpToScalar(LHS, RHS)\n",
    "\n",
    "    # Relation 8\n",
    "    LHS = np.kron(B21, I) @ np.kron(I, B12) @ np.kron(CZ, I)\n",
    "    RHS = residual5 @ np.kron(B20, I) @ np.kron(I, B10)\n",
    "    equalUpToScalar(LHS, RHS)\n",
    "\n",
    "    # Relation 9\n",
    "    LHS = np.kron(B22, I) @ np.kron(I, B12) @ np.kron(CZ, I)\n",
    "    RHS = residual5 @ np.kron(B21, I) @ np.kron(I, B10)\n",
    "    equalUpToScalar(LHS, RHS)"
   ]
  },
  {
   "cell_type": "code",
   "execution_count": 163,
   "id": "833778dc-fffa-4ae2-8f6a-231dfb399c0b",
   "metadata": {},
   "outputs": [
    {
     "name": "stdout",
     "output_type": "stream",
     "text": [
      "Exactly equal\n",
      "Exactly equal\n",
      "Exactly equal\n",
      "Exactly equal\n",
      "Exactly equal\n",
      "Exactly equal\n",
      "Exactly equal\n",
      "Exactly equal\n",
      "Exactly equal\n"
     ]
    }
   ],
   "source": [
    "CZ_B12_B_boxes()"
   ]
  },
  {
   "cell_type": "code",
   "execution_count": 164,
   "id": "6df76ae8-a505-4109-ad17-1fe01a9c2228",
   "metadata": {},
   "outputs": [],
   "source": [
    "def CZ_B20_B_boxes():\n",
    "    I = np.identity(3)\n",
    "    w = findAllRoots(3)[0]\n",
    "    wI = makeScalarId(27, w)\n",
    "    w2 = findAllRoots(3)[1]\n",
    "    w2I = makeScalarId(27, w2)\n",
    "\n",
    "    residual1 = np.kron(I, np.kron(I, Z @ S @ H) @ np.linalg.matrix_power(CZ, 2)\n",
    "                       @ np.kron(I, H @ S @ np.linalg.matrix_power(H, 2) @ S))\n",
    "\n",
    "    # Relation 1\n",
    "    LHS = np.kron(B00, I) @ np.kron(I, B20) @ np.kron(CZ, I)\n",
    "    RHS = residual1 @ np.kron(B01, I) @ np.kron(I, B20)\n",
    "    equalUpToScalar(LHS, RHS)\n",
    "\n",
    "    residual2 = np.kron(I, np.kron(I, np.linalg.matrix_power(Z, 2) @ S @ H) @ np.linalg.matrix_power(CZ, 2)\n",
    "                       @ np.kron(S @ np.linalg.matrix_power(H, 2), H @ np.linalg.matrix_power(S, 2) @ np.linalg.matrix_power(H, 2)))\n",
    "\n",
    "    # Relation 2\n",
    "    LHS = np.kron(B01, I) @ np.kron(I, B20) @ np.kron(CZ, I)\n",
    "    RHS = residual2 @ np.kron(B02, I) @ np.kron(I, B20) @ w2I\n",
    "    equalUpToScalar(LHS, RHS)\n",
    "\n",
    "    residual3 = np.kron(I, np.kron(Z, S @ np.linalg.matrix_power(H, 3)) @ np.linalg.matrix_power(CZ, 2)\n",
    "                       @ np.kron(np.linalg.matrix_power(S, 2) @ np.linalg.matrix_power(H, 2), H @ np.linalg.matrix_power(S, 2)))\n",
    "\n",
    "    # Relation 3\n",
    "    LHS = np.kron(B02, I) @ np.kron(I, B20) @ np.kron(CZ, I)\n",
    "    RHS = residual3 @ np.kron(B00, I) @ np.kron(I, B20) @ wI\n",
    "    equalUpToScalar(LHS, RHS)\n",
    "\n",
    "    residual4 = np.kron(Z @ X, np.kron(np.linalg.matrix_power(Z, 2) @ S @ H @ np.linalg.matrix_power(S, 2), \n",
    "                                       np.linalg.matrix_power(Z, 2) @ S @ H @ np.linalg.matrix_power(S, 2)) \n",
    "                        @ np.linalg.matrix_power(CZ, 2) @ np.kron(H @ np.linalg.matrix_power(S, 2) @ np.linalg.matrix_power(H, 2), \n",
    "                                                                  H @ np.linalg.matrix_power(S, 2)@ np.linalg.matrix_power(H, 2)))\n",
    "    \n",
    "    # Relation 4\n",
    "    LHS = np.kron(B10, I) @ np.kron(I, B20) @ np.kron(CZ, I)\n",
    "    RHS = residual4 @ np.kron(B11, I) @ np.kron(I, B22)\n",
    "    equalUpToScalar(LHS, RHS)\n",
    "\n",
    "    # Relation 5\n",
    "    LHS = np.kron(B11, I) @ np.kron(I, B20) @ np.kron(CZ, I)\n",
    "    RHS = residual4 @ np.kron(B12, I) @ np.kron(I, B22)\n",
    "    equalUpToScalar(LHS, RHS)\n",
    "\n",
    "    # Relation 6\n",
    "    LHS = np.kron(B12, I) @ np.kron(I, B20) @ np.kron(CZ, I)\n",
    "    RHS = residual4 @ np.kron(B10, I) @ np.kron(I, B22)\n",
    "    equalUpToScalar(LHS, RHS)\n",
    "\n",
    "    residual5 = np.kron(np.linalg.matrix_power(Z, 2) @ np.linalg.matrix_power(X, 2), \n",
    "                        np.kron(Z @ np.linalg.matrix_power(X, 2) @ H @ np.linalg.matrix_power(S, 2) @ H, \n",
    "                                Z @ np.linalg.matrix_power(X, 2) @ H @ np.linalg.matrix_power(S, 2) @ H) \n",
    "                        @ CZ @ np.kron(H @ np.linalg.matrix_power(S, 2), H @ np.linalg.matrix_power(S, 2)))\n",
    "\n",
    "    # Relation 7\n",
    "    LHS = np.kron(B20, I) @ np.kron(I, B20) @ np.kron(CZ, I)\n",
    "    RHS = residual5 @ np.kron(B21, I) @ np.kron(I, B21) @ wI\n",
    "    equalUpToScalar(LHS, RHS)\n",
    "\n",
    "    # Relation 8\n",
    "    LHS = np.kron(B21, I) @ np.kron(I, B20) @ np.kron(CZ, I)\n",
    "    RHS = residual5 @ np.kron(B22, I) @ np.kron(I, B21) @ wI\n",
    "    equalUpToScalar(LHS, RHS)\n",
    "\n",
    "    # Relation 9\n",
    "    LHS = np.kron(B22, I) @ np.kron(I, B20) @ np.kron(CZ, I)\n",
    "    RHS = residual5 @ np.kron(B20, I) @ np.kron(I, B21) @ wI\n",
    "    equalUpToScalar(LHS, RHS)"
   ]
  },
  {
   "cell_type": "code",
   "execution_count": 165,
   "id": "07c030cc-e9bd-49be-9b7b-984e4cb9e54c",
   "metadata": {},
   "outputs": [
    {
     "name": "stdout",
     "output_type": "stream",
     "text": [
      "Exactly equal\n",
      "Exactly equal\n",
      "Exactly equal\n",
      "Exactly equal\n",
      "Exactly equal\n",
      "Exactly equal\n",
      "Exactly equal\n",
      "Exactly equal\n",
      "Exactly equal\n"
     ]
    }
   ],
   "source": [
    "CZ_B20_B_boxes()"
   ]
  },
  {
   "cell_type": "code",
   "execution_count": 166,
   "id": "dc728169-13b1-4ece-b6cc-75e30cf0a69f",
   "metadata": {},
   "outputs": [],
   "source": [
    "def CZ_B21_B_boxes():\n",
    "    I = np.identity(3)\n",
    "    w = findAllRoots(3)[0]\n",
    "    wI = makeScalarId(27, w)\n",
    "    w2 = findAllRoots(3)[1]\n",
    "    w2I = makeScalarId(27, w2)\n",
    "\n",
    "    residual1 = np.kron(I, np.kron(I, Z @ S @ H) @ np.linalg.matrix_power(CZ, 2)\n",
    "                       @ np.kron(I, H @ S @ np.linalg.matrix_power(H, 2) @ S))\n",
    "\n",
    "    # Relation 1\n",
    "    LHS = np.kron(B00, I) @ np.kron(I, B21) @ np.kron(CZ, I)\n",
    "    RHS = residual1 @ np.kron(B01, I) @ np.kron(I, B21)\n",
    "    equalUpToScalar(LHS, RHS)\n",
    "\n",
    "    residual2 = np.kron(I, np.kron(I, np.linalg.matrix_power(Z, 2) @ S @ H) @ np.linalg.matrix_power(CZ, 2)\n",
    "                       @ np.kron(S @ np.linalg.matrix_power(H, 2), H @ np.linalg.matrix_power(S, 2) @ np.linalg.matrix_power(H, 2)))\n",
    "\n",
    "    # Relation 2\n",
    "    LHS = np.kron(B01, I) @ np.kron(I, B21) @ np.kron(CZ, I)\n",
    "    RHS = residual2 @ np.kron(B02, I) @ np.kron(I, B21) @ w2I\n",
    "    equalUpToScalar(LHS, RHS)\n",
    "\n",
    "    residual3 = np.kron(I, np.kron(Z, S @ np.linalg.matrix_power(H, 3)) @ np.linalg.matrix_power(CZ, 2)\n",
    "                       @ np.kron(np.linalg.matrix_power(S, 2) @ np.linalg.matrix_power(H, 2), H @ np.linalg.matrix_power(S, 2)))\n",
    "\n",
    "    # Relation 3\n",
    "    LHS = np.kron(B02, I) @ np.kron(I, B21) @ np.kron(CZ, I)\n",
    "    RHS = residual3 @ np.kron(B00, I) @ np.kron(I, B21) @ wI\n",
    "    equalUpToScalar(LHS, RHS)\n",
    "\n",
    "    residual4 = np.kron(Z @ X, np.kron(np.linalg.matrix_power(Z, 2) @ S @ H @ np.linalg.matrix_power(S, 2), \n",
    "                                       np.linalg.matrix_power(Z, 2) @ S @ H @ np.linalg.matrix_power(S, 2)) \n",
    "                        @ np.linalg.matrix_power(CZ, 2) @ np.kron(H @ np.linalg.matrix_power(S, 2) @ np.linalg.matrix_power(H, 2), \n",
    "                                                                  H @ np.linalg.matrix_power(S, 2)@ np.linalg.matrix_power(H, 2)))\n",
    "    \n",
    "    # Relation 4\n",
    "    LHS = np.kron(B10, I) @ np.kron(I, B21) @ np.kron(CZ, I)\n",
    "    RHS = residual4 @ np.kron(B11, I) @ np.kron(I, B20)\n",
    "    equalUpToScalar(LHS, RHS)\n",
    "\n",
    "    # Relation 5\n",
    "    LHS = np.kron(B11, I) @ np.kron(I, B21) @ np.kron(CZ, I)\n",
    "    RHS = residual4 @ np.kron(B12, I) @ np.kron(I, B20)\n",
    "    equalUpToScalar(LHS, RHS)\n",
    "\n",
    "    # Relation 6\n",
    "    LHS = np.kron(B12, I) @ np.kron(I, B21) @ np.kron(CZ, I)\n",
    "    RHS = residual4 @ np.kron(B10, I) @ np.kron(I, B20)\n",
    "    equalUpToScalar(LHS, RHS)\n",
    "\n",
    "    residual5 = np.kron(np.linalg.matrix_power(Z, 2) @ np.linalg.matrix_power(X, 2), \n",
    "                        np.kron(Z @ np.linalg.matrix_power(X, 2) @ H @ np.linalg.matrix_power(S, 2) @ H, \n",
    "                                Z @ np.linalg.matrix_power(X, 2) @ H @ np.linalg.matrix_power(S, 2) @ H) \n",
    "                        @ CZ @ np.kron(H @ np.linalg.matrix_power(S, 2), H @ np.linalg.matrix_power(S, 2)))\n",
    "\n",
    "    # Relation 7\n",
    "    LHS = np.kron(B20, I) @ np.kron(I, B21) @ np.kron(CZ, I)\n",
    "    RHS = residual5 @ np.kron(B21, I) @ np.kron(I, B22) @ wI\n",
    "    equalUpToScalar(LHS, RHS)\n",
    "\n",
    "    # Relation 8\n",
    "    LHS = np.kron(B21, I) @ np.kron(I, B21) @ np.kron(CZ, I)\n",
    "    RHS = residual5 @ np.kron(B22, I) @ np.kron(I, B22) @ wI\n",
    "    equalUpToScalar(LHS, RHS)\n",
    "\n",
    "    # Relation 9\n",
    "    LHS = np.kron(B22, I) @ np.kron(I, B21) @ np.kron(CZ, I)\n",
    "    RHS = residual5 @ np.kron(B20, I) @ np.kron(I, B22) @ wI\n",
    "    equalUpToScalar(LHS, RHS)"
   ]
  },
  {
   "cell_type": "code",
   "execution_count": 167,
   "id": "1f67f236-45cc-48f9-abac-e64d8ccf892b",
   "metadata": {},
   "outputs": [
    {
     "name": "stdout",
     "output_type": "stream",
     "text": [
      "Exactly equal\n",
      "Exactly equal\n",
      "Exactly equal\n",
      "Exactly equal\n",
      "Exactly equal\n",
      "Exactly equal\n",
      "Exactly equal\n",
      "Exactly equal\n",
      "Exactly equal\n"
     ]
    }
   ],
   "source": [
    "CZ_B21_B_boxes()"
   ]
  },
  {
   "cell_type": "code",
   "execution_count": 168,
   "id": "63766798-efdf-4a2d-9b83-dc3967b43a68",
   "metadata": {},
   "outputs": [],
   "source": [
    "def CZ_B22_B_boxes():\n",
    "    I = np.identity(3)\n",
    "    w = findAllRoots(3)[0]\n",
    "    wI = makeScalarId(27, w)\n",
    "    w2 = findAllRoots(3)[1]\n",
    "    w2I = makeScalarId(27, w2)\n",
    "\n",
    "    residual1 = np.kron(I, np.kron(I, Z @ S @ H) @ np.linalg.matrix_power(CZ, 2)\n",
    "                       @ np.kron(I, H @ S @ np.linalg.matrix_power(H, 2) @ S))\n",
    "\n",
    "    # Relation 1\n",
    "    LHS = np.kron(B00, I) @ np.kron(I, B22) @ np.kron(CZ, I)\n",
    "    RHS = residual1 @ np.kron(B01, I) @ np.kron(I, B22)\n",
    "    equalUpToScalar(LHS, RHS)\n",
    "\n",
    "    residual2 = np.kron(I, np.kron(I, np.linalg.matrix_power(Z, 2) @ S @ H) @ np.linalg.matrix_power(CZ, 2)\n",
    "                       @ np.kron(S @ np.linalg.matrix_power(H, 2), H @ np.linalg.matrix_power(S, 2) @ np.linalg.matrix_power(H, 2)))\n",
    "\n",
    "    # Relation 2\n",
    "    LHS = np.kron(B01, I) @ np.kron(I, B22) @ np.kron(CZ, I)\n",
    "    RHS = residual2 @ np.kron(B02, I) @ np.kron(I, B22) @ w2I\n",
    "    equalUpToScalar(LHS, RHS)\n",
    "\n",
    "    residual3 = np.kron(I, np.kron(Z, S @ np.linalg.matrix_power(H, 3)) @ np.linalg.matrix_power(CZ, 2)\n",
    "                       @ np.kron(np.linalg.matrix_power(S, 2) @ np.linalg.matrix_power(H, 2), H @ np.linalg.matrix_power(S, 2)))\n",
    "\n",
    "    # Relation 3\n",
    "    LHS = np.kron(B02, I) @ np.kron(I, B22) @ np.kron(CZ, I)\n",
    "    RHS = residual3 @ np.kron(B00, I) @ np.kron(I, B22) @ wI\n",
    "    equalUpToScalar(LHS, RHS)\n",
    "\n",
    "    residual4 = np.kron(Z @ X, np.kron(np.linalg.matrix_power(Z, 2) @ S @ H @ np.linalg.matrix_power(S, 2), \n",
    "                                       np.linalg.matrix_power(Z, 2) @ S @ H @ np.linalg.matrix_power(S, 2)) \n",
    "                        @ np.linalg.matrix_power(CZ, 2) @ np.kron(H @ np.linalg.matrix_power(S, 2) @ np.linalg.matrix_power(H, 2), \n",
    "                                                                  H @ np.linalg.matrix_power(S, 2)@ np.linalg.matrix_power(H, 2)))\n",
    "    \n",
    "    # Relation 4\n",
    "    LHS = np.kron(B10, I) @ np.kron(I, B22) @ np.kron(CZ, I)\n",
    "    RHS = residual4 @ np.kron(B11, I) @ np.kron(I, B21)\n",
    "    equalUpToScalar(LHS, RHS)\n",
    "\n",
    "    # Relation 5\n",
    "    LHS = np.kron(B11, I) @ np.kron(I, B22) @ np.kron(CZ, I)\n",
    "    RHS = residual4 @ np.kron(B12, I) @ np.kron(I, B21)\n",
    "    equalUpToScalar(LHS, RHS)\n",
    "\n",
    "    # Relation 6\n",
    "    LHS = np.kron(B12, I) @ np.kron(I, B22) @ np.kron(CZ, I)\n",
    "    RHS = residual4 @ np.kron(B10, I) @ np.kron(I, B21)\n",
    "    equalUpToScalar(LHS, RHS)\n",
    "\n",
    "    residual5 = np.kron(np.linalg.matrix_power(Z, 2) @ np.linalg.matrix_power(X, 2), \n",
    "                        np.kron(Z @ np.linalg.matrix_power(X, 2) @ H @ np.linalg.matrix_power(S, 2) @ H, \n",
    "                                Z @ np.linalg.matrix_power(X, 2) @ H @ np.linalg.matrix_power(S, 2) @ H) \n",
    "                        @ CZ @ np.kron(H @ np.linalg.matrix_power(S, 2), H @ np.linalg.matrix_power(S, 2)))\n",
    "\n",
    "    # Relation 7\n",
    "    LHS = np.kron(B20, I) @ np.kron(I, B22) @ np.kron(CZ, I)\n",
    "    RHS = residual5 @ np.kron(B21, I) @ np.kron(I, B20) @ wI\n",
    "    equalUpToScalar(LHS, RHS)\n",
    "\n",
    "    # Relation 8\n",
    "    LHS = np.kron(B21, I) @ np.kron(I, B22) @ np.kron(CZ, I)\n",
    "    RHS = residual5 @ np.kron(B22, I) @ np.kron(I, B20) @ wI\n",
    "    equalUpToScalar(LHS, RHS)\n",
    "\n",
    "    # Relation 9\n",
    "    LHS = np.kron(B22, I) @ np.kron(I, B22) @ np.kron(CZ, I)\n",
    "    RHS = residual5 @ np.kron(B20, I) @ np.kron(I, B20) @ wI\n",
    "    equalUpToScalar(LHS, RHS)"
   ]
  },
  {
   "cell_type": "code",
   "execution_count": 169,
   "id": "31b28618-1620-46e7-aa29-8896805dcbd6",
   "metadata": {},
   "outputs": [
    {
     "name": "stdout",
     "output_type": "stream",
     "text": [
      "Exactly equal\n",
      "Exactly equal\n",
      "Exactly equal\n",
      "Exactly equal\n",
      "Exactly equal\n",
      "Exactly equal\n",
      "Exactly equal\n",
      "Exactly equal\n",
      "Exactly equal\n"
     ]
    }
   ],
   "source": [
    "CZ_B22_B_boxes()"
   ]
  },
  {
   "cell_type": "code",
   "execution_count": 170,
   "id": "17dbecfb-65f5-442f-9283-1d8db342264a",
   "metadata": {},
   "outputs": [],
   "source": [
    "def IxH_D_boxes():\n",
    "    I = np.identity(3)\n",
    "    w = findAllRoots(3)[0]\n",
    "    wI = makeScalarId(9, w)\n",
    "    w2 = findAllRoots(3)[1]\n",
    "    w2I = makeScalarId(9, w2)\n",
    "\n",
    "    # Relation 1\n",
    "    LHS = D00 @ np.kron(I, H) \n",
    "    RHS = np.kron(H, I) @ D00\n",
    "    equalUpToScalar(LHS, RHS)\n",
    "\n",
    "    # Relation 2\n",
    "    LHS = D01 @ np.kron(I, H) \n",
    "    RHS = D10\n",
    "    equalUpToScalar(LHS, RHS)\n",
    "\n",
    "    residual0 = np.kron(np.linalg.matrix_power(H, 2), I)\n",
    "\n",
    "    # Relation 3\n",
    "    LHS = D02 @ np.kron(I, H) \n",
    "    RHS = residual0 @ D20\n",
    "    equalUpToScalar(LHS, RHS)\n",
    "\n",
    "    # Relation 4\n",
    "    LHS = D10 @ np.kron(I, H) \n",
    "    RHS = residual0 @ D02\n",
    "    equalUpToScalar(LHS, RHS)\n",
    "\n",
    "    residual1 = np.kron(np.linalg.matrix_power(X, 2) @ np.linalg.matrix_power(S, 2), Z)\n",
    "\n",
    "    # Relation 5\n",
    "    LHS = D11 @ np.kron(I, H) \n",
    "    RHS = residual1 @ D12 * (-1) @ w2I\n",
    "    equalUpToScalar(LHS, RHS)\n",
    "\n",
    "    residual2 = np.kron(X @ S @ np.linalg.matrix_power(Z, 2), np.linalg.matrix_power(Z, 2))\n",
    "\n",
    "    # Relation 6\n",
    "    LHS = D12 @ np.kron(I, H) \n",
    "    RHS = residual2 @ D22 * (-1) @ wI\n",
    "    equalUpToScalar(LHS, RHS)\n",
    "\n",
    "    # Relation 7\n",
    "    LHS = D20 @ np.kron(I, H) \n",
    "    RHS = D01\n",
    "    equalUpToScalar(LHS, RHS)\n",
    "\n",
    "    # Relation 8\n",
    "    LHS = D21 @ np.kron(I, H) \n",
    "    RHS = residual2 @ D11 * (-1) @ wI\n",
    "    equalUpToScalar(LHS, RHS)\n",
    "\n",
    "    # Relation 9\n",
    "    LHS = D22 @ np.kron(I, H) \n",
    "    RHS = residual1 @ D21 * (-1) @ w2I\n",
    "    equalUpToScalar(LHS, RHS) "
   ]
  },
  {
   "cell_type": "code",
   "execution_count": 171,
   "id": "19fdd5ba-b536-42a6-9aec-d5a70397b8e4",
   "metadata": {},
   "outputs": [
    {
     "name": "stdout",
     "output_type": "stream",
     "text": [
      "Exactly equal\n",
      "Exactly equal\n",
      "Exactly equal\n",
      "Exactly equal\n",
      "Exactly equal\n",
      "Exactly equal\n",
      "Exactly equal\n",
      "Exactly equal\n",
      "Exactly equal\n"
     ]
    }
   ],
   "source": [
    "IxH_D_boxes()"
   ]
  },
  {
   "cell_type": "code",
   "execution_count": 172,
   "id": "2fd1e673-96df-48d1-b199-2f00c752e7ec",
   "metadata": {},
   "outputs": [],
   "source": [
    "def IxS_D_boxes():\n",
    "    I = np.identity(3)\n",
    "    w = findAllRoots(3)[0]\n",
    "    wI = makeScalarId(9, w)\n",
    "    w2 = findAllRoots(3)[1]\n",
    "    w2I = makeScalarId(9, w2)\n",
    "\n",
    "    # Relation 1\n",
    "    LHS = D00 @ np.kron(I, S) \n",
    "    RHS = np.kron(S, I) @ D00\n",
    "    equalUpToScalar(LHS, RHS)\n",
    "\n",
    "    # Relation 2\n",
    "    LHS = D01 @ np.kron(I, S) \n",
    "    RHS = np.kron(S, I) @ D01\n",
    "    equalUpToScalar(LHS, RHS)\n",
    "\n",
    "    # Relation 3\n",
    "    LHS = D02 @ np.kron(I, S) \n",
    "    RHS = np.kron(S, I) @ D02\n",
    "    equalUpToScalar(LHS, RHS)\n",
    "\n",
    "    # Relation 4\n",
    "    LHS = D10 @ np.kron(I, S) \n",
    "    RHS = D11\n",
    "    equalUpToScalar(LHS, RHS)\n",
    "\n",
    "    # Relation 5\n",
    "    LHS = D11 @ np.kron(I, S) \n",
    "    RHS = D12\n",
    "    equalUpToScalar(LHS, RHS)\n",
    "\n",
    "    # Relation 6\n",
    "    LHS = D12 @ np.kron(I, S) \n",
    "    RHS = D10\n",
    "    equalUpToScalar(LHS, RHS)\n",
    "\n",
    "    residual = np.kron(X, Z @ Z)\n",
    "\n",
    "    # Relation 7\n",
    "    LHS = D20 @ np.kron(I, S) \n",
    "    RHS = residual @ D22\n",
    "    equalUpToScalar(LHS, RHS)\n",
    "\n",
    "    # Relation 8\n",
    "    LHS = D21 @ np.kron(I, S) \n",
    "    RHS = residual @ D20\n",
    "    equalUpToScalar(LHS, RHS)\n",
    "\n",
    "    # Relation 9\n",
    "    LHS = D22 @ np.kron(I, S) \n",
    "    RHS = residual @ D21\n",
    "    equalUpToScalar(LHS, RHS) "
   ]
  },
  {
   "cell_type": "code",
   "execution_count": 173,
   "id": "ab3f43e2-3fbb-4b70-bda6-17bd8a6902e6",
   "metadata": {},
   "outputs": [
    {
     "name": "stdout",
     "output_type": "stream",
     "text": [
      "Exactly equal\n",
      "Exactly equal\n",
      "Exactly equal\n",
      "Exactly equal\n",
      "Exactly equal\n",
      "Exactly equal\n",
      "Exactly equal\n",
      "Exactly equal\n",
      "Exactly equal\n"
     ]
    }
   ],
   "source": [
    "IxS_D_boxes()"
   ]
  },
  {
   "cell_type": "code",
   "execution_count": 174,
   "id": "dd2dfbad-9b62-4089-81e7-eeeee9fa42d7",
   "metadata": {},
   "outputs": [],
   "source": [
    "def CZ_D00_D_boxes():\n",
    "    I = np.identity(3)\n",
    "    w = findAllRoots(3)[0]\n",
    "    wI = makeScalarId(27, w)\n",
    "    w2 = findAllRoots(3)[1]\n",
    "    w2I = makeScalarId(27, w2)\n",
    "\n",
    "    # Relation 1\n",
    "    LHS = np.kron(I, D00)@ np.kron(D00, I) @ np.kron(I, CZ)\n",
    "    RHS = np.kron(CZ, I) @ np.kron(I, D00) @ np.kron(D00, I) \n",
    "    equalUpToScalar(LHS, RHS)\n",
    "\n",
    "    # Relation 2\n",
    "    LHS = np.kron(I, D01)@ np.kron(D00, I) @ np.kron(I, CZ)\n",
    "    RHS = np.kron(CZ, I) @ np.kron(I, D01) @ np.kron(D00, I) \n",
    "    equalUpToScalar(LHS, RHS)\n",
    "\n",
    "    # Relation 3\n",
    "    LHS = np.kron(I, D02)@ np.kron(D00, I) @ np.kron(I, CZ)\n",
    "    RHS = np.kron(CZ, I) @ np.kron(I, D02) @ np.kron(D00, I) \n",
    "    equalUpToScalar(LHS, RHS)\n",
    "\n",
    "    residual1 = np.kron(np.kron(I,np.linalg.matrix_power(H, 3)) \n",
    "                        @ np.linalg.matrix_power(CZ, 2) @ np.kron(I,H), I)\n",
    "\n",
    "    # Relation 4\n",
    "    LHS = np.kron(I, D10)@ np.kron(D00, I) @ np.kron(I, CZ)\n",
    "    RHS = residual1 @ np.kron(I, D10) @ np.kron(D02, I) \n",
    "    equalUpToScalar(LHS, RHS)\n",
    "\n",
    "    # Relation 5\n",
    "    LHS = np.kron(I, D11)@ np.kron(D00, I) @ np.kron(I, CZ)\n",
    "    RHS = residual1 @ np.kron(I, D11) @ np.kron(D02, I) \n",
    "    equalUpToScalar(LHS, RHS)\n",
    "\n",
    "    # Relation 6\n",
    "    LHS = np.kron(I, D12)@ np.kron(D00, I) @ np.kron(I, CZ)\n",
    "    RHS = residual1 @ np.kron(I, D12) @ np.kron(D02, I) \n",
    "    equalUpToScalar(LHS, RHS)\n",
    "\n",
    "    residual2 = np.kron(np.kron(I,np.linalg.matrix_power(H, 3)) @ CZ @ np.kron(I,H), I)\n",
    "\n",
    "    # Relation 7\n",
    "    LHS = np.kron(I, D20)@ np.kron(D00, I) @ np.kron(I, CZ)\n",
    "    RHS = residual2 @ np.kron(I, D20) @ np.kron(D01, I) \n",
    "    equalUpToScalar(LHS, RHS)\n",
    "\n",
    "    # Relation 8\n",
    "    LHS = np.kron(I, D21)@ np.kron(D00, I) @ np.kron(I, CZ)\n",
    "    RHS = residual2 @ np.kron(I, D21) @ np.kron(D01, I) \n",
    "    equalUpToScalar(LHS, RHS)\n",
    "\n",
    "    # Relation 9\n",
    "    LHS = np.kron(I, D22)@ np.kron(D00, I) @ np.kron(I, CZ)\n",
    "    RHS = residual2 @ np.kron(I, D22) @ np.kron(D01, I) \n",
    "    equalUpToScalar(LHS, RHS)"
   ]
  },
  {
   "cell_type": "code",
   "execution_count": 175,
   "id": "4151472a-8cbe-47de-87e4-467415c8a471",
   "metadata": {},
   "outputs": [
    {
     "name": "stdout",
     "output_type": "stream",
     "text": [
      "Exactly equal\n",
      "Exactly equal\n",
      "Exactly equal\n",
      "Exactly equal\n",
      "Exactly equal\n",
      "Exactly equal\n",
      "Exactly equal\n",
      "Exactly equal\n",
      "Exactly equal\n"
     ]
    }
   ],
   "source": [
    "CZ_D00_D_boxes()"
   ]
  },
  {
   "cell_type": "code",
   "execution_count": 176,
   "id": "c46c3b6b-46b9-438d-abed-665516271091",
   "metadata": {},
   "outputs": [],
   "source": [
    "def CZ_D01_D_boxes():\n",
    "    I = np.identity(3)\n",
    "    w = findAllRoots(3)[0]\n",
    "    wI = makeScalarId(27, w)\n",
    "    w2 = findAllRoots(3)[1]\n",
    "    w2I = makeScalarId(27, w2)\n",
    "\n",
    "    # Relation 1\n",
    "    LHS = np.kron(I, D00)@ np.kron(D01, I) @ np.kron(I, CZ)\n",
    "    RHS = np.kron(CZ, I) @ np.kron(I, D00) @ np.kron(D01, I) \n",
    "    equalUpToScalar(LHS, RHS)\n",
    "\n",
    "    # Relation 2\n",
    "    LHS = np.kron(I, D01)@ np.kron(D01, I) @ np.kron(I, CZ)\n",
    "    RHS = np.kron(CZ, I) @ np.kron(I, D01) @ np.kron(D01, I) \n",
    "    equalUpToScalar(LHS, RHS)\n",
    "\n",
    "    # Relation 3\n",
    "    LHS = np.kron(I, D02)@ np.kron(D01, I) @ np.kron(I, CZ)\n",
    "    RHS = np.kron(CZ, I) @ np.kron(I, D02) @ np.kron(D01, I) \n",
    "    equalUpToScalar(LHS, RHS)\n",
    "\n",
    "    residual1 = np.kron(np.kron(I,np.linalg.matrix_power(H, 3)) \n",
    "                        @ np.linalg.matrix_power(CZ, 2) @ np.kron(I,H), I)\n",
    "\n",
    "    # Relation 4\n",
    "    LHS = np.kron(I, D10)@ np.kron(D01, I) @ np.kron(I, CZ)\n",
    "    RHS = residual1 @ np.kron(I, D10) @ np.kron(D00, I) \n",
    "    equalUpToScalar(LHS, RHS)\n",
    "\n",
    "    # Relation 5\n",
    "    LHS = np.kron(I, D11)@ np.kron(D01, I) @ np.kron(I, CZ)\n",
    "    RHS = residual1 @ np.kron(I, D11) @ np.kron(D00, I) \n",
    "    equalUpToScalar(LHS, RHS)\n",
    "\n",
    "    # Relation 6\n",
    "    LHS = np.kron(I, D12)@ np.kron(D01, I) @ np.kron(I, CZ)\n",
    "    RHS = residual1 @ np.kron(I, D12) @ np.kron(D00, I) \n",
    "    equalUpToScalar(LHS, RHS)\n",
    "\n",
    "    residual2 = np.kron(np.kron(I,np.linalg.matrix_power(H, 3)) @ CZ @ np.kron(I,H), I)\n",
    "\n",
    "    # Relation 7\n",
    "    LHS = np.kron(I, D20)@ np.kron(D01, I) @ np.kron(I, CZ)\n",
    "    RHS = residual2 @ np.kron(I, D20) @ np.kron(D02, I) \n",
    "    equalUpToScalar(LHS, RHS)\n",
    "\n",
    "    # Relation 8\n",
    "    LHS = np.kron(I, D21)@ np.kron(D01, I) @ np.kron(I, CZ)\n",
    "    RHS = residual2 @ np.kron(I, D21) @ np.kron(D02, I) \n",
    "    equalUpToScalar(LHS, RHS)\n",
    "\n",
    "    # Relation 9\n",
    "    LHS = np.kron(I, D22)@ np.kron(D01, I) @ np.kron(I, CZ)\n",
    "    RHS = residual2 @ np.kron(I, D22) @ np.kron(D02, I) \n",
    "    equalUpToScalar(LHS, RHS)"
   ]
  },
  {
   "cell_type": "code",
   "execution_count": 177,
   "id": "1e67ee48-35b7-4465-8521-496ccce6825e",
   "metadata": {},
   "outputs": [
    {
     "name": "stdout",
     "output_type": "stream",
     "text": [
      "Exactly equal\n",
      "Exactly equal\n",
      "Exactly equal\n",
      "Exactly equal\n",
      "Exactly equal\n",
      "Exactly equal\n",
      "Exactly equal\n",
      "Exactly equal\n",
      "Exactly equal\n"
     ]
    }
   ],
   "source": [
    "CZ_D01_D_boxes()"
   ]
  },
  {
   "cell_type": "code",
   "execution_count": 178,
   "id": "a0ec3062-6c97-41ac-8384-7f049b24aad5",
   "metadata": {},
   "outputs": [],
   "source": [
    "def CZ_D02_D_boxes():\n",
    "    I = np.identity(3)\n",
    "    w = findAllRoots(3)[0]\n",
    "    wI = makeScalarId(27, w)\n",
    "    w2 = findAllRoots(3)[1]\n",
    "    w2I = makeScalarId(27, w2)\n",
    "\n",
    "    # Relation 1\n",
    "    LHS = np.kron(I, D00)@ np.kron(D02, I) @ np.kron(I, CZ)\n",
    "    RHS = np.kron(CZ, I) @ np.kron(I, D00) @ np.kron(D02, I) \n",
    "    equalUpToScalar(LHS, RHS)\n",
    "\n",
    "    # Relation 2\n",
    "    LHS = np.kron(I, D01)@ np.kron(D02, I) @ np.kron(I, CZ)\n",
    "    RHS = np.kron(CZ, I) @ np.kron(I, D01) @ np.kron(D02, I) \n",
    "    equalUpToScalar(LHS, RHS)\n",
    "\n",
    "    # Relation 3\n",
    "    LHS = np.kron(I, D02)@ np.kron(D02, I) @ np.kron(I, CZ)\n",
    "    RHS = np.kron(CZ, I) @ np.kron(I, D02) @ np.kron(D02, I) \n",
    "    equalUpToScalar(LHS, RHS)\n",
    "\n",
    "    residual1 = np.kron(np.kron(I,np.linalg.matrix_power(H, 3)) \n",
    "                        @ np.linalg.matrix_power(CZ, 2) @ np.kron(I,H), I)\n",
    "\n",
    "    # Relation 4\n",
    "    LHS = np.kron(I, D10)@ np.kron(D02, I) @ np.kron(I, CZ)\n",
    "    RHS = residual1 @ np.kron(I, D10) @ np.kron(D01, I) \n",
    "    equalUpToScalar(LHS, RHS)\n",
    "\n",
    "    # Relation 5\n",
    "    LHS = np.kron(I, D11)@ np.kron(D02, I) @ np.kron(I, CZ)\n",
    "    RHS = residual1 @ np.kron(I, D11) @ np.kron(D01, I) \n",
    "    equalUpToScalar(LHS, RHS)\n",
    "\n",
    "    # Relation 6\n",
    "    LHS = np.kron(I, D12)@ np.kron(D02, I) @ np.kron(I, CZ)\n",
    "    RHS = residual1 @ np.kron(I, D12) @ np.kron(D01, I) \n",
    "    equalUpToScalar(LHS, RHS)\n",
    "\n",
    "    residual2 = np.kron(np.kron(I,np.linalg.matrix_power(H, 3)) @ CZ @ np.kron(I,H), I)\n",
    "\n",
    "    # Relation 7\n",
    "    LHS = np.kron(I, D20)@ np.kron(D02, I) @ np.kron(I, CZ)\n",
    "    RHS = residual2 @ np.kron(I, D20) @ np.kron(D00, I) \n",
    "    equalUpToScalar(LHS, RHS)\n",
    "\n",
    "    # Relation 8\n",
    "    LHS = np.kron(I, D21)@ np.kron(D02, I) @ np.kron(I, CZ)\n",
    "    RHS = residual2 @ np.kron(I, D21) @ np.kron(D00, I) \n",
    "    equalUpToScalar(LHS, RHS)\n",
    "\n",
    "    # Relation 9\n",
    "    LHS = np.kron(I, D22)@ np.kron(D02, I) @ np.kron(I, CZ)\n",
    "    RHS = residual2 @ np.kron(I, D22) @ np.kron(D00, I) \n",
    "    equalUpToScalar(LHS, RHS)"
   ]
  },
  {
   "cell_type": "code",
   "execution_count": 179,
   "id": "d8afda36-1220-4c3a-96d5-baabb05a2b55",
   "metadata": {},
   "outputs": [
    {
     "name": "stdout",
     "output_type": "stream",
     "text": [
      "Exactly equal\n",
      "Exactly equal\n",
      "Exactly equal\n",
      "Exactly equal\n",
      "Exactly equal\n",
      "Exactly equal\n",
      "Exactly equal\n",
      "Exactly equal\n",
      "Exactly equal\n"
     ]
    }
   ],
   "source": [
    "CZ_D02_D_boxes()"
   ]
  },
  {
   "cell_type": "code",
   "execution_count": 180,
   "id": "431c652f-22c3-4420-af36-74840b09b2c6",
   "metadata": {},
   "outputs": [],
   "source": [
    "def CZ_D10_D_boxes():\n",
    "    I = np.identity(3)\n",
    "    w = findAllRoots(3)[0]\n",
    "    wI = makeScalarId(27, w)\n",
    "    w2 = findAllRoots(3)[1]\n",
    "    w2I = makeScalarId(27, w2)\n",
    "\n",
    "    residual1 = np.kron(np.kron(np.linalg.matrix_power(H, 3), I) \n",
    "                        @ np.linalg.matrix_power(CZ, 2) @ np.kron(H, I), I)\n",
    "\n",
    "    # Relation 1\n",
    "    LHS = np.kron(I, D00)@ np.kron(D10, I) @ np.kron(I, CZ)\n",
    "    RHS = residual1 @ np.kron(I, D02) @ np.kron(D10, I) \n",
    "    equalUpToScalar(LHS, RHS)\n",
    "\n",
    "    # Relation 2\n",
    "    LHS = np.kron(I, D01)@ np.kron(D10, I) @ np.kron(I, CZ)\n",
    "    RHS = residual1 @ np.kron(I, D00) @ np.kron(D10, I) \n",
    "    equalUpToScalar(LHS, RHS)\n",
    "\n",
    "    # Relation 3\n",
    "    LHS = np.kron(I, D02)@ np.kron(D10, I) @ np.kron(I, CZ)\n",
    "    RHS = residual1 @ np.kron(I, D01) @ np.kron(D10, I) \n",
    "    equalUpToScalar(LHS, RHS)\n",
    "\n",
    "    residual2 = np.kron(np.kron(H, H) @ CZ @ np.kron(S @ np.linalg.matrix_power(H, 3), \n",
    "                                                     S @ np.linalg.matrix_power(H, 3)), Z)\n",
    "\n",
    "    # Relation 4\n",
    "    LHS = np.kron(I, D10)@ np.kron(D10, I) @ np.kron(I, CZ)\n",
    "    RHS = residual2 @ np.kron(I, D12) @ np.kron(D12, I) \n",
    "    equalUpToScalar(LHS, RHS)\n",
    "\n",
    "    # Relation 5\n",
    "    LHS = np.kron(I, D11)@ np.kron(D10, I) @ np.kron(I, CZ)\n",
    "    RHS = residual2 @ np.kron(I, D10) @ np.kron(D12, I) \n",
    "    equalUpToScalar(LHS, RHS)\n",
    "\n",
    "    # Relation 6\n",
    "    LHS = np.kron(I, D12)@ np.kron(D10, I) @ np.kron(I, CZ)\n",
    "    RHS = residual2 @ np.kron(I, D11) @ np.kron(D12, I) \n",
    "    equalUpToScalar(LHS, RHS)\n",
    "\n",
    "    residual3 = np.kron(np.kron(H, H) @ np.linalg.matrix_power(CZ, 2) \n",
    "                @ np.kron(np.linalg.matrix_power(S, 2) @ np.linalg.matrix_power(H, 3), \n",
    "                np.linalg.matrix_power(S, 2) @ np.linalg.matrix_power(H, 3)), np.linalg.matrix_power(Z, 2))\n",
    "\n",
    "    # Relation 7\n",
    "    LHS = np.kron(I, D20)@ np.kron(D10, I) @ np.kron(I, CZ)\n",
    "    RHS = residual3 @ np.kron(I, D22) @ np.kron(D11, I) \n",
    "    equalUpToScalar(LHS, RHS)\n",
    "\n",
    "    # Relation 8\n",
    "    LHS = np.kron(I, D21)@ np.kron(D10, I) @ np.kron(I, CZ)\n",
    "    RHS = residual3 @ np.kron(I, D20) @ np.kron(D11, I) \n",
    "    equalUpToScalar(LHS, RHS)\n",
    "\n",
    "    # Relation 9\n",
    "    LHS = np.kron(I, D22)@ np.kron(D10, I) @ np.kron(I, CZ)\n",
    "    RHS = residual3 @ np.kron(I, D21) @ np.kron(D11, I) \n",
    "    equalUpToScalar(LHS, RHS)"
   ]
  },
  {
   "cell_type": "code",
   "execution_count": 181,
   "id": "43bc916e-70de-456d-a259-9edc0bac0787",
   "metadata": {},
   "outputs": [
    {
     "name": "stdout",
     "output_type": "stream",
     "text": [
      "Exactly equal\n",
      "Exactly equal\n",
      "Exactly equal\n",
      "Exactly equal\n",
      "Exactly equal\n",
      "Exactly equal\n",
      "Exactly equal\n",
      "Exactly equal\n",
      "Exactly equal\n"
     ]
    }
   ],
   "source": [
    "CZ_D10_D_boxes()"
   ]
  },
  {
   "cell_type": "code",
   "execution_count": 182,
   "id": "3d5a8d0c-d43e-46fc-b227-e7a8a74e1fac",
   "metadata": {},
   "outputs": [],
   "source": [
    "def CZ_D11_D_boxes():\n",
    "    I = np.identity(3)\n",
    "    w = findAllRoots(3)[0]\n",
    "    wI = makeScalarId(27, w)\n",
    "    w2 = findAllRoots(3)[1]\n",
    "    w2I = makeScalarId(27, w2)\n",
    "\n",
    "    residual1 = np.kron(np.kron(np.linalg.matrix_power(H, 3), I) \n",
    "                        @ np.linalg.matrix_power(CZ, 2) @ np.kron(H, I), I)\n",
    "\n",
    "    # Relation 1\n",
    "    LHS = np.kron(I, D00)@ np.kron(D11, I) @ np.kron(I, CZ)\n",
    "    RHS = residual1 @ np.kron(I, D02) @ np.kron(D11, I) \n",
    "    equalUpToScalar(LHS, RHS)\n",
    "\n",
    "    # Relation 2\n",
    "    LHS = np.kron(I, D01)@ np.kron(D11, I) @ np.kron(I, CZ)\n",
    "    RHS = residual1 @ np.kron(I, D00) @ np.kron(D11, I) \n",
    "    equalUpToScalar(LHS, RHS)\n",
    "\n",
    "    # Relation 3\n",
    "    LHS = np.kron(I, D02)@ np.kron(D11, I) @ np.kron(I, CZ)\n",
    "    RHS = residual1 @ np.kron(I, D01) @ np.kron(D11, I) \n",
    "    equalUpToScalar(LHS, RHS)\n",
    "\n",
    "    residual2 = np.kron(np.kron(H, H) @ CZ @ np.kron(S @ np.linalg.matrix_power(H, 3), \n",
    "                                                     S @ np.linalg.matrix_power(H, 3)), Z)\n",
    "\n",
    "    # Relation 4\n",
    "    LHS = np.kron(I, D10)@ np.kron(D11, I) @ np.kron(I, CZ)\n",
    "    RHS = residual2 @ np.kron(I, D12) @ np.kron(D10, I) \n",
    "    equalUpToScalar(LHS, RHS)\n",
    "\n",
    "    # Relation 5\n",
    "    LHS = np.kron(I, D11)@ np.kron(D11, I) @ np.kron(I, CZ)\n",
    "    RHS = residual2 @ np.kron(I, D10) @ np.kron(D10, I) \n",
    "    equalUpToScalar(LHS, RHS)\n",
    "\n",
    "    # Relation 6\n",
    "    LHS = np.kron(I, D12)@ np.kron(D11, I) @ np.kron(I, CZ)\n",
    "    RHS = residual2 @ np.kron(I, D11) @ np.kron(D10, I) \n",
    "    equalUpToScalar(LHS, RHS)\n",
    "\n",
    "    residual3 = np.kron(np.kron(H, H) @ np.linalg.matrix_power(CZ, 2) \n",
    "                @ np.kron(np.linalg.matrix_power(S, 2) @ np.linalg.matrix_power(H, 3), \n",
    "                np.linalg.matrix_power(S, 2) @ np.linalg.matrix_power(H, 3)), np.linalg.matrix_power(Z, 2))\n",
    "\n",
    "    # Relation 7\n",
    "    LHS = np.kron(I, D20)@ np.kron(D11, I) @ np.kron(I, CZ)\n",
    "    RHS = residual3 @ np.kron(I, D22) @ np.kron(D12, I) \n",
    "    equalUpToScalar(LHS, RHS)\n",
    "\n",
    "    # Relation 8\n",
    "    LHS = np.kron(I, D21)@ np.kron(D11, I) @ np.kron(I, CZ)\n",
    "    RHS = residual3 @ np.kron(I, D20) @ np.kron(D12, I) \n",
    "    equalUpToScalar(LHS, RHS)\n",
    "\n",
    "    # Relation 9\n",
    "    LHS = np.kron(I, D22)@ np.kron(D11, I) @ np.kron(I, CZ)\n",
    "    RHS = residual3 @ np.kron(I, D21) @ np.kron(D12, I) \n",
    "    equalUpToScalar(LHS, RHS)"
   ]
  },
  {
   "cell_type": "code",
   "execution_count": 183,
   "id": "dc742b02-758a-4528-8aab-06429d7da4bc",
   "metadata": {},
   "outputs": [
    {
     "name": "stdout",
     "output_type": "stream",
     "text": [
      "Exactly equal\n",
      "Exactly equal\n",
      "Exactly equal\n",
      "Exactly equal\n",
      "Exactly equal\n",
      "Exactly equal\n",
      "Exactly equal\n",
      "Exactly equal\n",
      "Exactly equal\n"
     ]
    }
   ],
   "source": [
    "CZ_D11_D_boxes()"
   ]
  },
  {
   "cell_type": "code",
   "execution_count": 184,
   "id": "fb383ada-6413-48fa-a76f-47dbae5d0c98",
   "metadata": {},
   "outputs": [],
   "source": [
    "def CZ_D12_D_boxes():\n",
    "    I = np.identity(3)\n",
    "    w = findAllRoots(3)[0]\n",
    "    wI = makeScalarId(27, w)\n",
    "    w2 = findAllRoots(3)[1]\n",
    "    w2I = makeScalarId(27, w2)\n",
    "\n",
    "    residual1 = np.kron(np.kron(np.linalg.matrix_power(H, 3), I) \n",
    "                        @ np.linalg.matrix_power(CZ, 2) @ np.kron(H, I), I)\n",
    "\n",
    "    # Relation 1\n",
    "    LHS = np.kron(I, D00)@ np.kron(D12, I) @ np.kron(I, CZ)\n",
    "    RHS = residual1 @ np.kron(I, D02) @ np.kron(D12, I) \n",
    "    equalUpToScalar(LHS, RHS)\n",
    "\n",
    "    # Relation 2\n",
    "    LHS = np.kron(I, D01)@ np.kron(D12, I) @ np.kron(I, CZ)\n",
    "    RHS = residual1 @ np.kron(I, D00) @ np.kron(D12, I) \n",
    "    equalUpToScalar(LHS, RHS)\n",
    "\n",
    "    # Relation 3\n",
    "    LHS = np.kron(I, D02)@ np.kron(D12, I) @ np.kron(I, CZ)\n",
    "    RHS = residual1 @ np.kron(I, D01) @ np.kron(D12, I) \n",
    "    equalUpToScalar(LHS, RHS)\n",
    "\n",
    "    residual2 = np.kron(np.kron(H, H) @ CZ @ np.kron(S @ np.linalg.matrix_power(H, 3), \n",
    "                                                     S @ np.linalg.matrix_power(H, 3)), Z)\n",
    "\n",
    "    # Relation 4\n",
    "    LHS = np.kron(I, D10)@ np.kron(D12, I) @ np.kron(I, CZ)\n",
    "    RHS = residual2 @ np.kron(I, D12) @ np.kron(D11, I) \n",
    "    equalUpToScalar(LHS, RHS)\n",
    "\n",
    "    # Relation 5\n",
    "    LHS = np.kron(I, D11)@ np.kron(D12, I) @ np.kron(I, CZ)\n",
    "    RHS = residual2 @ np.kron(I, D10) @ np.kron(D11, I) \n",
    "    equalUpToScalar(LHS, RHS)\n",
    "\n",
    "    # Relation 6\n",
    "    LHS = np.kron(I, D12)@ np.kron(D12, I) @ np.kron(I, CZ)\n",
    "    RHS = residual2 @ np.kron(I, D11) @ np.kron(D11, I) \n",
    "    equalUpToScalar(LHS, RHS)\n",
    "\n",
    "    residual3 = np.kron(np.kron(H, H) @ np.linalg.matrix_power(CZ, 2) \n",
    "                @ np.kron(np.linalg.matrix_power(S, 2) @ np.linalg.matrix_power(H, 3), \n",
    "                np.linalg.matrix_power(S, 2) @ np.linalg.matrix_power(H, 3)), np.linalg.matrix_power(Z, 2))\n",
    "\n",
    "    # Relation 7\n",
    "    LHS = np.kron(I, D20)@ np.kron(D12, I) @ np.kron(I, CZ)\n",
    "    RHS = residual3 @ np.kron(I, D22) @ np.kron(D10, I) \n",
    "    equalUpToScalar(LHS, RHS)\n",
    "\n",
    "    # Relation 8\n",
    "    LHS = np.kron(I, D21)@ np.kron(D12, I) @ np.kron(I, CZ)\n",
    "    RHS = residual3 @ np.kron(I, D20) @ np.kron(D10, I) \n",
    "    equalUpToScalar(LHS, RHS)\n",
    "\n",
    "    # Relation 9\n",
    "    LHS = np.kron(I, D22)@ np.kron(D12, I) @ np.kron(I, CZ)\n",
    "    RHS = residual3 @ np.kron(I, D21) @ np.kron(D10, I) \n",
    "    equalUpToScalar(LHS, RHS)"
   ]
  },
  {
   "cell_type": "code",
   "execution_count": 185,
   "id": "59a520fa-0f49-426b-9190-1d8b086201bc",
   "metadata": {},
   "outputs": [
    {
     "name": "stdout",
     "output_type": "stream",
     "text": [
      "Exactly equal\n",
      "Exactly equal\n",
      "Exactly equal\n",
      "Exactly equal\n",
      "Exactly equal\n",
      "Exactly equal\n",
      "Exactly equal\n",
      "Exactly equal\n",
      "Exactly equal\n"
     ]
    }
   ],
   "source": [
    "CZ_D12_D_boxes()"
   ]
  },
  {
   "cell_type": "code",
   "execution_count": 186,
   "id": "5882a8ed-1c32-41a0-978e-f6e12ab4747d",
   "metadata": {},
   "outputs": [],
   "source": [
    "def CZ_D20_D_boxes():\n",
    "    I = np.identity(3)\n",
    "    w = findAllRoots(3)[0]\n",
    "    wI = makeScalarId(27, w)\n",
    "    w2 = findAllRoots(3)[1]\n",
    "    w2I = makeScalarId(27, w2)\n",
    "\n",
    "    residual1 = np.kron(np.kron(np.linalg.matrix_power(H, 3), I) @ CZ @ np.kron(H, I), I)\n",
    "\n",
    "    # Relation 1\n",
    "    LHS = np.kron(I, D00)@ np.kron(D20, I) @ np.kron(I, CZ)\n",
    "    RHS = residual1 @ np.kron(I, D01) @ np.kron(D20, I) \n",
    "    equalUpToScalar(LHS, RHS)\n",
    "\n",
    "    # Relation 2\n",
    "    LHS = np.kron(I, D01)@ np.kron(D20, I) @ np.kron(I, CZ)\n",
    "    RHS = residual1 @ np.kron(I, D02) @ np.kron(D20, I) \n",
    "    equalUpToScalar(LHS, RHS)\n",
    "\n",
    "    # Relation 3\n",
    "    LHS = np.kron(I, D02)@ np.kron(D20, I) @ np.kron(I, CZ)\n",
    "    RHS = residual1 @ np.kron(I, D00) @ np.kron(D20, I) \n",
    "    equalUpToScalar(LHS, RHS)\n",
    "\n",
    "    residual2 = np.kron(np.kron(H, H) @ np.linalg.matrix_power(CZ, 2) \n",
    "                @ np.kron(np.linalg.matrix_power(S, 2) @ np.linalg.matrix_power(H, 3), \n",
    "                np.linalg.matrix_power(S, 2) @ np.linalg.matrix_power(H, 3)), np.linalg.matrix_power(Z, 2))\n",
    "\n",
    "    # Relation 4\n",
    "    LHS = np.kron(I, D10)@ np.kron(D20, I) @ np.kron(I, CZ)\n",
    "    RHS = residual2 @ np.kron(I, D11) @ np.kron(D22, I) \n",
    "    equalUpToScalar(LHS, RHS)\n",
    "\n",
    "    # Relation 5\n",
    "    LHS = np.kron(I, D11)@ np.kron(D20, I) @ np.kron(I, CZ)\n",
    "    RHS = residual2 @ np.kron(I, D12) @ np.kron(D22, I) \n",
    "    equalUpToScalar(LHS, RHS)\n",
    "\n",
    "    # Relation 6\n",
    "    LHS = np.kron(I, D12)@ np.kron(D20, I) @ np.kron(I, CZ)\n",
    "    RHS = residual2 @ np.kron(I, D10) @ np.kron(D22, I) \n",
    "    equalUpToScalar(LHS, RHS)\n",
    "\n",
    "    residual3 = np.kron(np.kron(H, H) @ CZ @ np.kron(S @ np.linalg.matrix_power(H, 3), \n",
    "                                                     S @ np.linalg.matrix_power(H, 3)), Z)\n",
    "\n",
    "    # Relation 7\n",
    "    LHS = np.kron(I, D20)@ np.kron(D20, I) @ np.kron(I, CZ)\n",
    "    RHS = residual3 @ np.kron(I, D21) @ np.kron(D21, I) \n",
    "    equalUpToScalar(LHS, RHS)\n",
    "\n",
    "    # Relation 8\n",
    "    LHS = np.kron(I, D21)@ np.kron(D20, I) @ np.kron(I, CZ)\n",
    "    RHS = residual3 @ np.kron(I, D22) @ np.kron(D21, I) \n",
    "    equalUpToScalar(LHS, RHS)\n",
    "\n",
    "    # Relation 9\n",
    "    LHS = np.kron(I, D22)@ np.kron(D20, I) @ np.kron(I, CZ)\n",
    "    RHS = residual3 @ np.kron(I, D20) @ np.kron(D21, I) \n",
    "    equalUpToScalar(LHS, RHS)"
   ]
  },
  {
   "cell_type": "code",
   "execution_count": 187,
   "id": "3161a1aa-ec74-43d1-8f62-870fbdea49b5",
   "metadata": {},
   "outputs": [
    {
     "name": "stdout",
     "output_type": "stream",
     "text": [
      "Exactly equal\n",
      "Exactly equal\n",
      "Exactly equal\n",
      "Exactly equal\n",
      "Exactly equal\n",
      "Exactly equal\n",
      "Exactly equal\n",
      "Exactly equal\n",
      "Exactly equal\n"
     ]
    }
   ],
   "source": [
    "CZ_D20_D_boxes()"
   ]
  },
  {
   "cell_type": "code",
   "execution_count": 188,
   "id": "ec10cae7-42aa-4b3c-a246-cef1fe63cf62",
   "metadata": {},
   "outputs": [],
   "source": [
    "def CZ_D21_D_boxes():\n",
    "    I = np.identity(3)\n",
    "    w = findAllRoots(3)[0]\n",
    "    wI = makeScalarId(27, w)\n",
    "    w2 = findAllRoots(3)[1]\n",
    "    w2I = makeScalarId(27, w2)\n",
    "\n",
    "    residual1 = np.kron(np.kron(np.linalg.matrix_power(H, 3), I) @ CZ @ np.kron(H, I), I)\n",
    "\n",
    "    # Relation 1\n",
    "    LHS = np.kron(I, D00)@ np.kron(D21, I) @ np.kron(I, CZ)\n",
    "    RHS = residual1 @ np.kron(I, D01) @ np.kron(D21, I) \n",
    "    equalUpToScalar(LHS, RHS)\n",
    "\n",
    "    # Relation 2\n",
    "    LHS = np.kron(I, D01)@ np.kron(D21, I) @ np.kron(I, CZ)\n",
    "    RHS = residual1 @ np.kron(I, D02) @ np.kron(D21, I) \n",
    "    equalUpToScalar(LHS, RHS)\n",
    "\n",
    "    # Relation 3\n",
    "    LHS = np.kron(I, D02)@ np.kron(D21, I) @ np.kron(I, CZ)\n",
    "    RHS = residual1 @ np.kron(I, D00) @ np.kron(D21, I) \n",
    "    equalUpToScalar(LHS, RHS)\n",
    "\n",
    "    residual2 = np.kron(np.kron(H, H) @ np.linalg.matrix_power(CZ, 2) \n",
    "                @ np.kron(np.linalg.matrix_power(S, 2) @ np.linalg.matrix_power(H, 3), \n",
    "                np.linalg.matrix_power(S, 2) @ np.linalg.matrix_power(H, 3)), np.linalg.matrix_power(Z, 2))\n",
    "\n",
    "    # Relation 4\n",
    "    LHS = np.kron(I, D10)@ np.kron(D21, I) @ np.kron(I, CZ)\n",
    "    RHS = residual2 @ np.kron(I, D11) @ np.kron(D20, I) \n",
    "    equalUpToScalar(LHS, RHS)\n",
    "\n",
    "    # Relation 5\n",
    "    LHS = np.kron(I, D11)@ np.kron(D21, I) @ np.kron(I, CZ)\n",
    "    RHS = residual2 @ np.kron(I, D12) @ np.kron(D20, I) \n",
    "    equalUpToScalar(LHS, RHS)\n",
    "\n",
    "    # Relation 6\n",
    "    LHS = np.kron(I, D12)@ np.kron(D21, I) @ np.kron(I, CZ)\n",
    "    RHS = residual2 @ np.kron(I, D10) @ np.kron(D20, I) \n",
    "    equalUpToScalar(LHS, RHS)\n",
    "\n",
    "    residual3 = np.kron(np.kron(H, H) @ CZ @ np.kron(S @ np.linalg.matrix_power(H, 3), \n",
    "                                                     S @ np.linalg.matrix_power(H, 3)), Z)\n",
    "\n",
    "    # Relation 7\n",
    "    LHS = np.kron(I, D20)@ np.kron(D21, I) @ np.kron(I, CZ)\n",
    "    RHS = residual3 @ np.kron(I, D21) @ np.kron(D22, I) \n",
    "    equalUpToScalar(LHS, RHS)\n",
    "\n",
    "    # Relation 8\n",
    "    LHS = np.kron(I, D21)@ np.kron(D21, I) @ np.kron(I, CZ)\n",
    "    RHS = residual3 @ np.kron(I, D22) @ np.kron(D22, I) \n",
    "    equalUpToScalar(LHS, RHS)\n",
    "\n",
    "    # Relation 9\n",
    "    LHS = np.kron(I, D22)@ np.kron(D21, I) @ np.kron(I, CZ)\n",
    "    RHS = residual3 @ np.kron(I, D20) @ np.kron(D22, I) \n",
    "    equalUpToScalar(LHS, RHS)"
   ]
  },
  {
   "cell_type": "code",
   "execution_count": 189,
   "id": "7ac36dc4-c8c0-4170-a0b7-13a6e1c127b4",
   "metadata": {},
   "outputs": [
    {
     "name": "stdout",
     "output_type": "stream",
     "text": [
      "Exactly equal\n",
      "Exactly equal\n",
      "Exactly equal\n",
      "Exactly equal\n",
      "Exactly equal\n",
      "Exactly equal\n",
      "Exactly equal\n",
      "Exactly equal\n",
      "Exactly equal\n"
     ]
    }
   ],
   "source": [
    "CZ_D21_D_boxes()"
   ]
  },
  {
   "cell_type": "code",
   "execution_count": 190,
   "id": "5e359751-1e08-4d72-9c61-0b0704a80b5d",
   "metadata": {},
   "outputs": [],
   "source": [
    "def CZ_D22_D_boxes():\n",
    "    I = np.identity(3)\n",
    "    w = findAllRoots(3)[0]\n",
    "    wI = makeScalarId(27, w)\n",
    "    w2 = findAllRoots(3)[1]\n",
    "    w2I = makeScalarId(27, w2)\n",
    "\n",
    "    residual1 = np.kron(np.kron(np.linalg.matrix_power(H, 3), I) @ CZ @ np.kron(H, I), I)\n",
    "\n",
    "    # Relation 1\n",
    "    LHS = np.kron(I, D00)@ np.kron(D22, I) @ np.kron(I, CZ)\n",
    "    RHS = residual1 @ np.kron(I, D01) @ np.kron(D22, I) \n",
    "    equalUpToScalar(LHS, RHS)\n",
    "\n",
    "    # Relation 2\n",
    "    LHS = np.kron(I, D01)@ np.kron(D22, I) @ np.kron(I, CZ)\n",
    "    RHS = residual1 @ np.kron(I, D02) @ np.kron(D22, I) \n",
    "    equalUpToScalar(LHS, RHS)\n",
    "\n",
    "    # Relation 3\n",
    "    LHS = np.kron(I, D02)@ np.kron(D22, I) @ np.kron(I, CZ)\n",
    "    RHS = residual1 @ np.kron(I, D00) @ np.kron(D22, I) \n",
    "    equalUpToScalar(LHS, RHS)\n",
    "\n",
    "    residual2 = np.kron(np.kron(H, H) @ np.linalg.matrix_power(CZ, 2) \n",
    "                @ np.kron(np.linalg.matrix_power(S, 2) @ np.linalg.matrix_power(H, 3), \n",
    "                np.linalg.matrix_power(S, 2) @ np.linalg.matrix_power(H, 3)), np.linalg.matrix_power(Z, 2))\n",
    "\n",
    "    # Relation 4\n",
    "    LHS = np.kron(I, D10)@ np.kron(D22, I) @ np.kron(I, CZ)\n",
    "    RHS = residual2 @ np.kron(I, D11) @ np.kron(D21, I) \n",
    "    equalUpToScalar(LHS, RHS)\n",
    "\n",
    "    # Relation 5\n",
    "    LHS = np.kron(I, D11)@ np.kron(D22, I) @ np.kron(I, CZ)\n",
    "    RHS = residual2 @ np.kron(I, D12) @ np.kron(D21, I) \n",
    "    equalUpToScalar(LHS, RHS)\n",
    "\n",
    "    # Relation 6\n",
    "    LHS = np.kron(I, D12)@ np.kron(D22, I) @ np.kron(I, CZ)\n",
    "    RHS = residual2 @ np.kron(I, D10) @ np.kron(D21, I) \n",
    "    equalUpToScalar(LHS, RHS)\n",
    "\n",
    "    residual3 = np.kron(np.kron(H, H) @ CZ @ np.kron(S @ np.linalg.matrix_power(H, 3), \n",
    "                                                     S @ np.linalg.matrix_power(H, 3)), Z)\n",
    "\n",
    "    # Relation 7\n",
    "    LHS = np.kron(I, D20)@ np.kron(D22, I) @ np.kron(I, CZ)\n",
    "    RHS = residual3 @ np.kron(I, D21) @ np.kron(D20, I) \n",
    "    equalUpToScalar(LHS, RHS)\n",
    "\n",
    "    # Relation 8\n",
    "    LHS = np.kron(I, D21)@ np.kron(D22, I) @ np.kron(I, CZ)\n",
    "    RHS = residual3 @ np.kron(I, D22) @ np.kron(D20, I) \n",
    "    equalUpToScalar(LHS, RHS)\n",
    "\n",
    "    # Relation 9\n",
    "    LHS = np.kron(I, D22)@ np.kron(D22, I) @ np.kron(I, CZ)\n",
    "    RHS = residual3 @ np.kron(I, D20) @ np.kron(D20, I) \n",
    "    equalUpToScalar(LHS, RHS)"
   ]
  },
  {
   "cell_type": "code",
   "execution_count": 191,
   "id": "3b74f26b-9a27-4d8a-8300-e7e794e467b0",
   "metadata": {},
   "outputs": [
    {
     "name": "stdout",
     "output_type": "stream",
     "text": [
      "Exactly equal\n",
      "Exactly equal\n",
      "Exactly equal\n",
      "Exactly equal\n",
      "Exactly equal\n",
      "Exactly equal\n",
      "Exactly equal\n",
      "Exactly equal\n",
      "Exactly equal\n"
     ]
    }
   ],
   "source": [
    "CZ_D22_D_boxes()"
   ]
  },
  {
   "cell_type": "code",
   "execution_count": 192,
   "id": "d97efbe1-2e05-4bdf-902b-2e2c3fc7d707",
   "metadata": {},
   "outputs": [],
   "source": [
    "def IxS_B_boxes():\n",
    "    I = np.identity(3)\n",
    "    w = findAllRoots(3)[0]\n",
    "    wI = makeScalarId(9, w)\n",
    "    w2 = findAllRoots(3)[1]\n",
    "    w2I = makeScalarId(9, w2)\n",
    "\n",
    "    # Relation 1\n",
    "    LHS = B00 @ np.kron(I, S) \n",
    "    RHS = np.kron(S, I) @ B00\n",
    "    equalUpToScalar(LHS, RHS)\n",
    "\n",
    "    residual = np.kron(S, S @ np.linalg.matrix_power(Z, 2)) @ CZ\n",
    "\n",
    "    # Relation 2\n",
    "    LHS = B01 @ np.kron(I, S) \n",
    "    RHS = residual @ B01 @ w2I\n",
    "    equalUpToScalar(LHS, RHS)\n",
    "\n",
    "    # Relation 3\n",
    "    LHS = B02 @ np.kron(I, S) \n",
    "    RHS = residual @ B02 @ w2I\n",
    "    equalUpToScalar(LHS, RHS)\n",
    "\n",
    "    # Relation 4\n",
    "    LHS = B10 @ np.kron(I, S) \n",
    "    RHS = residual @ B10 @ w2I\n",
    "    equalUpToScalar(LHS, RHS)\n",
    "\n",
    "    # Relation 5\n",
    "    LHS = B11 @ np.kron(I, S) \n",
    "    RHS = residual @ B11 @ w2I\n",
    "    equalUpToScalar(LHS, RHS)\n",
    "\n",
    "    # Relation 6\n",
    "    LHS = B12 @ np.kron(I, S) \n",
    "    RHS = residual @ B12 @ w2I\n",
    "    equalUpToScalar(LHS, RHS)\n",
    "\n",
    "    # Relation 7\n",
    "    LHS = B20 @ np.kron(I, S) \n",
    "    RHS = residual @ B20 @ w2I\n",
    "    equalUpToScalar(LHS, RHS)\n",
    "\n",
    "    # Relation 8\n",
    "    LHS = B21 @ np.kron(I, S) \n",
    "    RHS = residual @ B21 @ w2I\n",
    "    equalUpToScalar(LHS, RHS)\n",
    "\n",
    "    # Relation 9\n",
    "    LHS = B22 @ np.kron(I, S) \n",
    "    RHS = residual @ B22 @ w2I\n",
    "    equalUpToScalar(LHS, RHS)"
   ]
  },
  {
   "cell_type": "code",
   "execution_count": 193,
   "id": "d5517506-b433-4fb7-ab50-a09df80411b6",
   "metadata": {},
   "outputs": [
    {
     "name": "stdout",
     "output_type": "stream",
     "text": [
      "Exactly equal\n",
      "Exactly equal\n",
      "Exactly equal\n",
      "Exactly equal\n",
      "Exactly equal\n",
      "Exactly equal\n",
      "Exactly equal\n",
      "Exactly equal\n",
      "Exactly equal\n"
     ]
    }
   ],
   "source": [
    "IxS_B_boxes()"
   ]
  },
  {
   "cell_type": "code",
   "execution_count": 194,
   "id": "24d15b55-69f2-4406-a0b8-07699af7e9c5",
   "metadata": {},
   "outputs": [],
   "source": [
    "def IxX_B_boxes():\n",
    "    I = np.identity(3)\n",
    "    w = findAllRoots(3)[0]\n",
    "    wI = makeScalarId(9, w)\n",
    "    w2 = findAllRoots(3)[1]\n",
    "    w2I = makeScalarId(9, w2)\n",
    "\n",
    "    residual1 = np.kron(X, Z)\n",
    "\n",
    "    # Relation 1\n",
    "    LHS = B00 @ np.kron(I, X) \n",
    "    RHS = residual1 @ B00\n",
    "    equalUpToScalar(LHS, RHS)\n",
    "\n",
    "    residual2 = np.kron(X, np.linalg.matrix_power(Z, 2))\n",
    "\n",
    "    # Relation 2\n",
    "    LHS = B01 @ np.kron(I, X) \n",
    "    RHS = residual2 @ B01\n",
    "    equalUpToScalar(LHS, RHS)\n",
    "\n",
    "    # Relation 3\n",
    "    LHS = B02 @ np.kron(I, X) \n",
    "    RHS = np.kron(X, I) @ B02\n",
    "    equalUpToScalar(LHS, RHS)\n",
    "\n",
    "    # Relation 4\n",
    "    LHS = B10 @ np.kron(I, X) \n",
    "    RHS = residual1 @ B10\n",
    "    equalUpToScalar(LHS, RHS)\n",
    "\n",
    "    # Relation 5\n",
    "    LHS = B11 @ np.kron(I, X) \n",
    "    RHS = residual1 @ B11\n",
    "    equalUpToScalar(LHS, RHS)\n",
    "\n",
    "    # Relation 6\n",
    "    LHS = B12 @ np.kron(I, X) \n",
    "    RHS = residual1 @ B12\n",
    "    equalUpToScalar(LHS, RHS)\n",
    "\n",
    "    # Relation 7\n",
    "    LHS = B20 @ np.kron(I, X) \n",
    "    RHS = residual1 @ B20\n",
    "    equalUpToScalar(LHS, RHS)\n",
    "\n",
    "    # Relation 8\n",
    "    LHS = B21 @ np.kron(I, X) \n",
    "    RHS = residual1 @ B21\n",
    "    equalUpToScalar(LHS, RHS)\n",
    "\n",
    "    # Relation 9\n",
    "    LHS = B22 @ np.kron(I, X) \n",
    "    RHS = residual1 @ B22\n",
    "    equalUpToScalar(LHS, RHS)"
   ]
  },
  {
   "cell_type": "code",
   "execution_count": 195,
   "id": "e987ea88-1787-4635-a483-72df98d0a229",
   "metadata": {},
   "outputs": [
    {
     "name": "stdout",
     "output_type": "stream",
     "text": [
      "Exactly equal\n",
      "Exactly equal\n",
      "Exactly equal\n",
      "Exactly equal\n",
      "Exactly equal\n",
      "Exactly equal\n",
      "Exactly equal\n",
      "Exactly equal\n",
      "Exactly equal\n"
     ]
    }
   ],
   "source": [
    "IxX_B_boxes()"
   ]
  },
  {
   "cell_type": "code",
   "execution_count": 196,
   "id": "0fec561f-beca-48f8-ad68-a9ddfa62e9d7",
   "metadata": {},
   "outputs": [],
   "source": [
    "def IxZ_B_boxes():\n",
    "    I = np.identity(3)\n",
    "    w = findAllRoots(3)[0]\n",
    "    wI = makeScalarId(9, w)\n",
    "    w2 = findAllRoots(3)[1]\n",
    "    w2I = makeScalarId(9, w2)\n",
    "\n",
    "    residual1 = np.kron(Z, I)\n",
    "\n",
    "    # Relation 1\n",
    "    LHS = B00 @ np.kron(I, Z) \n",
    "    RHS = residual1 @ B00\n",
    "    equalUpToScalar(LHS, RHS)\n",
    "\n",
    "    residual2 = np.kron(Z, np.linalg.matrix_power(Z, 2))\n",
    "\n",
    "    # Relation 2\n",
    "    LHS = B01 @ np.kron(I, Z) \n",
    "    RHS = residual2 @ B01\n",
    "    equalUpToScalar(LHS, RHS)\n",
    "\n",
    "    # Relation 3\n",
    "    LHS = B02 @ np.kron(I, Z) \n",
    "    RHS = residual2 @ B02\n",
    "    equalUpToScalar(LHS, RHS)\n",
    "\n",
    "    # Relation 4\n",
    "    LHS = B10 @ np.kron(I, Z) \n",
    "    RHS = residual2 @ B10\n",
    "    equalUpToScalar(LHS, RHS)\n",
    "\n",
    "    # Relation 5\n",
    "    LHS = B11 @ np.kron(I, Z) \n",
    "    RHS = residual2 @ B11\n",
    "    equalUpToScalar(LHS, RHS)\n",
    "\n",
    "    # Relation 6\n",
    "    LHS = B12 @ np.kron(I, Z) \n",
    "    RHS = residual2 @ B12\n",
    "    equalUpToScalar(LHS, RHS)\n",
    "\n",
    "    # Relation 7\n",
    "    LHS = B20 @ np.kron(I, Z) \n",
    "    RHS = residual2 @ B20\n",
    "    equalUpToScalar(LHS, RHS)\n",
    "\n",
    "    # Relation 8\n",
    "    LHS = B21 @ np.kron(I, Z) \n",
    "    RHS = residual2 @ B21\n",
    "    equalUpToScalar(LHS, RHS)\n",
    "\n",
    "    # Relation 9\n",
    "    LHS = B22 @ np.kron(I, Z) \n",
    "    RHS = residual2 @ B22\n",
    "    equalUpToScalar(LHS, RHS)"
   ]
  },
  {
   "cell_type": "code",
   "execution_count": 197,
   "id": "a68be4c2-a0b5-48ba-a95b-aef89d11a2eb",
   "metadata": {},
   "outputs": [
    {
     "name": "stdout",
     "output_type": "stream",
     "text": [
      "Exactly equal\n",
      "Exactly equal\n",
      "Exactly equal\n",
      "Exactly equal\n",
      "Exactly equal\n",
      "Exactly equal\n",
      "Exactly equal\n",
      "Exactly equal\n",
      "Exactly equal\n"
     ]
    }
   ],
   "source": [
    "IxZ_B_boxes()"
   ]
  },
  {
   "cell_type": "code",
   "execution_count": 198,
   "id": "86e238eb-e7c7-44d5-9bd2-4d0165d9d695",
   "metadata": {},
   "outputs": [],
   "source": [
    "def IxCZ_B_boxes():\n",
    "    I = np.identity(3)\n",
    "    w = findAllRoots(3)[0]\n",
    "    wI = makeScalarId(27, w)\n",
    "    w2 = findAllRoots(3)[1]\n",
    "    w2I = makeScalarId(27, w2)\n",
    "\n",
    "    residual1 = np.kron(I, np.kron(H, I) @ np.linalg.matrix_power(CZ, 2) @ np.kron(H, I)) @ np.kron(CZ, I) @ np.kron(I, np.kron(H, I) @ np.linalg.matrix_power(CZ, 2) @ np.kron(H, I)) @ np.kron(CZ, I)\n",
    "    \n",
    "    # Relation 1\n",
    "    LHS = np.kron(B00, I) @ np.kron(I, CZ)\n",
    "    RHS = residual1 @ np.kron(B00, I)\n",
    "    equalUpToScalar(LHS, RHS)\n",
    "\n",
    "    residual2 = np.kron(I, np.linalg.matrix_power(CZ, 2) @ np.kron(H, I) @ np.linalg.matrix_power(CZ, 2) @ np.kron(H, I)) @ np.kron(CZ, I) @ np.kron(I, np.kron(H, I) \n",
    "                                                                                                    @ np.linalg.matrix_power(CZ, 2) @ np.kron(H, I)) @ np.kron(CZ, I)\n",
    "    # Relation 2\n",
    "    LHS = np.kron(B01, I) @ np.kron(I, CZ)\n",
    "    RHS = residual2 @ np.kron(B01, I)\n",
    "    equalUpToScalar(LHS, RHS)\n",
    "\n",
    "    # Relation 3\n",
    "    LHS = np.kron(B02, I) @ np.kron(I, CZ)\n",
    "    RHS = residual2 @ np.kron(B02, I)\n",
    "    equalUpToScalar(LHS, RHS)\n",
    "\n",
    "    # Relation 4\n",
    "    LHS = np.kron(B10, I) @ np.kron(I, CZ)\n",
    "    RHS = residual2 @ np.kron(B10, I)\n",
    "    equalUpToScalar(LHS, RHS)\n",
    "\n",
    "    # Relation 5\n",
    "    LHS = np.kron(B11, I) @ np.kron(I, CZ)\n",
    "    RHS = residual2 @ np.kron(B11, I)\n",
    "    equalUpToScalar(LHS, RHS)\n",
    "\n",
    "    # Relation 6\n",
    "    LHS = np.kron(B12, I) @ np.kron(I, CZ)\n",
    "    RHS = residual2 @ np.kron(B12, I)\n",
    "    equalUpToScalar(LHS, RHS)\n",
    "\n",
    "    # Relation 7\n",
    "    LHS = np.kron(B20, I) @ np.kron(I, CZ)\n",
    "    RHS = residual2 @ np.kron(B20, I)\n",
    "    equalUpToScalar(LHS, RHS)\n",
    "\n",
    "    # Relation 8\n",
    "    LHS = np.kron(B21, I) @ np.kron(I, CZ)\n",
    "    RHS = residual2 @ np.kron(B21, I)\n",
    "    equalUpToScalar(LHS, RHS)\n",
    "\n",
    "    # Relation 9\n",
    "    LHS = np.kron(B22, I) @ np.kron(I, CZ)\n",
    "    RHS = residual2 @ np.kron(B22, I)\n",
    "    equalUpToScalar(LHS, RHS)"
   ]
  },
  {
   "cell_type": "code",
   "execution_count": 199,
   "id": "5091b68f-464f-4552-9907-a374f1253faa",
   "metadata": {},
   "outputs": [
    {
     "name": "stdout",
     "output_type": "stream",
     "text": [
      "Exactly equal\n",
      "Exactly equal\n",
      "Exactly equal\n",
      "Exactly equal\n",
      "Exactly equal\n",
      "Exactly equal\n",
      "Exactly equal\n",
      "Exactly equal\n",
      "Exactly equal\n"
     ]
    }
   ],
   "source": [
    "IxCZ_B_boxes()"
   ]
  },
  {
   "cell_type": "code",
   "execution_count": 200,
   "id": "3440910a-b63a-4497-a267-b09e0327701b",
   "metadata": {},
   "outputs": [],
   "source": [
    "def S_C_boxes():\n",
    "    w = findAllRoots(3)[0]\n",
    "    wI = makeScalarId(3, w)\n",
    "    w2 = findAllRoots(3)[1]\n",
    "    w2I = makeScalarId(3, w2)\n",
    "\n",
    "    # Relation 1\n",
    "    LHS = C0 @ S\n",
    "    RHS = S @ C0\n",
    "    equalUpToScalar(LHS, RHS)\n",
    "\n",
    "    # Relation 2\n",
    "    LHS = C1 @ S\n",
    "    RHS = Z @ S @ C1 @ w2I\n",
    "    equalUpToScalar(LHS, RHS)\n",
    "\n",
    "    # Relation 3\n",
    "    LHS = C2 @ S\n",
    "    RHS = np.linalg.matrix_power(Z, 2) @ S @ C2\n",
    "    equalUpToScalar(LHS, RHS)"
   ]
  },
  {
   "cell_type": "code",
   "execution_count": 201,
   "id": "a97b73f8-055e-4fac-9523-224aab7b507f",
   "metadata": {},
   "outputs": [
    {
     "name": "stdout",
     "output_type": "stream",
     "text": [
      "Exactly equal\n",
      "Exactly equal\n",
      "Exactly equal\n"
     ]
    }
   ],
   "source": [
    "S_C_boxes()"
   ]
  },
  {
   "cell_type": "code",
   "execution_count": 202,
   "id": "56766897-0453-4c5d-bd09-0338256fab6e",
   "metadata": {},
   "outputs": [],
   "source": [
    "def Z_C_boxes():\n",
    "    w = findAllRoots(3)[0]\n",
    "    wI = makeScalarId(3, w)\n",
    "    w2 = findAllRoots(3)[1]\n",
    "    w2I = makeScalarId(3, w2)\n",
    "\n",
    "    # Relation 1\n",
    "    LHS = C0 @ Z\n",
    "    RHS = Z @ C0\n",
    "    equalUpToScalar(LHS, RHS)\n",
    "\n",
    "    # Relation 2\n",
    "    LHS = C1 @ Z\n",
    "    RHS = Z @ C1 @ w2I\n",
    "    equalUpToScalar(LHS, RHS)\n",
    "\n",
    "    # Relation 3\n",
    "    LHS = C2 @ Z\n",
    "    RHS = Z @ C2 @ wI\n",
    "    equalUpToScalar(LHS, RHS)"
   ]
  },
  {
   "cell_type": "code",
   "execution_count": 203,
   "id": "42a8d2f2-1eaa-4e11-b13f-271e95384c0e",
   "metadata": {},
   "outputs": [
    {
     "name": "stdout",
     "output_type": "stream",
     "text": [
      "Exactly equal\n",
      "Exactly equal\n",
      "Exactly equal\n"
     ]
    }
   ],
   "source": [
    "Z_C_boxes()"
   ]
  },
  {
   "cell_type": "code",
   "execution_count": 204,
   "id": "f9575e6b-7fd8-427b-839b-f749e2995748",
   "metadata": {},
   "outputs": [],
   "source": [
    "def X_C_boxes():\n",
    "    w = findAllRoots(3)[0]\n",
    "    wI = makeScalarId(3, w)\n",
    "    w2 = findAllRoots(3)[1]\n",
    "    w2I = makeScalarId(3, w2)\n",
    "\n",
    "    # Relation 1\n",
    "    LHS = C0 @ X\n",
    "    RHS = C1\n",
    "    equalUpToScalar(LHS, RHS)\n",
    "\n",
    "    # Relation 2\n",
    "    LHS = C1 @ X\n",
    "    RHS = C2\n",
    "    equalUpToScalar(LHS, RHS)\n",
    "\n",
    "    # Relation 3\n",
    "    LHS = C2 @ X\n",
    "    RHS = C0\n",
    "    equalUpToScalar(LHS, RHS)"
   ]
  },
  {
   "cell_type": "code",
   "execution_count": 205,
   "id": "75870eac-45e8-456c-8098-50d6d7ce06a6",
   "metadata": {},
   "outputs": [
    {
     "name": "stdout",
     "output_type": "stream",
     "text": [
      "Exactly equal\n",
      "Exactly equal\n",
      "Exactly equal\n"
     ]
    }
   ],
   "source": [
    "X_C_boxes()"
   ]
  },
  {
   "cell_type": "code",
   "execution_count": 206,
   "id": "1c5951ec-bf04-41a9-9ecb-c72d522e5c05",
   "metadata": {},
   "outputs": [],
   "source": [
    "def CZ_CxI_boxes():\n",
    "    w = findAllRoots(3)[0]\n",
    "    wI = makeScalarId(3, w)\n",
    "    w2 = findAllRoots(3)[1]\n",
    "    w2I = makeScalarId(3, w2)\n",
    "\n",
    "    # Relation 1\n",
    "    LHS = np.kron(C0,I) @ CZ\n",
    "    RHS = CZ @ np.kron(C0,I)\n",
    "    equalUpToScalar(LHS, RHS)\n",
    "\n",
    "    # Relation 2\n",
    "    LHS = np.kron(C1,I) @ CZ\n",
    "    RHS = np.kron(I,Z @ Z) @ CZ @ np.kron(C1,I)\n",
    "    equalUpToScalar(LHS, RHS)\n",
    "\n",
    "    # Relation 3\n",
    "    LHS = np.kron(C2,I) @ CZ\n",
    "    RHS = np.kron(I,Z) @ CZ @ np.kron(C2,I)\n",
    "    equalUpToScalar(LHS, RHS)"
   ]
  },
  {
   "cell_type": "code",
   "execution_count": 207,
   "id": "bd93c0f1-958e-4519-90f1-166ee6e40a80",
   "metadata": {},
   "outputs": [
    {
     "name": "stdout",
     "output_type": "stream",
     "text": [
      "Exactly equal\n",
      "Exactly equal\n",
      "Exactly equal\n"
     ]
    }
   ],
   "source": [
    "CZ_CxI_boxes()"
   ]
  },
  {
   "cell_type": "code",
   "execution_count": 208,
   "id": "87f09607-2fb7-414a-a915-e21f80c99a59",
   "metadata": {},
   "outputs": [],
   "source": [
    "def SxI_D_boxes():\n",
    "    I = np.identity(3)\n",
    "    w = findAllRoots(3)[0]\n",
    "    wI = makeScalarId(9, w)\n",
    "    w2 = findAllRoots(3)[1]\n",
    "    w2I = makeScalarId(9, w2)\n",
    "\n",
    "    # Relation 1\n",
    "    LHS = D00 @ np.kron(S, I) \n",
    "    RHS = np.kron(I, S) @ D00\n",
    "    equalUpToScalar(LHS, RHS)\n",
    "\n",
    "    # Relation 2\n",
    "    LHS = D01 @ np.kron(S, I) \n",
    "    RHS = np.kron(I, S) @ D01\n",
    "    equalUpToScalar(LHS, RHS)\n",
    "\n",
    "    # Relation 3\n",
    "    LHS = D02 @ np.kron(S, I) \n",
    "    RHS = np.kron(I, S) @ D02\n",
    "    equalUpToScalar(LHS, RHS)\n",
    "\n",
    "    # Relation 4\n",
    "    LHS = D10 @ np.kron(S, I) \n",
    "    RHS = np.kron(I, S) @ D10\n",
    "    equalUpToScalar(LHS, RHS)\n",
    "\n",
    "    # Relation 5\n",
    "    LHS = D11 @ np.kron(S, I) \n",
    "    RHS = np.kron(I, S) @ D11\n",
    "    equalUpToScalar(LHS, RHS)\n",
    "\n",
    "    # Relation 6\n",
    "    LHS = D12 @ np.kron(S, I) \n",
    "    RHS = np.kron(I, S) @ D12\n",
    "    equalUpToScalar(LHS, RHS)\n",
    "\n",
    "    # Relation 7\n",
    "    LHS = D20 @ np.kron(S, I) \n",
    "    RHS = np.kron(I, S) @ D20\n",
    "    equalUpToScalar(LHS, RHS)\n",
    "\n",
    "    # Relation 8\n",
    "    LHS = D21 @ np.kron(S, I) \n",
    "    RHS = np.kron(I, S) @ D21\n",
    "    equalUpToScalar(LHS, RHS)\n",
    "\n",
    "    # Relation 9\n",
    "    LHS = D22 @ np.kron(S, I) \n",
    "    RHS = np.kron(I, S) @ D22\n",
    "    equalUpToScalar(LHS, RHS)"
   ]
  },
  {
   "cell_type": "code",
   "execution_count": 209,
   "id": "81d6f173-3251-4be9-8288-d1eb77324b7b",
   "metadata": {},
   "outputs": [
    {
     "name": "stdout",
     "output_type": "stream",
     "text": [
      "Exactly equal\n",
      "Exactly equal\n",
      "Exactly equal\n",
      "Exactly equal\n",
      "Exactly equal\n",
      "Exactly equal\n",
      "Exactly equal\n",
      "Exactly equal\n",
      "Exactly equal\n"
     ]
    }
   ],
   "source": [
    "SxI_D_boxes()"
   ]
  },
  {
   "cell_type": "code",
   "execution_count": 210,
   "id": "00d2e09d-ec01-4077-8c93-c84db660c8fb",
   "metadata": {},
   "outputs": [],
   "source": [
    "def ZxI_D_boxes():\n",
    "    I = np.identity(3)\n",
    "    w = findAllRoots(3)[0]\n",
    "    wI = makeScalarId(9, w)\n",
    "    w2 = findAllRoots(3)[1]\n",
    "    w2I = makeScalarId(9, w2)\n",
    "\n",
    "    # Relation 1\n",
    "    LHS = D00 @ np.kron(Z, I) \n",
    "    RHS = np.kron(I, Z) @ D00\n",
    "    equalUpToScalar(LHS, RHS)\n",
    "\n",
    "    # Relation 2\n",
    "    LHS = D01 @ np.kron(Z, I) \n",
    "    RHS = np.kron(I, Z) @ D01\n",
    "    equalUpToScalar(LHS, RHS)\n",
    "\n",
    "    # Relation 3\n",
    "    LHS = D02 @ np.kron(Z, I) \n",
    "    RHS = np.kron(I, Z) @ D02\n",
    "    equalUpToScalar(LHS, RHS)\n",
    "\n",
    "    # Relation 4\n",
    "    LHS = D10 @ np.kron(Z, I) \n",
    "    RHS = np.kron(I, Z) @ D10\n",
    "    equalUpToScalar(LHS, RHS)\n",
    "\n",
    "    # Relation 5\n",
    "    LHS = D11 @ np.kron(Z, I) \n",
    "    RHS = np.kron(I, Z) @ D11\n",
    "    equalUpToScalar(LHS, RHS)\n",
    "\n",
    "    # Relation 6\n",
    "    LHS = D12 @ np.kron(Z, I) \n",
    "    RHS = np.kron(I, Z) @ D12\n",
    "    equalUpToScalar(LHS, RHS)\n",
    "\n",
    "    # Relation 7\n",
    "    LHS = D20 @ np.kron(Z, I) \n",
    "    RHS = np.kron(I, Z) @ D20\n",
    "    equalUpToScalar(LHS, RHS)\n",
    "\n",
    "    # Relation 8\n",
    "    LHS = D21 @ np.kron(Z, I) \n",
    "    RHS = np.kron(I, Z) @ D21\n",
    "    equalUpToScalar(LHS, RHS)\n",
    "\n",
    "    # Relation 9\n",
    "    LHS = D22 @ np.kron(Z, I) \n",
    "    RHS = np.kron(I, Z) @ D22\n",
    "    equalUpToScalar(LHS, RHS)"
   ]
  },
  {
   "cell_type": "code",
   "execution_count": 211,
   "id": "73fa8ba3-acd9-41ee-bfd1-a59329f2287c",
   "metadata": {},
   "outputs": [
    {
     "name": "stdout",
     "output_type": "stream",
     "text": [
      "Exactly equal\n",
      "Exactly equal\n",
      "Exactly equal\n",
      "Exactly equal\n",
      "Exactly equal\n",
      "Exactly equal\n",
      "Exactly equal\n",
      "Exactly equal\n",
      "Exactly equal\n"
     ]
    }
   ],
   "source": [
    "ZxI_D_boxes()"
   ]
  },
  {
   "cell_type": "code",
   "execution_count": 212,
   "id": "e91ed93c-a706-4172-945d-20d28491c8eb",
   "metadata": {},
   "outputs": [],
   "source": [
    "def IxX_D_boxes():\n",
    "    I = np.identity(3)\n",
    "    w = findAllRoots(3)[0]\n",
    "    wI = makeScalarId(9, w)\n",
    "    w2 = findAllRoots(3)[1]\n",
    "    w2I = makeScalarId(9, w2)\n",
    "\n",
    "    # Relation 1\n",
    "    LHS = D00 @ np.kron(I, X) \n",
    "    RHS = np.kron(X, I) @ D00\n",
    "    equalUpToScalar(LHS, RHS)\n",
    "\n",
    "    # Relation 2\n",
    "    LHS = D01 @ np.kron(I, X) \n",
    "    RHS = np.kron(X, Z @ Z) @ D01\n",
    "    equalUpToScalar(LHS, RHS)\n",
    "\n",
    "    # Relation 3\n",
    "    LHS = D02 @ np.kron(I, X) \n",
    "    RHS = np.kron(X, Z) @ D02\n",
    "    equalUpToScalar(LHS, RHS)\n",
    "\n",
    "    # Relation 4\n",
    "    LHS = D10 @ np.kron(I, X) \n",
    "    RHS = np.kron(Z, I) @ D10\n",
    "    equalUpToScalar(LHS, RHS)\n",
    "\n",
    "    # Relation 5\n",
    "    LHS = D11 @ np.kron(I, X) \n",
    "    RHS = np.kron(X @ Z, Z @ Z) @ D11 @ wI\n",
    "    equalUpToScalar(LHS, RHS)\n",
    "\n",
    "    # Relation 6\n",
    "    LHS = D12 @ np.kron(I, X) \n",
    "    RHS = np.kron(X @ X @ Z, Z) @ D12 @ w2I\n",
    "    equalUpToScalar(LHS, RHS)\n",
    "\n",
    "    # Relation 7\n",
    "    LHS = D20 @ np.kron(I, X) \n",
    "    RHS = np.kron(Z @ Z, I) @ D20\n",
    "    equalUpToScalar(LHS, RHS)\n",
    "\n",
    "    # Relation 8\n",
    "    LHS = D21 @ np.kron(I, X) \n",
    "    RHS = np.kron(X @ Z @ Z, Z @ Z) @ D21\n",
    "    equalUpToScalar(LHS, RHS)\n",
    "\n",
    "    # Relation 9\n",
    "    LHS = D22 @ np.kron(I, X) \n",
    "    RHS = np.kron(X @ X @ Z @ Z, Z) @ D22\n",
    "    equalUpToScalar(LHS, RHS)"
   ]
  },
  {
   "cell_type": "code",
   "execution_count": 213,
   "id": "89742632-0e23-484b-bbf1-39700c0301a6",
   "metadata": {},
   "outputs": [
    {
     "name": "stdout",
     "output_type": "stream",
     "text": [
      "Exactly equal\n",
      "Exactly equal\n",
      "Exactly equal\n",
      "Exactly equal\n",
      "Exactly equal\n",
      "Exactly equal\n",
      "Exactly equal\n",
      "Exactly equal\n",
      "Exactly equal\n"
     ]
    }
   ],
   "source": [
    "IxX_D_boxes()"
   ]
  },
  {
   "cell_type": "code",
   "execution_count": 214,
   "id": "420acbff-42b0-4aba-8838-7e98cae3cc24",
   "metadata": {},
   "outputs": [],
   "source": [
    "def IxZ_D_boxes():\n",
    "    I = np.identity(3)\n",
    "    w = findAllRoots(3)[0]\n",
    "    wI = makeScalarId(9, w)\n",
    "    w2 = findAllRoots(3)[1]\n",
    "    w2I = makeScalarId(9, w2)\n",
    "\n",
    "    # Relation 1\n",
    "    LHS = D00 @ np.kron(I, Z) \n",
    "    RHS = np.kron(Z, I) @ D00\n",
    "    equalUpToScalar(LHS, RHS)\n",
    "\n",
    "    # Relation 2\n",
    "    LHS = D01 @ np.kron(I, Z) \n",
    "    RHS = np.kron(Z, I) @ D01\n",
    "    equalUpToScalar(LHS, RHS)\n",
    "\n",
    "    # Relation 3\n",
    "    LHS = D02 @ np.kron(I, Z) \n",
    "    RHS = np.kron(Z, I) @ D02\n",
    "    equalUpToScalar(LHS, RHS)\n",
    "\n",
    "    residual1 = np.kron(X @ X, Z)\n",
    "\n",
    "    # Relation 4\n",
    "    LHS = D10 @ np.kron(I, Z) \n",
    "    RHS = residual1 @ D10\n",
    "    equalUpToScalar(LHS, RHS)\n",
    "\n",
    "    # Relation 5\n",
    "    LHS = D11 @ np.kron(I, Z) \n",
    "    RHS = residual1 @ D11\n",
    "    equalUpToScalar(LHS, RHS)\n",
    "\n",
    "    # Relation 6\n",
    "    LHS = D12 @ np.kron(I, Z) \n",
    "    RHS = residual1 @ D12\n",
    "    equalUpToScalar(LHS, RHS)\n",
    "\n",
    "    residual2 = np.kron(X, Z @ Z)\n",
    "\n",
    "    # Relation 7\n",
    "    LHS = D20 @ np.kron(I, Z) \n",
    "    RHS = residual2 @ D20\n",
    "    equalUpToScalar(LHS, RHS)\n",
    "\n",
    "    # Relation 8\n",
    "    LHS = D21 @ np.kron(I, Z) \n",
    "    RHS = residual2 @ D21\n",
    "    equalUpToScalar(LHS, RHS)\n",
    "\n",
    "    # Relation 9\n",
    "    LHS = D22 @ np.kron(I, Z) \n",
    "    RHS = residual2 @ D22\n",
    "    equalUpToScalar(LHS, RHS)"
   ]
  },
  {
   "cell_type": "code",
   "execution_count": 215,
   "id": "b17deedc-b1f4-44cc-9632-903fbe0a9613",
   "metadata": {},
   "outputs": [
    {
     "name": "stdout",
     "output_type": "stream",
     "text": [
      "Exactly equal\n",
      "Exactly equal\n",
      "Exactly equal\n",
      "Exactly equal\n",
      "Exactly equal\n",
      "Exactly equal\n",
      "Exactly equal\n",
      "Exactly equal\n",
      "Exactly equal\n"
     ]
    }
   ],
   "source": [
    "IxZ_D_boxes()"
   ]
  },
  {
   "cell_type": "code",
   "execution_count": 216,
   "id": "4b798664-ad1e-4ae7-ae24-6429c9276eaf",
   "metadata": {},
   "outputs": [],
   "source": [
    "def CZ_D_boxes():\n",
    "    I = np.identity(3)\n",
    "    w = findAllRoots(3)[0]\n",
    "    wI = makeScalarId(9, w)\n",
    "    w2 = findAllRoots(3)[1]\n",
    "    w2I = makeScalarId(9, w2)\n",
    "\n",
    "    # Relation 1\n",
    "    LHS = D00 @ CZ\n",
    "    RHS = D02\n",
    "    equalUpToScalar(LHS, RHS)\n",
    "\n",
    "    # Relation 2\n",
    "    LHS = D01 @ CZ\n",
    "    RHS = D00\n",
    "    equalUpToScalar(LHS, RHS)\n",
    "\n",
    "    # Relation 3\n",
    "    LHS = D02 @ CZ\n",
    "    RHS = D01\n",
    "    equalUpToScalar(LHS, RHS)\n",
    "\n",
    "    residual1 = np.kron(H @ S @ np.linalg.matrix_power(H, 3), Z @ np.linalg.matrix_power(S, 2))\n",
    "\n",
    "    # Relation 4\n",
    "    LHS = D10 @ CZ\n",
    "    RHS = residual1 @ D12 @ wI\n",
    "    equalUpToScalar(LHS, RHS)\n",
    "\n",
    "    # Relation 5\n",
    "    LHS = D11 @ CZ\n",
    "    RHS = residual1 @ D10 @ wI\n",
    "    equalUpToScalar(LHS, RHS)\n",
    "\n",
    "    # Relation 6\n",
    "    LHS = D12 @ CZ\n",
    "    RHS = residual1 @ D11 @ wI\n",
    "    equalUpToScalar(LHS, RHS)\n",
    "\n",
    "    residual2 = np.kron(H @ np.linalg.matrix_power(S, 2) @ np.linalg.matrix_power(H, 3), np.linalg.matrix_power(Z, 2) @ S)\n",
    "\n",
    "    # Relation 7\n",
    "    LHS = D20 @ CZ\n",
    "    RHS = residual2 @ D22 @ w2I\n",
    "    equalUpToScalar(LHS, RHS)\n",
    "\n",
    "    # Relation 8\n",
    "    LHS = D21 @ CZ\n",
    "    RHS = residual2 @ D20 @ w2I\n",
    "    equalUpToScalar(LHS, RHS)\n",
    "\n",
    "    # Relation 9\n",
    "    LHS = D22 @ CZ \n",
    "    RHS = residual2 @ D21 @ w2I\n",
    "    equalUpToScalar(LHS, RHS)"
   ]
  },
  {
   "cell_type": "code",
   "execution_count": 217,
   "id": "4a02dd4e-b781-4b82-bcc3-bea0d2217c68",
   "metadata": {},
   "outputs": [
    {
     "name": "stdout",
     "output_type": "stream",
     "text": [
      "Exactly equal\n",
      "Exactly equal\n",
      "Exactly equal\n",
      "Exactly equal\n",
      "Exactly equal\n",
      "Exactly equal\n",
      "Exactly equal\n",
      "Exactly equal\n",
      "Exactly equal\n"
     ]
    }
   ],
   "source": [
    "CZ_D_boxes()"
   ]
  },
  {
   "cell_type": "code",
   "execution_count": 218,
   "id": "7e8c5e0c-6286-4cfc-bea7-5ca792f7ef78",
   "metadata": {},
   "outputs": [],
   "source": [
    "def S_E_boxes():\n",
    "    w = findAllRoots(3)[0]\n",
    "    wI = makeScalarId(3, w)\n",
    "    w2 = findAllRoots(3)[1]\n",
    "    w2I = makeScalarId(3, w2)\n",
    "\n",
    "    # Relation 1\n",
    "    LHS = E0 @ S\n",
    "    RHS = E1\n",
    "    equalUpToScalar(LHS, RHS)\n",
    "\n",
    "    # Relation 2\n",
    "    LHS = E1 @ S\n",
    "    RHS = E2\n",
    "    equalUpToScalar(LHS, RHS)\n",
    "\n",
    "    # Relation 3\n",
    "    LHS = E2 @ S\n",
    "    RHS = E0\n",
    "    equalUpToScalar(LHS, RHS)"
   ]
  },
  {
   "cell_type": "code",
   "execution_count": 219,
   "id": "d52f28f6-6b70-4172-a0dc-f964203001c2",
   "metadata": {},
   "outputs": [
    {
     "name": "stdout",
     "output_type": "stream",
     "text": [
      "Exactly equal\n",
      "Exactly equal\n",
      "Exactly equal\n"
     ]
    }
   ],
   "source": [
    "S_E_boxes()"
   ]
  },
  {
   "cell_type": "code",
   "execution_count": 220,
   "id": "bfe2ec4f-6a14-441b-be8f-2a7426cd6051",
   "metadata": {},
   "outputs": [],
   "source": [
    "def Z_F_boxes():\n",
    "    \n",
    "    # Relation 1\n",
    "    LHS = F0 @ Z\n",
    "    RHS = F2\n",
    "    equalUpToScalar(LHS, RHS)\n",
    "\n",
    "    # Relation 2\n",
    "    LHS = F1 @ Z\n",
    "    RHS = F0\n",
    "    equalUpToScalar(LHS, RHS)\n",
    "\n",
    "    # Relation 3\n",
    "    LHS = F2 @ Z\n",
    "    RHS = F1\n",
    "    equalUpToScalar(LHS, RHS)"
   ]
  },
  {
   "cell_type": "code",
   "execution_count": 221,
   "id": "c514fabd-446d-4ced-bd65-ba3511f82b44",
   "metadata": {},
   "outputs": [
    {
     "name": "stdout",
     "output_type": "stream",
     "text": [
      "Exactly equal\n",
      "Exactly equal\n",
      "Exactly equal\n"
     ]
    }
   ],
   "source": [
    "Z_F_boxes()"
   ]
  },
  {
   "cell_type": "code",
   "execution_count": 222,
   "id": "d720a854-daac-453c-887e-4b73db3a4db7",
   "metadata": {},
   "outputs": [],
   "source": [
    "def Z_E_boxes():\n",
    "    \n",
    "    # Relation 1\n",
    "    LHS = E0 @ Z\n",
    "    RHS = Z @ E0\n",
    "    equalUpToScalar(LHS, RHS)\n",
    "\n",
    "    # Relation 2\n",
    "    LHS = E1 @ Z\n",
    "    RHS = Z @ E1\n",
    "    equalUpToScalar(LHS, RHS)\n",
    "\n",
    "    # Relation 3\n",
    "    LHS = E2 @ Z\n",
    "    RHS = Z @ E2\n",
    "    equalUpToScalar(LHS, RHS)"
   ]
  },
  {
   "cell_type": "code",
   "execution_count": 223,
   "id": "1b8aade4-b09d-43d3-8216-7bf44192c0a5",
   "metadata": {},
   "outputs": [
    {
     "name": "stdout",
     "output_type": "stream",
     "text": [
      "Exactly equal\n",
      "Exactly equal\n",
      "Exactly equal\n"
     ]
    }
   ],
   "source": [
    "Z_E_boxes()"
   ]
  }
 ],
 "metadata": {
  "kernelspec": {
   "display_name": "Python 3",
   "language": "python",
   "name": "python3"
  },
  "language_info": {
   "codemirror_mode": {
    "name": "ipython",
    "version": 3
   },
   "file_extension": ".py",
   "mimetype": "text/x-python",
   "name": "python",
   "nbconvert_exporter": "python",
   "pygments_lexer": "ipython3",
   "version": "3.12.5"
  }
 },
 "nbformat": 4,
 "nbformat_minor": 5
}
